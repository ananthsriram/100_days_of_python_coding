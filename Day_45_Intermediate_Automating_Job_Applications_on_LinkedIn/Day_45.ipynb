{
 "cells": [
  {
   "cell_type": "code",
   "execution_count": 1,
   "id": "37b8db34",
   "metadata": {
    "ExecuteTime": {
     "end_time": "2023-02-20T01:37:34.316822Z",
     "start_time": "2023-02-20T01:37:34.309479Z"
    }
   },
   "outputs": [
    {
     "data": {
      "text/html": [
       "<style>.container { width:100% !important; }</style>"
      ],
      "text/plain": [
       "<IPython.core.display.HTML object>"
      ]
     },
     "metadata": {},
     "output_type": "display_data"
    }
   ],
   "source": [
    "from IPython.display import HTML\n",
    "import warnings\n",
    "warnings.filterwarnings('ignore')\n",
    "display(HTML(\"<style>.container { width:100% !important; }</style>\"))"
   ]
  },
  {
   "cell_type": "code",
   "execution_count": 2,
   "id": "dcad0f6b",
   "metadata": {
    "ExecuteTime": {
     "end_time": "2023-02-20T01:38:34.049885Z",
     "start_time": "2023-02-20T01:38:12.648369Z"
    }
   },
   "outputs": [],
   "source": [
    "from selenium import webdriver\n",
    "from selenium.webdriver.common.keys import Keys\n",
    "from selenium.common.exceptions import NoSuchElementException\n",
    "import time\n",
    "\n",
    "ACCOUNT_EMAIL = \"YOUR LOGIN EMAIL\"\n",
    "ACCOUNT_PASSWORD = \"YOUR LOGIN PASSWORD\"\n",
    "PHONE = \"YOUR PHONE NUMBER\"\n",
    "\n",
    "driver = webdriver.Chrome()\n",
    "driver.get(\"https://www.linkedin.com/jobs/search/?f_LF=f_AL&geoId=102257491&keywords=marketing%20intern&location=London%2C%20England%2C%20United%20Kingdom&redirect=false&position=1&pageNum=0\")\n",
    "\n",
    "time.sleep(2)\n",
    "sign_in_button = driver.find_element_by_link_text(\"Sign in\")\n",
    "sign_in_button.click()\n",
    "\n",
    "time.sleep(5)\n",
    "email_field = driver.find_element_by_id(\"username\")\n",
    "email_field.send_keys(ACCOUNT_EMAIL)\n",
    "password_field = driver.find_element_by_id(\"password\")\n",
    "password_field.send_keys(ACCOUNT_PASSWORD)\n",
    "password_field.send_keys(Keys.ENTER)\n",
    "\n",
    "time.sleep(5)\n",
    "\n",
    "all_listings = driver.find_elements_by_css_selector(\".job-card-container--clickable\")\n",
    "\n",
    "for listing in all_listings:\n",
    "    print(\"called\")\n",
    "    listing.click()\n",
    "    time.sleep(2)\n",
    "    try:\n",
    "        apply_button = driver.find_element_by_css_selector(\".jobs-s-apply button\")\n",
    "        apply_button.click()\n",
    "\n",
    "        time.sleep(5)\n",
    "        phone = driver.find_element_by_class_name(\"fb-single-line-text__input\")\n",
    "        if phone.text == \"\":\n",
    "            phone.send_keys(PHONE)\n",
    "        \n",
    "        submit_button = driver.find_element_by_css_selector(\"footer button\")\n",
    "        if submit_button.get_attribute(\"data-control-name\") == \"continue_unify\":\n",
    "            close_button = driver.find_element_by_class_name(\"artdeco-modal__dismiss\")\n",
    "            close_button.click()\n",
    "            \n",
    "            time.sleep(2)\n",
    "            discard_button = driver.find_elements_by_class_name(\"artdeco-modal__confirm-dialog-btn\")[1]\n",
    "            discard_button.click()\n",
    "            print(\"Complex application, skipped.\")\n",
    "            continue\n",
    "        else:\n",
    "            submit_button.click()\n",
    "\n",
    "        time.sleep(2)\n",
    "        close_button = driver.find_element_by_class_name(\"artdeco-modal__dismiss\")\n",
    "        close_button.click()\n",
    "\n",
    "    except NoSuchElementException:\n",
    "        print(\"No application button, skipped.\")\n",
    "        continue\n",
    "\n",
    "time.sleep(5)\n",
    "driver.quit()\n",
    "\n"
   ]
  },
  {
   "cell_type": "code",
   "execution_count": null,
   "id": "fbbcb2ee",
   "metadata": {},
   "outputs": [],
   "source": []
  }
 ],
 "metadata": {
  "hide_input": false,
  "kernelspec": {
   "display_name": "Python 3 (ipykernel)",
   "language": "python",
   "name": "python3"
  },
  "language_info": {
   "codemirror_mode": {
    "name": "ipython",
    "version": 3
   },
   "file_extension": ".py",
   "mimetype": "text/x-python",
   "name": "python",
   "nbconvert_exporter": "python",
   "pygments_lexer": "ipython3",
   "version": "3.9.7"
  },
  "toc": {
   "base_numbering": 1,
   "nav_menu": {},
   "number_sections": false,
   "sideBar": true,
   "skip_h1_title": false,
   "title_cell": "Table of Contents",
   "title_sidebar": "Contents",
   "toc_cell": false,
   "toc_position": {},
   "toc_section_display": true,
   "toc_window_display": false
  },
  "varInspector": {
   "cols": {
    "lenName": 16,
    "lenType": 16,
    "lenVar": 40
   },
   "kernels_config": {
    "python": {
     "delete_cmd_postfix": "",
     "delete_cmd_prefix": "del ",
     "library": "var_list.py",
     "varRefreshCmd": "print(var_dic_list())"
    },
    "r": {
     "delete_cmd_postfix": ") ",
     "delete_cmd_prefix": "rm(",
     "library": "var_list.r",
     "varRefreshCmd": "cat(var_dic_list()) "
    }
   },
   "types_to_exclude": [
    "module",
    "function",
    "builtin_function_or_method",
    "instance",
    "_Feature"
   ],
   "window_display": false
  }
 },
 "nbformat": 4,
 "nbformat_minor": 5
}
