{
 "cells": [
  {
   "cell_type": "code",
   "execution_count": null,
   "id": "8fc3a9f1",
   "metadata": {},
   "outputs": [],
   "source": [
    "from IPython.display import HTML\n",
    "display(HTML(\"<style>.container { width:100% !important; }</style>\"))"
   ]
  },
  {
   "cell_type": "code",
   "execution_count": 1,
   "id": "f51628fa",
   "metadata": {},
   "outputs": [
    {
     "data": {
      "text/plain": [
       "str"
      ]
     },
     "execution_count": 1,
     "metadata": {},
     "output_type": "execute_result"
    }
   ],
   "source": [
    "type('Hello')"
   ]
  },
  {
   "cell_type": "code",
   "execution_count": 3,
   "id": "1e878299",
   "metadata": {},
   "outputs": [
    {
     "data": {
      "text/plain": [
       "str"
      ]
     },
     "execution_count": 3,
     "metadata": {},
     "output_type": "execute_result"
    }
   ],
   "source": [
    "type('123')"
   ]
  },
  {
   "cell_type": "code",
   "execution_count": 4,
   "id": "0e2c1ae1",
   "metadata": {},
   "outputs": [
    {
     "data": {
      "text/plain": [
       "int"
      ]
     },
     "execution_count": 4,
     "metadata": {},
     "output_type": "execute_result"
    }
   ],
   "source": [
    "type(123)"
   ]
  },
  {
   "cell_type": "code",
   "execution_count": 5,
   "id": "9eeae571",
   "metadata": {},
   "outputs": [
    {
     "data": {
      "text/plain": [
       "bool"
      ]
     },
     "execution_count": 5,
     "metadata": {},
     "output_type": "execute_result"
    }
   ],
   "source": [
    "type(True)"
   ]
  },
  {
   "cell_type": "code",
   "execution_count": 7,
   "id": "5846f280",
   "metadata": {},
   "outputs": [
    {
     "data": {
      "text/plain": [
       "str"
      ]
     },
     "execution_count": 7,
     "metadata": {},
     "output_type": "execute_result"
    }
   ],
   "source": [
    "type('True')"
   ]
  },
  {
   "cell_type": "code",
   "execution_count": 6,
   "id": "b446ef20",
   "metadata": {},
   "outputs": [
    {
     "data": {
      "text/plain": [
       "float"
      ]
     },
     "execution_count": 6,
     "metadata": {},
     "output_type": "execute_result"
    }
   ],
   "source": [
    "type(1.3)"
   ]
  },
  {
   "cell_type": "code",
   "execution_count": 8,
   "id": "2f69734d",
   "metadata": {},
   "outputs": [
    {
     "name": "stdout",
     "output_type": "stream",
     "text": [
      "Hello World\n"
     ]
    }
   ],
   "source": [
    "print ('Hello '+'World')"
   ]
  },
  {
   "cell_type": "code",
   "execution_count": 9,
   "id": "99a3a8c8",
   "metadata": {},
   "outputs": [
    {
     "name": "stdout",
     "output_type": "stream",
     "text": [
      "123456\n"
     ]
    }
   ],
   "source": [
    "print ('123'+'456')"
   ]
  },
  {
   "cell_type": "code",
   "execution_count": 10,
   "id": "a4de6d59",
   "metadata": {},
   "outputs": [
    {
     "name": "stdout",
     "output_type": "stream",
     "text": [
      "579\n"
     ]
    }
   ],
   "source": [
    "print (123+456)"
   ]
  },
  {
   "cell_type": "code",
   "execution_count": 16,
   "id": "9ed4d754",
   "metadata": {},
   "outputs": [
    {
     "name": "stdout",
     "output_type": "stream",
     "text": [
      "Enter a two digit number : 11\n",
      "<class 'str'>\n",
      "2\n"
     ]
    }
   ],
   "source": [
    "##### Find sum of two digits in a number ######\n",
    "\n",
    "## Solution 1\n",
    "num = input('Enter a two digit number : ')\n",
    "num = int(num)\n",
    "digit_1 = num%10\n",
    "digit_2 = int(num/10)\n",
    "print (digit_1+digit_2)"
   ]
  },
  {
   "cell_type": "code",
   "execution_count": 19,
   "id": "4f1f3cf0",
   "metadata": {},
   "outputs": [
    {
     "name": "stdout",
     "output_type": "stream",
     "text": [
      "Enter a two digit number : 33\n",
      "6\n"
     ]
    }
   ],
   "source": [
    "## Solution 2\n",
    "num = input('Enter a two digit number : ')\n",
    "digit_1 = int(num[0])\n",
    "digit_2 = int(num[1])\n",
    "print (digit_1+digit_2)"
   ]
  },
  {
   "cell_type": "markdown",
   "id": "e4e7f671",
   "metadata": {},
   "source": [
    "# PEMDAS\n",
    "- Parantheses : ( )\n",
    "- Exponents : **\n",
    "- Multiplication : *\n",
    "- Division : /\n",
    "- Addition : +\n",
    "- Subtraction : -\n"
   ]
  },
  {
   "cell_type": "code",
   "execution_count": 25,
   "id": "f4b0f9bd",
   "metadata": {},
   "outputs": [
    {
     "name": "stdout",
     "output_type": "stream",
     "text": [
      "Enter your height in m : 1.7\n",
      "Enter your weight in kg : 63\n",
      "21\n",
      "Your height is 1.7m, your weight is 63.0kgs and your bmi is 21.\n"
     ]
    }
   ],
   "source": [
    "######## BMI Calculator ############\n",
    "# BMI = weight (kg) / height^2 (m^2)\n",
    "height = float(input('Enter your height in m : '))\n",
    "weight = float(input('Enter your weight in kg : '))\n",
    "bmi = int(weight/(height * height))\n",
    "# bmi = weight/(height ** 2)\n",
    "print (int(bmi))\n",
    "print (f\"Your height is {height}m, your weight is {weight}kgs and your bmi is {bmi}.\")"
   ]
  },
  {
   "cell_type": "code",
   "execution_count": 26,
   "id": "03c08822",
   "metadata": {},
   "outputs": [
    {
     "name": "stdout",
     "output_type": "stream",
     "text": [
      "What is your current age? 37\n",
      "You have 19345 Days left, 2756 Weeks left and 636 Months left.\n"
     ]
    }
   ],
   "source": [
    "######## Life in Weeks ###########\n",
    "age = input(\"What is your current age? \")\n",
    "days_left = (90 - int(age)) * 365\n",
    "weeks_left = (90 - int(age)) * 52\n",
    "months_left = (90 - int(age)) * 12\n",
    "print (f\"You have {days_left} Days left, {weeks_left} Weeks left and {months_left} Months left.\")\n"
   ]
  },
  {
   "cell_type": "code",
   "execution_count": 29,
   "id": "6e714efc",
   "metadata": {},
   "outputs": [
    {
     "name": "stdout",
     "output_type": "stream",
     "text": [
      "Welcome to the Tip Calculator\n",
      "What was the total bill? $124.56\n",
      "What percentage tip would you like to give? 12\n",
      "How many people to split the bill? 7\n",
      "Each person should pay : $19.93\n"
     ]
    }
   ],
   "source": [
    "######### Project Tip Calculator ##########\n",
    "print ('Welcome to the Tip Calculator')\n",
    "total_bill = float(input('What was the total bill? $'))\n",
    "tip_perc = float(input('What percentage tip would you like to give? '))\n",
    "people = int(input('How many people to split the bill? '))\n",
    "             \n",
    "tip_amount = (tip_perc/100) * total_bill\n",
    "bill_and_tip = total_bill + tip_amount\n",
    "individual_bill = round(bill_and_tip/people,2)\n",
    "# individual_bill = \"{:.2f}\".format(bill_and_tip/people,2)\n",
    "print (f\"Each person should pay : ${individual_bill}\")\n"
   ]
  },
  {
   "cell_type": "code",
   "execution_count": null,
   "id": "84fac0c7",
   "metadata": {},
   "outputs": [],
   "source": []
  },
  {
   "cell_type": "code",
   "execution_count": null,
   "id": "3a407750",
   "metadata": {},
   "outputs": [],
   "source": []
  },
  {
   "cell_type": "code",
   "execution_count": null,
   "id": "a40cdcde",
   "metadata": {},
   "outputs": [],
   "source": []
  }
 ],
 "metadata": {
  "kernelspec": {
   "display_name": "Python 3 (ipykernel)",
   "language": "python",
   "name": "python3"
  },
  "language_info": {
   "codemirror_mode": {
    "name": "ipython",
    "version": 3
   },
   "file_extension": ".py",
   "mimetype": "text/x-python",
   "name": "python",
   "nbconvert_exporter": "python",
   "pygments_lexer": "ipython3",
   "version": "3.9.13"
  }
 },
 "nbformat": 4,
 "nbformat_minor": 5
}
