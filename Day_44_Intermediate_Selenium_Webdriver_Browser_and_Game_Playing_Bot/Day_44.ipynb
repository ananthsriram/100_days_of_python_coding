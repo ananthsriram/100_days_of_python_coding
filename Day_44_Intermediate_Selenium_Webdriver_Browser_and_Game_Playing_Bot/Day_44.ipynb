{
 "cells": [
  {
   "cell_type": "code",
   "execution_count": 1,
   "id": "62441a79",
   "metadata": {
    "ExecuteTime": {
     "end_time": "2023-02-20T01:17:16.328615Z",
     "start_time": "2023-02-20T01:17:16.321877Z"
    }
   },
   "outputs": [
    {
     "data": {
      "text/html": [
       "<style>.container { width:100% !important; }</style>"
      ],
      "text/plain": [
       "<IPython.core.display.HTML object>"
      ]
     },
     "metadata": {},
     "output_type": "display_data"
    }
   ],
   "source": [
    "from IPython.display import HTML\n",
    "import warnings\n",
    "warnings.filterwarnings('ignore')\n",
    "display(HTML(\"<style>.container { width:100% !important; }</style>\"))"
   ]
  },
  {
   "cell_type": "code",
   "execution_count": null,
   "id": "62991879",
   "metadata": {
    "ExecuteTime": {
     "end_time": "2023-02-19T09:53:52.344933Z",
     "start_time": "2023-02-19T09:53:46.257146Z"
    }
   },
   "outputs": [],
   "source": [
    "from selenium import webdriver\n",
    "\n",
    "driver = webdriver.Chrome()\n",
    "driver.get(\"https://www.amazon.in\")\n",
    "\n",
    "#driver.close()\n",
    "driver.quit()"
   ]
  },
  {
   "cell_type": "code",
   "execution_count": null,
   "id": "36ad0785",
   "metadata": {
    "ExecuteTime": {
     "end_time": "2023-02-19T10:05:46.013028Z",
     "start_time": "2023-02-19T10:05:37.232403Z"
    }
   },
   "outputs": [],
   "source": [
    "from selenium import webdriver\n",
    "\n",
    "driver = webdriver.Chrome()\n",
    "driver.get(\"https://www.amazon.in/Apple-MacBook-Chip-13-inch-256GB/dp/B08N5T6CZ6/ref=sr_1_2?keywords=macbook+air+m1&qid=1676800528&sprefix=macbook+ai%2Caps%2C403&sr=8-2\")\n",
    "price = driver.find_element_by_xpath(\"//span[@class='a-price-whole']\")\n",
    "print (price.text)\n",
    "\n",
    "driver.quit()\n",
    "    "
   ]
  },
  {
   "cell_type": "code",
   "execution_count": null,
   "id": "c42de289",
   "metadata": {
    "ExecuteTime": {
     "end_time": "2023-02-19T10:16:54.147460Z",
     "start_time": "2023-02-19T10:16:51.550119Z"
    }
   },
   "outputs": [],
   "source": [
    "\n",
    "from selenium import webdriver\n",
    "\n",
    "driver = webdriver.Chrome()\n",
    "driver.get(\"https://www.python.org/\")\n",
    "search_bar = driver.find_element_by_name(\"q\")\n",
    "print (search_bar.tag_name)\n",
    "print (search_bar.get_attribute(\"placeholder\"))\n",
    "\n",
    "logo = driver.find_element_by_class_name(\"python-logo\")\n",
    "print (logo.size)\n",
    "\n",
    "documentation_link = driver.find_element_by_css_selector(\".documentation-widget a\")\n",
    "print (documentation_link.text)\n",
    "\n",
    "bug_link = driver.find_element_by_xpath('//*[@id=\"site-map\"]/div[2]/div/ul/li[3]/a')\n",
    "print (bug_link.text)\n",
    "\n",
    "\n",
    "driver.quit()    \n",
    "    "
   ]
  },
  {
   "cell_type": "code",
   "execution_count": null,
   "id": "ed880150",
   "metadata": {
    "ExecuteTime": {
     "end_time": "2023-02-19T10:38:09.640773Z",
     "start_time": "2023-02-19T10:38:06.983049Z"
    }
   },
   "outputs": [],
   "source": [
    "### Challenge : Use Selenium to Scrape Website Data ####\n",
    "\n",
    "from selenium import webdriver\n",
    "\n",
    "driver = webdriver.Chrome()\n",
    "driver.get(\"https://www.python.org/\")\n",
    "event_times = driver.find_elements_by_css_selector(\".event-widget time\")\n",
    "event_names = driver.find_elements_by_css_selector(\".event-widget li a\")\n",
    "\n",
    "## Dictionary Comprehension\n",
    "events = {event_times[n].text:event_names[n].text for n in range(len(event_times))}\n",
    "print (events)\n",
    "\n",
    "events = {}\n",
    "for n in range(len(event_times)):\n",
    "    #events[n] = {\n",
    "    #    \"time\":event_times[n].text,\n",
    "    #    \"event\":event_names[n].text,\n",
    "    #}\n",
    "    events[event_times[n].text] = event_names[n].text\n",
    "    \n",
    "print (events)\n",
    "    \n",
    "driver.quit()     \n"
   ]
  },
  {
   "cell_type": "code",
   "execution_count": null,
   "id": "32d05a68",
   "metadata": {
    "ExecuteTime": {
     "end_time": "2023-02-19T10:36:33.212928Z",
     "start_time": "2023-02-19T10:36:23.118477Z"
    }
   },
   "outputs": [],
   "source": [
    "### Challenge : Find Number of English Articles in Wikipedia ####\n",
    "\n",
    "from selenium import webdriver\n",
    "\n",
    "driver = webdriver.Chrome()\n",
    "driver.get(\"https://en.wikipedia.org/wiki/Main_Page\")\n",
    "count = driver.find_element_by_xpath('//*[@id=\"articlecount\"]/a[1]')\n",
    "print (count.text)\n",
    "\n",
    "## or\n",
    "\n",
    "article_count = driver.find_element_by_css_selector(\"#articlecount a\")\n",
    "print (article_count.text)\n",
    "\n",
    "\n",
    "\n",
    "driver.quit() "
   ]
  },
  {
   "cell_type": "code",
   "execution_count": null,
   "id": "492f2701",
   "metadata": {
    "ExecuteTime": {
     "end_time": "2023-02-19T10:51:45.746695Z",
     "start_time": "2023-02-19T10:51:33.026899Z"
    }
   },
   "outputs": [],
   "source": [
    "### Automate Filling Out Forms and Clicking Buttons With Selenium ###\n",
    "\n",
    "from selenium import webdriver\n",
    "from selenium.webdriver.common.keys import Keys\n",
    "import time\n",
    "\n",
    "driver = webdriver.Chrome()\n",
    "driver.get(\"https://en.wikipedia.org/wiki/Main_Page\")\n",
    "article_count = driver.find_element_by_css_selector(\"#articlecount a\")\n",
    "article_count.click()\n",
    "time.sleep(1)\n",
    "driver.get(\"https://en.wikipedia.org/wiki/Main_Page\")\n",
    "\n",
    "community_portals = driver.find_element_by_link_text(\"Community portal\")\n",
    "community_portals.click()\n",
    "time.sleep(1)\n",
    "\n",
    "driver.get(\"https://en.wikipedia.org/wiki/Main_Page\")\n",
    "search = driver.find_element_by_name(\"search\")\n",
    "search.send_keys(\"Python\")\n",
    "search.send_keys(Keys.ENTER)\n",
    "time.sleep(1)\n",
    "\n",
    "\n",
    "\n",
    "driver.quit() "
   ]
  },
  {
   "cell_type": "code",
   "execution_count": 3,
   "id": "30e6b284",
   "metadata": {
    "ExecuteTime": {
     "end_time": "2023-02-20T01:39:34.087974Z",
     "start_time": "2023-02-20T01:34:29.481347Z"
    }
   },
   "outputs": [
    {
     "name": "stdout",
     "output_type": "stream",
     "text": [
      "100\n",
      "500\n",
      "550\n",
      "605\n",
      "666\n",
      "733\n",
      "807\n",
      "111\n",
      "888\n",
      "977\n",
      "123\n",
      "1075\n",
      "136\n",
      "150\n",
      "1183\n",
      "165\n",
      "1302\n",
      "182\n",
      "201\n",
      "1433\n",
      "222\n",
      "245\n",
      "270\n",
      "1577\n",
      "297\n",
      "327\n",
      "360\n",
      "1735\n",
      "397\n",
      "437\n",
      "481\n",
      "530\n",
      "583\n",
      "642\n",
      "707\n",
      "778\n",
      "856\n",
      "942\n",
      "15\n",
      "1037\n",
      "17\n",
      "1141\n",
      "19\n",
      "1256\n",
      "21\n",
      "1382\n",
      "24\n",
      "1521\n",
      "27\n",
      "30\n",
      "1909\n",
      "33\n",
      "37\n",
      "1674\n",
      "41\n",
      "46\n",
      "1842\n",
      "51\n",
      "cookies/second : 93.4\n"
     ]
    }
   ],
   "source": [
    "### Cookie Clicker Project ###\n",
    "\n",
    "from selenium import webdriver\n",
    "from selenium.webdriver.common.keys import Keys\n",
    "import time\n",
    "\n",
    "driver = webdriver.Chrome()\n",
    "driver.get(\"http://orteil.dashnet.org/experiments/cookie/\")\n",
    "\n",
    "#Get cookie to click on.\n",
    "cookie = driver.find_element_by_id(\"cookie\")\n",
    "\n",
    "#Get upgrade item ids.\n",
    "items = driver.find_elements_by_css_selector(\"#store div\")\n",
    "item_ids = [item.get_attribute(\"id\") for item in items]\n",
    "\n",
    "timeout = time.time() + 5\n",
    "five_min = time.time() + 60*5 # 5minutes\n",
    "\n",
    "while True:\n",
    "    cookie.click()\n",
    "\n",
    "    #Every 5 seconds:\n",
    "    if time.time() > timeout:\n",
    "\n",
    "        #Get all upgrade <b> tags\n",
    "        all_prices = driver.find_elements_by_css_selector(\"#store b\")\n",
    "        item_prices = []\n",
    "\n",
    "        #Convert <b> text into an integer price.\n",
    "        for price in all_prices:\n",
    "            element_text = price.text\n",
    "            if element_text != \"\":\n",
    "                cost = int(element_text.split(\"-\")[1].strip().replace(\",\", \"\"))\n",
    "                item_prices.append(cost)\n",
    "\n",
    "        #Create dictionary of store items and prices\n",
    "        cookie_upgrades = {}\n",
    "        for n in range(len(item_prices)):\n",
    "            cookie_upgrades[item_prices[n]] = item_ids[n]\n",
    "\n",
    "        #Get current cookie count\n",
    "        money_element = driver.find_element_by_id(\"money\").text\n",
    "        if \",\" in money_element:\n",
    "            money_element = money_element.replace(\",\", \"\")\n",
    "        cookie_count = int(money_element)\n",
    "\n",
    "        #Find upgrades that we can currently afford\n",
    "        affordable_upgrades = {}\n",
    "        for cost, id in cookie_upgrades.items():\n",
    "            if cookie_count > cost:\n",
    "                 affordable_upgrades[cost] = id\n",
    "\n",
    "        #Purchase the most expensive affordable upgrade\n",
    "        highest_price_affordable_upgrade = max(affordable_upgrades)\n",
    "        print(highest_price_affordable_upgrade)\n",
    "        to_purchase_id = affordable_upgrades[highest_price_affordable_upgrade]\n",
    "\n",
    "        driver.find_element_by_id(to_purchase_id).click()\n",
    "        \n",
    "        #Add another 5 seconds until the next check\n",
    "        timeout = time.time() + 5\n",
    "\n",
    "    #After 5 minutes stop the bot and check the cookies per second count.\n",
    "    if time.time() > five_min:\n",
    "        cookie_per_s = driver.find_element_by_id(\"cps\").text\n",
    "        print(cookie_per_s)\n",
    "        break\n",
    "\n",
    "\n",
    "\n",
    "driver.quit() "
   ]
  },
  {
   "cell_type": "code",
   "execution_count": null,
   "id": "9c4f1e71",
   "metadata": {
    "ExecuteTime": {
     "end_time": "2023-02-20T01:40:18.953284Z",
     "start_time": "2023-02-20T01:40:18.830662Z"
    }
   },
   "outputs": [],
   "source": []
  },
  {
   "cell_type": "code",
   "execution_count": null,
   "id": "1a15f671",
   "metadata": {},
   "outputs": [],
   "source": []
  }
 ],
 "metadata": {
  "hide_input": false,
  "kernelspec": {
   "display_name": "Python 3 (ipykernel)",
   "language": "python",
   "name": "python3"
  },
  "language_info": {
   "codemirror_mode": {
    "name": "ipython",
    "version": 3
   },
   "file_extension": ".py",
   "mimetype": "text/x-python",
   "name": "python",
   "nbconvert_exporter": "python",
   "pygments_lexer": "ipython3",
   "version": "3.9.7"
  },
  "toc": {
   "base_numbering": 1,
   "nav_menu": {},
   "number_sections": false,
   "sideBar": true,
   "skip_h1_title": false,
   "title_cell": "Table of Contents",
   "title_sidebar": "Contents",
   "toc_cell": false,
   "toc_position": {},
   "toc_section_display": true,
   "toc_window_display": false
  },
  "varInspector": {
   "cols": {
    "lenName": 16,
    "lenType": 16,
    "lenVar": 40
   },
   "kernels_config": {
    "python": {
     "delete_cmd_postfix": "",
     "delete_cmd_prefix": "del ",
     "library": "var_list.py",
     "varRefreshCmd": "print(var_dic_list())"
    },
    "r": {
     "delete_cmd_postfix": ") ",
     "delete_cmd_prefix": "rm(",
     "library": "var_list.r",
     "varRefreshCmd": "cat(var_dic_list()) "
    }
   },
   "types_to_exclude": [
    "module",
    "function",
    "builtin_function_or_method",
    "instance",
    "_Feature"
   ],
   "window_display": false
  }
 },
 "nbformat": 4,
 "nbformat_minor": 5
}
