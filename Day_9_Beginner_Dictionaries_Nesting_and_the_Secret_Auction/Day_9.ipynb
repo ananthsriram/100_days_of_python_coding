{
 "cells": [
  {
   "cell_type": "code",
   "execution_count": 1,
   "id": "33b7f6e8",
   "metadata": {
    "ExecuteTime": {
     "end_time": "2023-01-23T12:58:58.704627Z",
     "start_time": "2023-01-23T12:58:58.696443Z"
    }
   },
   "outputs": [
    {
     "data": {
      "text/html": [
       "<style>.container { width:100% !important; }</style>"
      ],
      "text/plain": [
       "<IPython.core.display.HTML object>"
      ]
     },
     "metadata": {},
     "output_type": "display_data"
    }
   ],
   "source": [
    "from IPython.display import HTML\n",
    "display(HTML(\"<style>.container { width:100% !important; }</style>\"))"
   ]
  },
  {
   "cell_type": "code",
   "execution_count": 14,
   "id": "231e98aa",
   "metadata": {
    "ExecuteTime": {
     "end_time": "2023-01-23T13:11:55.726073Z",
     "start_time": "2023-01-23T13:11:55.723697Z"
    }
   },
   "outputs": [
    {
     "name": "stdout",
     "output_type": "stream",
     "text": [
      "A piece of code that you can easily call over and over again.\n"
     ]
    }
   ],
   "source": [
    "programming_dictionary = {\n",
    "    \"Bug\": \"An error in a program that prevents the program from running as expected.\", \n",
    "    \"Function\": \"A piece of code that you can easily call over and over again.\",\n",
    "}\n",
    "\n",
    "## Retrieving items from dictionary\n",
    "print (programming_dictionary['Function'])\n"
   ]
  },
  {
   "cell_type": "code",
   "execution_count": 15,
   "id": "c31ca194",
   "metadata": {
    "ExecuteTime": {
     "end_time": "2023-01-23T13:12:05.241324Z",
     "start_time": "2023-01-23T13:12:05.238918Z"
    }
   },
   "outputs": [
    {
     "name": "stdout",
     "output_type": "stream",
     "text": [
      "{'Bug': 'An error in a program that prevents the program from running as expected.', 'Function': 'A piece of code that you can easily call over and over again.', 'Loop': 'The action of doing something over and over again.'}\n"
     ]
    }
   ],
   "source": [
    "## Adding new entry to dictionary\n",
    "programming_dictionary[\"Loop\"] = \"The action of doing something over and over again.\"\n",
    "\n",
    "print (programming_dictionary)\n",
    "\n"
   ]
  },
  {
   "cell_type": "code",
   "execution_count": 16,
   "id": "06643c15",
   "metadata": {
    "ExecuteTime": {
     "end_time": "2023-01-23T13:12:13.116025Z",
     "start_time": "2023-01-23T13:12:13.114173Z"
    }
   },
   "outputs": [],
   "source": [
    "## Create an empty dictionary\n",
    "empty_dictionary = {}\n"
   ]
  },
  {
   "cell_type": "code",
   "execution_count": 17,
   "id": "3e5b70ef",
   "metadata": {
    "ExecuteTime": {
     "end_time": "2023-01-23T13:12:19.191074Z",
     "start_time": "2023-01-23T13:12:19.188892Z"
    }
   },
   "outputs": [],
   "source": [
    "## Wipe an existing dictionary\n",
    "#programming_dictionary = {}\n"
   ]
  },
  {
   "cell_type": "code",
   "execution_count": 18,
   "id": "3fcebfd6",
   "metadata": {
    "ExecuteTime": {
     "end_time": "2023-01-23T13:12:23.284941Z",
     "start_time": "2023-01-23T13:12:23.283075Z"
    }
   },
   "outputs": [],
   "source": [
    "## Edit an item in a dictionary\n",
    "programming_dictionary['Bug'] = \"A moth in your computer\"\n"
   ]
  },
  {
   "cell_type": "code",
   "execution_count": 19,
   "id": "41339fb5",
   "metadata": {
    "ExecuteTime": {
     "end_time": "2023-01-23T13:12:26.278479Z",
     "start_time": "2023-01-23T13:12:26.275971Z"
    }
   },
   "outputs": [
    {
     "name": "stdout",
     "output_type": "stream",
     "text": [
      "Bug --> A moth in your computer\n",
      "Function --> A piece of code that you can easily call over and over again.\n",
      "Loop --> The action of doing something over and over again.\n"
     ]
    }
   ],
   "source": [
    "## Loop through dictionary\n",
    "for key in programming_dictionary:\n",
    "    print(f\"{key} --> {programming_dictionary[key]}\")"
   ]
  },
  {
   "cell_type": "code",
   "execution_count": 24,
   "id": "5ddeb99d",
   "metadata": {
    "ExecuteTime": {
     "end_time": "2023-01-23T13:23:29.184159Z",
     "start_time": "2023-01-23T13:23:29.180797Z"
    }
   },
   "outputs": [
    {
     "name": "stdout",
     "output_type": "stream",
     "text": [
      "{'Harry': 'Exceeds Expectations', 'Ron': 'Acceptable', 'Hermoine': 'Outstanding', 'Draco': 'Acceptable', 'Neville': 'Fail'}\n"
     ]
    }
   ],
   "source": [
    "########## Grading Program\n",
    "student_scores = {\n",
    "    \"Harry\": 81,\n",
    "    \"Ron\": 78,\n",
    "    \"Hermoine\": 99,\n",
    "    \"Draco\": 74,\n",
    "    \"Neville\": 62,\n",
    "}\n",
    "\n",
    "student_grades = {}\n",
    "for key in student_scores:\n",
    "    score = student_scores[key]\n",
    "    if score > 90:\n",
    "        student_grades[key] = \"Outstanding\"\n",
    "    elif score > 80:\n",
    "        student_grades[key] = \"Exceeds Expectations\"\n",
    "    elif score > 70:\n",
    "        student_grades[key] = \"Acceptable\"\n",
    "    else:\n",
    "        student_grades[key] = \"Fail\"\n",
    "        \n",
    "#    if student_scores[key] >= 91 and student_scores[key] < 100:\n",
    "#        student_grades[key] = \"Outstanding\"\n",
    "#    elif student_scores[key] >= 81 and student_scores[key] <= 90:\n",
    "#        student_grades[key] = \"Exceeds Expectations\"\n",
    "#    elif student_scores[key] >= 71 and student_scores[key] <= 80:\n",
    "#        student_grades[key] = \"Acceptable\"\n",
    "#    else:\n",
    "#        student_grades[key] = \"Fail\"\n",
    "        \n",
    "print (student_grades)        "
   ]
  },
  {
   "cell_type": "code",
   "execution_count": 25,
   "id": "fccbaf4d",
   "metadata": {
    "ExecuteTime": {
     "end_time": "2023-01-23T13:26:04.760894Z",
     "start_time": "2023-01-23T13:26:04.758793Z"
    }
   },
   "outputs": [],
   "source": [
    "#Nesting a List in a Dictionary\n",
    "\n",
    "travel_log = {\n",
    "  \"France\": [\"Paris\", \"Lille\", \"Dijon\"],\n",
    "  \"Germany\": [\"Berlin\", \"Hamburg\", \"Stuttgart\"],\n",
    "}"
   ]
  },
  {
   "cell_type": "code",
   "execution_count": 26,
   "id": "a59ab331",
   "metadata": {
    "ExecuteTime": {
     "end_time": "2023-01-23T13:26:13.399701Z",
     "start_time": "2023-01-23T13:26:13.397606Z"
    }
   },
   "outputs": [],
   "source": [
    "#Nesting Dictionary in a Dictionary\n",
    "\n",
    "travel_log = {\n",
    "  \"France\": {\"cities_visited\": [\"Paris\", \"Lille\", \"Dijon\"], \"total_visits\": 12},\n",
    "  \"Germany\": {\"cities_visited\": [\"Berlin\", \"Hamburg\", \"Stuttgart\"], \"total_visits\": 5},\n",
    "}\n"
   ]
  },
  {
   "cell_type": "code",
   "execution_count": 27,
   "id": "9ca3af55",
   "metadata": {
    "ExecuteTime": {
     "end_time": "2023-01-23T13:26:47.508429Z",
     "start_time": "2023-01-23T13:26:47.506077Z"
    }
   },
   "outputs": [],
   "source": [
    "#Nesting Dictionaries in Lists\n",
    "\n",
    "travel_log = [\n",
    "{\n",
    "  \"country\": \"France\", \n",
    "  \"cities_visited\": [\"Paris\", \"Lille\", \"Dijon\"], \n",
    "  \"total_visits\": 12,\n",
    "},\n",
    "{\n",
    "  \"country\": \"Germany\",\n",
    "  \"cities_visited\": [\"Berlin\", \"Hamburg\", \"Stuttgart\"],\n",
    "  \"total_visits\": 5,\n",
    "},\n",
    "]"
   ]
  },
  {
   "cell_type": "code",
   "execution_count": 32,
   "id": "b3833e46",
   "metadata": {
    "ExecuteTime": {
     "end_time": "2023-01-23T13:38:16.248504Z",
     "start_time": "2023-01-23T13:38:16.244649Z"
    }
   },
   "outputs": [
    {
     "name": "stdout",
     "output_type": "stream",
     "text": [
      "[{'country': 'France', 'cities_visited': ['Paris', 'Lille', 'Dijon'], 'total_visits': 12}, {'country': 'Germany', 'cities_visited': ['Berlin', 'Hamburg', 'Stuttgart'], 'total_visits': 5}, {'country': 'Russia', 'total_visits': 2, 'cities_visited': ['Moscos', 'Saint Petersburg']}]\n"
     ]
    }
   ],
   "source": [
    "### Dictionary in List - Coding Exercise\n",
    "\n",
    "travel_log = [\n",
    "{\n",
    "  \"country\": \"France\", \n",
    "  \"cities_visited\": [\"Paris\", \"Lille\", \"Dijon\"], \n",
    "  \"total_visits\": 12,\n",
    "},\n",
    "{\n",
    "  \"country\": \"Germany\",\n",
    "  \"cities_visited\": [\"Berlin\", \"Hamburg\", \"Stuttgart\"],\n",
    "  \"total_visits\": 5,\n",
    "},\n",
    "]\n",
    "\n",
    "def add_new_country(country_name,total_visits,cities_visited):\n",
    "    new_country = {}\n",
    "    new_country['country'] = country_name\n",
    "    new_country['total_visits'] = total_visits\n",
    "    new_country['cities_visited'] = cities_visited\n",
    "    travel_log.append(new_country)\n",
    "\n",
    "add_new_country(\"Russia\",2,[\"Moscos\",\"Saint Petersburg\"])\n",
    "print (travel_log)\n"
   ]
  },
  {
   "cell_type": "code",
   "execution_count": 36,
   "id": "b619f074",
   "metadata": {
    "ExecuteTime": {
     "end_time": "2023-01-23T13:40:35.941763Z",
     "start_time": "2023-01-23T13:40:35.939200Z"
    }
   },
   "outputs": [
    {
     "name": "stdout",
     "output_type": "stream",
     "text": [
      "10\n"
     ]
    }
   ],
   "source": [
    "a = 5\n",
    "def add_num(b):\n",
    "    print (a+5)\n",
    "    \n",
    "add_num(7)"
   ]
  },
  {
   "cell_type": "code",
   "execution_count": 40,
   "id": "1f343367",
   "metadata": {
    "ExecuteTime": {
     "end_time": "2023-01-23T14:20:39.333153Z",
     "start_time": "2023-01-23T14:20:15.327296Z"
    }
   },
   "outputs": [
    {
     "name": "stdout",
     "output_type": "stream",
     "text": [
      "Welcome to the secret auction program. \n",
      "\n",
      "                         ___________\n",
      "                         \\         /\n",
      "                          )_______(\n",
      "                          |\"\"\"\"\"\"\"|_.-._,.---------.,_.-._\n",
      "                          |       | | |               | | ''-.\n",
      "                          |       |_| |_             _| |_..-'\n",
      "                          |_______| '-' `'---------'` '-'\n",
      "                          )\"\"\"\"\"\"\"(\n",
      "                         /_________\\\n",
      "                       .-------------.\n",
      "                      /_______________\\\n",
      "\n",
      "What is your name? : Ananth\n",
      "What's your bid? : $10\n",
      "Are there any other bidders? Type 'yes' or 'no'.yes\n",
      "What is your name? : Sindhuja\n",
      "What's your bid? : $50\n",
      "Are there any other bidders? Type 'yes' or 'no'.yes\n",
      "What is your name? : Srivalli\n",
      "What's your bid? : $20\n",
      "Are there any other bidders? Type 'yes' or 'no'.yes\n",
      "What is your name? : Suseela\n",
      "What's your bid? : $30\n",
      "Are there any other bidders? Type 'yes' or 'no'.no\n",
      "The winner is Sindhuja with a bid of $50\n"
     ]
    }
   ],
   "source": [
    "#### Secret Auction Program\n",
    "\n",
    "logo = '''\n",
    "                         ___________\n",
    "                         \\         /\n",
    "                          )_______(\n",
    "                          |\"\"\"\"\"\"\"|_.-._,.---------.,_.-._\n",
    "                          |       | | |               | | ''-.\n",
    "                          |       |_| |_             _| |_..-'\n",
    "                          |_______| '-' `'---------'` '-'\n",
    "                          )\"\"\"\"\"\"\"(\n",
    "                         /_________\\\\\n",
    "                       .-------------.\n",
    "                      /_______________\\\\\n",
    "'''\n",
    "\n",
    "\n",
    "print (\"Welcome to the secret auction program. \")\n",
    "print (logo)\n",
    "\n",
    "bidding_dict = {}\n",
    "take_inputs = True\n",
    "largest_bid = 0\n",
    "while take_inputs:\n",
    "    name = input(\"What is your name? : \")\n",
    "    bid = int(input(\"What's your bid? : $\"))\n",
    "    bidding_dict['name'] = name\n",
    "    bidding_dict['bid'] = bid\n",
    "    if bid > largest_bid:\n",
    "        largest_bid = bid\n",
    "        largest_bid_name = name\n",
    "    anymore_bids = input(\"Are there any other bidders? Type 'yes' or 'no'.\")\n",
    "    if anymore_bids == 'no':\n",
    "        take_inputs = False\n",
    "        \n",
    "print(f\"The winner is {largest_bid_name} with a bid of ${largest_bid}\")        \n",
    "        "
   ]
  },
  {
   "cell_type": "code",
   "execution_count": 42,
   "id": "c2e7272e",
   "metadata": {
    "ExecuteTime": {
     "end_time": "2023-01-23T14:27:07.235869Z",
     "start_time": "2023-01-23T14:26:52.093258Z"
    }
   },
   "outputs": [
    {
     "name": "stdout",
     "output_type": "stream",
     "text": [
      "Welcome to the secret auction program. \n",
      "\n",
      "                         ___________\n",
      "                         \\         /\n",
      "                          )_______(\n",
      "                          |\"\"\"\"\"\"\"|_.-._,.---------.,_.-._\n",
      "                          |       | | |               | | ''-.\n",
      "                          |       |_| |_             _| |_..-'\n",
      "                          |_______| '-' `'---------'` '-'\n",
      "                          )\"\"\"\"\"\"\"(\n",
      "                         /_________\\\n",
      "                       .-------------.\n",
      "                      /_______________\\\n",
      "\n",
      "What is your name? : Ananth\n",
      "What's your bid? : $10\n",
      "Are there any other bidders? Type 'yes' or 'no'.yes\n",
      "What is your name? : Sindhuja\n",
      "What's your bid? : $50\n",
      "Are there any other bidders? Type 'yes' or 'no'.yes\n",
      "What is your name? : Srivalli\n",
      "What's your bid? : $45\n",
      "Are there any other bidders? Type 'yes' or 'no'.no\n",
      "The winner is Sindhuja with a bid of $50\n"
     ]
    }
   ],
   "source": [
    "#### Secret Auction Program\n",
    "\n",
    "logo = '''\n",
    "                         ___________\n",
    "                         \\         /\n",
    "                          )_______(\n",
    "                          |\"\"\"\"\"\"\"|_.-._,.---------.,_.-._\n",
    "                          |       | | |               | | ''-.\n",
    "                          |       |_| |_             _| |_..-'\n",
    "                          |_______| '-' `'---------'` '-'\n",
    "                          )\"\"\"\"\"\"\"(\n",
    "                         /_________\\\\\n",
    "                       .-------------.\n",
    "                      /_______________\\\\\n",
    "'''\n",
    "\n",
    "\n",
    "print (\"Welcome to the secret auction program. \")\n",
    "print (logo)\n",
    "\n",
    "def find_highest_bidder(bidding_record):\n",
    "    highest_bid = 0\n",
    "    for bidder in bidding_record:\n",
    "        bid_amount = bidding_record[bidder]\n",
    "        if bid_amount > highest_bid:\n",
    "            highest_bid = bid_amount\n",
    "            winner = bidder\n",
    "    print(f\"The winner is {winner} with a bid of ${highest_bid}\")       \n",
    "        \n",
    "    \n",
    "bidding_dict = {}\n",
    "take_inputs = True\n",
    "while take_inputs:\n",
    "    name = input(\"What is your name? : \")\n",
    "    bid = int(input(\"What's your bid? : $\"))\n",
    "    bidding_dict[name] = bid\n",
    "    anymore_bids = input(\"Are there any other bidders? Type 'yes' or 'no'.\")\n",
    "    if anymore_bids == 'no':\n",
    "        take_inputs = False\n",
    "        find_highest_bidder(bidding_dict)      \n",
    "        "
   ]
  },
  {
   "cell_type": "code",
   "execution_count": null,
   "id": "38e2efd1",
   "metadata": {},
   "outputs": [],
   "source": []
  }
 ],
 "metadata": {
  "hide_input": false,
  "kernelspec": {
   "display_name": "Python 3 (ipykernel)",
   "language": "python",
   "name": "python3"
  },
  "language_info": {
   "codemirror_mode": {
    "name": "ipython",
    "version": 3
   },
   "file_extension": ".py",
   "mimetype": "text/x-python",
   "name": "python",
   "nbconvert_exporter": "python",
   "pygments_lexer": "ipython3",
   "version": "3.9.7"
  },
  "toc": {
   "base_numbering": 1,
   "nav_menu": {},
   "number_sections": false,
   "sideBar": true,
   "skip_h1_title": false,
   "title_cell": "Table of Contents",
   "title_sidebar": "Contents",
   "toc_cell": false,
   "toc_position": {},
   "toc_section_display": true,
   "toc_window_display": false
  },
  "varInspector": {
   "cols": {
    "lenName": 16,
    "lenType": 16,
    "lenVar": 40
   },
   "kernels_config": {
    "python": {
     "delete_cmd_postfix": "",
     "delete_cmd_prefix": "del ",
     "library": "var_list.py",
     "varRefreshCmd": "print(var_dic_list())"
    },
    "r": {
     "delete_cmd_postfix": ") ",
     "delete_cmd_prefix": "rm(",
     "library": "var_list.r",
     "varRefreshCmd": "cat(var_dic_list()) "
    }
   },
   "types_to_exclude": [
    "module",
    "function",
    "builtin_function_or_method",
    "instance",
    "_Feature"
   ],
   "window_display": false
  }
 },
 "nbformat": 4,
 "nbformat_minor": 5
}
