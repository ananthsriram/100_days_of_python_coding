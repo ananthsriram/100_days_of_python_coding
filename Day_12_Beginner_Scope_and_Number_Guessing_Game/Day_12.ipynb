{
 "cells": [
  {
   "cell_type": "code",
   "execution_count": 26,
   "id": "7b06f831",
   "metadata": {
    "ExecuteTime": {
     "end_time": "2023-01-27T15:31:23.379563Z",
     "start_time": "2023-01-27T15:31:23.376673Z"
    }
   },
   "outputs": [
    {
     "data": {
      "text/html": [
       "<style>.container { width:100% !important; }</style>"
      ],
      "text/plain": [
       "<IPython.core.display.HTML object>"
      ]
     },
     "metadata": {},
     "output_type": "display_data"
    }
   ],
   "source": [
    "from IPython.display import HTML\n",
    "display(HTML(\"<style>.container { width:100% !important; }</style>\"))"
   ]
  },
  {
   "cell_type": "code",
   "execution_count": 6,
   "id": "9a88f39e",
   "metadata": {
    "ExecuteTime": {
     "end_time": "2023-01-27T14:53:35.269043Z",
     "start_time": "2023-01-27T14:53:35.266291Z"
    }
   },
   "outputs": [
    {
     "name": "stdout",
     "output_type": "stream",
     "text": [
      "enemies inside function: 2\n",
      "enemies outside function: 1\n"
     ]
    }
   ],
   "source": [
    "################### Scope ####################\n",
    "\n",
    "enemies = 1\n",
    "\n",
    "def increase_enemies():\n",
    "    enemies = 2\n",
    "    print(f\"enemies inside function: {enemies}\")\n",
    "\n",
    "increase_enemies()\n",
    "print(f\"enemies outside function: {enemies}\")"
   ]
  },
  {
   "cell_type": "code",
   "execution_count": 5,
   "id": "6bd769e5",
   "metadata": {
    "ExecuteTime": {
     "end_time": "2023-01-27T14:53:33.561097Z",
     "start_time": "2023-01-27T14:53:33.555637Z"
    }
   },
   "outputs": [
    {
     "name": "stdout",
     "output_type": "stream",
     "text": [
      "2\n"
     ]
    },
    {
     "ename": "NameError",
     "evalue": "name 'potion_strength' is not defined",
     "output_type": "error",
     "traceback": [
      "\u001b[0;31m---------------------------------------------------------------------------\u001b[0m",
      "\u001b[0;31mNameError\u001b[0m                                 Traceback (most recent call last)",
      "\u001b[0;32m/var/folders/wd/dds50g4912j_vc_xq4y85r_m0000gq/T/ipykernel_56204/1796674717.py\u001b[0m in \u001b[0;36m<module>\u001b[0;34m\u001b[0m\n\u001b[1;32m      5\u001b[0m \u001b[0;34m\u001b[0m\u001b[0m\n\u001b[1;32m      6\u001b[0m \u001b[0mdrink_potion\u001b[0m\u001b[0;34m(\u001b[0m\u001b[0;34m)\u001b[0m\u001b[0;34m\u001b[0m\u001b[0;34m\u001b[0m\u001b[0m\n\u001b[0;32m----> 7\u001b[0;31m \u001b[0mprint\u001b[0m \u001b[0;34m(\u001b[0m\u001b[0mpotion_strength\u001b[0m\u001b[0;34m)\u001b[0m\u001b[0;34m\u001b[0m\u001b[0;34m\u001b[0m\u001b[0m\n\u001b[0m",
      "\u001b[0;31mNameError\u001b[0m: name 'potion_strength' is not defined"
     ]
    }
   ],
   "source": [
    "############ Local Scope ###############\n",
    "def drink_potion():\n",
    "    potion_strength = 2\n",
    "    print (potion_strength)\n",
    "    \n",
    "drink_potion()\n",
    "print (potion_strength)    "
   ]
  },
  {
   "cell_type": "code",
   "execution_count": 4,
   "id": "54f6ec2e",
   "metadata": {
    "ExecuteTime": {
     "end_time": "2023-01-27T14:53:31.803603Z",
     "start_time": "2023-01-27T14:53:31.800631Z"
    }
   },
   "outputs": [
    {
     "name": "stdout",
     "output_type": "stream",
     "text": [
      "10\n",
      "10\n"
     ]
    }
   ],
   "source": [
    "############ Global Scope ###############\n",
    "player_health = 10\n",
    "\n",
    "def drink_potion():\n",
    "    potion_strength = 2\n",
    "    print (player_health)\n",
    "    \n",
    "drink_potion()\n",
    "print (player_health)"
   ]
  },
  {
   "cell_type": "code",
   "execution_count": 3,
   "id": "7b21c35b",
   "metadata": {
    "ExecuteTime": {
     "end_time": "2023-01-27T14:53:30.127877Z",
     "start_time": "2023-01-27T14:53:30.124971Z"
    }
   },
   "outputs": [
    {
     "name": "stdout",
     "output_type": "stream",
     "text": [
      "Skeleton\n"
     ]
    }
   ],
   "source": [
    "############ No Block Scope ###############\n",
    "game_level = 3\n",
    "enemies = ['Skeleton','Zombie','Alien']\n",
    "if game_level < 5:\n",
    "    new_enemy = enemies[0]\n",
    "    \n",
    "print (new_enemy)    "
   ]
  },
  {
   "cell_type": "code",
   "execution_count": 7,
   "id": "7dff838a",
   "metadata": {
    "ExecuteTime": {
     "end_time": "2023-01-27T14:54:09.628056Z",
     "start_time": "2023-01-27T14:54:09.621924Z"
    }
   },
   "outputs": [
    {
     "ename": "NameError",
     "evalue": "name 'new_enemy_name' is not defined",
     "output_type": "error",
     "traceback": [
      "\u001b[0;31m---------------------------------------------------------------------------\u001b[0m",
      "\u001b[0;31mNameError\u001b[0m                                 Traceback (most recent call last)",
      "\u001b[0;32m/var/folders/wd/dds50g4912j_vc_xq4y85r_m0000gq/T/ipykernel_56204/3815380859.py\u001b[0m in \u001b[0;36m<module>\u001b[0;34m\u001b[0m\n\u001b[1;32m      5\u001b[0m         \u001b[0mnew_enemy_name\u001b[0m \u001b[0;34m=\u001b[0m \u001b[0menemies\u001b[0m\u001b[0;34m[\u001b[0m\u001b[0;36m0\u001b[0m\u001b[0;34m]\u001b[0m\u001b[0;34m\u001b[0m\u001b[0;34m\u001b[0m\u001b[0m\n\u001b[1;32m      6\u001b[0m \u001b[0;34m\u001b[0m\u001b[0m\n\u001b[0;32m----> 7\u001b[0;31m \u001b[0mprint\u001b[0m \u001b[0;34m(\u001b[0m\u001b[0mnew_enemy_name\u001b[0m\u001b[0;34m)\u001b[0m\u001b[0;34m\u001b[0m\u001b[0;34m\u001b[0m\u001b[0m\n\u001b[0m",
      "\u001b[0;31mNameError\u001b[0m: name 'new_enemy_name' is not defined"
     ]
    }
   ],
   "source": [
    "game_level = 3\n",
    "def create_enemy():\n",
    "    enemies = ['Skeleton','Zombie','Alien']\n",
    "    if game_level < 5:\n",
    "        new_enemy_name = enemies[0]\n",
    "    \n",
    "print (new_enemy_name)   "
   ]
  },
  {
   "cell_type": "code",
   "execution_count": 8,
   "id": "95b2a2d1",
   "metadata": {
    "ExecuteTime": {
     "end_time": "2023-01-27T14:56:42.560498Z",
     "start_time": "2023-01-27T14:56:42.557518Z"
    }
   },
   "outputs": [
    {
     "name": "stdout",
     "output_type": "stream",
     "text": [
      "enemies inside function: Zombie\n",
      "enemies outside function: Skeleton\n"
     ]
    }
   ],
   "source": [
    "############ Modifying Global Scope ###############\n",
    "enemies = 'Skeleton'\n",
    "\n",
    "def increase_enemies():\n",
    "    enemies = 'Zombie'\n",
    "    print(f\"enemies inside function: {enemies}\")\n",
    "\n",
    "increase_enemies()\n",
    "print(f\"enemies outside function: {enemies}\")"
   ]
  },
  {
   "cell_type": "code",
   "execution_count": 10,
   "id": "7672e1d1",
   "metadata": {
    "ExecuteTime": {
     "end_time": "2023-01-27T14:57:57.963535Z",
     "start_time": "2023-01-27T14:57:57.960115Z"
    }
   },
   "outputs": [
    {
     "name": "stdout",
     "output_type": "stream",
     "text": [
      "enemies inside function: 2\n",
      "enemies outside function: 2\n"
     ]
    }
   ],
   "source": [
    "enemies = 1\n",
    "\n",
    "def increase_enemies():\n",
    "    global enemies\n",
    "    enemies += 1\n",
    "    print(f\"enemies inside function: {enemies}\")\n",
    "\n",
    "increase_enemies()\n",
    "print(f\"enemies outside function: {enemies}\")"
   ]
  },
  {
   "cell_type": "code",
   "execution_count": 11,
   "id": "b39797de",
   "metadata": {
    "ExecuteTime": {
     "end_time": "2023-01-27T15:00:08.886248Z",
     "start_time": "2023-01-27T15:00:08.883043Z"
    }
   },
   "outputs": [
    {
     "name": "stdout",
     "output_type": "stream",
     "text": [
      "enemies inside function: 1\n",
      "enemies outside function: 2\n"
     ]
    }
   ],
   "source": [
    "enemies = 1\n",
    "\n",
    "def increase_enemies():\n",
    "    print(f\"enemies inside function: {enemies}\")\n",
    "    return (enemies + 1)\n",
    "\n",
    "enemies = increase_enemies()\n",
    "print(f\"enemies outside function: {enemies}\")"
   ]
  },
  {
   "cell_type": "code",
   "execution_count": 24,
   "id": "53c0d8a7",
   "metadata": {
    "ExecuteTime": {
     "end_time": "2023-01-27T15:27:40.333879Z",
     "start_time": "2023-01-27T15:27:27.193077Z"
    }
   },
   "outputs": [
    {
     "name": "stdout",
     "output_type": "stream",
     "text": [
      "\n",
      "  / _ \\_   _  ___  ___ ___  /__   \\ |__   ___    /\\ \\ \\_   _ _ __ ___ | |__   ___ _ __ \n",
      " / /_\\/ | | |/ _ \\/ __/ __|   / /\\/ '_ \\ / _ \\  /  \\/ / | | | '_ ` _ \\| '_ \\ / _ \\ '__|\n",
      "/ /_\\| |_| |  __/\\__ \\__ \\  / /  | | | |  __/ / /\\  /| |_| | | | | | | |_) |  __/ |   \n",
      "\\____/ \\__,_|\\___||___/___/  \\/   |_| |_|\\___| \\_\\ \\/  \\__,_|_| |_| |_|_.__/ \\___|_|  \n",
      "\n",
      "Welcome to the Number Guessing Game!\n",
      "I'm thinking of a number between 1 and 100.\n",
      "Choose a difficulty. Type 'easy' or 'hard' : hard\n",
      "You have 5 attempts remaining to guess the number.\n",
      "Make a guess : 10\n",
      "Too low.\n",
      "Guess again.\n",
      "You have 4 attempts remaining to guess the number.\n",
      "Make a guess : 40\n",
      "Too high.\n",
      "Guess again.\n",
      "You have 3 attempts remaining to guess the number.\n",
      "Make a guess : 20\n",
      "You guessed it right. You won !!\n"
     ]
    }
   ],
   "source": [
    "############# Number Guessing Game ###############\n",
    "from random import randint\n",
    "logo = \"\"\"\n",
    "  / _ \\_   _  ___  ___ ___  /__   \\ |__   ___    /\\ \\ \\_   _ _ __ ___ | |__   ___ _ __ \n",
    " / /_\\/ | | |/ _ \\/ __/ __|   / /\\/ '_ \\ / _ \\  /  \\/ / | | | '_ ` _ \\| '_ \\ / _ \\ '__|\n",
    "/ /_\\\\| |_| |  __/\\__ \\__ \\  / /  | | | |  __/ / /\\  /| |_| | | | | | | |_) |  __/ |   \n",
    "\\____/ \\__,_|\\___||___/___/  \\/   |_| |_|\\___| \\_\\ \\/  \\__,_|_| |_| |_|_.__/ \\___|_|  \n",
    "\"\"\"\n",
    "\n",
    "print (logo)\n",
    "random_number = random.randint(1,100)\n",
    "print ('Welcome to the Number Guessing Game!')\n",
    "print (\"I'm thinking of a number between 1 and 100.\")\n",
    "level = input(\"Choose a difficulty. Type 'easy' or 'hard' : \")\n",
    "\n",
    "if level == 'easy':\n",
    "    attempts = 10\n",
    "else:\n",
    "    attempts = 5\n",
    "\n",
    "\n",
    "def validate_value(num):\n",
    "    result = False\n",
    "    if guess_value > random_number:\n",
    "        print (\"Too high.\")\n",
    "        print (\"Guess again.\")\n",
    "    elif guess_value < random_number:\n",
    "        print (\"Too low.\")\n",
    "        print (\"Guess again.\")        \n",
    "    else:\n",
    "        result = True\n",
    "        print (\"You guessed it right. You won !!\")\n",
    "    return (result)\n",
    "        \n",
    "while attempts > 0:\n",
    "    print (f\"You have {attempts} attempts remaining to guess the number.\")\n",
    "    guess_value = int(input(\"Make a guess : \"))\n",
    "    result = validate_value(guess_value)\n",
    "    if result:\n",
    "        attempts = 0\n",
    "    else:\n",
    "        if attempts == 1:\n",
    "            print (f\"You lost the game! The number is {random_number}.\")\n",
    "        attempts -= 1\n",
    "        "
   ]
  },
  {
   "cell_type": "code",
   "execution_count": 25,
   "id": "81524623",
   "metadata": {
    "ExecuteTime": {
     "end_time": "2023-01-27T15:29:25.042341Z",
     "start_time": "2023-01-27T15:29:10.002597Z"
    }
   },
   "outputs": [
    {
     "name": "stdout",
     "output_type": "stream",
     "text": [
      "\n",
      "  / _ \\_   _  ___  ___ ___  /__   \\ |__   ___    /\\ \\ \\_   _ _ __ ___ | |__   ___ _ __ \n",
      " / /_\\/ | | |/ _ \\/ __/ __|   / /\\/ '_ \\ / _ \\  /  \\/ / | | | '_ ` _ \\| '_ \\ / _ \\ '__|\n",
      "/ /_\\| |_| |  __/\\__ \\__ \\  / /  | | | |  __/ / /\\  /| |_| | | | | | | |_) |  __/ |   \n",
      "\\____/ \\__,_|\\___||___/___/  \\/   |_| |_|\\___| \\_\\ \\/  \\__,_|_| |_| |_|_.__/ \\___|_|  \n",
      "\n",
      "Welcome to the Number Guessing Game!\n",
      "I'm thinking of a number between 1 and 100.\n",
      "Pssst, the correct answer is 74\n",
      "Choose a difficulty. Type 'easy' or 'hard': hard\n",
      "You have 5 attempts remaining to guess the number.\n",
      "Make a guess: 10\n",
      "Too low.\n",
      "Guess again.\n",
      "You have 4 attempts remaining to guess the number.\n",
      "Make a guess: 20\n",
      "Too low.\n",
      "Guess again.\n",
      "You have 3 attempts remaining to guess the number.\n",
      "Make a guess: 30\n",
      "Too low.\n",
      "Guess again.\n",
      "You have 2 attempts remaining to guess the number.\n",
      "Make a guess: 40\n",
      "Too low.\n",
      "Guess again.\n",
      "You have 1 attempts remaining to guess the number.\n",
      "Make a guess: 74\n",
      "You got it! The answer was 74.\n"
     ]
    }
   ],
   "source": [
    "############# Angela Number Guessing Game ###############\n",
    "from random import randint\n",
    "logo = \"\"\"\n",
    "  / _ \\_   _  ___  ___ ___  /__   \\ |__   ___    /\\ \\ \\_   _ _ __ ___ | |__   ___ _ __ \n",
    " / /_\\/ | | |/ _ \\/ __/ __|   / /\\/ '_ \\ / _ \\  /  \\/ / | | | '_ ` _ \\| '_ \\ / _ \\ '__|\n",
    "/ /_\\\\| |_| |  __/\\__ \\__ \\  / /  | | | |  __/ / /\\  /| |_| | | | | | | |_) |  __/ |   \n",
    "\\____/ \\__,_|\\___||___/___/  \\/   |_| |_|\\___| \\_\\ \\/  \\__,_|_| |_| |_|_.__/ \\___|_|  \n",
    "\"\"\"\n",
    "\n",
    "EASY_LEVEL_TURNS = 10\n",
    "HARD_LEVEL_TURNS = 5\n",
    "\n",
    "#Function to check user's guess against actual answer.\n",
    "def check_answer(guess, answer, turns):\n",
    "  \"\"\"checks answer against guess. Returns the number of turns remaining.\"\"\"\n",
    "  if guess > answer:\n",
    "    print(\"Too high.\")\n",
    "    return turns - 1\n",
    "  elif guess < answer:\n",
    "    print(\"Too low.\")\n",
    "    return turns - 1\n",
    "  else:\n",
    "    print(f\"You got it! The answer was {answer}.\")\n",
    "\n",
    "#Make function to set difficulty.\n",
    "def set_difficulty():\n",
    "  level = input(\"Choose a difficulty. Type 'easy' or 'hard': \")\n",
    "  if level == \"easy\":\n",
    "    return EASY_LEVEL_TURNS\n",
    "  else:\n",
    "    return HARD_LEVEL_TURNS\n",
    "\n",
    "def game():\n",
    "  print(logo)\n",
    "  #Choosing a random number between 1 and 100.\n",
    "  print(\"Welcome to the Number Guessing Game!\")\n",
    "  print(\"I'm thinking of a number between 1 and 100.\")\n",
    "  answer = randint(1, 100)\n",
    "  print(f\"Pssst, the correct answer is {answer}\") \n",
    "\n",
    "  turns = set_difficulty()\n",
    "  #Repeat the guessing functionality if they get it wrong.\n",
    "  guess = 0\n",
    "  while guess != answer:\n",
    "    print(f\"You have {turns} attempts remaining to guess the number.\")\n",
    "\n",
    "    #Let the user guess a number.\n",
    "    guess = int(input(\"Make a guess: \"))\n",
    "\n",
    "    #Track the number of turns and reduce by 1 if they get it wrong.\n",
    "    turns = check_answer(guess, answer, turns)\n",
    "    if turns == 0:\n",
    "      print(\"You've run out of guesses, you lose.\")\n",
    "      return\n",
    "    elif guess != answer:\n",
    "      print(\"Guess again.\")\n",
    "\n",
    "\n",
    "game()\n"
   ]
  },
  {
   "cell_type": "code",
   "execution_count": null,
   "id": "488b458d",
   "metadata": {},
   "outputs": [],
   "source": []
  }
 ],
 "metadata": {
  "hide_input": false,
  "kernelspec": {
   "display_name": "Python 3 (ipykernel)",
   "language": "python",
   "name": "python3"
  },
  "language_info": {
   "codemirror_mode": {
    "name": "ipython",
    "version": 3
   },
   "file_extension": ".py",
   "mimetype": "text/x-python",
   "name": "python",
   "nbconvert_exporter": "python",
   "pygments_lexer": "ipython3",
   "version": "3.9.7"
  },
  "toc": {
   "base_numbering": 1,
   "nav_menu": {},
   "number_sections": false,
   "sideBar": true,
   "skip_h1_title": false,
   "title_cell": "Table of Contents",
   "title_sidebar": "Contents",
   "toc_cell": false,
   "toc_position": {},
   "toc_section_display": true,
   "toc_window_display": false
  },
  "varInspector": {
   "cols": {
    "lenName": 16,
    "lenType": 16,
    "lenVar": 40
   },
   "kernels_config": {
    "python": {
     "delete_cmd_postfix": "",
     "delete_cmd_prefix": "del ",
     "library": "var_list.py",
     "varRefreshCmd": "print(var_dic_list())"
    },
    "r": {
     "delete_cmd_postfix": ") ",
     "delete_cmd_prefix": "rm(",
     "library": "var_list.r",
     "varRefreshCmd": "cat(var_dic_list()) "
    }
   },
   "types_to_exclude": [
    "module",
    "function",
    "builtin_function_or_method",
    "instance",
    "_Feature"
   ],
   "window_display": false
  }
 },
 "nbformat": 4,
 "nbformat_minor": 5
}
