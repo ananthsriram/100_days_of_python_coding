{
 "cells": [
  {
   "cell_type": "code",
   "execution_count": 22,
   "id": "233ce4c6",
   "metadata": {
    "ExecuteTime": {
     "end_time": "2023-01-29T06:54:18.874923Z",
     "start_time": "2023-01-29T06:54:18.871569Z"
    }
   },
   "outputs": [
    {
     "data": {
      "text/html": [
       "<style>.container { width:100% !important; }</style>"
      ],
      "text/plain": [
       "<IPython.core.display.HTML object>"
      ]
     },
     "metadata": {},
     "output_type": "display_data"
    }
   ],
   "source": [
    "from IPython.display import HTML\n",
    "display(HTML(\"<style>.container { width:100% !important; }</style>\"))"
   ]
  },
  {
   "cell_type": "code",
   "execution_count": 23,
   "id": "38ac1109",
   "metadata": {
    "ExecuteTime": {
     "end_time": "2023-01-29T06:54:18.879762Z",
     "start_time": "2023-01-29T06:54:18.876617Z"
    }
   },
   "outputs": [],
   "source": [
    "MENU = {\n",
    "    \"espresso\": {\n",
    "        \"ingredients\": {\n",
    "            \"water\": 50,\n",
    "            \"coffee\": 18,\n",
    "        },\n",
    "        \"cost\": 1.5,\n",
    "    },\n",
    "    \"latte\": {\n",
    "        \"ingredients\": {\n",
    "            \"water\": 200,\n",
    "            \"milk\": 150,\n",
    "            \"coffee\": 24,\n",
    "        },\n",
    "        \"cost\": 2.5,\n",
    "    },\n",
    "    \"cappuccino\": {\n",
    "        \"ingredients\": {\n",
    "            \"water\": 250,\n",
    "            \"milk\": 100,\n",
    "            \"coffee\": 24,\n",
    "        },\n",
    "        \"cost\": 3.0,\n",
    "    }\n",
    "}\n",
    "\n",
    "profit = 0\n",
    "resources = {\n",
    "    \"water\": 300,\n",
    "    \"milk\": 200,\n",
    "    \"coffee\": 100,\n",
    "}\n"
   ]
  },
  {
   "cell_type": "code",
   "execution_count": 24,
   "id": "8396d50c",
   "metadata": {
    "ExecuteTime": {
     "end_time": "2023-01-29T06:54:18.883261Z",
     "start_time": "2023-01-29T06:54:18.880975Z"
    }
   },
   "outputs": [],
   "source": [
    "def enough_resources(order_ingredients):\n",
    "    \"\"\"Returns True when order can be made, False if ingredients are insufficient.\"\"\"\n",
    "    for item in order_ingredients:\n",
    "        if order_ingredients[item] > resources[item]:\n",
    "            print(f\"Sorry there is not enough {item}. We need {order_ingredients[item]} and we have {resources[item]} only :()\")\n",
    "            return False\n",
    "    return True\n"
   ]
  },
  {
   "cell_type": "code",
   "execution_count": 25,
   "id": "8ea8a9e4",
   "metadata": {
    "ExecuteTime": {
     "end_time": "2023-01-29T06:54:18.887599Z",
     "start_time": "2023-01-29T06:54:18.884983Z"
    }
   },
   "outputs": [],
   "source": [
    "def process_coins():\n",
    "    \"\"\"Returns the total calculated from coins inserted.\"\"\"\n",
    "    print(\"Please insert coins.\")\n",
    "    total = int(input(\"how many quarters?: \")) * 0.25\n",
    "    total += int(input(\"how many dimes?: \")) * 0.1\n",
    "    total += int(input(\"how many nickles?: \")) * 0.05\n",
    "    total += int(input(\"how many pennies?: \")) * 0.01\n",
    "    return total\n"
   ]
  },
  {
   "cell_type": "code",
   "execution_count": 26,
   "id": "96b95d6f",
   "metadata": {
    "ExecuteTime": {
     "end_time": "2023-01-29T06:54:18.891873Z",
     "start_time": "2023-01-29T06:54:18.889071Z"
    }
   },
   "outputs": [],
   "source": [
    "def is_transaction_successful(money_received, drink_cost):\n",
    "    \"\"\"Return True when the payment is accepted, or False if money is insufficient.\"\"\"\n",
    "    if money_received >= drink_cost:\n",
    "        change = round(money_received - drink_cost, 2)\n",
    "        print(f\"Here is ${change} in change.\")\n",
    "        global profit\n",
    "        profit += drink_cost\n",
    "        return True\n",
    "    else:\n",
    "        print(f\"Sorry that's not enough money. Drink cost is ${drink_cost} and amount paid is ${money_received}. So, Money refunded.\")\n",
    "        return False\n"
   ]
  },
  {
   "cell_type": "code",
   "execution_count": 27,
   "id": "16c4c556",
   "metadata": {
    "ExecuteTime": {
     "end_time": "2023-01-29T06:54:18.895627Z",
     "start_time": "2023-01-29T06:54:18.893175Z"
    }
   },
   "outputs": [],
   "source": [
    "def make_coffee(drink_name, order_ingredients):\n",
    "    \"\"\"Deduct the required ingredients from the resources.\"\"\"\n",
    "    for item in order_ingredients:\n",
    "        resources[item] -= order_ingredients[item]\n",
    "    print(f\"Here is your {drink_name} ☕️. Enjoy!\")\n"
   ]
  },
  {
   "cell_type": "code",
   "execution_count": 33,
   "id": "1a0e09d6",
   "metadata": {
    "ExecuteTime": {
     "end_time": "2023-01-29T06:59:07.193018Z",
     "start_time": "2023-01-29T06:58:42.757938Z"
    }
   },
   "outputs": [
    {
     "name": "stdout",
     "output_type": "stream",
     "text": [
      "Please make a choice (espresso/latte/cappuccino/report/off): latte\n",
      "latte cost is 2.5.\n",
      "Please insert coins.\n",
      "how many quarters?: 5\n",
      "how many dimes?: 5\n",
      "how many nickles?: 5\n",
      "how many pennies?: 5\n",
      "Sorry that's not enough money. Drink cost is $2.5 and amount paid is $2.05. So, Money refunded.\n",
      "Please make a choice (espresso/latte/cappuccino/report/off): latte\n",
      "latte cost is 2.5.\n",
      "Please insert coins.\n",
      "how many quarters?: 7\n",
      "how many dimes?: 5\n",
      "how many nickles?: 5\n",
      "how many pennies?: 5\n",
      "Here is $0.05 in change.\n",
      "Here is your latte ☕️. Enjoy!\n",
      "Please make a choice (espresso/latte/cappuccino/report/off): off\n",
      "Thank you. Bye!\n"
     ]
    }
   ],
   "source": [
    "should_continue = True\n",
    "\n",
    "while should_continue:\n",
    "    choice = input(\"Please make a choice (espresso/latte/cappuccino/report/off): \")\n",
    "    if choice == \"off\":\n",
    "        should_continue = False\n",
    "        print ('Thank you. Bye!')\n",
    "    elif choice == \"report\":\n",
    "        print(f\"Water: {resources['water']}ml\")\n",
    "        print(f\"Milk: {resources['milk']}ml\")\n",
    "        print(f\"Coffee: {resources['coffee']}g\")\n",
    "        print(f\"Money: ${profit}\")\n",
    "    else:\n",
    "        drink = MENU[choice]\n",
    "        if enough_resources(drink[\"ingredients\"]):\n",
    "            print (f\"{choice} cost is {drink['cost']}.\")\n",
    "            payment = process_coins()\n",
    "            if is_transaction_successful(payment, drink[\"cost\"]):\n",
    "                make_coffee(choice, drink[\"ingredients\"])"
   ]
  },
  {
   "cell_type": "code",
   "execution_count": null,
   "id": "58f8275b",
   "metadata": {
    "ExecuteTime": {
     "end_time": "2023-01-29T06:58:27.551849Z",
     "start_time": "2023-01-29T06:58:27.548652Z"
    }
   },
   "outputs": [],
   "source": []
  },
  {
   "cell_type": "code",
   "execution_count": null,
   "id": "126af807",
   "metadata": {},
   "outputs": [],
   "source": []
  }
 ],
 "metadata": {
  "hide_input": false,
  "kernelspec": {
   "display_name": "Python 3 (ipykernel)",
   "language": "python",
   "name": "python3"
  },
  "language_info": {
   "codemirror_mode": {
    "name": "ipython",
    "version": 3
   },
   "file_extension": ".py",
   "mimetype": "text/x-python",
   "name": "python",
   "nbconvert_exporter": "python",
   "pygments_lexer": "ipython3",
   "version": "3.9.7"
  },
  "toc": {
   "base_numbering": 1,
   "nav_menu": {},
   "number_sections": false,
   "sideBar": true,
   "skip_h1_title": false,
   "title_cell": "Table of Contents",
   "title_sidebar": "Contents",
   "toc_cell": false,
   "toc_position": {},
   "toc_section_display": true,
   "toc_window_display": false
  },
  "varInspector": {
   "cols": {
    "lenName": 16,
    "lenType": 16,
    "lenVar": 40
   },
   "kernels_config": {
    "python": {
     "delete_cmd_postfix": "",
     "delete_cmd_prefix": "del ",
     "library": "var_list.py",
     "varRefreshCmd": "print(var_dic_list())"
    },
    "r": {
     "delete_cmd_postfix": ") ",
     "delete_cmd_prefix": "rm(",
     "library": "var_list.r",
     "varRefreshCmd": "cat(var_dic_list()) "
    }
   },
   "types_to_exclude": [
    "module",
    "function",
    "builtin_function_or_method",
    "instance",
    "_Feature"
   ],
   "window_display": false
  }
 },
 "nbformat": 4,
 "nbformat_minor": 5
}
