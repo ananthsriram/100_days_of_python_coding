{
 "cells": [
  {
   "cell_type": "code",
   "execution_count": 2,
   "id": "7e2a6e9e",
   "metadata": {
    "ExecuteTime": {
     "end_time": "2023-01-14T09:31:23.602557Z",
     "start_time": "2023-01-14T09:31:23.600055Z"
    }
   },
   "outputs": [
    {
     "name": "stdout",
     "output_type": "stream",
     "text": [
      "Apple Pie\n",
      "Peach Pie\n",
      "Pear Pie\n"
     ]
    }
   ],
   "source": [
    "fruits = ['Apple','Peach','Pear']\n",
    "for fruit in fruits:\n",
    "    print (fruit + ' Pie')"
   ]
  },
  {
   "cell_type": "code",
   "execution_count": 4,
   "id": "effe6d38",
   "metadata": {
    "ExecuteTime": {
     "end_time": "2023-01-14T09:35:25.038169Z",
     "start_time": "2023-01-14T09:35:25.035555Z"
    }
   },
   "outputs": [
    {
     "name": "stdout",
     "output_type": "stream",
     "text": [
      "Average height of Students is 163.71\n"
     ]
    }
   ],
   "source": [
    "########### Average Height ##############\n",
    "students_height = [180,124,165,173,189,169,146]\n",
    "\n",
    "height_sum = 0\n",
    "num_students = 0\n",
    "for height in students_height:\n",
    "    height_sum += height\n",
    "    num_students += 1\n",
    "    \n",
    "#avg_height = round(height_sum / len(students_height),2)\n",
    "avg_height = round(height_sum / num_students,2)\n",
    "print(f\"Average height of Students is {avg_height}\")"
   ]
  },
  {
   "cell_type": "code",
   "execution_count": 10,
   "id": "cd157d05",
   "metadata": {
    "ExecuteTime": {
     "end_time": "2023-01-14T09:40:02.898132Z",
     "start_time": "2023-01-14T09:40:02.894680Z"
    }
   },
   "outputs": [
    {
     "name": "stdout",
     "output_type": "stream",
     "text": [
      "Highest score is : 91\n",
      "Lowest score is : 55\n"
     ]
    }
   ],
   "source": [
    "########### Highest Score #############\n",
    "student_scores = [78,65,89,86,55,91,64,89]\n",
    "\n",
    "highest_score = -1\n",
    "lowest_score = 101\n",
    "#for score in range(0,len(student_scores)-1):\n",
    "for score in student_scores:\n",
    "    if score > highest_score:\n",
    "        highest_score = score\n",
    "    if score < lowest_score:\n",
    "        lowest_score = score\n",
    "print (f\"Highest score is : {highest_score}\")        \n",
    "print (f\"Lowest score is : {lowest_score}\")        "
   ]
  },
  {
   "cell_type": "code",
   "execution_count": 9,
   "id": "c9e1e291",
   "metadata": {
    "ExecuteTime": {
     "end_time": "2023-01-14T09:39:19.431285Z",
     "start_time": "2023-01-14T09:39:19.428859Z"
    }
   },
   "outputs": [
    {
     "name": "stdout",
     "output_type": "stream",
     "text": [
      "91\n",
      "55\n"
     ]
    }
   ],
   "source": [
    "####### Pythonic way to get min and max in a list #########\n",
    "print (max(student_scores))\n",
    "print (min(student_scores))"
   ]
  },
  {
   "cell_type": "code",
   "execution_count": 12,
   "id": "ff14baa7",
   "metadata": {
    "ExecuteTime": {
     "end_time": "2023-01-14T09:43:15.827398Z",
     "start_time": "2023-01-14T09:43:15.825055Z"
    }
   },
   "outputs": [
    {
     "name": "stdout",
     "output_type": "stream",
     "text": [
      "Total is : 5050\n"
     ]
    }
   ],
   "source": [
    "###### Sum of 100 numbers using range ########\n",
    "total = 0\n",
    "for num in range(1,101):\n",
    "    total += num\n",
    "print (f\"Total is : {total}\")"
   ]
  },
  {
   "cell_type": "code",
   "execution_count": 13,
   "id": "9aedf3fd",
   "metadata": {
    "ExecuteTime": {
     "end_time": "2023-01-14T09:43:57.674528Z",
     "start_time": "2023-01-14T09:43:57.672039Z"
    }
   },
   "outputs": [
    {
     "name": "stdout",
     "output_type": "stream",
     "text": [
      "Total is : 2550\n"
     ]
    }
   ],
   "source": [
    "###### Adding even numbers ########\n",
    "\n",
    "##### Approach 1 ########\n",
    "total = 0\n",
    "for num in range(1,101):\n",
    "    if num %2 == 0:\n",
    "        total += num\n",
    "print (f\"Total is : {total}\")"
   ]
  },
  {
   "cell_type": "code",
   "execution_count": 14,
   "id": "a719ecdc",
   "metadata": {
    "ExecuteTime": {
     "end_time": "2023-01-14T09:44:45.326108Z",
     "start_time": "2023-01-14T09:44:45.323389Z"
    }
   },
   "outputs": [
    {
     "name": "stdout",
     "output_type": "stream",
     "text": [
      "Total is : 2550\n"
     ]
    }
   ],
   "source": [
    "##### Approach 2 ########\n",
    "total = 0\n",
    "for num in range(2,101,2):\n",
    "    total += num\n",
    "print (f\"Total is : {total}\")"
   ]
  },
  {
   "cell_type": "code",
   "execution_count": 17,
   "id": "bc86d4ce",
   "metadata": {
    "ExecuteTime": {
     "end_time": "2023-01-14T09:49:32.838789Z",
     "start_time": "2023-01-14T09:49:32.834347Z"
    }
   },
   "outputs": [
    {
     "name": "stdout",
     "output_type": "stream",
     "text": [
      "1\n",
      "2\n",
      "Fizz\n",
      "4\n",
      "Buzz\n",
      "Fizz\n",
      "7\n",
      "8\n",
      "Fizz\n",
      "Buzz\n",
      "11\n",
      "Fizz\n",
      "13\n",
      "14\n",
      "FizzBuzz\n",
      "16\n",
      "17\n",
      "Fizz\n",
      "19\n",
      "Buzz\n",
      "Fizz\n",
      "22\n",
      "23\n",
      "Fizz\n",
      "Buzz\n",
      "26\n",
      "Fizz\n",
      "28\n",
      "29\n",
      "FizzBuzz\n",
      "31\n",
      "32\n",
      "Fizz\n",
      "34\n",
      "Buzz\n",
      "Fizz\n",
      "37\n",
      "38\n",
      "Fizz\n",
      "Buzz\n",
      "41\n",
      "Fizz\n",
      "43\n",
      "44\n",
      "FizzBuzz\n",
      "46\n",
      "47\n",
      "Fizz\n",
      "49\n",
      "Buzz\n",
      "Fizz\n",
      "52\n",
      "53\n",
      "Fizz\n",
      "Buzz\n",
      "56\n",
      "Fizz\n",
      "58\n",
      "59\n",
      "FizzBuzz\n",
      "61\n",
      "62\n",
      "Fizz\n",
      "64\n",
      "Buzz\n",
      "Fizz\n",
      "67\n",
      "68\n",
      "Fizz\n",
      "Buzz\n",
      "71\n",
      "Fizz\n",
      "73\n",
      "74\n",
      "FizzBuzz\n",
      "76\n",
      "77\n",
      "Fizz\n",
      "79\n",
      "Buzz\n",
      "Fizz\n",
      "82\n",
      "83\n",
      "Fizz\n",
      "Buzz\n",
      "86\n",
      "Fizz\n",
      "88\n",
      "89\n",
      "FizzBuzz\n",
      "91\n",
      "92\n",
      "Fizz\n",
      "94\n",
      "Buzz\n",
      "Fizz\n",
      "97\n",
      "98\n",
      "Fizz\n",
      "Buzz\n"
     ]
    }
   ],
   "source": [
    "######## FizzBuzz Interview Question #########\n",
    "for num in range(1,101):\n",
    "    if num % 3 == 0 and num % 15 != 0:\n",
    "        print('Fizz')\n",
    "    elif num % 5 == 0 and num % 15 != 0:\n",
    "        print('Buzz')\n",
    "    elif num % 15 == 0:     # elif (num % 3 == 0) and (num % 5 == 0)\n",
    "        print('FizzBuzz')\n",
    "    else:\n",
    "        print(num)\n",
    "        "
   ]
  },
  {
   "cell_type": "code",
   "execution_count": 18,
   "id": "53feeb92",
   "metadata": {
    "ExecuteTime": {
     "end_time": "2023-01-14T09:51:33.747380Z",
     "start_time": "2023-01-14T09:51:33.743491Z"
    }
   },
   "outputs": [
    {
     "name": "stdout",
     "output_type": "stream",
     "text": [
      "1\n",
      "2\n",
      "Fizz\n",
      "4\n",
      "Buzz\n",
      "Fizz\n",
      "7\n",
      "8\n",
      "Fizz\n",
      "Buzz\n",
      "11\n",
      "Fizz\n",
      "13\n",
      "14\n",
      "FizzBuzz\n",
      "16\n",
      "17\n",
      "Fizz\n",
      "19\n",
      "Buzz\n",
      "Fizz\n",
      "22\n",
      "23\n",
      "Fizz\n",
      "Buzz\n",
      "26\n",
      "Fizz\n",
      "28\n",
      "29\n",
      "FizzBuzz\n",
      "31\n",
      "32\n",
      "Fizz\n",
      "34\n",
      "Buzz\n",
      "Fizz\n",
      "37\n",
      "38\n",
      "Fizz\n",
      "Buzz\n",
      "41\n",
      "Fizz\n",
      "43\n",
      "44\n",
      "FizzBuzz\n",
      "46\n",
      "47\n",
      "Fizz\n",
      "49\n",
      "Buzz\n",
      "Fizz\n",
      "52\n",
      "53\n",
      "Fizz\n",
      "Buzz\n",
      "56\n",
      "Fizz\n",
      "58\n",
      "59\n",
      "FizzBuzz\n",
      "61\n",
      "62\n",
      "Fizz\n",
      "64\n",
      "Buzz\n",
      "Fizz\n",
      "67\n",
      "68\n",
      "Fizz\n",
      "Buzz\n",
      "71\n",
      "Fizz\n",
      "73\n",
      "74\n",
      "FizzBuzz\n",
      "76\n",
      "77\n",
      "Fizz\n",
      "79\n",
      "Buzz\n",
      "Fizz\n",
      "82\n",
      "83\n",
      "Fizz\n",
      "Buzz\n",
      "86\n",
      "Fizz\n",
      "88\n",
      "89\n",
      "FizzBuzz\n",
      "91\n",
      "92\n",
      "Fizz\n",
      "94\n",
      "Buzz\n",
      "Fizz\n",
      "97\n",
      "98\n",
      "Fizz\n",
      "Buzz\n"
     ]
    }
   ],
   "source": [
    "######## FizzBuzz Interview Question #########\n",
    "for num in range(1,101):\n",
    "    if num % 15 == 0:     # elif (num % 3 == 0) and (num % 5 == 0)\n",
    "        print('FizzBuzz')\n",
    "    elif num % 3 == 0:\n",
    "        print('Fizz')\n",
    "    elif num % 5 == 0:\n",
    "        print('Buzz')\n",
    "    else:\n",
    "        print(num)\n",
    "        "
   ]
  },
  {
   "cell_type": "code",
   "execution_count": 27,
   "id": "5089fc08",
   "metadata": {
    "ExecuteTime": {
     "end_time": "2023-01-14T10:04:07.131827Z",
     "start_time": "2023-01-14T10:04:05.172074Z"
    }
   },
   "outputs": [
    {
     "name": "stdout",
     "output_type": "stream",
     "text": [
      "Welcome to the PyPassword Generator!\n",
      "How many letters would you like in your password?\n",
      "5\n",
      "How many symbols would you like?\n",
      "3\n",
      "How many numbers would you like?\n",
      "2\n",
      "Password generated from Easy Level is : sZwBF#+&83\n",
      "['H', 'V', 'M', 'n', 'l', '*', '(', '+', '5', '5']\n",
      "Password generated from Hard Level is : (lM*+5Hn5V\n"
     ]
    }
   ],
   "source": [
    "########### Password Generator ##############\n",
    "import random\n",
    "letters = ['a', 'b', 'c', 'd', 'e', 'f', 'g', 'h', 'i', 'j', 'k', 'l', 'm', 'n', 'o', 'p', 'q', 'r', 's', 't', 'u', 'v', 'w', 'x', 'y', 'z', 'A', 'B', 'C', 'D', 'E', 'F', 'G', 'H', 'I', 'J', 'K', 'L', 'M', 'N', 'O', 'P', 'Q', 'R', 'S', 'T', 'U', 'V', 'W', 'X', 'Y', 'Z']\n",
    "numbers = ['0', '1', '2', '3', '4', '5', '6', '7', '8', '9']\n",
    "symbols = ['!', '#', '$', '%', '&', '(', ')', '*', '+']\n",
    "\n",
    "print(\"Welcome to the PyPassword Generator!\")\n",
    "nr_letters = int(input(\"How many letters would you like in your password?\\n\")) \n",
    "nr_symbols = int(input(f\"How many symbols would you like?\\n\"))\n",
    "nr_numbers = int(input(f\"How many numbers would you like?\\n\"))\n",
    "\n",
    "### Easy Level\n",
    "password = ''\n",
    "for num in range(0,nr_letters):\n",
    "    password += letters[random.randint(0,len(letters)-1)]\n",
    "\n",
    "for num in range(0,nr_symbols):\n",
    "    password += symbols[random.randint(0,len(symbols)-1)]\n",
    "    \n",
    "for num in range(0,nr_numbers):\n",
    "    password += numbers[random.randint(0,len(numbers)-1)]    \n",
    "\n",
    "print (f\"Password generated from Easy Level is : {password}\")\n",
    "\n",
    "\n",
    "###### Hard Level\n",
    "password_list = []\n",
    "for num in range(0,nr_letters):\n",
    "    password_list.append(letters[random.randint(0,len(letters)-1)])\n",
    "\n",
    "for num in range(0,nr_symbols):\n",
    "    password_list.append(symbols[random.randint(0,len(symbols)-1)])\n",
    "    \n",
    "for num in range(0,nr_numbers):\n",
    "    password_list.append(numbers[random.randint(0,len(numbers)-1)])\n",
    "\n",
    "#print (password_list)    \n",
    "random.shuffle(password_list)\n",
    "passwd = ''\n",
    "for char in password_list:\n",
    "  passwd += char\n",
    "print (f\"Password generated from Hard Level is : {passwd}\")\n",
    "\n"
   ]
  },
  {
   "cell_type": "code",
   "execution_count": null,
   "id": "b062d019",
   "metadata": {},
   "outputs": [],
   "source": []
  }
 ],
 "metadata": {
  "hide_input": false,
  "kernelspec": {
   "display_name": "Python 3 (ipykernel)",
   "language": "python",
   "name": "python3"
  },
  "language_info": {
   "codemirror_mode": {
    "name": "ipython",
    "version": 3
   },
   "file_extension": ".py",
   "mimetype": "text/x-python",
   "name": "python",
   "nbconvert_exporter": "python",
   "pygments_lexer": "ipython3",
   "version": "3.9.7"
  },
  "toc": {
   "base_numbering": 1,
   "nav_menu": {},
   "number_sections": false,
   "sideBar": true,
   "skip_h1_title": false,
   "title_cell": "Table of Contents",
   "title_sidebar": "Contents",
   "toc_cell": false,
   "toc_position": {},
   "toc_section_display": true,
   "toc_window_display": false
  },
  "varInspector": {
   "cols": {
    "lenName": 16,
    "lenType": 16,
    "lenVar": 40
   },
   "kernels_config": {
    "python": {
     "delete_cmd_postfix": "",
     "delete_cmd_prefix": "del ",
     "library": "var_list.py",
     "varRefreshCmd": "print(var_dic_list())"
    },
    "r": {
     "delete_cmd_postfix": ") ",
     "delete_cmd_prefix": "rm(",
     "library": "var_list.r",
     "varRefreshCmd": "cat(var_dic_list()) "
    }
   },
   "types_to_exclude": [
    "module",
    "function",
    "builtin_function_or_method",
    "instance",
    "_Feature"
   ],
   "window_display": false
  }
 },
 "nbformat": 4,
 "nbformat_minor": 5
}
