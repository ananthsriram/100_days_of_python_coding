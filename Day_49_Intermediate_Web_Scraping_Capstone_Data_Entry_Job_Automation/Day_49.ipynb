{
 "cells": [
  {
   "cell_type": "code",
   "execution_count": 8,
   "id": "44802721",
   "metadata": {
    "ExecuteTime": {
     "end_time": "2023-02-20T13:38:51.025096Z",
     "start_time": "2023-02-20T13:38:51.021124Z"
    }
   },
   "outputs": [
    {
     "data": {
      "text/html": [
       "<style>.container { width:100% !important; }</style>"
      ],
      "text/plain": [
       "<IPython.core.display.HTML object>"
      ]
     },
     "metadata": {},
     "output_type": "display_data"
    }
   ],
   "source": [
    "from IPython.display import HTML\n",
    "import warnings\n",
    "warnings.filterwarnings('ignore')\n",
    "display(HTML(\"<style>.container { width:100% !important; }</style>\"))"
   ]
  },
  {
   "cell_type": "code",
   "execution_count": 9,
   "id": "55135aea",
   "metadata": {
    "ExecuteTime": {
     "end_time": "2023-02-20T13:38:51.028630Z",
     "start_time": "2023-02-20T13:38:51.026761Z"
    }
   },
   "outputs": [],
   "source": [
    "URL_TO_YOUR_GOOGLE_FORM = 'https://docs.google.com/spreadsheets/d/1HXrV9ll6_j3F_KmWgUvyOHBUzmeJkgd4pYK98qoFHZc/edit#gid=0'"
   ]
  },
  {
   "cell_type": "code",
   "execution_count": 10,
   "id": "6600a666",
   "metadata": {
    "ExecuteTime": {
     "end_time": "2023-02-20T13:38:54.821330Z",
     "start_time": "2023-02-20T13:38:51.030017Z"
    }
   },
   "outputs": [
    {
     "name": "stdout",
     "output_type": "stream",
     "text": [
      "[]\n",
      "[]\n"
     ]
    }
   ],
   "source": [
    "\n",
    "from bs4 import BeautifulSoup\n",
    "import requests\n",
    "from selenium import webdriver\n",
    "import time\n",
    "\n",
    "header = {\n",
    "    \"User-Agent\": \"Mozilla/5.0 (Macintosh; Intel Mac OS X 10_15_5) AppleWebKit/537.36 (KHTML, like Gecko) Chrome/84.0.4147.125 Safari/537.36\",\n",
    "    \"Accept-Language\": \"en-GB,en-US;q=0.9,en;q=0.8\"\n",
    "}\n",
    "\n",
    "response = requests.get(\n",
    "    \"https://www.zillow.com/homes/San-Francisco,-CA_rb/?searchQueryState=%7B%22pagination%22%3A%7B%7D%2C%22usersSearchTerm%22%3A%22San%20Francisco%2C%20CA%22%2C%22mapBounds%22%3A%7B%22west%22%3A-122.55177535009766%2C%22east%22%3A-122.31488264990234%2C%22south%22%3A37.69926912019228%2C%22north%22%3A37.851235694487485%7D%2C%22regionSelection%22%3A%5B%7B%22regionId%22%3A20330%2C%22regionType%22%3A6%7D%5D%2C%22isMapVisible%22%3Atrue%2C%22filterState%22%3A%7B%22fr%22%3A%7B%22value%22%3Atrue%7D%2C%22fsba%22%3A%7B%22value%22%3Afalse%7D%2C%22fsbo%22%3A%7B%22value%22%3Afalse%7D%2C%22nc%22%3A%7B%22value%22%3Afalse%7D%2C%22cmsn%22%3A%7B%22value%22%3Afalse%7D%2C%22auc%22%3A%7B%22value%22%3Afalse%7D%2C%22fore%22%3A%7B%22value%22%3Afalse%7D%2C%22pmf%22%3A%7B%22value%22%3Afalse%7D%2C%22pf%22%3A%7B%22value%22%3Afalse%7D%2C%22mp%22%3A%7B%22max%22%3A3000%7D%2C%22price%22%3A%7B%22max%22%3A872627%7D%2C%22beds%22%3A%7B%22min%22%3A1%7D%7D%2C%22isListVisible%22%3Atrue%2C%22mapZoom%22%3A12%7D\",\n",
    "    headers=header)\n",
    "\n",
    "data = response.text\n",
    "soup = BeautifulSoup(data, \"html.parser\")\n",
    "\n",
    "all_link_elements = soup.select(\".property-card-link a\")\n",
    "\n",
    "all_links = []\n",
    "for link in all_link_elements:\n",
    "    href = link[\"href\"]\n",
    "    print(href)\n",
    "    if \"http\" not in href:\n",
    "        all_links.append(f\"https://www.zillow.com{href}\")\n",
    "    else:\n",
    "        all_links.append(href)\n",
    "\n",
    "all_address_elements = soup.select(\".list-card-info address\")\n",
    "all_addresses = [address.get_text().split(\" | \")[-1] for address in all_address_elements]\n",
    "\n",
    "all_price_elements = soup.select(\".list-card-heading\")\n",
    "all_prices = []\n",
    "for element in all_price_elements:\n",
    "    # Get the prices. Single and multiple listings have different tag & class structures\n",
    "    try:\n",
    "        # Price with only one listing\n",
    "        price = element.select(\".list-card-price\")[0].contents[0]\n",
    "    except IndexError:\n",
    "        print('Multiple listings for the card')\n",
    "        # Price with multiple listings\n",
    "        price = element.select(\".list-card-details li\")[0].contents[0]\n",
    "    finally:\n",
    "        all_prices.append(price)\n",
    "\n",
    "\n",
    "# Create Spreadsheet using Google Form\n",
    "# Substitute your own path here 👇\n",
    "\n",
    "driver = webdriver.Chrome()\n",
    "print (all_links)\n",
    "for n in range(len(all_links)):\n",
    "    # Substitute your own Google Form URL here 👇\n",
    "    driver.get(URL_TO_YOUR_GOOGLE_FORM)\n",
    "\n",
    "    time.sleep(2)\n",
    "    address = driver.find_element_by_xpath(\n",
    "        '//*[@id=\"mG61Hd\"]/div[2]/div/div[2]/div[1]/div/div/div[2]/div/div[1]/div/div[1]/input')\n",
    "    price = driver.find_element_by_xpath(\n",
    "        '//*[@id=\"mG61Hd\"]/div[2]/div/div[2]/div[2]/div/div/div[2]/div/div[1]/div/div[1]/input')\n",
    "    link = driver.find_element_by_xpath(\n",
    "        '//*[@id=\"mG61Hd\"]/div[2]/div/div[2]/div[3]/div/div/div[2]/div/div[1]/div/div[1]/input')\n",
    "    submit_button = driver.find_element_by_xpath('//*[@id=\"mG61Hd\"]/div[2]/div/div[3]/div[1]/div/div')\n",
    "\n",
    "    address.send_keys(all_addresses[n])\n",
    "    price.send_keys(all_prices[n])\n",
    "    link.send_keys(all_links[n])\n",
    "    submit_button.click()\n",
    "    \n",
    "    \n",
    "    \n",
    "driver.quit()    "
   ]
  },
  {
   "cell_type": "code",
   "execution_count": 11,
   "id": "274ea7ac",
   "metadata": {
    "ExecuteTime": {
     "end_time": "2023-02-20T13:38:58.492084Z",
     "start_time": "2023-02-20T13:38:54.823660Z"
    }
   },
   "outputs": [],
   "source": [
    "from bs4 import BeautifulSoup\n",
    "import requests\n",
    "from selenium import webdriver\n",
    "import time\n",
    "\n",
    "header = {\n",
    "    \"User-Agent\": \"Mozilla/5.0 (Macintosh; Intel Mac OS X 10_15_5) AppleWebKit/537.36 (KHTML, like Gecko) Chrome/84.0.4147.125 Safari/537.36\",\n",
    "    \"Accept-Language\": \"en-GB,en-US;q=0.9,en;q=0.8\"\n",
    "}\n",
    "\n",
    "response = requests.get(\"https://www.zillow.com/homes/San-Francisco,-CA_rb/?searchQueryState=%7B%22pagination%22%3A%7B%7D%2C%22usersSearchTerm%22%3A%22San%20Francisco%2C%20CA%22%2C%22mapBounds%22%3A%7B%22west%22%3A-122.55177535009766%2C%22east%22%3A-122.31488264990234%2C%22south%22%3A37.69926912019228%2C%22north%22%3A37.851235694487485%7D%2C%22regionSelection%22%3A%5B%7B%22regionId%22%3A20330%2C%22regionType%22%3A6%7D%5D%2C%22isMapVisible%22%3Atrue%2C%22filterState%22%3A%7B%22fr%22%3A%7B%22value%22%3Atrue%7D%2C%22fsba%22%3A%7B%22value%22%3Afalse%7D%2C%22fsbo%22%3A%7B%22value%22%3Afalse%7D%2C%22nc%22%3A%7B%22value%22%3Afalse%7D%2C%22cmsn%22%3A%7B%22value%22%3Afalse%7D%2C%22auc%22%3A%7B%22value%22%3Afalse%7D%2C%22fore%22%3A%7B%22value%22%3Afalse%7D%2C%22pmf%22%3A%7B%22value%22%3Afalse%7D%2C%22pf%22%3A%7B%22value%22%3Afalse%7D%2C%22mp%22%3A%7B%22max%22%3A3000%7D%2C%22price%22%3A%7B%22max%22%3A872627%7D%2C%22beds%22%3A%7B%22min%22%3A1%7D%7D%2C%22isListVisible%22%3Atrue%2C%22mapZoom%22%3A12%7D\", headers=header)\n",
    "\n",
    "data = response.text\n",
    "soup = BeautifulSoup(data, \"html.parser\")\n",
    "\n",
    "all_link_elements = soup.select(\".list-card-top a\")\n",
    "\n",
    "all_links = []\n",
    "for link in all_link_elements:\n",
    "    href = link[\"href\"]\n",
    "    print(href)\n",
    "    if \"http\" not in href:\n",
    "        all_links.append(f\"https://www.zillow.com{href}\")\n",
    "    else:\n",
    "        all_links.append(href)\n",
    "\n",
    "all_address_elements = soup.select(\".list-card-info address\")\n",
    "all_addresses = [address.get_text().split(\" | \")[-1] for address in all_address_elements]\n",
    "\n",
    "all_price_elements = soup.select(\".list-card-details li\")\n",
    "all_prices = [price.get_text().split(\"+\")[0] for price in all_price_elements if \"$\" in price.text]\n",
    "\n",
    "\n",
    "\n",
    "driver = webdriver.Chrome()\n",
    "\n",
    "for n in range(len(all_links)):\n",
    "    driver.get(URL_TO_YOUR_GOOGLE_FORM)\n",
    "    \n",
    "    time.sleep(2)\n",
    "    address = driver.find_element_by_xpath(\n",
    "        '//*[@id=\"mG61Hd\"]/div[2]/div/div[2]/div[1]/div/div/div[2]/div/div[1]/div/div[1]/input')\n",
    "    price = driver.find_element_by_xpath(\n",
    "        '//*[@id=\"mG61Hd\"]/div[2]/div/div[2]/div[2]/div/div/div[2]/div/div[1]/div/div[1]/input')\n",
    "    link = driver.find_element_by_xpath(\n",
    "        '//*[@id=\"mG61Hd\"]/div[2]/div/div[2]/div[3]/div/div/div[2]/div/div[1]/div/div[1]/input')\n",
    "    submit_button = driver.find_element_by_xpath('//*[@id=\"mG61Hd\"]/div[2]/div/div[3]/div[1]/div/div')\n",
    "\n",
    "    address.send_keys(all_addresses[n])\n",
    "    price.send_keys(all_prices[n])\n",
    "    link.send_keys(all_links[n])\n",
    "    submit_button.click()\n",
    "    \n",
    "    \n",
    "driver.quit() "
   ]
  }
 ],
 "metadata": {
  "hide_input": false,
  "kernelspec": {
   "display_name": "Python 3 (ipykernel)",
   "language": "python",
   "name": "python3"
  },
  "language_info": {
   "codemirror_mode": {
    "name": "ipython",
    "version": 3
   },
   "file_extension": ".py",
   "mimetype": "text/x-python",
   "name": "python",
   "nbconvert_exporter": "python",
   "pygments_lexer": "ipython3",
   "version": "3.9.7"
  },
  "toc": {
   "base_numbering": 1,
   "nav_menu": {},
   "number_sections": false,
   "sideBar": true,
   "skip_h1_title": false,
   "title_cell": "Table of Contents",
   "title_sidebar": "Contents",
   "toc_cell": false,
   "toc_position": {},
   "toc_section_display": true,
   "toc_window_display": false
  },
  "varInspector": {
   "cols": {
    "lenName": 16,
    "lenType": 16,
    "lenVar": 40
   },
   "kernels_config": {
    "python": {
     "delete_cmd_postfix": "",
     "delete_cmd_prefix": "del ",
     "library": "var_list.py",
     "varRefreshCmd": "print(var_dic_list())"
    },
    "r": {
     "delete_cmd_postfix": ") ",
     "delete_cmd_prefix": "rm(",
     "library": "var_list.r",
     "varRefreshCmd": "cat(var_dic_list()) "
    }
   },
   "types_to_exclude": [
    "module",
    "function",
    "builtin_function_or_method",
    "instance",
    "_Feature"
   ],
   "window_display": false
  }
 },
 "nbformat": 4,
 "nbformat_minor": 5
}
