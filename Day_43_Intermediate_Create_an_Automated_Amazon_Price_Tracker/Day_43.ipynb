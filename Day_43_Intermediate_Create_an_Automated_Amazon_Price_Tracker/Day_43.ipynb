{
 "cells": [
  {
   "cell_type": "code",
   "execution_count": 1,
   "id": "c0b4a7e8",
   "metadata": {
    "ExecuteTime": {
     "end_time": "2023-02-15T05:23:54.766214Z",
     "start_time": "2023-02-15T05:23:54.757755Z"
    }
   },
   "outputs": [
    {
     "data": {
      "text/html": [
       "<style>.container { width:100% !important; }</style>"
      ],
      "text/plain": [
       "<IPython.core.display.HTML object>"
      ]
     },
     "metadata": {},
     "output_type": "display_data"
    }
   ],
   "source": [
    "from IPython.display import HTML\n",
    "display(HTML(\"<style>.container { width:100% !important; }</style>\"))"
   ]
  },
  {
   "cell_type": "code",
   "execution_count": null,
   "id": "2e68633c",
   "metadata": {
    "ExecuteTime": {
     "end_time": "2023-02-15T05:23:33.886465Z",
     "start_time": "2023-02-15T05:23:30.167837Z"
    }
   },
   "outputs": [],
   "source": [
    "import requests\n",
    "import lxml\n",
    "from bs4 import BeautifulSoup\n",
    "\n",
    "url = \"https://www.amazon.com/Duo-Evo-Plus-esterilizadora-vaporizador/dp/B07W55DDFB/ref=sr_1_4?qid=1597660904\"\n",
    "header = {\n",
    "    \"User-Agent\": \"Mozilla/5.0 (Macintosh; Intel Mac OS X 10_15_5) AppleWebKit/537.36 (KHTML, like Gecko) Chrome/84.0.4147.125 Safari/537.36\",\n",
    "    \"Accept-Language\": \"en-GB,en-US;q=0.9,en;q=0.8\"\n",
    "}\n",
    "\n",
    "response = requests.get(url, headers=header)\n",
    "\n",
    "soup = BeautifulSoup(response.content, \"lxml\")\n",
    "#print(soup.prettify())\n",
    "\n",
    "price = soup.find(id=\"priceblock_ourprice\").get_text()\n",
    "price_without_currency = price.split(\"$\")[1]\n",
    "price_as_float = float(price_without_currency)\n",
    "print(price_as_float)"
   ]
  },
  {
   "cell_type": "code",
   "execution_count": null,
   "id": "98c94a1a",
   "metadata": {},
   "outputs": [],
   "source": [
    "import smtplib\n",
    "\n",
    "title = soup.find(id=\"productTitle\").get_text().strip()\n",
    "print(title)\n",
    "\n",
    "BUY_PRICE = 200\n",
    "\n",
    "if price_as_float < BUY_PRICE:\n",
    "    message = f\"{title} is now {price}\"\n",
    "\n",
    "    with smtplib.SMTP(YOUR_SMTP_ADDRESS, port=587) as connection:\n",
    "        connection.starttls()\n",
    "        result = connection.login(YOUR_EMAIL, YOUR_PASSWORD)\n",
    "        connection.sendmail(\n",
    "            from_addr=YOUR_EMAIL,\n",
    "            to_addrs=YOUR_EMAIL,\n",
    "            msg=f\"Subject:Amazon Price Alert!\\n\\n{message}\\n{url}\"\n",
    "        )"
   ]
  }
 ],
 "metadata": {
  "hide_input": false,
  "kernelspec": {
   "display_name": "Python 3 (ipykernel)",
   "language": "python",
   "name": "python3"
  },
  "language_info": {
   "codemirror_mode": {
    "name": "ipython",
    "version": 3
   },
   "file_extension": ".py",
   "mimetype": "text/x-python",
   "name": "python",
   "nbconvert_exporter": "python",
   "pygments_lexer": "ipython3",
   "version": "3.9.7"
  },
  "toc": {
   "base_numbering": 1,
   "nav_menu": {},
   "number_sections": false,
   "sideBar": true,
   "skip_h1_title": false,
   "title_cell": "Table of Contents",
   "title_sidebar": "Contents",
   "toc_cell": false,
   "toc_position": {},
   "toc_section_display": true,
   "toc_window_display": false
  },
  "varInspector": {
   "cols": {
    "lenName": 16,
    "lenType": 16,
    "lenVar": 40
   },
   "kernels_config": {
    "python": {
     "delete_cmd_postfix": "",
     "delete_cmd_prefix": "del ",
     "library": "var_list.py",
     "varRefreshCmd": "print(var_dic_list())"
    },
    "r": {
     "delete_cmd_postfix": ") ",
     "delete_cmd_prefix": "rm(",
     "library": "var_list.r",
     "varRefreshCmd": "cat(var_dic_list()) "
    }
   },
   "types_to_exclude": [
    "module",
    "function",
    "builtin_function_or_method",
    "instance",
    "_Feature"
   ],
   "window_display": false
  }
 },
 "nbformat": 4,
 "nbformat_minor": 5
}
