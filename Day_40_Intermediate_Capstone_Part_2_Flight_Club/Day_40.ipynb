{
 "cells": [
  {
   "cell_type": "code",
   "execution_count": 1,
   "id": "845a2883",
   "metadata": {
    "ExecuteTime": {
     "end_time": "2023-02-15T00:29:09.148122Z",
     "start_time": "2023-02-15T00:29:09.141444Z"
    }
   },
   "outputs": [
    {
     "data": {
      "text/html": [
       "<style>.container { width:100% !important; }</style>"
      ],
      "text/plain": [
       "<IPython.core.display.HTML object>"
      ]
     },
     "metadata": {},
     "output_type": "display_data"
    }
   ],
   "source": [
    "from IPython.display import HTML\n",
    "display(HTML(\"<style>.container { width:100% !important; }</style>\"))"
   ]
  },
  {
   "cell_type": "code",
   "execution_count": 8,
   "id": "b1c4c09a",
   "metadata": {
    "ExecuteTime": {
     "end_time": "2023-02-15T00:36:12.452147Z",
     "start_time": "2023-02-15T00:36:12.447997Z"
    }
   },
   "outputs": [],
   "source": [
    "from pprint import pprint\n",
    "import requests\n",
    "\n",
    "SHEETY_PRICES_ENDPOINT = \"YOUR SHEETY PRICES ENDPOINT\"\n",
    "SHEETY_USERS_ENDPOINT = \"YOUR SHEETY USERS ENDPOINT\"\n",
    "\n",
    "class DataManager:\n",
    "\n",
    "    def __init__(self):\n",
    "        self.destination_data = {}\n",
    "\n",
    "    def get_destination_data(self):\n",
    "        response = requests.get(url=SHEETY_PRICES_ENDPOINT)\n",
    "        data = response.json()\n",
    "        self.destination_data = data[\"prices\"]\n",
    "        return self.destination_data\n",
    "\n",
    "    def update_destination_codes(self):\n",
    "        for city in self.destination_data:\n",
    "            new_data = {\n",
    "                \"price\": {\n",
    "                    \"iataCode\": city[\"iataCode\"]\n",
    "                }\n",
    "            }\n",
    "            response = requests.put(\n",
    "                url=f\"{SHEETY_PRICES_ENDPOINT}/{city['id']}\",\n",
    "                json=new_data\n",
    "            )\n",
    "            print(response.text)\n",
    "\n",
    "    def get_customer_emails(self):\n",
    "        customers_endpoint = SHEETY_USERS_ENDPOINT\n",
    "        response = requests.get(url=customers_endpoint)\n",
    "        data = response.json()\n",
    "        self.customer_data = data[\"users\"]\n",
    "        return self.customer_data"
   ]
  },
  {
   "cell_type": "code",
   "execution_count": 3,
   "id": "869e409c",
   "metadata": {
    "ExecuteTime": {
     "end_time": "2023-02-15T00:32:35.621437Z",
     "start_time": "2023-02-15T00:32:35.618483Z"
    }
   },
   "outputs": [],
   "source": [
    "class FlightData:\n",
    "\n",
    "    def __init__(\n",
    "        self, price, origin_city, origin_airport, destination_city, destination_airport, out_date, return_date, stop_overs=0, via_city=\"\"):\n",
    "        self.price = price\n",
    "        self.origin_city = origin_city\n",
    "        self.origin_airport = origin_airport\n",
    "        self.destination_city = destination_city\n",
    "        self.destination_airport = destination_airport\n",
    "        self.out_date = out_date\n",
    "        self.return_date = return_date\n",
    "        self.stop_overs = stop_overs\n",
    "        self.via_city = via_city\n"
   ]
  },
  {
   "cell_type": "code",
   "execution_count": 5,
   "id": "d86021d5",
   "metadata": {
    "ExecuteTime": {
     "end_time": "2023-02-15T00:33:03.708276Z",
     "start_time": "2023-02-15T00:33:03.700291Z"
    }
   },
   "outputs": [],
   "source": [
    "import requests\n",
    "from flight_data import FlightData\n",
    "\n",
    "TEQUILA_ENDPOINT = \"https://tequila-api.kiwi.com\"\n",
    "TEQUILA_API_KEY = \"YOUR FLIGHT SEARCH API KEY\"\n",
    "\n",
    "\n",
    "class FlightSearch:\n",
    "\n",
    "    def get_destination_code(self, city_name):\n",
    "        location_endpoint = f\"{TEQUILA_ENDPOINT}/locations/query\"\n",
    "        headers = {\"apikey\": TEQUILA_API_KEY}\n",
    "        query = {\"term\": city_name, \"location_types\": \"city\"}\n",
    "        response = requests.get(url=location_endpoint, headers=headers, params=query)\n",
    "        results = response.json()[\"locations\"]\n",
    "        code = results[0][\"code\"]\n",
    "        return code\n",
    "\n",
    "    def check_flights(self, origin_city_code, destination_city_code, from_time, to_time):\n",
    "        headers = {\"apikey\": TEQUILA_API_KEY}\n",
    "        query = {\n",
    "            \"fly_from\": origin_city_code,\n",
    "            \"fly_to\": destination_city_code,\n",
    "            \"date_from\": from_time.strftime(\"%d/%m/%Y\"),\n",
    "            \"date_to\": to_time.strftime(\"%d/%m/%Y\"),\n",
    "            \"nights_in_dst_from\": 7,\n",
    "            \"nights_in_dst_to\": 28,\n",
    "            \"flight_type\": \"round\",\n",
    "            \"one_for_city\": 1,\n",
    "            \"max_stopovers\": 0,\n",
    "            \"curr\": \"GBP\"\n",
    "        }\n",
    "\n",
    "        response = requests.get(\n",
    "            url=f\"{TEQUILA_ENDPOINT}/v2/search\",\n",
    "            headers=headers,\n",
    "            params=query,\n",
    "        )\n",
    "        try:\n",
    "            data = response.json()[\"data\"][0]\n",
    "        except IndexError:\n",
    "            query[\"max_stopovers\"] = 1\n",
    "            response = requests.get(\n",
    "                url=f\"{TEQUILA_ENDPOINT}/v2/search\",\n",
    "                headers=headers,\n",
    "                params=query,\n",
    "            )\n",
    "            data = response.json()[\"data\"][0]\n",
    "            pprint(data)\n",
    "            flight_data = FlightData(\n",
    "                price=data[\"price\"],\n",
    "                origin_city=data[\"route\"][0][\"cityFrom\"],\n",
    "                origin_airport=data[\"route\"][0][\"flyFrom\"],\n",
    "                destination_city=data[\"route\"][1][\"cityTo\"],\n",
    "                destination_airport=data[\"route\"][1][\"flyTo\"],\n",
    "                out_date=data[\"route\"][0][\"local_departure\"].split(\"T\")[0],\n",
    "                return_date=data[\"route\"][2][\"local_departure\"].split(\"T\")[0],\n",
    "                stop_overs=1,\n",
    "                via_city=data[\"route\"][0][\"cityTo\"]\n",
    "            )\n",
    "            return flight_data\n",
    "        else:\n",
    "            flight_data = FlightData(\n",
    "                price=data[\"price\"],\n",
    "                origin_city=data[\"route\"][0][\"cityFrom\"],\n",
    "                origin_airport=data[\"route\"][0][\"flyFrom\"],\n",
    "                destination_city=data[\"route\"][0][\"cityTo\"],\n",
    "                destination_airport=data[\"route\"][0][\"flyTo\"],\n",
    "                out_date=data[\"route\"][0][\"local_departure\"].split(\"T\")[0],\n",
    "                return_date=data[\"route\"][1][\"local_departure\"].split(\"T\")[0]\n",
    "            )\n",
    "\n",
    "            return flight_data"
   ]
  },
  {
   "cell_type": "code",
   "execution_count": 7,
   "id": "cfaf988c",
   "metadata": {
    "ExecuteTime": {
     "end_time": "2023-02-15T00:35:19.649448Z",
     "start_time": "2023-02-15T00:35:19.641603Z"
    }
   },
   "outputs": [],
   "source": [
    "import smtplib\n",
    "from twilio.rest import Client\n",
    "\n",
    "TWILIO_SID = \"YOUR TWILIO ACCOUNT SID\"\n",
    "TWILIO_AUTH_TOKEN = \"YOUR TWILIO AUTH TOKEN\"\n",
    "TWILIO_VIRTUAL_NUMBER = \"YOUR TWILIO VIRTUAL NUMBER\"\n",
    "TWILIO_VERIFIED_NUMBER = \"YOUR TWILIO VERIFIED NUMBER\"\n",
    "MAIL_PROVIDER_SMTP_ADDRESS = \"YOUR EMAIL PROVIDER SMTP ADDRESS like smtp.gmail.com\"\n",
    "MY_EMAIL = \"YOUR EMAIL\"\n",
    "MY_PASSWORD = \"YOUR PASSWORD\"\n",
    "\n",
    "class NotificationManager:\n",
    "\n",
    "    def __init__(self):\n",
    "        self.client = Client(TWILIO_SID, TWILIO_AUTH_TOKEN)\n",
    "\n",
    "    def send_sms(self, message):\n",
    "        message = self.client.messages.create(\n",
    "            body=message,\n",
    "            from_=TWILIO_VIRTUAL_NUMBER,\n",
    "            to=TWILIO_VERIFIED_NUMBER,\n",
    "        )\n",
    "        print(message.sid)\n",
    "\n",
    "    def send_emails(self, emails, message, google_flight_link):\n",
    "        with smtplib.SMTP(MAIL_PROVIDER_SMTP_ADDRESS) as connection:\n",
    "            connection.starttls()\n",
    "            connection.login(MY_EMAIL, MY_PASSWORD)\n",
    "            for email in emails:\n",
    "                connection.sendmail(\n",
    "                    from_addr=MY_EMAIL,\n",
    "                    to_addrs=email,\n",
    "                    msg=f\"Subject:New Low Price Flight!\\n\\n{message}\\n{google_flight_link}\".encode('utf-8')\n",
    "                )"
   ]
  },
  {
   "cell_type": "code",
   "execution_count": null,
   "id": "baf6f46e",
   "metadata": {},
   "outputs": [],
   "source": [
    "from datetime import datetime, timedelta\n",
    "\n",
    "\n",
    "ORIGIN_CITY_IATA = \"LON\"\n",
    "\n",
    "data_manager = DataManager()\n",
    "flight_search = FlightSearch()\n",
    "notification_manager = NotificationManager()\n",
    "\n",
    "sheet_data = data_manager.get_destination_data()\n",
    "\n",
    "if sheet_data[0][\"iataCode\"] == \"\":\n",
    "    city_names = [row[\"city\"] for row in sheet_data]\n",
    "    data_manager.city_codes = flight_search.get_destination_codes(city_names)\n",
    "    data_manager.update_destination_codes()\n",
    "    sheet_data = data_manager.get_destination_data()\n",
    "\n",
    "destinations = {\n",
    "    data[\"iataCode\"]: {\n",
    "        \"id\": data[\"id\"],\n",
    "        \"city\": data[\"city\"],\n",
    "        \"price\": data[\"lowestPrice\"]\n",
    "    } for data in sheet_data}\n",
    "\n",
    "tomorrow = datetime.now() + timedelta(days=1)\n",
    "six_month_from_today = datetime.now() + timedelta(days=6 * 30)\n",
    "\n",
    "for destination_code in destinations:\n",
    "    flight = flight_search.check_flights(\n",
    "        ORIGIN_CITY_IATA,\n",
    "        destination_code,\n",
    "        from_time=tomorrow,\n",
    "        to_time=six_month_from_today\n",
    "    )\n",
    "    print(flight.price)\n",
    "    if flight is None:\n",
    "        continue\n",
    "\n",
    "    if flight.price < destinations[destination_code][\"price\"]:\n",
    "\n",
    "        users = data_manager.get_customer_emails()\n",
    "        emails = [row[\"email\"] for row in users]\n",
    "        names = [row[\"firstName\"] for row in users]\n",
    "\n",
    "        message = f\"Low price alert! Only £{flight.price} to fly from {flight.origin_city}-{flight.origin_airport} to {flight.destination_city}-{flight.destination_airport}, from {flight.out_date} to {flight.return_date}.\"\n",
    "\n",
    "        if flight.stop_overs > 0:\n",
    "            message += f\"\\nFlight has {flight.stop_overs} stop over, via {flight.via_city}.\"\n",
    "\n",
    "        link = f\"https://www.google.co.uk/flights?hl=en#flt={flight.origin_airport}.{flight.destination_airport}.{flight.out_date}*{flight.destination_airport}.{flight.origin_airport}.{flight.return_date}\"\n",
    "        \n",
    "        notification_manager.send_emails(emails, message, link)\n",
    "\n"
   ]
  },
  {
   "cell_type": "code",
   "execution_count": null,
   "id": "1c330294",
   "metadata": {},
   "outputs": [],
   "source": []
  },
  {
   "cell_type": "code",
   "execution_count": null,
   "id": "590aed86",
   "metadata": {},
   "outputs": [],
   "source": []
  }
 ],
 "metadata": {
  "hide_input": false,
  "kernelspec": {
   "display_name": "Python 3 (ipykernel)",
   "language": "python",
   "name": "python3"
  },
  "language_info": {
   "codemirror_mode": {
    "name": "ipython",
    "version": 3
   },
   "file_extension": ".py",
   "mimetype": "text/x-python",
   "name": "python",
   "nbconvert_exporter": "python",
   "pygments_lexer": "ipython3",
   "version": "3.9.7"
  },
  "toc": {
   "base_numbering": 1,
   "nav_menu": {},
   "number_sections": false,
   "sideBar": true,
   "skip_h1_title": false,
   "title_cell": "Table of Contents",
   "title_sidebar": "Contents",
   "toc_cell": false,
   "toc_position": {},
   "toc_section_display": true,
   "toc_window_display": false
  },
  "varInspector": {
   "cols": {
    "lenName": 16,
    "lenType": 16,
    "lenVar": 40
   },
   "kernels_config": {
    "python": {
     "delete_cmd_postfix": "",
     "delete_cmd_prefix": "del ",
     "library": "var_list.py",
     "varRefreshCmd": "print(var_dic_list())"
    },
    "r": {
     "delete_cmd_postfix": ") ",
     "delete_cmd_prefix": "rm(",
     "library": "var_list.r",
     "varRefreshCmd": "cat(var_dic_list()) "
    }
   },
   "types_to_exclude": [
    "module",
    "function",
    "builtin_function_or_method",
    "instance",
    "_Feature"
   ],
   "window_display": false
  }
 },
 "nbformat": 4,
 "nbformat_minor": 5
}
