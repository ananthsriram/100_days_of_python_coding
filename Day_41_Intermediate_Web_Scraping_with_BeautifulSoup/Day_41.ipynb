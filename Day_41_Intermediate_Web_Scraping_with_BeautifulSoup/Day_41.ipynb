{
 "cells": [
  {
   "cell_type": "code",
   "execution_count": 1,
   "id": "7bcdc0bf",
   "metadata": {
    "ExecuteTime": {
     "end_time": "2023-02-15T00:57:04.429303Z",
     "start_time": "2023-02-15T00:57:04.422856Z"
    }
   },
   "outputs": [
    {
     "data": {
      "text/html": [
       "<style>.container { width:100% !important; }</style>"
      ],
      "text/plain": [
       "<IPython.core.display.HTML object>"
      ]
     },
     "metadata": {},
     "output_type": "display_data"
    }
   ],
   "source": [
    "from IPython.display import HTML\n",
    "display(HTML(\"<style>.container { width:100% !important; }</style>\"))"
   ]
  },
  {
   "cell_type": "code",
   "execution_count": null,
   "id": "624138a5",
   "metadata": {},
   "outputs": [],
   "source": [
    "## BeautifulSoup Documentation : https://www.crummy.com/software/BeautifulSoup/bs4/doc/"
   ]
  },
  {
   "cell_type": "code",
   "execution_count": 10,
   "id": "788d418e",
   "metadata": {
    "ExecuteTime": {
     "end_time": "2023-02-15T01:05:30.538377Z",
     "start_time": "2023-02-15T01:05:30.533867Z"
    }
   },
   "outputs": [
    {
     "name": "stdout",
     "output_type": "stream",
     "text": [
      "<title>Angela's Personal Site</title>\n",
      "title\n",
      "Angela's Personal Site\n"
     ]
    }
   ],
   "source": [
    "from bs4 import BeautifulSoup\n",
    "#import lxml\n",
    "\n",
    "with open(\"website.html\") as file:\n",
    "    contents = file.read()\n",
    "    \n",
    "soup = BeautifulSoup(contents, 'html.parser')\n",
    "\n",
    "print (soup.title)\n",
    "print (soup.title.name)\n",
    "print (soup.title.string)\n"
   ]
  },
  {
   "cell_type": "code",
   "execution_count": 11,
   "id": "062b1497",
   "metadata": {
    "ExecuteTime": {
     "end_time": "2023-02-15T01:05:33.843963Z",
     "start_time": "2023-02-15T01:05:33.841870Z"
    }
   },
   "outputs": [],
   "source": [
    "#print (soup.prettify())"
   ]
  },
  {
   "cell_type": "code",
   "execution_count": 15,
   "id": "25f7ddcb",
   "metadata": {
    "ExecuteTime": {
     "end_time": "2023-02-15T01:06:12.341234Z",
     "start_time": "2023-02-15T01:06:12.337851Z"
    }
   },
   "outputs": [
    {
     "name": "stdout",
     "output_type": "stream",
     "text": [
      "The Complete iOS App Development Bootcamp\n",
      "Books and Teaching\n"
     ]
    }
   ],
   "source": [
    "print (soup.li.string)\n",
    "print (soup.h3.string)\n"
   ]
  },
  {
   "cell_type": "code",
   "execution_count": 19,
   "id": "7d7a768e",
   "metadata": {
    "ExecuteTime": {
     "end_time": "2023-02-15T01:08:54.065308Z",
     "start_time": "2023-02-15T01:08:54.062117Z"
    }
   },
   "outputs": [
    {
     "name": "stdout",
     "output_type": "stream",
     "text": [
      "[<a href=\"https://www.appbrewery.co/\">The App Brewery</a>, <a href=\"https://angelabauer.github.io/cv/hobbies.html\">My Hobbies</a>, <a href=\"https://angelabauer.github.io/cv/contact-me.html\">Contact Me</a>]\n",
      "The App Brewery\n",
      "https://www.appbrewery.co/\n",
      "My Hobbies\n",
      "https://angelabauer.github.io/cv/hobbies.html\n",
      "Contact Me\n",
      "https://angelabauer.github.io/cv/contact-me.html\n"
     ]
    }
   ],
   "source": [
    "all_anchor_tags = soup.find_all(name=\"a\")\n",
    "print (all_anchor_tags)\n",
    "for tag in all_anchor_tags:\n",
    "    print (tag.getText())\n",
    "    print (tag.get(\"href\"))"
   ]
  },
  {
   "cell_type": "code",
   "execution_count": 20,
   "id": "4d04db22",
   "metadata": {
    "ExecuteTime": {
     "end_time": "2023-02-15T01:10:23.722902Z",
     "start_time": "2023-02-15T01:10:23.720584Z"
    }
   },
   "outputs": [
    {
     "name": "stdout",
     "output_type": "stream",
     "text": [
      "<h1 id=\"name\">Angela Yu</h1>\n"
     ]
    }
   ],
   "source": [
    "heading = soup.find(name=\"h1\", id=\"name\")\n",
    "print (heading)"
   ]
  },
  {
   "cell_type": "code",
   "execution_count": 23,
   "id": "f5e04403",
   "metadata": {
    "ExecuteTime": {
     "end_time": "2023-02-15T01:13:39.804900Z",
     "start_time": "2023-02-15T01:13:39.801661Z"
    }
   },
   "outputs": [
    {
     "name": "stdout",
     "output_type": "stream",
     "text": [
      "<h3 class=\"heading\">Books and Teaching</h3>\n",
      "h3\n",
      "Books and Teaching\n",
      "['heading']\n"
     ]
    }
   ],
   "source": [
    "section_heading = soup.find(name=\"h3\", class_=\"heading\")\n",
    "print (section_heading)\n",
    "print (section_heading.name)\n",
    "print (section_heading.getText())\n",
    "print (section_heading.get(\"class\"))"
   ]
  },
  {
   "cell_type": "code",
   "execution_count": 24,
   "id": "d2871282",
   "metadata": {
    "ExecuteTime": {
     "end_time": "2023-02-15T01:15:32.660409Z",
     "start_time": "2023-02-15T01:15:32.657606Z"
    }
   },
   "outputs": [
    {
     "name": "stdout",
     "output_type": "stream",
     "text": [
      "<a href=\"https://www.appbrewery.co/\">The App Brewery</a>\n"
     ]
    }
   ],
   "source": [
    "company_url = soup.select_one(selector=\"p a\")\n",
    "print (company_url)"
   ]
  },
  {
   "cell_type": "code",
   "execution_count": 25,
   "id": "4366469f",
   "metadata": {
    "ExecuteTime": {
     "end_time": "2023-02-15T01:16:08.401120Z",
     "start_time": "2023-02-15T01:16:08.398333Z"
    }
   },
   "outputs": [
    {
     "name": "stdout",
     "output_type": "stream",
     "text": [
      "<h1 id=\"name\">Angela Yu</h1>\n"
     ]
    }
   ],
   "source": [
    "name = soup.select_one(selector=\"#name\")\n",
    "print (name)"
   ]
  },
  {
   "cell_type": "code",
   "execution_count": 27,
   "id": "50ef37fb",
   "metadata": {
    "ExecuteTime": {
     "end_time": "2023-02-15T01:16:56.178523Z",
     "start_time": "2023-02-15T01:16:56.175116Z"
    }
   },
   "outputs": [
    {
     "data": {
      "text/plain": [
       "[<h3 class=\"heading\">Books and Teaching</h3>,\n",
       " <h3 class=\"heading\">Other Pages</h3>]"
      ]
     },
     "execution_count": 27,
     "metadata": {},
     "output_type": "execute_result"
    }
   ],
   "source": [
    "soup.select(selector=\".heading\")"
   ]
  },
  {
   "cell_type": "code",
   "execution_count": 31,
   "id": "672f7c3e",
   "metadata": {
    "ExecuteTime": {
     "end_time": "2023-02-15T01:19:54.788613Z",
     "start_time": "2023-02-15T01:19:54.773521Z"
    }
   },
   "outputs": [
    {
     "name": "stdout",
     "output_type": "stream",
     "text": [
      "None\n"
     ]
    }
   ],
   "source": [
    "print(soup.select_one(selector=\".company a\"))\n",
    "#print(soup.select(\"a\"))"
   ]
  },
  {
   "cell_type": "code",
   "execution_count": 44,
   "id": "25f1c858",
   "metadata": {
    "ExecuteTime": {
     "end_time": "2023-02-15T01:39:27.475907Z",
     "start_time": "2023-02-15T01:39:24.003588Z"
    }
   },
   "outputs": [
    {
     "name": "stdout",
     "output_type": "stream",
     "text": [
      "If I could bring one thing back to the internet it would be blogs\n",
      "https://web.archive.org/web/20200518090138/http://tttthis.com/blog/if-i-could-bring-one-thing-back-to-the-internet-it-would-be-blogs\n"
     ]
    }
   ],
   "source": [
    "############## Scraping Hacker News - Using Web Archive URL #########\n",
    "from bs4 import BeautifulSoup\n",
    "import requests\n",
    "\n",
    "response = requests.get(\"https://web.archive.org/web/20200518073855/https://news.ycombinator.com/news\")\n",
    "yc_web_page = response.text\n",
    "\n",
    "soup = BeautifulSoup(yc_web_page, \"html.parser\")\n",
    "articles = soup.find_all(name=\"a\", class_=\"storylink\")\n",
    "article_texts = []\n",
    "article_links = []\n",
    "for article_tag in articles:\n",
    "    text = article_tag.getText()\n",
    "    article_texts.append(text)\n",
    "    link = article_tag.get(\"href\")\n",
    "    article_links.append(link)\n",
    "\n",
    "article_upvotes = [int(score.getText().split()[0]) for score in soup.find_all(name=\"span\", class_=\"score\")]\n",
    "\n",
    "largest_number = max(article_upvotes)\n",
    "largest_index = article_upvotes.index(largest_number)\n",
    "\n",
    "print(article_texts[largest_index])\n",
    "print(article_links[largest_index])\n"
   ]
  },
  {
   "cell_type": "code",
   "execution_count": 46,
   "id": "caac322e",
   "metadata": {
    "ExecuteTime": {
     "end_time": "2023-02-15T01:41:57.074951Z",
     "start_time": "2023-02-15T01:41:55.354879Z"
    }
   },
   "outputs": [
    {
     "name": "stdout",
     "output_type": "stream",
     "text": [
      "1) The Godfather\n",
      "2) The Empire Strikes Back\n",
      "3) The Dark Knight\n",
      "4) The Shawshank Redemption\n",
      "5) Pulp Fiction\n",
      "6) Goodfellas\n",
      "7) Raiders Of The Lost Ark\n",
      "8) Jaws\n",
      "9) Star Wars\n",
      "10) The Lord Of The Rings: The Fellowship Of The Ring\n",
      "11) Back To The Future\n",
      "12: The Godfather Part II\n",
      "13) Blade Runner\n",
      "14) Alien\n",
      "15) Aliens\n",
      "16) The Lord Of The Rings: The Return Of The King\n",
      "17) Fight Club\n",
      "18) Inception\n",
      "19) Jurassic Park\n",
      "20) Die Hard\n",
      "21) 2001: A Space Odyssey\n",
      "22) Apocalypse Now\n",
      "23) The Lord Of The Rings: The Two Towers\n",
      "24) The Matrix\n",
      "25) Terminator 2: Judgment Day\n",
      "26) Heat\n",
      "27) The Good, The Bad And The Ugly\n",
      "28) Casablanca\n",
      "29) The Big Lebowski\n",
      "30) Seven\n",
      "31) Taxi Driver\n",
      "32) The Usual Suspects\n",
      "33) Schindler's List\n",
      "34) Guardians Of The Galaxy\n",
      "35) The Shining\n",
      "36) The Departed\n",
      "37) The Thing\n",
      "38) Mad Max: Fury Road\n",
      "39) Saving Private Ryan\n",
      "40) 12 Angry Men\n",
      "41) Eternal Sunshine Of The Spotless Mind\n",
      "42) There Will Be Blood\n",
      "43) One Flew Over The Cuckoo's Nest\n",
      "44) Gladiator\n",
      "45) Drive\n",
      "46) Citizen Kane\n",
      "47) Interstellar\n",
      "48) The Silence Of The Lambs\n",
      "49) Trainspotting\n",
      "50) Lawrence Of Arabia\n",
      "51) It's A Wonderful Life\n",
      "52) Once Upon A Time In The West\n",
      "53) Psycho\n",
      "54) Vertigo\n",
      "55) Pan's Labyrinth\n",
      "56) Reservoir Dogs\n",
      "57) Whiplash\n",
      "58) Inglourious Basterds\n",
      "59) E.T. â The Extra Terrestrial\n",
      "60) American Beauty\n",
      "61) Forrest Gump\n",
      "62) La La Land\n",
      "63) Donnie Darko\n",
      "64) L.A. Confidential\n",
      "65) Avengers Assemble\n",
      "66) Return Of The Jedi\n",
      "67) Memento\n",
      "68) Ghostbusters\n",
      "69) Singin' In The Rain\n",
      "70) The Lion King\n",
      "71) Hot Fuzz\n",
      "72) Rear Window\n",
      "73) Seven Samurai\n",
      "74) Mulholland Dr.\n",
      "75) Fargo\n",
      "76) A Clockwork Orange\n",
      "77) Toy Story\n",
      "78) Oldboy\n",
      "79) Captain America: Civil War\n",
      "15) Spirited Away\n",
      "81) The Social Network\n",
      "82) Some Like It Hot\n",
      "83) True Romance\n",
      "84) Rocky\n",
      "85) LÃ©on\n",
      "86) Indiana Jones And The Last Crusade\n",
      "87) Predator\n",
      "88) The Exorcist\n",
      "89) Shaun Of The Dead\n",
      "90) No Country For Old Men\n",
      "91) The Prestige\n",
      "92) The Terminator\n",
      "93) The Princess Bride\n",
      "94) Lost In Translation\n",
      "95) Arrival\n",
      "96) Good Will Hunting\n",
      "97) Titanic\n",
      "98) Amelie\n",
      "99) Raging Bull\n",
      "100) Stand By Me\n"
     ]
    }
   ],
   "source": [
    "###### 100 Movies that You must watch - Using Web Archive URL #########\n",
    "\n",
    "import requests\n",
    "from bs4 import BeautifulSoup\n",
    "\n",
    "URL = \"https://web.archive.org/web/20200518073855/https://www.empireonline.com/movies/features/best-movies-2/\"\n",
    "\n",
    "\n",
    "response = requests.get(URL)\n",
    "website_html = response.text\n",
    "\n",
    "soup = BeautifulSoup(website_html, \"html.parser\")\n",
    "\n",
    "all_movies = soup.find_all(name=\"h3\", class_=\"title\")\n",
    "\n",
    "movie_titles = [movie.getText() for movie in all_movies]\n",
    "movies = movie_titles[::-1]\n",
    "\n",
    "#with open(\"movies.txt\", mode=\"w\") as file:\n",
    "#    for movie in movies:\n",
    "#        file.write(f\"{movie}\\n\")\n",
    "\n",
    "for movie in movies:\n",
    "    print (movie)"
   ]
  },
  {
   "cell_type": "code",
   "execution_count": null,
   "id": "b4ccaecb",
   "metadata": {
    "ExecuteTime": {
     "end_time": "2023-02-15T01:28:44.165638Z",
     "start_time": "2023-02-15T01:28:44.155856Z"
    }
   },
   "outputs": [],
   "source": []
  },
  {
   "cell_type": "code",
   "execution_count": null,
   "id": "a83a0658",
   "metadata": {},
   "outputs": [],
   "source": []
  }
 ],
 "metadata": {
  "hide_input": false,
  "kernelspec": {
   "display_name": "Python 3 (ipykernel)",
   "language": "python",
   "name": "python3"
  },
  "language_info": {
   "codemirror_mode": {
    "name": "ipython",
    "version": 3
   },
   "file_extension": ".py",
   "mimetype": "text/x-python",
   "name": "python",
   "nbconvert_exporter": "python",
   "pygments_lexer": "ipython3",
   "version": "3.9.7"
  },
  "toc": {
   "base_numbering": 1,
   "nav_menu": {},
   "number_sections": false,
   "sideBar": true,
   "skip_h1_title": false,
   "title_cell": "Table of Contents",
   "title_sidebar": "Contents",
   "toc_cell": false,
   "toc_position": {},
   "toc_section_display": true,
   "toc_window_display": false
  },
  "varInspector": {
   "cols": {
    "lenName": 16,
    "lenType": 16,
    "lenVar": 40
   },
   "kernels_config": {
    "python": {
     "delete_cmd_postfix": "",
     "delete_cmd_prefix": "del ",
     "library": "var_list.py",
     "varRefreshCmd": "print(var_dic_list())"
    },
    "r": {
     "delete_cmd_postfix": ") ",
     "delete_cmd_prefix": "rm(",
     "library": "var_list.r",
     "varRefreshCmd": "cat(var_dic_list()) "
    }
   },
   "types_to_exclude": [
    "module",
    "function",
    "builtin_function_or_method",
    "instance",
    "_Feature"
   ],
   "window_display": false
  }
 },
 "nbformat": 4,
 "nbformat_minor": 5
}
