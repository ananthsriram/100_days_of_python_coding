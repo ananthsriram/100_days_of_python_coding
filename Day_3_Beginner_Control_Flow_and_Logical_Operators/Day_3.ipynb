{
 "cells": [
  {
   "cell_type": "code",
   "execution_count": 1,
   "id": "e7423195",
   "metadata": {},
   "outputs": [
    {
     "name": "stdout",
     "output_type": "stream",
     "text": [
      "Continue\n"
     ]
    }
   ],
   "source": [
    "water_level = 50\n",
    "if water_level > 80:\n",
    "    print (\"Drain Water!\")\n",
    "else:\n",
    "    print (\"Continue\")"
   ]
  },
  {
   "cell_type": "code",
   "execution_count": 2,
   "id": "cc3d30ed",
   "metadata": {},
   "outputs": [
    {
     "name": "stdout",
     "output_type": "stream",
     "text": [
      "Welcome to the rollercoaster ride\n",
      "What is your height in cm? 56\n",
      "Sorry you have to grow taller before you can ride!\n"
     ]
    }
   ],
   "source": [
    "print (\"Welcome to the rollercoaster ride\")\n",
    "height = int(input(\"What is your height in cm? \"))\n",
    "if height >= 120:\n",
    "    print (\"You can ride the rollercoaster!\")\n",
    "else:\n",
    "    print (\"Sorry you have to grow taller before you can ride!\")"
   ]
  },
  {
   "cell_type": "code",
   "execution_count": 4,
   "id": "d8ec8078",
   "metadata": {},
   "outputs": [
    {
     "name": "stdout",
     "output_type": "stream",
     "text": [
      "Which number do you want to check? 23\n",
      "23 is an odd number\n"
     ]
    }
   ],
   "source": [
    "######## Check if a number is even or odd ########\n",
    "number = int(input(\"Which number do you want to check? \"))\n",
    "if number % 2 == 0:\n",
    "    print (f\"{number} is an even number\")\n",
    "else:\n",
    "    print (f\"{number} is an odd number\")"
   ]
  },
  {
   "cell_type": "code",
   "execution_count": 6,
   "id": "081e6a13",
   "metadata": {},
   "outputs": [
    {
     "name": "stdout",
     "output_type": "stream",
     "text": [
      "Welcome to the rollercoaster ride\n",
      "What is your height in cm? 156\n",
      "You can ride the rollercoaster!\n",
      "What is your age? 23\n",
      "Please pay $12\n"
     ]
    }
   ],
   "source": [
    "print (\"Welcome to the rollercoaster ride\")\n",
    "height = int(input(\"What is your height in cm? \"))\n",
    "if height >= 120:\n",
    "    print (\"You can ride the rollercoaster!\")\n",
    "    age = int(input(\"What is your age? \"))\n",
    "    if age < 12:\n",
    "        print (\"Please pay $5\")\n",
    "    elif age > 12 and age < 18:\n",
    "        print (\"Please pay $7\")\n",
    "    else:\n",
    "        print (\"Please pay $12\")\n",
    "else:\n",
    "    print (\"Sorry you have to grow taller before you can ride!\")"
   ]
  },
  {
   "cell_type": "code",
   "execution_count": 9,
   "id": "ccbdc2a6",
   "metadata": {},
   "outputs": [
    {
     "name": "stdout",
     "output_type": "stream",
     "text": [
      "Enter your height in m : 1.7\n",
      "Enter your weight in kg : 63\n",
      "You are normal weight as your BMI is 21.8\n"
     ]
    }
   ],
   "source": [
    "######## BMI Calculator 2.0 ############\n",
    "# BMI = weight (kg) / height^2 (m^2)\n",
    "height = float(input('Enter your height in m : '))\n",
    "weight = float(input('Enter your weight in kg : '))\n",
    "bmi = round(float(weight/(height * height)),1)\n",
    "# bmi = weight/(height ** 2)\n",
    "#print (f\"Your height is {height}m, your weight is {weight}kgs and your bmi is {bmi}.\")\n",
    "if bmi < 18.5:\n",
    "    print (f'You are underweight as your BMI is {bmi}')\n",
    "elif bmi > 18.5 and bmi < 25:\n",
    "    print (f'You are normal weight as your BMI is {bmi}')\n",
    "elif bmi > 25 and bmi < 30:\n",
    "    print (f'You are over weight as your BMI is {bmi}')\n",
    "elif bmi > 30 and bmi < 35:\n",
    "    print (f'You are obese as your BMI is {bmi}')    \n",
    "else:\n",
    "    print (f'You are clinically obese as your BMI is {bmi}')    "
   ]
  },
  {
   "cell_type": "code",
   "execution_count": 14,
   "id": "f3b56b5e",
   "metadata": {},
   "outputs": [
    {
     "name": "stdout",
     "output_type": "stream",
     "text": [
      "What year do you want to check? 1900\n",
      "1900 is not a leap year\n"
     ]
    }
   ],
   "source": [
    "######## Leap Year ##########\n",
    "year = int(input(\"What year do you want to check? \"))\n",
    "if year % 4 == 0:\n",
    "    if year % 100 == 0:\n",
    "        if year % 400 == 0:\n",
    "            print (f\"{year} is a leap year\")\n",
    "        else:\n",
    "            print (f\"{year} is not a leap year\")\n",
    "    else:\n",
    "        print (f\"{year} is a leap year\")\n",
    "else:\n",
    "    print (f\"{year} is not a leap year\")"
   ]
  },
  {
   "cell_type": "code",
   "execution_count": 15,
   "id": "c1c68b02",
   "metadata": {},
   "outputs": [
    {
     "name": "stdout",
     "output_type": "stream",
     "text": [
      "Welcome to the rollercoaster ride\n",
      "What is your height in cm? 180\n",
      "You can ride the rollercoaster!\n",
      "What is your age? 23\n",
      "Do you want a photo during the ride (Yes/No) ? Yes\n",
      "Please pay $15\n"
     ]
    }
   ],
   "source": [
    "print (\"Welcome to the rollercoaster ride\")\n",
    "height = int(input(\"What is your height in cm? \"))\n",
    "if height >= 120:\n",
    "    print (\"You can ride the rollercoaster!\")\n",
    "    age = int(input(\"What is your age? \"))\n",
    "    if age < 12:\n",
    "        bill = 5\n",
    "    elif age > 12 and age < 18:\n",
    "        bill = 7\n",
    "    else:\n",
    "        bill = 12\n",
    "    photo_needed = input(\"Do you want a photo during the ride (y/n) ? \")\n",
    "    if photo_needed == 'y' or photo_needed == 'Y':\n",
    "        bill += 3\n",
    "    print(f\"Please pay ${bill}\")\n",
    "else:\n",
    "    print (\"Sorry you have to grow taller before you can ride!\")"
   ]
  },
  {
   "cell_type": "code",
   "execution_count": 17,
   "id": "aa962478",
   "metadata": {},
   "outputs": [
    {
     "name": "stdout",
     "output_type": "stream",
     "text": [
      "Welcome to Python Pizza Deliveries!\n",
      "What size pizza do you want (S, M or L) ? M\n",
      "Do you want pepperoni (Y or N) ? Y\n",
      "Do you want extra cheese (Y or N) ? N\n",
      "Your total bill amount is $23\n"
     ]
    }
   ],
   "source": [
    "######### Pizza Order ############\n",
    "print (\"Welcome to Python Pizza Deliveries!\")\n",
    "size = input(\"What size pizza do you want (S, M or L) ? \")\n",
    "add_pepperoni = input(\"Do you want pepperoni (Y or N) ? \")\n",
    "extra_cheese = input(\"Do you want extra cheese (Y or N) ? \")\n",
    "\n",
    "if size == 'S':\n",
    "    pizza_price = 15\n",
    "elif size == 'M':\n",
    "    pizza_price = 20\n",
    "else:\n",
    "    pizza_price = 25\n",
    "    \n",
    "if add_pepperoni == 'Y':\n",
    "    if size == 'S':\n",
    "        pizza_price += 2\n",
    "    else:\n",
    "        pizza_price += 3\n",
    "if extra_cheese == 'Y':\n",
    "    pizza_price += 1\n",
    "    \n",
    "print (f\"Your total bill amount is ${pizza_price}\")"
   ]
  },
  {
   "cell_type": "code",
   "execution_count": 19,
   "id": "2c29709f",
   "metadata": {},
   "outputs": [
    {
     "name": "stdout",
     "output_type": "stream",
     "text": [
      "Welcome to the rollercoaster ride\n",
      "What is your height in cm? 165\n",
      "You can ride the rollercoaster!\n",
      "What is your age? 46\n",
      "Enjoy your ride. Your bill is on us !\n",
      "Do you want a photo during the ride (y/n) ? n\n",
      "Please pay $0\n"
     ]
    }
   ],
   "source": [
    "print (\"Welcome to the rollercoaster ride\")\n",
    "height = int(input(\"What is your height in cm? \"))\n",
    "bill = 0\n",
    "if height >= 120:\n",
    "    print (\"You can ride the rollercoaster!\")\n",
    "    age = int(input(\"What is your age? \"))\n",
    "    if age < 12:\n",
    "        bill = 5\n",
    "    elif age > 12 and age < 18:\n",
    "        bill = 7\n",
    "    elif age >= 45 and age <= 55:\n",
    "        print (\"Enjoy your ride. Your bill is on us !\")\n",
    "    else:\n",
    "        bill = 12\n",
    "    photo_needed = input(\"Do you want a photo during the ride (y/n) ? \")\n",
    "    if photo_needed == 'y' or photo_needed == 'Y':\n",
    "        bill += 3\n",
    "    print(f\"Please pay ${bill}\")\n",
    "else:\n",
    "    print (\"Sorry you have to grow taller before you can ride!\")"
   ]
  },
  {
   "cell_type": "code",
   "execution_count": 23,
   "id": "705205f6",
   "metadata": {},
   "outputs": [
    {
     "name": "stdout",
     "output_type": "stream",
     "text": [
      "Welcome to the Love Calculator !\n",
      "What is your name? Ananth\n",
      "What is your partner name? Srivalli\n",
      "Your Love Score is 23. You are alright together\n"
     ]
    }
   ],
   "source": [
    "########### Love Calculator #############\n",
    "print (\"Welcome to the Love Calculator !\")\n",
    "name1 = input(\"What is your name? \")\n",
    "name2 = input(\"What is your partner name? \")\n",
    "\n",
    "combined_name = (name1+name2).lower()\n",
    "t = combined_name.count('t')\n",
    "r = combined_name.count('r')\n",
    "u = combined_name.count('u')\n",
    "e = combined_name.count('e')\n",
    "\n",
    "l = combined_name.count('l')\n",
    "o = combined_name.count('o')\n",
    "v = combined_name.count('v')\n",
    "e = combined_name.count('e')\n",
    "\n",
    "love_score = int(str(t+r+u+e) + str(l+o+v+e))\n",
    "if (love_score < 10) or (love_score > 90):\n",
    "    print (f'Your Love Score is {love_score}. You go together like coke and mentos')\n",
    "elif (love_score < 40) or (love_score > 50):\n",
    "    print (f'Your Love Score is {love_score}. You are alright together')\n",
    "else:\n",
    "    print (f'Your Love Score is {love_score}.')\n"
   ]
  },
  {
   "cell_type": "code",
   "execution_count": 2,
   "id": "9b1c4fbe",
   "metadata": {
    "ExecuteTime": {
     "end_time": "2023-01-13T16:42:04.899237Z",
     "start_time": "2023-01-13T16:41:50.161303Z"
    }
   },
   "outputs": [
    {
     "name": "stdout",
     "output_type": "stream",
     "text": [
      "\n",
      "*******************************************************************************\n",
      "          |                   |                  |                     |\n",
      " _________|________________.=\"\"_;=.______________|_____________________|_______\n",
      "|                   |  ,-\"_,=\"\"     `\"=.|                  |\n",
      "|___________________|__\"=._o`\"-._        `\"=.______________|___________________\n",
      "          |                `\"=._o`\"=._      _`\"=._                     |\n",
      " _________|_____________________:=._o \"=._.\"_.-=\"'\"=.__________________|_______\n",
      "|                   |    __.--\" , ; `\"=._o.\" ,-\"\"\"-._ \".   |\n",
      "|___________________|_._\"  ,. .` ` `` ,  `\"-._\"-._   \". '__|___________________\n",
      "          |           |o`\"=._` , \"` `; .\". ,  \"-._\"-._; ;              |\n",
      " _________|___________| ;`-.o`\"=._; .\" ` '`.\"\\` . \"-._ /_______________|_______\n",
      "|                   | |o;    `\"-.o`\"=._``  '` \" ,__.--o;   |\n",
      "|___________________|_| ;     (#) `-.o `\"=.`_.--\"_o.-; ;___|___________________\n",
      "____/______/______/___|o;._    \"      `\".o|o_.--\"    ;o;____/______/______/____\n",
      "/______/______/______/_\"=._o--._        ; | ;        ; ;/______/______/______/_\n",
      "____/______/______/______/__\"=._o--._   ;o|o;     _._;o;____/______/______/____\n",
      "/______/______/______/______/____\"=._o._; | ;_.--\"o.--\"_/______/______/______/_\n",
      "____/______/______/______/______/_____\"=.o|o_.--\"\"___/______/______/______/____\n",
      "/______/______/______/______/______/______/______/______/______/______/_____ /\n",
      "*******************************************************************************\n",
      "\n",
      "Welcome to Treasure Island.\n",
      "Your mission is to find the treasure.\n",
      "You are at a cross road. Where do you want to go? Type \"left\" or \"right\" \n",
      "left\n",
      "You have come to a lake. There is an island in the middle of the lake. Type \"wait\" to wait for a boat. Type \"swim\" to swim across. \n",
      "wait\n",
      "You arrive at the island unharmed. There is a house with 3 doors. One red, one yellow and one blue. Which colour do you choose? \n",
      "yellow\n",
      "You found the treasure! You Win!\n"
     ]
    }
   ],
   "source": [
    "############# Treasure Island ###############\n",
    "print('''\n",
    "*******************************************************************************\n",
    "          |                   |                  |                     |\n",
    " _________|________________.=\"\"_;=.______________|_____________________|_______\n",
    "|                   |  ,-\"_,=\"\"     `\"=.|                  |\n",
    "|___________________|__\"=._o`\"-._        `\"=.______________|___________________\n",
    "          |                `\"=._o`\"=._      _`\"=._                     |\n",
    " _________|_____________________:=._o \"=._.\"_.-=\"'\"=.__________________|_______\n",
    "|                   |    __.--\" , ; `\"=._o.\" ,-\"\"\"-._ \".   |\n",
    "|___________________|_._\"  ,. .` ` `` ,  `\"-._\"-._   \". '__|___________________\n",
    "          |           |o`\"=._` , \"` `; .\". ,  \"-._\"-._; ;              |\n",
    " _________|___________| ;`-.o`\"=._; .\" ` '`.\"\\` . \"-._ /_______________|_______\n",
    "|                   | |o;    `\"-.o`\"=._``  '` \" ,__.--o;   |\n",
    "|___________________|_| ;     (#) `-.o `\"=.`_.--\"_o.-; ;___|___________________\n",
    "____/______/______/___|o;._    \"      `\".o|o_.--\"    ;o;____/______/______/____\n",
    "/______/______/______/_\"=._o--._        ; | ;        ; ;/______/______/______/_\n",
    "____/______/______/______/__\"=._o--._   ;o|o;     _._;o;____/______/______/____\n",
    "/______/______/______/______/____\"=._o._; | ;_.--\"o.--\"_/______/______/______/_\n",
    "____/______/______/______/______/_____\"=.o|o_.--\"\"___/______/______/______/____\n",
    "/______/______/______/______/______/______/______/______/______/______/_____ /\n",
    "*******************************************************************************\n",
    "''')\n",
    "print(\"Welcome to Treasure Island.\")\n",
    "print(\"Your mission is to find the treasure.\") \n",
    "\n",
    "choice1 = input('You are at a cross road. Where do you want to go? Type \"left\" or \"right\" \\n').lower()\n",
    "if choice1 == \"left\":\n",
    "  choice2 = input('You have come to a lake. There is an island in the middle of the lake. Type \"wait\" to wait for a boat. Type \"swim\" to swim across. \\n').lower()\n",
    "  if choice2 == \"wait\":\n",
    "    choice3 = input(\"You arrive at the island unharmed. There is a house with 3 doors. One red, one yellow and one blue. Which colour do you choose? \\n\").lower()\n",
    "    if choice3 == \"red\":\n",
    "      print(\"It's a room full of fire. Game Over.\")\n",
    "    elif choice3 == \"yellow\":\n",
    "      print(\"You found the treasure! You Win!\")\n",
    "    elif choice3 == \"blue\":\n",
    "      print(\"You enter a room of beasts. Game Over.\")\n",
    "    else:\n",
    "      print(\"You chose a door that doesn't exist. Game Over.\")\n",
    "  else:\n",
    "    print(\"You get attacked by an angry trout. Game Over.\")\n",
    "else:\n",
    "  print(\"You fell into a hole. Game Over.\")\n"
   ]
  },
  {
   "cell_type": "code",
   "execution_count": null,
   "id": "14a8d471",
   "metadata": {},
   "outputs": [],
   "source": []
  }
 ],
 "metadata": {
  "hide_input": false,
  "kernelspec": {
   "display_name": "Python 3 (ipykernel)",
   "language": "python",
   "name": "python3"
  },
  "language_info": {
   "codemirror_mode": {
    "name": "ipython",
    "version": 3
   },
   "file_extension": ".py",
   "mimetype": "text/x-python",
   "name": "python",
   "nbconvert_exporter": "python",
   "pygments_lexer": "ipython3",
   "version": "3.9.7"
  },
  "toc": {
   "base_numbering": 1,
   "nav_menu": {},
   "number_sections": false,
   "sideBar": true,
   "skip_h1_title": false,
   "title_cell": "Table of Contents",
   "title_sidebar": "Contents",
   "toc_cell": false,
   "toc_position": {},
   "toc_section_display": true,
   "toc_window_display": false
  },
  "varInspector": {
   "cols": {
    "lenName": 16,
    "lenType": 16,
    "lenVar": 40
   },
   "kernels_config": {
    "python": {
     "delete_cmd_postfix": "",
     "delete_cmd_prefix": "del ",
     "library": "var_list.py",
     "varRefreshCmd": "print(var_dic_list())"
    },
    "r": {
     "delete_cmd_postfix": ") ",
     "delete_cmd_prefix": "rm(",
     "library": "var_list.r",
     "varRefreshCmd": "cat(var_dic_list()) "
    }
   },
   "types_to_exclude": [
    "module",
    "function",
    "builtin_function_or_method",
    "instance",
    "_Feature"
   ],
   "window_display": false
  }
 },
 "nbformat": 4,
 "nbformat_minor": 5
}
