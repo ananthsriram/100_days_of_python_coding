{
 "cells": [
  {
   "cell_type": "code",
   "execution_count": null,
   "id": "cbf5d80a",
   "metadata": {
    "ExecuteTime": {
     "end_time": "2023-02-10T15:35:32.802435Z",
     "start_time": "2023-02-10T15:35:32.794698Z"
    }
   },
   "outputs": [],
   "source": [
    "from IPython.display import HTML\n",
    "display(HTML(\"<style>.container { width:100% !important; }</style>\"))"
   ]
  },
  {
   "cell_type": "code",
   "execution_count": null,
   "id": "bed479ed",
   "metadata": {
    "ExecuteTime": {
     "end_time": "2023-02-10T15:33:25.343882Z",
     "start_time": "2023-02-10T15:33:23.044623Z"
    }
   },
   "outputs": [],
   "source": [
    "import tkinter\n",
    "\n",
    "window = tkinter.Tk()\n",
    "window.title(\"My First GUI Program\")\n",
    "window.minsize(width=500, height=300)\n",
    "\n",
    "## Label\n",
    "my_label = tkinter.Label(text=\"I am Ananth\",font=(\"Ariel\", 24, \"normal\"))\n",
    "my_label.pack()\n",
    "\n",
    "window.mainloop()"
   ]
  },
  {
   "cell_type": "code",
   "execution_count": null,
   "id": "ce8f4bd3",
   "metadata": {
    "ExecuteTime": {
     "end_time": "2023-02-10T15:40:52.793002Z",
     "start_time": "2023-02-10T15:40:52.790048Z"
    }
   },
   "outputs": [],
   "source": [
    "## Many Positional arguments\n",
    "\n",
    "def add(*args):\n",
    "    sum = 0\n",
    "    for n in args:\n",
    "        sum = sum + n\n",
    "    print (sum)\n",
    "        \n",
    "add(1,2,3,4,5,6,7,8,9)        "
   ]
  },
  {
   "cell_type": "code",
   "execution_count": null,
   "id": "060dc556",
   "metadata": {
    "ExecuteTime": {
     "end_time": "2023-02-10T15:47:52.578506Z",
     "start_time": "2023-02-10T15:47:52.575891Z"
    }
   },
   "outputs": [],
   "source": [
    "## Many Key Word arguments\n",
    "\n",
    "def calculate(n,**kwargs):\n",
    "    print (kwargs)\n",
    "    n += kwargs['add']\n",
    "    n *= kwargs['multiply']\n",
    "    print (n)\n",
    "    \n",
    "calculate(2,add=3,multiply=5)\n",
    "    "
   ]
  },
  {
   "cell_type": "code",
   "execution_count": null,
   "id": "867c4c23",
   "metadata": {
    "ExecuteTime": {
     "end_time": "2023-02-10T15:51:35.103888Z",
     "start_time": "2023-02-10T15:51:35.101222Z"
    }
   },
   "outputs": [],
   "source": [
    "class Car:\n",
    "    \n",
    "    def __init__(self,**kw):\n",
    "        #self.make = kw['make']\n",
    "        #self.model = kw['model']\n",
    "        self.make = kw.get('make')\n",
    "        self.model = kw.get('model')\n",
    "        self.color = kw.get('color')\n",
    "        self.seats = kw.get('seats')\n",
    "        \n",
    "my_car = Car(make='Suzuki',model='Ciaz')\n",
    "print (my_car.model)"
   ]
  },
  {
   "cell_type": "code",
   "execution_count": null,
   "id": "2e319865",
   "metadata": {
    "ExecuteTime": {
     "end_time": "2023-02-10T16:04:07.601658Z",
     "start_time": "2023-02-10T16:04:01.504585Z"
    }
   },
   "outputs": [],
   "source": [
    "#### Label, Button, Entry Widgets\n",
    "from tkinter import *\n",
    "\n",
    "window = Tk()\n",
    "window.title(\"My First GUI Program\")\n",
    "window.minsize(width=500, height=300)\n",
    "\n",
    "## Label\n",
    "my_label = tkinter.Label(text=\"I am Ananth\",font=(\"Ariel\", 24, \"normal\"))\n",
    "my_label.pack()\n",
    "\n",
    "my_label['text'] = 'New Text'\n",
    "my_label.config(text='New Text')\n",
    "\n",
    "## Button\n",
    "def button_click():\n",
    "    new_text = input.get()\n",
    "    my_label['text'] = new_text\n",
    "    \n",
    "button = Button(text='Click Me', command=button_click)\n",
    "button.pack()\n",
    "\n",
    "\n",
    "## Entry\n",
    "input = Entry(width=10)\n",
    "input.pack()\n",
    "input.get()\n",
    "\n",
    "window.mainloop()\n"
   ]
  },
  {
   "cell_type": "code",
   "execution_count": null,
   "id": "bb6eeb9c",
   "metadata": {},
   "outputs": [],
   "source": [
    "#### Text, Spinbox, Scale, Checkbutton, Radiobutton, Listbox Widgets\n",
    "\n",
    "from tkinter import *\n",
    "\n",
    "#Creating a new window and configurations\n",
    "window = Tk()\n",
    "window.title(\"Widget Examples\")\n",
    "window.minsize(width=500, height=500)\n",
    "\n",
    "#Labels\n",
    "label = Label(text=\"This is old text\")\n",
    "label.config(text=\"This is new text\")\n",
    "label.pack()\n",
    "\n",
    "#Buttons\n",
    "def action():\n",
    "    print(\"Do something\")\n",
    "\n",
    "#calls action() when pressed\n",
    "button = Button(text=\"Click Me\", command=action)\n",
    "button.pack()\n",
    "\n",
    "#Entries\n",
    "entry = Entry(width=30)\n",
    "#Add some text to begin with\n",
    "entry.insert(END, string=\"Some text to begin with.\")\n",
    "#Gets text in entry\n",
    "print(entry.get())\n",
    "entry.pack()\n",
    "\n",
    "#Text\n",
    "text = Text(height=5, width=30)\n",
    "#Puts cursor in textbox.\n",
    "text.focus()\n",
    "#Adds some text to begin with.\n",
    "text.insert(END, \"Example of multi-line text entry.\")\n",
    "#Get's current value in textbox at line 1, character 0\n",
    "print(text.get(\"1.0\", END))\n",
    "text.pack()\n",
    "\n",
    "#Spinbox\n",
    "def spinbox_used():\n",
    "    #gets the current value in spinbox.\n",
    "    print(spinbox.get())\n",
    "spinbox = Spinbox(from_=0, to=10, width=5, command=spinbox_used)\n",
    "spinbox.pack()\n",
    "\n",
    "#Scale\n",
    "#Called with current scale value.\n",
    "def scale_used(value):\n",
    "    print(value)\n",
    "scale = Scale(from_=0, to=100, command=scale_used)\n",
    "scale.pack()\n",
    "\n",
    "#Checkbutton\n",
    "def checkbutton_used():\n",
    "    #Prints 1 if On button checked, otherwise 0.\n",
    "    print(checked_state.get())\n",
    "#variable to hold on to checked state, 0 is off, 1 is on.\n",
    "checked_state = IntVar()\n",
    "checkbutton = Checkbutton(text=\"Is On?\", variable=checked_state, command=checkbutton_used)\n",
    "checked_state.get()\n",
    "checkbutton.pack()\n",
    "\n",
    "#Radiobutton\n",
    "def radio_used():\n",
    "    print(radio_state.get())\n",
    "#Variable to hold on to which radio button value is checked.\n",
    "radio_state = IntVar()\n",
    "radiobutton1 = Radiobutton(text=\"Option1\", value=1, variable=radio_state, command=radio_used)\n",
    "radiobutton2 = Radiobutton(text=\"Option2\", value=2, variable=radio_state, command=radio_used)\n",
    "radiobutton1.pack()\n",
    "radiobutton2.pack()\n",
    "\n",
    "\n",
    "#Listbox\n",
    "def listbox_used(event):\n",
    "    # Gets current selection from listbox\n",
    "    print(listbox.get(listbox.curselection()))\n",
    "\n",
    "listbox = Listbox(height=4)\n",
    "fruits = [\"Apple\", \"Pear\", \"Orange\", \"Banana\"]\n",
    "for item in fruits:\n",
    "    listbox.insert(fruits.index(item), item)\n",
    "listbox.bind(\"<<ListboxSelect>>\", listbox_used)\n",
    "listbox.pack()\n",
    "window.mainloop()\n"
   ]
  },
  {
   "cell_type": "code",
   "execution_count": null,
   "id": "007e84d1",
   "metadata": {
    "ExecuteTime": {
     "end_time": "2023-02-11T00:10:51.836882Z",
     "start_time": "2023-02-11T00:10:26.823280Z"
    }
   },
   "outputs": [],
   "source": [
    "#### Label, Button, Entry Widgets\n",
    "from tkinter import *\n",
    "\n",
    "\n",
    "def button_clicked():\n",
    "    print(\"I got clicked\")\n",
    "    new_text = input.get()\n",
    "    my_label.config(text=new_text)\n",
    "\n",
    "\n",
    "window = Tk()\n",
    "window.title(\"My First GUI Program\")\n",
    "window.minsize(width=500, height=300)\n",
    "window.config(padx=100, pady=200)\n",
    "\n",
    "#Label\n",
    "my_label = Label(text=\"I Am a Label\", font=(\"Arial\", 24, \"bold\"))\n",
    "my_label.config(text=\"New Text\")\n",
    "my_label.grid(column=0, row=0)\n",
    "my_label.config(padx=50, pady=50)\n",
    "\n",
    "#Button\n",
    "button = Button(text=\"Click Me\", command=button_clicked)\n",
    "button.grid(column=1, row=1)\n",
    "\n",
    "new_button = Button(text=\"New Button\")\n",
    "new_button.grid(column=2, row=0)\n",
    "\n",
    "#Entry\n",
    "input = Entry(width=10)\n",
    "print(input.get())\n",
    "input.grid(column=3, row=2)\n",
    "\n",
    "\n",
    "\n",
    "window.mainloop()"
   ]
  },
  {
   "cell_type": "code",
   "execution_count": null,
   "id": "3612f575",
   "metadata": {
    "ExecuteTime": {
     "end_time": "2023-02-11T00:22:54.236221Z",
     "start_time": "2023-02-11T00:22:48.472276Z"
    }
   },
   "outputs": [],
   "source": [
    "### Miles to Kilometers Converter Project\n",
    "\n",
    "from tkinter import *\n",
    "\n",
    "\n",
    "def miles_to_km():\n",
    "    miles = float(miles_input.get())\n",
    "    km = (miles * 1.609)\n",
    "    kilometer_result_label.config(text=f\"{km}\")\n",
    "    \n",
    "window = Tk()\n",
    "window.title(\"Miles to Kilometers Converter\")\n",
    "window.config(padx=20, pady=20)\n",
    "\n",
    "miles_input = Entry(width=5)\n",
    "miles_input.grid(column=1, row=0)\n",
    "\n",
    "miles_label = Label(text=\"Miles\")\n",
    "miles_label.grid(column=2, row=0)\n",
    "\n",
    "is_equal_label = Label(text = 'is equal to')\n",
    "is_equal_label.grid(column=0, row=1)\n",
    "\n",
    "kilometer_result_label = Label(text='0')\n",
    "kilometer_result_label.grid(column=1, row=1)\n",
    "\n",
    "kilometer_label = Label(text='Km')\n",
    "kilometer_label.grid(column=2, row=1)\n",
    "\n",
    "calculate_button = Button(text='Calculate', command=miles_to_km)\n",
    "calculate_button.grid(column=1, row=2)\n",
    "\n",
    "\n",
    "\n",
    "window.mainloop()\n"
   ]
  },
  {
   "cell_type": "code",
   "execution_count": null,
   "id": "1734f8fc",
   "metadata": {},
   "outputs": [],
   "source": []
  }
 ],
 "metadata": {
  "hide_input": false,
  "kernelspec": {
   "display_name": "Python 3 (ipykernel)",
   "language": "python",
   "name": "python3"
  },
  "language_info": {
   "codemirror_mode": {
    "name": "ipython",
    "version": 3
   },
   "file_extension": ".py",
   "mimetype": "text/x-python",
   "name": "python",
   "nbconvert_exporter": "python",
   "pygments_lexer": "ipython3",
   "version": "3.9.7"
  },
  "toc": {
   "base_numbering": 1,
   "nav_menu": {},
   "number_sections": false,
   "sideBar": true,
   "skip_h1_title": false,
   "title_cell": "Table of Contents",
   "title_sidebar": "Contents",
   "toc_cell": false,
   "toc_position": {},
   "toc_section_display": true,
   "toc_window_display": false
  },
  "varInspector": {
   "cols": {
    "lenName": 16,
    "lenType": 16,
    "lenVar": 40
   },
   "kernels_config": {
    "python": {
     "delete_cmd_postfix": "",
     "delete_cmd_prefix": "del ",
     "library": "var_list.py",
     "varRefreshCmd": "print(var_dic_list())"
    },
    "r": {
     "delete_cmd_postfix": ") ",
     "delete_cmd_prefix": "rm(",
     "library": "var_list.r",
     "varRefreshCmd": "cat(var_dic_list()) "
    }
   },
   "types_to_exclude": [
    "module",
    "function",
    "builtin_function_or_method",
    "instance",
    "_Feature"
   ],
   "window_display": false
  }
 },
 "nbformat": 4,
 "nbformat_minor": 5
}
