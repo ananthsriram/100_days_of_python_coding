{
 "cells": [
  {
   "cell_type": "code",
   "execution_count": null,
   "id": "73b3bd96",
   "metadata": {},
   "outputs": [],
   "source": [
    "from IPython.display import HTML\n",
    "display(HTML(\"<style>.container { width:100% !important; }</style>\"))"
   ]
  },
  {
   "cell_type": "code",
   "execution_count": 8,
   "id": "c48374f6",
   "metadata": {
    "ExecuteTime": {
     "end_time": "2023-01-13T16:51:24.806461Z",
     "start_time": "2023-01-13T16:51:24.803727Z"
    }
   },
   "outputs": [
    {
     "name": "stdout",
     "output_type": "stream",
     "text": [
      "8\n"
     ]
    }
   ],
   "source": [
    "import random\n",
    "\n",
    "rand_num = random.randint(1,10)\n",
    "print (rand_num)"
   ]
  },
  {
   "cell_type": "code",
   "execution_count": 14,
   "id": "5ac43984",
   "metadata": {
    "ExecuteTime": {
     "end_time": "2023-01-13T16:53:20.393406Z",
     "start_time": "2023-01-13T16:53:20.391143Z"
    }
   },
   "outputs": [
    {
     "name": "stdout",
     "output_type": "stream",
     "text": [
      "4.785826964577547\n"
     ]
    }
   ],
   "source": [
    "random_float = random.random()\n",
    "print (random_float * 5)"
   ]
  },
  {
   "cell_type": "code",
   "execution_count": 19,
   "id": "72462f67",
   "metadata": {
    "ExecuteTime": {
     "end_time": "2023-01-13T16:54:06.563715Z",
     "start_time": "2023-01-13T16:54:06.561052Z"
    }
   },
   "outputs": [
    {
     "name": "stdout",
     "output_type": "stream",
     "text": [
      "Your love score is 81\n"
     ]
    }
   ],
   "source": [
    "love_score = random.randint(1,100)\n",
    "print(f\"Your love score is {love_score}\")"
   ]
  },
  {
   "cell_type": "code",
   "execution_count": 24,
   "id": "57af047e",
   "metadata": {
    "ExecuteTime": {
     "end_time": "2023-01-13T16:55:28.597364Z",
     "start_time": "2023-01-13T16:55:28.594752Z"
    }
   },
   "outputs": [
    {
     "name": "stdout",
     "output_type": "stream",
     "text": [
      "Tails\n"
     ]
    }
   ],
   "source": [
    "random_side = random.randint(0,1)\n",
    "if random_side == 0:\n",
    "    print(\"Heads\")\n",
    "else:\n",
    "    print(\"Tails\")"
   ]
  },
  {
   "cell_type": "code",
   "execution_count": 28,
   "id": "dd4612c2",
   "metadata": {
    "ExecuteTime": {
     "end_time": "2023-01-13T17:00:59.427718Z",
     "start_time": "2023-01-13T17:00:59.423284Z"
    }
   },
   "outputs": [
    {
     "name": "stdout",
     "output_type": "stream",
     "text": [
      "['Delaware', 'Pennsylvania', 'New Jersey', 'Georgia', 'Connecticut', 'Massachusetts', 'Maryland', 'South Carolina', 'New Hampshire', 'Virginia', 'New York', 'North Carolina', 'Rhode Island', 'Vermont', 'Kentucky', 'Tennessee', 'Ohio', 'Louisiana', 'Indiana', 'Mississippi', 'Illinois', 'Alabama', 'Maine', 'Missouri', 'Arkansas', 'Michigan', 'Florida', 'Texas', 'Iowa', 'Wisconsin', 'California', 'Minnesota', 'Oregon', 'Kansas', 'West Virginia', 'Nevada', 'Nebraska', 'Colorado', 'North Dakota', 'South Dakota', 'Montana', 'Washington', 'Idaho', 'Wyoming', 'Utah', 'Oklahoma', 'New Mexico', 'Arizona', 'Alaska', 'Hawaii']\n",
      "========================\n",
      "['Delaware', 'Pencilvania', 'New Jersey', 'Georgia', 'Connecticut', 'Massachusetts', 'Maryland', 'South Carolina', 'New Hampshire', 'Virginia', 'New York', 'North Carolina', 'Rhode Island', 'Vermont', 'Kentucky', 'Tennessee', 'Ohio', 'Louisiana', 'Indiana', 'Mississippi', 'Illinois', 'Alabama', 'Maine', 'Missouri', 'Arkansas', 'Michigan', 'Florida', 'Texas', 'Iowa', 'Wisconsin', 'California', 'Minnesota', 'Oregon', 'Kansas', 'West Virginia', 'Nevada', 'Nebraska', 'Colorado', 'North Dakota', 'South Dakota', 'Montana', 'Washington', 'Idaho', 'Wyoming', 'Utah', 'Oklahoma', 'New Mexico', 'Arizona', 'Alaska', 'Hawaii']\n",
      "========================\n",
      "['Delaware', 'Pencilvania', 'New Jersey', 'Georgia', 'Connecticut', 'Massachusetts', 'Maryland', 'South Carolina', 'New Hampshire', 'Virginia', 'New York', 'North Carolina', 'Rhode Island', 'Vermont', 'Kentucky', 'Tennessee', 'Ohio', 'Louisiana', 'Indiana', 'Mississippi', 'Illinois', 'Alabama', 'Maine', 'Missouri', 'Arkansas', 'Michigan', 'Florida', 'Texas', 'Iowa', 'Wisconsin', 'California', 'Minnesota', 'Oregon', 'Kansas', 'West Virginia', 'Nevada', 'Nebraska', 'Colorado', 'North Dakota', 'South Dakota', 'Montana', 'Washington', 'Idaho', 'Wyoming', 'Utah', 'Oklahoma', 'New Mexico', 'Arizona', 'Alaska', 'Hawaii', 'Ananth Land']\n",
      "========================\n",
      "['Strawberries', 'Spinach', 'Kale', 'Nectarines', 'Apples', 'Grapes', 'Peaches', 'Cherries', 'Pears', 'Tomatoes', 'Celery', 'Potatoes']\n",
      "========================\n"
     ]
    }
   ],
   "source": [
    "states_of_america = [\"Delaware\", \"Pennsylvania\", \"New Jersey\", \"Georgia\", \"Connecticut\", \"Massachusetts\", \"Maryland\", \"South Carolina\", \"New Hampshire\", \"Virginia\", \"New York\", \"North Carolina\", \"Rhode Island\", \"Vermont\", \"Kentucky\", \"Tennessee\", \"Ohio\", \"Louisiana\", \"Indiana\", \"Mississippi\", \"Illinois\", \"Alabama\", \"Maine\", \"Missouri\", \"Arkansas\", \"Michigan\", \"Florida\", \"Texas\", \"Iowa\", \"Wisconsin\", \"California\", \"Minnesota\", \"Oregon\", \"Kansas\", \"West Virginia\", \"Nevada\", \"Nebraska\", \"Colorado\", \"North Dakota\", \"South Dakota\", \"Montana\", \"Washington\", \"Idaho\", \"Wyoming\", \"Utah\", \"Oklahoma\", \"New Mexico\", \"Arizona\", \"Alaska\", \"Hawaii\"]\n",
    "print(states_of_america)\n",
    "print ('========================')\n",
    "\n",
    "states_of_america[1] = 'Pencilvania'\n",
    "print(states_of_america)\n",
    "print ('========================')\n",
    "\n",
    "states_of_america.extend(['Ananth Land'])\n",
    "print(states_of_america)\n",
    "print ('========================')\n",
    "\n",
    "dirty_dozen = [\"Strawberries\", \"Spinach\", \"Kale\", \"Nectarines\", \"Apples\", \"Grapes\", \"Peaches\", \"Cherries\", \"Pears\", \"Tomatoes\", \"Celery\", \"Potatoes\"]\n",
    "print (dirty_dozen)\n",
    "print ('========================')"
   ]
  },
  {
   "cell_type": "code",
   "execution_count": 33,
   "id": "39f7fb49",
   "metadata": {
    "ExecuteTime": {
     "end_time": "2023-01-13T17:05:39.363282Z",
     "start_time": "2023-01-13T17:05:38.665678Z"
    }
   },
   "outputs": [
    {
     "name": "stdout",
     "output_type": "stream",
     "text": [
      "Enter everybody's name separated by comma : Ananth,Sriram,Srivalli,Sindhuja\n",
      "['Ananth', 'Sriram', 'Srivalli', 'Sindhuja']\n",
      "Sriram need to pay the bill\n"
     ]
    }
   ],
   "source": [
    "######## Who is paying the bill ###########\n",
    "names_string = input(\"Enter everybody's name separated by comma : \")\n",
    "names = names_string.split(',')\n",
    "print (names)\n",
    "\n",
    "num_names = len(names)\n",
    "random_choice = random.randint(0,num_names-1)\n",
    "person_who_will_pay = names[random_choice]\n",
    "print (f\"{person_who_will_pay} need to pay  the bill\")"
   ]
  },
  {
   "cell_type": "code",
   "execution_count": 37,
   "id": "6f749b71",
   "metadata": {
    "ExecuteTime": {
     "end_time": "2023-01-13T17:22:55.571880Z",
     "start_time": "2023-01-13T17:22:54.132379Z"
    }
   },
   "outputs": [
    {
     "name": "stdout",
     "output_type": "stream",
     "text": [
      "['⬜', '⬜', '⬜']\n",
      "['⬜', '⬜', '⬜']\n",
      "['⬜', '⬜', '⬜']\n",
      "\n",
      "Where do you want to put the treasure? 13\n",
      "['⬜', '⬜', 'X']\n",
      "['⬜', '⬜', '⬜']\n",
      "['⬜', '⬜', '⬜']\n",
      "\n"
     ]
    }
   ],
   "source": [
    "\n",
    "row1 = ['⬜','⬜','⬜']\n",
    "row2 = ['⬜','⬜','⬜']\n",
    "row3 = ['⬜','⬜','⬜']\n",
    "map = [row1,row2,row3]\n",
    "print(f\"{row1}\\n{row2}\\n{row3}\\n\")\n",
    "\n",
    "position = input(\"Where do you want to put the treasure? \")      \n",
    "horizontal = int(position[0]) - 1\n",
    "vertical = int(position[1]) - 1\n",
    "map[horizontal][vertical] = 'X'\n",
    "print(f\"{row1}\\n{row2}\\n{row3}\\n\")\n"
   ]
  },
  {
   "cell_type": "code",
   "execution_count": 45,
   "id": "e19ef27d",
   "metadata": {
    "ExecuteTime": {
     "end_time": "2023-01-14T09:23:04.873525Z",
     "start_time": "2023-01-14T09:23:03.769098Z"
    }
   },
   "outputs": [
    {
     "name": "stdout",
     "output_type": "stream",
     "text": [
      "Which one will you choose? (0 for Rock, 1 for Paper or 2 for Scissors).\n",
      "0\n",
      "\n",
      "    _______\n",
      "---'   ____)\n",
      "      (_____)\n",
      "      (_____)\n",
      "      (____)\n",
      "---.__(___)\n",
      "\n",
      "Computer chose:\n",
      "\n",
      "    _______\n",
      "---'   ____)____\n",
      "          ______)\n",
      "       __________)\n",
      "      (____)\n",
      "---.__(___)\n",
      "\n",
      "You win!\n"
     ]
    }
   ],
   "source": [
    "import random\n",
    "\n",
    "rock = '''\n",
    "    _______\n",
    "---'   ____)\n",
    "      (_____)\n",
    "      (_____)\n",
    "      (____)\n",
    "---.__(___)\n",
    "'''\n",
    "\n",
    "paper = '''\n",
    "    _______\n",
    "---'   ____)____\n",
    "          ______)\n",
    "          _______)\n",
    "         _______)\n",
    "---.__________)\n",
    "'''\n",
    "\n",
    "scissors = '''\n",
    "    _______\n",
    "---'   ____)____\n",
    "          ______)\n",
    "       __________)\n",
    "      (____)\n",
    "---.__(___)\n",
    "'''\n",
    "\n",
    "game_images = [rock, paper, scissors]\n",
    "\n",
    "user_choice = int(input(\"Which one will you choose? (0 for Rock, 1 for Paper or 2 for Scissors).\\n\"))\n",
    "if user_choice >= 3 or user_choice < 0: \n",
    "    print(\"You typed an invalid number, you lose!\")\n",
    "else:\n",
    "    print(game_images[user_choice])\n",
    "    computer_choice = random.randint(0, len(game_images)-1)\n",
    "    print(\"Computer chose:\")\n",
    "    print(game_images[computer_choice])\n",
    "    \n",
    "    if user_choice == 0 and computer_choice == 2:\n",
    "      print(\"You win!\")\n",
    "    elif computer_choice == 0 and user_choice == 2:\n",
    "      print(\"You lose\")\n",
    "    elif computer_choice > user_choice:\n",
    "      print(\"You lose\")\n",
    "    elif user_choice > computer_choice:\n",
    "      print(\"You win!\")\n",
    "    elif computer_choice == user_choice:\n",
    "      print(\"It's a draw\")"
   ]
  },
  {
   "cell_type": "code",
   "execution_count": null,
   "id": "9e63fbbd",
   "metadata": {},
   "outputs": [],
   "source": []
  }
 ],
 "metadata": {
  "hide_input": false,
  "kernelspec": {
   "display_name": "Python 3 (ipykernel)",
   "language": "python",
   "name": "python3"
  },
  "language_info": {
   "codemirror_mode": {
    "name": "ipython",
    "version": 3
   },
   "file_extension": ".py",
   "mimetype": "text/x-python",
   "name": "python",
   "nbconvert_exporter": "python",
   "pygments_lexer": "ipython3",
   "version": "3.9.13"
  },
  "toc": {
   "base_numbering": 1,
   "nav_menu": {},
   "number_sections": false,
   "sideBar": true,
   "skip_h1_title": false,
   "title_cell": "Table of Contents",
   "title_sidebar": "Contents",
   "toc_cell": false,
   "toc_position": {},
   "toc_section_display": true,
   "toc_window_display": false
  },
  "varInspector": {
   "cols": {
    "lenName": 16,
    "lenType": 16,
    "lenVar": 40
   },
   "kernels_config": {
    "python": {
     "delete_cmd_postfix": "",
     "delete_cmd_prefix": "del ",
     "library": "var_list.py",
     "varRefreshCmd": "print(var_dic_list())"
    },
    "r": {
     "delete_cmd_postfix": ") ",
     "delete_cmd_prefix": "rm(",
     "library": "var_list.r",
     "varRefreshCmd": "cat(var_dic_list()) "
    }
   },
   "types_to_exclude": [
    "module",
    "function",
    "builtin_function_or_method",
    "instance",
    "_Feature"
   ],
   "window_display": false
  }
 },
 "nbformat": 4,
 "nbformat_minor": 5
}
