{
 "cells": [
  {
   "cell_type": "code",
   "execution_count": 1,
   "id": "4b85753f",
   "metadata": {
    "ExecuteTime": {
     "end_time": "2023-02-10T13:42:47.254463Z",
     "start_time": "2023-02-10T13:42:47.246971Z"
    }
   },
   "outputs": [
    {
     "data": {
      "text/html": [
       "<style>.container { width:100% !important; }</style>"
      ],
      "text/plain": [
       "<IPython.core.display.HTML object>"
      ]
     },
     "metadata": {},
     "output_type": "display_data"
    }
   ],
   "source": [
    "from IPython.display import HTML\n",
    "display(HTML(\"<style>.container { width:100% !important; }</style>\"))"
   ]
  },
  {
   "cell_type": "code",
   "execution_count": 4,
   "id": "8a98b96c",
   "metadata": {
    "ExecuteTime": {
     "end_time": "2023-02-10T13:01:44.373266Z",
     "start_time": "2023-02-10T13:01:44.369930Z"
    }
   },
   "outputs": [
    {
     "name": "stdout",
     "output_type": "stream",
     "text": [
      "[2, 3, 4]\n",
      "[2, 3, 4]\n"
     ]
    }
   ],
   "source": [
    "### List Comprehension - Add 1 to all elements in a list\n",
    "\n",
    "#new_list = [new_item for item in list]\n",
    "list = [1, 2, 3]\n",
    "\n",
    "#Without List Comprehension\n",
    "new_list = []\n",
    "for item in list:\n",
    "    new_item = item + 1\n",
    "    new_list.append(new_item)\n",
    "print(new_list)\n",
    "\n",
    "#With List Comprehension\n",
    "list = [1, 2, 3]\n",
    "new_list = [item+1 for item in list]\n",
    "print (new_list)"
   ]
  },
  {
   "cell_type": "code",
   "execution_count": 5,
   "id": "fa429666",
   "metadata": {
    "ExecuteTime": {
     "end_time": "2023-02-10T13:03:25.215855Z",
     "start_time": "2023-02-10T13:03:25.212147Z"
    }
   },
   "outputs": [
    {
     "data": {
      "text/plain": [
       "['A', 'n', 'a', 'n', 't', 'h']"
      ]
     },
     "execution_count": 5,
     "metadata": {},
     "output_type": "execute_result"
    }
   ],
   "source": [
    "## Separate letters in a string\n",
    "name = 'Ananth'\n",
    "[char for char in name]"
   ]
  },
  {
   "cell_type": "code",
   "execution_count": 6,
   "id": "ab48d38d",
   "metadata": {
    "ExecuteTime": {
     "end_time": "2023-02-10T13:17:13.382960Z",
     "start_time": "2023-02-10T13:17:13.379957Z"
    }
   },
   "outputs": [
    {
     "data": {
      "text/plain": [
       "[2, 4, 6, 8]"
      ]
     },
     "execution_count": 6,
     "metadata": {},
     "output_type": "execute_result"
    }
   ],
   "source": [
    "## Double numbers in a list\n",
    "[num*2 for num in range(1,5)]"
   ]
  },
  {
   "cell_type": "code",
   "execution_count": 7,
   "id": "6224e137",
   "metadata": {
    "ExecuteTime": {
     "end_time": "2023-02-10T13:20:18.260889Z",
     "start_time": "2023-02-10T13:20:18.257793Z"
    }
   },
   "outputs": [
    {
     "data": {
      "text/plain": [
       "['Srivalli', 'Sindhuja']"
      ]
     },
     "execution_count": 7,
     "metadata": {},
     "output_type": "execute_result"
    }
   ],
   "source": [
    "## Conditiona List Comprehension\n",
    "# new_list = [new_item for item in list if test]\n",
    "\n",
    "## Find names with length more than 6\n",
    "\n",
    "names = ['Ananth','Sriram','Srivalli','Sindhuja']\n",
    "[name for name in names if len(name) > 6]"
   ]
  },
  {
   "cell_type": "code",
   "execution_count": 8,
   "id": "d4a8ae74",
   "metadata": {
    "ExecuteTime": {
     "end_time": "2023-02-10T13:23:45.568436Z",
     "start_time": "2023-02-10T13:23:45.565254Z"
    }
   },
   "outputs": [
    {
     "data": {
      "text/plain": [
       "['SRIVALLI', 'SINDHUJA']"
      ]
     },
     "execution_count": 8,
     "metadata": {},
     "output_type": "execute_result"
    }
   ],
   "source": [
    "## Change names to Upper Case if length more than 6\n",
    "\n",
    "names = ['Ananth','Sriram','Srivalli','Sindhuja']\n",
    "[name.upper() for name in names if len(name) > 6]"
   ]
  },
  {
   "cell_type": "code",
   "execution_count": 9,
   "id": "a11049dc",
   "metadata": {
    "ExecuteTime": {
     "end_time": "2023-02-10T13:25:26.940882Z",
     "start_time": "2023-02-10T13:25:26.937426Z"
    }
   },
   "outputs": [
    {
     "data": {
      "text/plain": [
       "[1, 1, 4, 9, 25, 64, 169, 441, 1156, 3025]"
      ]
     },
     "execution_count": 9,
     "metadata": {},
     "output_type": "execute_result"
    }
   ],
   "source": [
    "## Squaring Numbers\n",
    "\n",
    "numbers = [1, 1, 2, 3, 5, 8, 13, 21, 34, 55]\n",
    "[num*num for num in numbers]"
   ]
  },
  {
   "cell_type": "code",
   "execution_count": 10,
   "id": "38b0bfb7",
   "metadata": {
    "ExecuteTime": {
     "end_time": "2023-02-10T13:26:13.266329Z",
     "start_time": "2023-02-10T13:26:13.262645Z"
    }
   },
   "outputs": [
    {
     "data": {
      "text/plain": [
       "[2, 8, 34]"
      ]
     },
     "execution_count": 10,
     "metadata": {},
     "output_type": "execute_result"
    }
   ],
   "source": [
    "## Filtering Even Numbers\n",
    "\n",
    "numbers = [1, 1, 2, 3, 5, 8, 13, 21, 34, 55]\n",
    "[num for num in numbers if num % 2 == 0]"
   ]
  },
  {
   "cell_type": "code",
   "execution_count": 11,
   "id": "f326ccd4",
   "metadata": {
    "ExecuteTime": {
     "end_time": "2023-02-10T13:31:31.439844Z",
     "start_time": "2023-02-10T13:31:31.435980Z"
    }
   },
   "outputs": [
    {
     "data": {
      "text/plain": [
       "[3, 6, 13, 5, 7, 12, 3, 33, 42]"
      ]
     },
     "execution_count": 11,
     "metadata": {},
     "output_type": "execute_result"
    }
   ],
   "source": [
    "#Data Overlap\n",
    "\n",
    "list1 = [3, 6, 13, 5, 7, 89, 12, 3, 33, 34, 1, 344, 42]\n",
    "list2 = [3, 6, 5, 8, 33, 12, 7, 4, 72, 2, 42, 13]\n",
    "\n",
    "#result = [3, 6, 5, 33, 12, 7, 42, 13]\n",
    "\n",
    "[num for num in list1 if num in list2]"
   ]
  },
  {
   "cell_type": "code",
   "execution_count": 10,
   "id": "a6c66d6f",
   "metadata": {
    "ExecuteTime": {
     "end_time": "2023-02-10T13:55:14.093468Z",
     "start_time": "2023-02-10T13:55:14.089889Z"
    }
   },
   "outputs": [
    {
     "name": "stdout",
     "output_type": "stream",
     "text": [
      "{'Ananth': 43, 'Sriram': 33, 'Srivalli': 13, 'Sindhuja': 95}\n",
      "{'Ananth': 'Pass', 'Sindhuja': 'Pass'}\n"
     ]
    }
   ],
   "source": [
    "## Dictionary Comprehension\n",
    "\n",
    "#new_dict = {new_key:ney_value for key,value in dict.items() if test}\n",
    "import random\n",
    "\n",
    "names = ['Ananth','Sriram','Srivalli','Sindhuja']\n",
    "student_scores = {name:random.randint(1,100) for name in names}\n",
    "print (student_scores)\n",
    "\n",
    "passed_students = {key:'Pass' for key,value in student_scores.items() if value > 40}\n",
    "print (passed_students)"
   ]
  },
  {
   "cell_type": "code",
   "execution_count": 11,
   "id": "f48f9729",
   "metadata": {
    "ExecuteTime": {
     "end_time": "2023-02-10T13:58:28.146489Z",
     "start_time": "2023-02-10T13:58:28.142963Z"
    }
   },
   "outputs": [
    {
     "name": "stdout",
     "output_type": "stream",
     "text": [
      "{'What': 4, 'is': 2, 'the': 3, 'Airspeed': 8, 'Velocity': 8, 'of': 2, 'an': 2, 'Unladen': 7, 'Swallow?': 8}\n"
     ]
    }
   ],
   "source": [
    "\n",
    "sentence = \"What is the Airspeed Velocity of an Unladen Swallow?\"\n",
    "result = {word:len(word) for word in sentence.split()}\n",
    "print (result)"
   ]
  },
  {
   "cell_type": "code",
   "execution_count": 13,
   "id": "1ae78429",
   "metadata": {
    "ExecuteTime": {
     "end_time": "2023-02-10T14:01:45.909198Z",
     "start_time": "2023-02-10T14:01:45.906028Z"
    }
   },
   "outputs": [
    {
     "name": "stdout",
     "output_type": "stream",
     "text": [
      "{'Monday': 53.6, 'Tuesday': 57.2, 'Wednesday': 59.0, 'Thursday': 57.2, 'Friday': 69.8, 'Saturday': 71.6, 'Sunday': 75.2}\n"
     ]
    }
   ],
   "source": [
    "weather_c = {\n",
    "    \"Monday\" : 12,\n",
    "    \"Tuesday\" : 14,\n",
    "    \"Wednesday\" : 15,\n",
    "    \"Thursday\" : 14,\n",
    "    \"Friday\" : 21,\n",
    "    \"Saturday\" : 22,\n",
    "    \"Sunday\" : 24,\n",
    "}\n",
    "\n",
    "weather_f = {key:(value * 9/5)+32 for key,value in weather_c.items()}\n",
    "print (weather_f)\n"
   ]
  },
  {
   "cell_type": "code",
   "execution_count": 18,
   "id": "df3c319d",
   "metadata": {
    "ExecuteTime": {
     "end_time": "2023-02-10T14:07:05.045597Z",
     "start_time": "2023-02-10T14:07:05.041223Z"
    }
   },
   "outputs": [
    {
     "name": "stdout",
     "output_type": "stream",
     "text": [
      "    student  score\n",
      "0    Ananth     73\n",
      "1  Srivalli     85\n",
      "2  Sindhuja     97\n"
     ]
    }
   ],
   "source": [
    "## Iterate over Pandas Dataframe\n",
    "\n",
    "import pandas as pd\n",
    "\n",
    "students_dict = {\n",
    "    \"student\" : ['Ananth','Srivalli','Sindhuja'],\n",
    "    \"score\" : [73,85,97]\n",
    "}\n",
    "df = pd.DataFrame(students_dict)\n",
    "print (df)\n",
    "\n"
   ]
  },
  {
   "cell_type": "code",
   "execution_count": 19,
   "id": "4bdb28a9",
   "metadata": {
    "ExecuteTime": {
     "end_time": "2023-02-10T14:07:08.285608Z",
     "start_time": "2023-02-10T14:07:08.281040Z"
    }
   },
   "outputs": [
    {
     "name": "stdout",
     "output_type": "stream",
     "text": [
      "student    Ananth\n",
      "score          73\n",
      "Name: 0, dtype: object\n",
      "student    Srivalli\n",
      "score            85\n",
      "Name: 1, dtype: object\n",
      "student    Sindhuja\n",
      "score            97\n",
      "Name: 2, dtype: object\n"
     ]
    }
   ],
   "source": [
    "## Loop through Dataframe\n",
    "for index,row in df.iterrows():\n",
    "    print (row)"
   ]
  },
  {
   "cell_type": "code",
   "execution_count": 22,
   "id": "6ad3c02c",
   "metadata": {
    "ExecuteTime": {
     "end_time": "2023-02-10T14:18:02.546189Z",
     "start_time": "2023-02-10T14:18:00.859361Z"
    }
   },
   "outputs": [
    {
     "name": "stdout",
     "output_type": "stream",
     "text": [
      "Enter a name : Ananth\n",
      "['Alfa', 'November', 'Alfa', 'November', 'Tango', 'Hotel']\n"
     ]
    }
   ],
   "source": [
    "## NATO Alphabet Project\n",
    "\n",
    "alphabet_df = pd.read_csv('Day_26_nato_phonetic_alphabet.csv')\n",
    "alphabet_dict = {row['letter']:row['code'] for index,row in alphabet_df.iterrows()}\n",
    "\n",
    "name = input(\"Enter a name : \")\n",
    "nato_list = [alphabet_dict[char] for char in name.upper()]\n",
    "print (nato_list)"
   ]
  },
  {
   "cell_type": "code",
   "execution_count": null,
   "id": "4e1588bc",
   "metadata": {},
   "outputs": [],
   "source": []
  }
 ],
 "metadata": {
  "hide_input": false,
  "kernelspec": {
   "display_name": "Python 3 (ipykernel)",
   "language": "python",
   "name": "python3"
  },
  "language_info": {
   "codemirror_mode": {
    "name": "ipython",
    "version": 3
   },
   "file_extension": ".py",
   "mimetype": "text/x-python",
   "name": "python",
   "nbconvert_exporter": "python",
   "pygments_lexer": "ipython3",
   "version": "3.9.7"
  },
  "toc": {
   "base_numbering": 1,
   "nav_menu": {},
   "number_sections": false,
   "sideBar": true,
   "skip_h1_title": false,
   "title_cell": "Table of Contents",
   "title_sidebar": "Contents",
   "toc_cell": false,
   "toc_position": {},
   "toc_section_display": true,
   "toc_window_display": false
  },
  "varInspector": {
   "cols": {
    "lenName": 16,
    "lenType": 16,
    "lenVar": 40
   },
   "kernels_config": {
    "python": {
     "delete_cmd_postfix": "",
     "delete_cmd_prefix": "del ",
     "library": "var_list.py",
     "varRefreshCmd": "print(var_dic_list())"
    },
    "r": {
     "delete_cmd_postfix": ") ",
     "delete_cmd_prefix": "rm(",
     "library": "var_list.r",
     "varRefreshCmd": "cat(var_dic_list()) "
    }
   },
   "types_to_exclude": [
    "module",
    "function",
    "builtin_function_or_method",
    "instance",
    "_Feature"
   ],
   "window_display": false
  }
 },
 "nbformat": 4,
 "nbformat_minor": 5
}
