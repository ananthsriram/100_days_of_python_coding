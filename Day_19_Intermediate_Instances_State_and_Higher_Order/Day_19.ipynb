{
 "cells": [
  {
   "cell_type": "code",
   "execution_count": null,
   "id": "e8d64827",
   "metadata": {
    "ExecuteTime": {
     "end_time": "2023-02-07T16:21:00.796132Z",
     "start_time": "2023-02-07T16:21:00.789542Z"
    }
   },
   "outputs": [],
   "source": [
    "from IPython.display import HTML\n",
    "display(HTML(\"<style>.container { width:100% !important; }</style>\"))"
   ]
  },
  {
   "cell_type": "code",
   "execution_count": null,
   "id": "3bcd27fd",
   "metadata": {},
   "outputs": [],
   "source": [
    "### Make an Etch a Sketch App\n",
    "\n",
    "from turtle import Turtle,Screen\n",
    "\n",
    "tim = Turtle()\n",
    "screen = Screen()\n",
    "\n",
    "def move_forwards():\n",
    "    tim.forward(10)\n",
    "\n",
    "def move_backwards():\n",
    "    tim.backward(10)\n",
    "\n",
    "def turn_left():\n",
    "    new_heading = tim.heading() + 10\n",
    "    tim.setheading(new_heading)\n",
    "\n",
    "def turn_right():\n",
    "    new_heading = tim.heading() - 10\n",
    "    tim.setheading(new_heading)\n",
    "\n",
    "def clear():\n",
    "    tim.clear()\n",
    "    tim.penup()\n",
    "    tim.home()\n",
    "    tim.pendown()\n",
    "\n",
    "screen.listen()\n",
    "screen.onkey(move_forwards, \"Up\")\n",
    "screen.onkey(move_backwards, \"Down\")\n",
    "screen.onkey(turn_left, \"Left\")\n",
    "screen.onkey(turn_right, \"Right\")\n",
    "screen.onkey(clear, \"c\")\n",
    "\n",
    "screen.exitonclick()\n"
   ]
  },
  {
   "cell_type": "code",
   "execution_count": null,
   "id": "796786ae",
   "metadata": {
    "ExecuteTime": {
     "end_time": "2023-02-07T16:20:39.785841Z",
     "start_time": "2023-02-07T16:20:32.057561Z"
    }
   },
   "outputs": [],
   "source": [
    "#### Turtle Coordinate System\n",
    "\n",
    "from turtle import Turtle,Screen\n",
    "\n",
    "screen = Screen()\n",
    "screen.setup(width=500,height=400)\n",
    "user_bet = screen.textinput(title=\"Make your bet\", prompt=\"Which turtle will win the race? Enter a color : \")\n",
    "\n",
    "colors = ['red','orange','yellow','green','blue','purple']\n",
    "y_positions = [-70,-40,-10,20,50,80]\n",
    "\n",
    "for turtle_index in range(0,6):\n",
    "    tim = Turtle(shape=\"turtle\")      \n",
    "    tim.color(colors[turtle_index])\n",
    "    tim.penup()\n",
    "    tim.goto(x=-230, y=y_positions[turtle_index])\n",
    "\n",
    "\n",
    "screen.exitonclick()\n"
   ]
  },
  {
   "cell_type": "code",
   "execution_count": null,
   "id": "662bc941",
   "metadata": {
    "ExecuteTime": {
     "end_time": "2023-02-07T16:32:50.193465Z",
     "start_time": "2023-02-07T16:32:27.618326Z"
    }
   },
   "outputs": [],
   "source": [
    "#### Turtle Race Project\n",
    "\n",
    "from turtle import Turtle,Screen\n",
    "import random\n",
    "\n",
    "is_race_on = False\n",
    "\n",
    "screen = Screen()\n",
    "screen.setup(width=500,height=400)\n",
    "user_bet = screen.textinput(title=\"Make your bet\", prompt=\"Which turtle will win the race? Enter a color : \")\n",
    "\n",
    "\n",
    "colors = ['red','orange','yellow','green','blue','purple']\n",
    "y_positions = [-70,-40,-10,20,50,80]\n",
    "all_turtles = []\n",
    "\n",
    "for turtle_index in range(0,6):\n",
    "    new_turtle = Turtle(shape='turtle') \n",
    "    new_turtle.color(colors[turtle_index])\n",
    "    new_turtle.penup()\n",
    "    new_turtle.goto(x=-230, y=y_positions[turtle_index])\n",
    "    all_turtles.append(new_turtle)\n",
    "\n",
    "if user_bet:\n",
    "    is_race_on = True\n",
    "    \n",
    "while is_race_on:\n",
    "    for turtle in all_turtles:\n",
    "        if turtle.xcor() > 230:\n",
    "            is_race_on = False\n",
    "            winning_color = turtle.pencolor()\n",
    "            if winning_color == user_bet:\n",
    "                print(f\"You've won! The {winning_color} turtle is the winner\")\n",
    "            else:\n",
    "                print(f\"You've lost! The {winning_color} turtle is the winner\")                \n",
    "        random_distance = random.randint(0,10)\n",
    "        turtle.forward(random_distance)\n",
    "    \n",
    "    \n",
    "screen.exitonclick()\n"
   ]
  },
  {
   "cell_type": "code",
   "execution_count": null,
   "id": "8e893529",
   "metadata": {},
   "outputs": [],
   "source": []
  }
 ],
 "metadata": {
  "hide_input": false,
  "kernelspec": {
   "display_name": "Python 3 (ipykernel)",
   "language": "python",
   "name": "python3"
  },
  "language_info": {
   "codemirror_mode": {
    "name": "ipython",
    "version": 3
   },
   "file_extension": ".py",
   "mimetype": "text/x-python",
   "name": "python",
   "nbconvert_exporter": "python",
   "pygments_lexer": "ipython3",
   "version": "3.9.7"
  },
  "toc": {
   "base_numbering": 1,
   "nav_menu": {},
   "number_sections": false,
   "sideBar": true,
   "skip_h1_title": false,
   "title_cell": "Table of Contents",
   "title_sidebar": "Contents",
   "toc_cell": false,
   "toc_position": {},
   "toc_section_display": true,
   "toc_window_display": false
  },
  "varInspector": {
   "cols": {
    "lenName": 16,
    "lenType": 16,
    "lenVar": 40
   },
   "kernels_config": {
    "python": {
     "delete_cmd_postfix": "",
     "delete_cmd_prefix": "del ",
     "library": "var_list.py",
     "varRefreshCmd": "print(var_dic_list())"
    },
    "r": {
     "delete_cmd_postfix": ") ",
     "delete_cmd_prefix": "rm(",
     "library": "var_list.r",
     "varRefreshCmd": "cat(var_dic_list()) "
    }
   },
   "types_to_exclude": [
    "module",
    "function",
    "builtin_function_or_method",
    "instance",
    "_Feature"
   ],
   "window_display": false
  }
 },
 "nbformat": 4,
 "nbformat_minor": 5
}
