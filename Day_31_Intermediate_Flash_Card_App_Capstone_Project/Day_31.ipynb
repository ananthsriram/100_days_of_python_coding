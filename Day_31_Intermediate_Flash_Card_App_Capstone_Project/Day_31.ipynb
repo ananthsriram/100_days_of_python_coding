{
 "cells": [
  {
   "cell_type": "code",
   "execution_count": null,
   "id": "3f2258ff",
   "metadata": {
    "ExecuteTime": {
     "end_time": "2023-02-13T00:19:35.474318Z",
     "start_time": "2023-02-13T00:19:35.467164Z"
    }
   },
   "outputs": [],
   "source": [
    "from IPython.display import HTML\n",
    "display(HTML(\"<style>.container { width:100% !important; }</style>\"))"
   ]
  },
  {
   "cell_type": "code",
   "execution_count": null,
   "id": "05ceac2b",
   "metadata": {
    "ExecuteTime": {
     "end_time": "2023-02-13T00:19:59.566331Z",
     "start_time": "2023-02-13T00:19:37.740700Z"
    }
   },
   "outputs": [],
   "source": [
    "from tkinter import *\n",
    "import pandas\n",
    "import random\n",
    "\n",
    "BACKGROUND_COLOR = \"#B1DDC6\"\n",
    "current_card = {}\n",
    "to_learn = {}\n",
    "\n",
    "try:\n",
    "    data = pandas.read_csv(\"data/words_to_learn.csv\")\n",
    "except FileNotFoundError:\n",
    "    original_data = pandas.read_csv(\"data/french_words.csv\")\n",
    "    print(original_data)\n",
    "    to_learn = original_data.to_dict(orient=\"records\")\n",
    "else:\n",
    "    to_learn = data.to_dict(orient=\"records\")\n",
    "\n",
    "\n",
    "def next_card():\n",
    "    global current_card, flip_timer\n",
    "    window.after_cancel(flip_timer)\n",
    "    current_card = random.choice(to_learn)\n",
    "    canvas.itemconfig(card_title, text=\"French\", fill=\"black\")\n",
    "    canvas.itemconfig(card_word, text=current_card[\"French\"], fill=\"black\")\n",
    "    canvas.itemconfig(card_background, image=card_front_img)\n",
    "    flip_timer = window.after(3000, func=flip_card)\n",
    "\n",
    "\n",
    "def flip_card():\n",
    "    canvas.itemconfig(card_title, text=\"English\", fill=\"white\")\n",
    "    canvas.itemconfig(card_word, text=current_card[\"English\"], fill=\"white\")\n",
    "    canvas.itemconfig(card_background, image=card_back_img)\n",
    "\n",
    "\n",
    "def is_known():\n",
    "    to_learn.remove(current_card)\n",
    "    print(len(to_learn))\n",
    "    data = pandas.DataFrame(to_learn)\n",
    "    data.to_csv(\"data/words_to_learn.csv\", index=False)\n",
    "    next_card()\n",
    "\n",
    "\n",
    "window = Tk()\n",
    "window.title(\"Flashy\")\n",
    "window.config(padx=50, pady=50, bg=BACKGROUND_COLOR)\n",
    "\n",
    "flip_timer = window.after(3000, func=flip_card)\n",
    "\n",
    "canvas = Canvas(width=800, height=526)\n",
    "card_front_img = PhotoImage(file=\"images/card_front.png\")\n",
    "card_back_img = PhotoImage(file=\"images/card_back.png\")\n",
    "card_background = canvas.create_image(400, 263, image=card_front_img)\n",
    "card_title = canvas.create_text(400, 150, text=\"\", font=(\"Ariel\", 40, \"italic\"))\n",
    "card_word = canvas.create_text(400, 263, text=\"\", font=(\"Ariel\", 60, \"bold\"))\n",
    "canvas.config(bg=BACKGROUND_COLOR, highlightthickness=0)\n",
    "canvas.grid(row=0, column=0, columnspan=2)\n",
    "\n",
    "cross_image = PhotoImage(file=\"images/wrong.png\")\n",
    "unknown_button = Button(image=cross_image, highlightthickness=0, command=next_card)\n",
    "unknown_button.grid(row=1, column=0)\n",
    "\n",
    "check_image = PhotoImage(file=\"images/right.png\")\n",
    "known_button = Button(image=check_image, highlightthickness=0, command=is_known)\n",
    "known_button.grid(row=1, column=1)\n",
    "\n",
    "next_card()\n",
    "\n",
    "window.mainloop()\n",
    "\n",
    "\n",
    "\n"
   ]
  },
  {
   "cell_type": "code",
   "execution_count": null,
   "id": "2577d57f",
   "metadata": {},
   "outputs": [],
   "source": []
  }
 ],
 "metadata": {
  "hide_input": false,
  "kernelspec": {
   "display_name": "Python 3 (ipykernel)",
   "language": "python",
   "name": "python3"
  },
  "language_info": {
   "codemirror_mode": {
    "name": "ipython",
    "version": 3
   },
   "file_extension": ".py",
   "mimetype": "text/x-python",
   "name": "python",
   "nbconvert_exporter": "python",
   "pygments_lexer": "ipython3",
   "version": "3.9.7"
  },
  "toc": {
   "base_numbering": 1,
   "nav_menu": {},
   "number_sections": false,
   "sideBar": true,
   "skip_h1_title": false,
   "title_cell": "Table of Contents",
   "title_sidebar": "Contents",
   "toc_cell": false,
   "toc_position": {},
   "toc_section_display": true,
   "toc_window_display": false
  },
  "varInspector": {
   "cols": {
    "lenName": 16,
    "lenType": 16,
    "lenVar": 40
   },
   "kernels_config": {
    "python": {
     "delete_cmd_postfix": "",
     "delete_cmd_prefix": "del ",
     "library": "var_list.py",
     "varRefreshCmd": "print(var_dic_list())"
    },
    "r": {
     "delete_cmd_postfix": ") ",
     "delete_cmd_prefix": "rm(",
     "library": "var_list.r",
     "varRefreshCmd": "cat(var_dic_list()) "
    }
   },
   "types_to_exclude": [
    "module",
    "function",
    "builtin_function_or_method",
    "instance",
    "_Feature"
   ],
   "window_display": false
  }
 },
 "nbformat": 4,
 "nbformat_minor": 5
}
