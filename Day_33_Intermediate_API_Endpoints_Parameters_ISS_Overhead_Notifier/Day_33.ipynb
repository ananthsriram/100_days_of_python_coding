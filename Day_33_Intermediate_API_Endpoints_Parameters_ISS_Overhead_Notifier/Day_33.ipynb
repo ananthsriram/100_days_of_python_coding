{
 "cells": [
  {
   "cell_type": "code",
   "execution_count": null,
   "id": "89b34468",
   "metadata": {
    "ExecuteTime": {
     "end_time": "2023-02-13T01:30:31.292446Z",
     "start_time": "2023-02-13T01:30:31.284452Z"
    }
   },
   "outputs": [],
   "source": [
    "from IPython.display import HTML\n",
    "display(HTML(\"<style>.container { width:100% !important; }</style>\"))"
   ]
  },
  {
   "cell_type": "code",
   "execution_count": null,
   "id": "e16c4f6c",
   "metadata": {
    "ExecuteTime": {
     "end_time": "2023-02-13T01:30:32.332889Z",
     "start_time": "2023-02-13T01:30:31.712676Z"
    }
   },
   "outputs": [],
   "source": [
    "import requests\n",
    "\n",
    "response = requests.get(url=\"http://api.open-notify.org/iss-now.json\")\n",
    "print(response)"
   ]
  },
  {
   "cell_type": "code",
   "execution_count": null,
   "id": "4e6b8d0c",
   "metadata": {
    "ExecuteTime": {
     "end_time": "2023-02-13T01:30:33.210554Z",
     "start_time": "2023-02-13T01:30:32.972485Z"
    }
   },
   "outputs": [],
   "source": [
    "import requests\n",
    "\n",
    "response = requests.get(url=\"http://api.open-notify.org/iss-now.json\")\n",
    "response.raise_for_status()\n",
    "#if response.status_code == 404:\n",
    "#    raise Exception(\"That resource does not exist\")\n",
    "#elif response.status_code == 401:\n",
    "#    raise Exception(\"You are not authorised to access this code\")\n",
    "#else:\n",
    "#    print(\"Ok\")\n",
    "\n",
    "data = response.json()\n",
    "longitude = data['iss_position']['longitude']\n",
    "latitude = data['iss_position']['latitude']\n",
    "iss_position = (longitude, latitude)\n",
    "print (iss_position)"
   ]
  },
  {
   "cell_type": "code",
   "execution_count": null,
   "id": "7ecdddbd",
   "metadata": {
    "ExecuteTime": {
     "end_time": "2023-02-13T01:30:17.023014Z",
     "start_time": "2023-02-13T01:30:08.223109Z"
    }
   },
   "outputs": [],
   "source": [
    "## Kanye Quotes App\n",
    "\n",
    "from tkinter import *\n",
    "import requests\n",
    "\n",
    "\n",
    "def get_quote():\n",
    "    response = requests.get(\"https://api.kanye.rest\")\n",
    "    response.raise_for_status()\n",
    "    data = response.json()\n",
    "    quote = data[\"quote\"]\n",
    "    canvas.itemconfig(quote_text, text=quote)\n",
    "\n",
    "\n",
    "window = Tk()\n",
    "window.title(\"Kanye Says...\")\n",
    "window.config(padx=50, pady=50)\n",
    "\n",
    "canvas = Canvas(width=300, height=414)\n",
    "background_img = PhotoImage(file=\"background.png\")\n",
    "canvas.create_image(150, 207, image=background_img)\n",
    "quote_text = canvas.create_text(150, 207, text=\"Kanye Quote Goes HERE\", width=250, font=(\"Arial\", 30, \"bold\"), fill=\"white\")\n",
    "canvas.grid(row=0, column=0)\n",
    "\n",
    "kanye_img = PhotoImage(file=\"kanye.png\")\n",
    "kanye_button = Button(image=kanye_img, highlightthickness=0, command=get_quote)\n",
    "kanye_button.grid(row=1, column=0)\n",
    "\n",
    "\n",
    "\n",
    "window.mainloop()"
   ]
  },
  {
   "cell_type": "code",
   "execution_count": null,
   "id": "75a23786",
   "metadata": {
    "ExecuteTime": {
     "end_time": "2023-02-13T01:41:26.740926Z",
     "start_time": "2023-02-13T01:41:25.751797Z"
    }
   },
   "outputs": [],
   "source": [
    "## Match Sunset times with Current Time\n",
    "\n",
    "import requests\n",
    "from datetime import datetime\n",
    "MY_LAT = 17.385044\n",
    "MY_LNG = 78.486671\n",
    "\n",
    "parameters = {\n",
    "    \"lat\": MY_LAT,\n",
    "    \"lng\": MY_LNG,\n",
    "    \"formatted\" : 0\n",
    "}\n",
    "response = requests.get(\"https://api.sunrise-sunset.org/json\",params=parameters)\n",
    "response.raise_for_status()\n",
    "\n",
    "data = response.json()\n",
    "sunrise = data['results']['sunrise']\n",
    "sunset = data['results']['sunset']\n",
    "\n",
    "\n",
    "\n",
    "print (f\"Sunrise Time : {sunrise.split('T')[1].split(':')[0]}\")\n",
    "print (f\"Senset Time : {sunset.split('T')[1].split(':')[0]}\")\n",
    "\n",
    "time_now = datetime.now()\n",
    "print (time_now.hour)"
   ]
  },
  {
   "cell_type": "code",
   "execution_count": null,
   "id": "217d3c41",
   "metadata": {
    "ExecuteTime": {
     "end_time": "2023-02-13T01:44:59.325184Z",
     "start_time": "2023-02-13T01:44:44.618360Z"
    }
   },
   "outputs": [],
   "source": [
    "## ISS Overhead Notifier Project\n",
    "\n",
    "import requests\n",
    "from datetime import datetime\n",
    "import smtplib\n",
    "import time\n",
    "\n",
    "MY_EMAIL = \"___YOUR_EMAIL_HERE____\"\n",
    "MY_PASSWORD = \"___YOUR_PASSWORD_HERE___\"\n",
    "MY_LAT = 17.385044 # Your latitude\n",
    "MY_LONG = 78.486671 # Your longitude\n",
    "\n",
    "\n",
    "def is_iss_overhead():\n",
    "    response = requests.get(url=\"http://api.open-notify.org/iss-now.json\")\n",
    "    response.raise_for_status()\n",
    "    data = response.json()\n",
    "\n",
    "    iss_latitude = float(data[\"iss_position\"][\"latitude\"])\n",
    "    iss_longitude = float(data[\"iss_position\"][\"longitude\"])\n",
    "\n",
    "    #Your position is within +5 or -5 degrees of the iss position.\n",
    "    if MY_LAT-5 <= iss_latitude <= MY_LAT+5 and MY_LONG-5 <= iss_longitude <= MY_LONG+5:\n",
    "        return True\n",
    "\n",
    "\n",
    "def is_night():\n",
    "    parameters = {\n",
    "        \"lat\": MY_LAT,\n",
    "        \"lng\": MY_LONG,\n",
    "        \"formatted\": 0,\n",
    "    }\n",
    "    response = requests.get(\"https://api.sunrise-sunset.org/json\", params=parameters)\n",
    "    response.raise_for_status()\n",
    "    data = response.json()\n",
    "    sunrise = int(data[\"results\"][\"sunrise\"].split(\"T\")[1].split(\":\")[0])\n",
    "    sunset = int(data[\"results\"][\"sunset\"].split(\"T\")[1].split(\":\")[0])\n",
    "\n",
    "    time_now = datetime.now().hour\n",
    "\n",
    "    if time_now >= sunset or time_now <= sunrise:\n",
    "        return True\n",
    "\n",
    "\n",
    "while True:\n",
    "    time.sleep(60)\n",
    "    if is_iss_overhead() and is_night():\n",
    "        connection = smtplib.SMTP(\"__YOUR_SMTP_ADDRESS_HERE___\")\n",
    "        connection.starttls()\n",
    "        connection.login(MY_EMAIL, MY_PASSWORD)\n",
    "        connection.sendmail(\n",
    "            from_addr=MY_EMAIL,\n",
    "            to_addrs=MY_EMAIL,\n",
    "            msg=\"Subject:Look Up👆\\n\\nThe ISS is above you in the sky.\"\n",
    "        )\n",
    "\n",
    "\n"
   ]
  },
  {
   "cell_type": "code",
   "execution_count": null,
   "id": "b138fa07",
   "metadata": {},
   "outputs": [],
   "source": []
  },
  {
   "cell_type": "code",
   "execution_count": null,
   "id": "d24e1af6",
   "metadata": {},
   "outputs": [],
   "source": []
  }
 ],
 "metadata": {
  "hide_input": false,
  "kernelspec": {
   "display_name": "Python 3 (ipykernel)",
   "language": "python",
   "name": "python3"
  },
  "language_info": {
   "codemirror_mode": {
    "name": "ipython",
    "version": 3
   },
   "file_extension": ".py",
   "mimetype": "text/x-python",
   "name": "python",
   "nbconvert_exporter": "python",
   "pygments_lexer": "ipython3",
   "version": "3.9.7"
  },
  "toc": {
   "base_numbering": 1,
   "nav_menu": {},
   "number_sections": false,
   "sideBar": true,
   "skip_h1_title": false,
   "title_cell": "Table of Contents",
   "title_sidebar": "Contents",
   "toc_cell": false,
   "toc_position": {},
   "toc_section_display": true,
   "toc_window_display": false
  },
  "varInspector": {
   "cols": {
    "lenName": 16,
    "lenType": 16,
    "lenVar": 40
   },
   "kernels_config": {
    "python": {
     "delete_cmd_postfix": "",
     "delete_cmd_prefix": "del ",
     "library": "var_list.py",
     "varRefreshCmd": "print(var_dic_list())"
    },
    "r": {
     "delete_cmd_postfix": ") ",
     "delete_cmd_prefix": "rm(",
     "library": "var_list.r",
     "varRefreshCmd": "cat(var_dic_list()) "
    }
   },
   "types_to_exclude": [
    "module",
    "function",
    "builtin_function_or_method",
    "instance",
    "_Feature"
   ],
   "window_display": false
  }
 },
 "nbformat": 4,
 "nbformat_minor": 5
}
