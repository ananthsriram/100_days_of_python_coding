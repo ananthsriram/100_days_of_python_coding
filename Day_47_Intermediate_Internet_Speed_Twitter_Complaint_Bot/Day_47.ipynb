{
 "cells": [
  {
   "cell_type": "code",
   "execution_count": 1,
   "id": "7b17fd11",
   "metadata": {
    "ExecuteTime": {
     "end_time": "2023-02-20T01:44:29.773396Z",
     "start_time": "2023-02-20T01:44:29.766148Z"
    }
   },
   "outputs": [
    {
     "data": {
      "text/html": [
       "<style>.container { width:100% !important; }</style>"
      ],
      "text/plain": [
       "<IPython.core.display.HTML object>"
      ]
     },
     "metadata": {},
     "output_type": "display_data"
    }
   ],
   "source": [
    "from IPython.display import HTML\n",
    "import warnings\n",
    "warnings.filterwarnings('ignore')\n",
    "display(HTML(\"<style>.container { width:100% !important; }</style>\"))"
   ]
  },
  {
   "cell_type": "code",
   "execution_count": 11,
   "id": "a5b41000",
   "metadata": {
    "ExecuteTime": {
     "end_time": "2023-02-20T02:08:41.766211Z",
     "start_time": "2023-02-20T02:07:16.566432Z"
    }
   },
   "outputs": [
    {
     "name": "stdout",
     "output_type": "stream",
     "text": [
      "Hey, my internet speed is : 16.05 Download Mbps  and 75.00 Upload Mbps\n"
     ]
    }
   ],
   "source": [
    "from selenium import webdriver\n",
    "from selenium.webdriver.common.keys import Keys\n",
    "import time\n",
    "\n",
    "PROMISED_DOWN = 150\n",
    "PROMISED_UP = 10\n",
    "TWITTER_EMAIL = \"YOUR TWITTER EMAIL\"\n",
    "TWITTER_PASSWORD = \"YOUR TWITTER PASSWORD\"\n",
    "\n",
    "\n",
    "class InternetSpeedTwitterBot:\n",
    "    def __init__(self):\n",
    "        self.driver = webdriver.Chrome()\n",
    "        self.up = 0\n",
    "        self.down = 0\n",
    "\n",
    "    def get_internet_speed(self):\n",
    "        self.driver.get(\"https://www.speedtest.net/\")\n",
    "        # accept_button = self.driver.find_element_by_id(\"_evidon-banner-acceptbutton\")\n",
    "        # accept_button.click()\n",
    "        # time.sleep(3)\n",
    "\n",
    "        go_button = self.driver.find_element_by_css_selector(\".start-button a\")\n",
    "        go_button.click()\n",
    "        time.sleep(60)\n",
    "        self.up = self.driver.find_element_by_xpath('//*[@id=\"container\"]/div/div[3]/div/div/div/div[2]/div[3]/div[3]/div/div[3]/div/div/div[2]/div[1]/div[2]/div/div[2]/span').text\n",
    "        self.down = self.driver.find_element_by_xpath('//*[@id=\"container\"]/div/div[3]/div/div/div/div[2]/div[3]/div[3]/div/div[3]/div/div/div[2]/div[1]/div[1]/div/div[2]/span').text\n",
    "        print (f\"Hey, my internet speed is : {self.down} Download Mbps  and {self.up} Upload Mbps\")\n",
    "        self.driver.quit()\n",
    "\n",
    "    def tweet_at_provider(self):\n",
    "        self.driver.get(\"https://twitter.com/login\")\n",
    "        time.sleep(2)\n",
    "        email = self.driver.find_element_by_xpath('//*[@id=\"react-root\"]/div/div/div[2]/main/div/div/div[1]/form/div/div[1]/label/div/div[2]/div/input')\n",
    "        password = self.driver.find_element_by_xpath('//*[@id=\"react-root\"]/div/div/div[2]/main/div/div/div[1]/form/div/div[2]/label/div/div[2]/div/input')\n",
    "        email.send_keys(TWITTER_EMAIL)\n",
    "        password.send_keys(TWITTER_PASSWORD)\n",
    "        time.sleep(2)\n",
    "        password.send_keys(Keys.ENTER)\n",
    "        time.sleep(5)\n",
    "        tweet_compose = self.driver.find_element_by_xpath('//*[@id=\"react-root\"]/div/div/div[2]/main/div/div/div/div/div/div[2]/div/div[2]/div[1]/div/div/div/div[2]/div[1]/div/div/div/div/div/div/div/div/div/div[1]/div/div/div/div[2]/div/div/div/div')\n",
    "        tweet = f\"Hey Internet Provider, why is my internet speed {self.down}down/{self.up}up when I pay for {PROMISED_DOWN}down/{PROMISED_UP}up?\"\n",
    "        tweet_compose.send_keys(tweet)\n",
    "        time.sleep(3)\n",
    "        tweet_button = self.driver.find_element_by_xpath('//*[@id=\"react-root\"]/div/div/div[2]/main/div/div/div/div/div/div[2]/div/div[2]/div[1]/div/div/div/div[2]/div[4]/div/div/div[2]/div[3]')\n",
    "        tweet_button.click()\n",
    "        time.sleep(2)\n",
    "        self.driver.quit()\n",
    "\n",
    "\n",
    "bot = InternetSpeedTwitterBot()\n",
    "bot.get_internet_speed()\n",
    "#bot.tweet_at_provider()\n"
   ]
  },
  {
   "cell_type": "code",
   "execution_count": null,
   "id": "f675beab",
   "metadata": {},
   "outputs": [],
   "source": []
  }
 ],
 "metadata": {
  "hide_input": false,
  "kernelspec": {
   "display_name": "Python 3 (ipykernel)",
   "language": "python",
   "name": "python3"
  },
  "language_info": {
   "codemirror_mode": {
    "name": "ipython",
    "version": 3
   },
   "file_extension": ".py",
   "mimetype": "text/x-python",
   "name": "python",
   "nbconvert_exporter": "python",
   "pygments_lexer": "ipython3",
   "version": "3.9.7"
  },
  "toc": {
   "base_numbering": 1,
   "nav_menu": {},
   "number_sections": false,
   "sideBar": true,
   "skip_h1_title": false,
   "title_cell": "Table of Contents",
   "title_sidebar": "Contents",
   "toc_cell": false,
   "toc_position": {},
   "toc_section_display": true,
   "toc_window_display": false
  },
  "varInspector": {
   "cols": {
    "lenName": 16,
    "lenType": 16,
    "lenVar": 40
   },
   "kernels_config": {
    "python": {
     "delete_cmd_postfix": "",
     "delete_cmd_prefix": "del ",
     "library": "var_list.py",
     "varRefreshCmd": "print(var_dic_list())"
    },
    "r": {
     "delete_cmd_postfix": ") ",
     "delete_cmd_prefix": "rm(",
     "library": "var_list.r",
     "varRefreshCmd": "cat(var_dic_list()) "
    }
   },
   "types_to_exclude": [
    "module",
    "function",
    "builtin_function_or_method",
    "instance",
    "_Feature"
   ],
   "window_display": false
  }
 },
 "nbformat": 4,
 "nbformat_minor": 5
}
