{
 "cells": [
  {
   "cell_type": "code",
   "execution_count": 2,
   "id": "09a9faa6",
   "metadata": {
    "ExecuteTime": {
     "end_time": "2023-02-20T13:20:52.160915Z",
     "start_time": "2023-02-20T13:20:52.157422Z"
    }
   },
   "outputs": [
    {
     "data": {
      "text/html": [
       "<style>.container { width:100% !important; }</style>"
      ],
      "text/plain": [
       "<IPython.core.display.HTML object>"
      ]
     },
     "metadata": {},
     "output_type": "display_data"
    }
   ],
   "source": [
    "from IPython.display import HTML\n",
    "import warnings\n",
    "warnings.filterwarnings('ignore')\n",
    "display(HTML(\"<style>.container { width:100% !important; }</style>\"))"
   ]
  },
  {
   "cell_type": "code",
   "execution_count": null,
   "id": "750d0e73",
   "metadata": {},
   "outputs": [],
   "source": [
    "from selenium import webdriver\n",
    "from selenium.webdriver.common.keys import Keys\n",
    "from selenium.common.exceptions import ElementClickInterceptedException\n",
    "import time\n",
    "\n",
    "\n",
    "SIMILAR_ACCOUNT = \"buzzfeedtasty\"\n",
    "USERNAME = \"YOUR INSTAGRAM USERNAME\"\n",
    "PASSWORD = \"YOUR INSTAGRAM PASSWORD\"\n",
    "\n",
    "\n",
    "class InstaFollower:\n",
    "\n",
    "    def __init__(self):\n",
    "        self.driver = webdriver.Chrome()\n",
    "\n",
    "    def login(self):\n",
    "        self.driver.get(\"https://www.instagram.com/accounts/login/\")\n",
    "        time.sleep(5)\n",
    "\n",
    "        username = self.driver.find_element_by_name(\"username\")\n",
    "        password = self.driver.find_element_by_name(\"password\")\n",
    "\n",
    "        username.send_keys(USERNAME)\n",
    "        password.send_keys(PASSWORD)\n",
    "\n",
    "        time.sleep(2)\n",
    "        password.send_keys(Keys.ENTER)\n",
    "\n",
    "    def find_followers(self):\n",
    "        time.sleep(5)\n",
    "        self.driver.get(f\"https://www.instagram.com/{SIMILAR_ACCOUNT}\")\n",
    "\n",
    "        time.sleep(2)\n",
    "        followers = self.driver.find_element_by_xpath('//*[@id=\"react-root\"]/section/main/div/header/section/ul/li[2]/a')\n",
    "        followers.click()\n",
    "\n",
    "        time.sleep(2)\n",
    "        modal = self.driver.find_element_by_xpath('/html/body/div[4]/div/div/div[2]')\n",
    "        for i in range(10):\n",
    "            self.driver.execute_script(\"arguments[0].scrollTop = arguments[0].scrollHeight\", modal)\n",
    "            time.sleep(2)\n",
    "\n",
    "    def follow(self):\n",
    "        all_buttons = self.driver.find_elements_by_css_selector(\"li button\")\n",
    "        for button in all_buttons:\n",
    "            try:\n",
    "                button.click()\n",
    "                time.sleep(1)\n",
    "            except ElementClickInterceptedException:\n",
    "                cancel_button = self.driver.find_element_by_xpath('/html/body/div[5]/div/div/div/div[3]/button[2]')\n",
    "                cancel_button.click()\n",
    "\n",
    "\n",
    "bot = InstaFollower()\n",
    "bot.login()\n",
    "bot.find_followers()\n",
    "bot.follow()\n"
   ]
  }
 ],
 "metadata": {
  "hide_input": false,
  "kernelspec": {
   "display_name": "Python 3 (ipykernel)",
   "language": "python",
   "name": "python3"
  },
  "language_info": {
   "codemirror_mode": {
    "name": "ipython",
    "version": 3
   },
   "file_extension": ".py",
   "mimetype": "text/x-python",
   "name": "python",
   "nbconvert_exporter": "python",
   "pygments_lexer": "ipython3",
   "version": "3.9.7"
  },
  "toc": {
   "base_numbering": 1,
   "nav_menu": {},
   "number_sections": false,
   "sideBar": true,
   "skip_h1_title": false,
   "title_cell": "Table of Contents",
   "title_sidebar": "Contents",
   "toc_cell": false,
   "toc_position": {},
   "toc_section_display": true,
   "toc_window_display": false
  },
  "varInspector": {
   "cols": {
    "lenName": 16,
    "lenType": 16,
    "lenVar": 40
   },
   "kernels_config": {
    "python": {
     "delete_cmd_postfix": "",
     "delete_cmd_prefix": "del ",
     "library": "var_list.py",
     "varRefreshCmd": "print(var_dic_list())"
    },
    "r": {
     "delete_cmd_postfix": ") ",
     "delete_cmd_prefix": "rm(",
     "library": "var_list.r",
     "varRefreshCmd": "cat(var_dic_list()) "
    }
   },
   "types_to_exclude": [
    "module",
    "function",
    "builtin_function_or_method",
    "instance",
    "_Feature"
   ],
   "window_display": false
  }
 },
 "nbformat": 4,
 "nbformat_minor": 5
}
