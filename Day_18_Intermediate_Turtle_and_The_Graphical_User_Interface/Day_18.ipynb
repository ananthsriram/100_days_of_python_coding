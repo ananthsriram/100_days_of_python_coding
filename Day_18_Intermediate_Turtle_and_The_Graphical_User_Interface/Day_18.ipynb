{
 "cells": [
  {
   "cell_type": "code",
   "execution_count": null,
   "id": "cf9fbce2",
   "metadata": {
    "ExecuteTime": {
     "end_time": "2023-02-07T01:37:34.143987Z",
     "start_time": "2023-02-07T01:37:34.137164Z"
    }
   },
   "outputs": [],
   "source": [
    "from IPython.display import HTML\n",
    "display(HTML(\"<style>.container { width:100% !important; }</style>\"))"
   ]
  },
  {
   "cell_type": "code",
   "execution_count": null,
   "id": "9fd916a3",
   "metadata": {
    "ExecuteTime": {
     "start_time": "2023-02-07T00:38:33.906Z"
    }
   },
   "outputs": [],
   "source": [
    "######## Draw a square challenge\n",
    "\n",
    "from turtle import Turtle,Screen\n",
    "\n",
    "timmy_the_turtle = Turtle()\n",
    "timmy_the_turtle.shape('turtle')\n",
    "timmy_the_turtle.color('red')\n",
    "\n",
    "for i in range(0,4):\n",
    "    timmy_the_turtle.forward(100)\n",
    "    timmy_the_turtle.right(90)\n",
    "\n",
    "screen = Screen()\n",
    "screen.exitonclick()\n"
   ]
  },
  {
   "cell_type": "code",
   "execution_count": null,
   "id": "34b92b4c",
   "metadata": {
    "ExecuteTime": {
     "end_time": "2023-02-07T00:39:22.575797Z",
     "start_time": "2023-02-07T00:39:14.871778Z"
    }
   },
   "outputs": [],
   "source": [
    "##### Draw a Dashed line challenge\n",
    "\n",
    "from turtle import Turtle,Screen\n",
    "\n",
    "timmy_the_turtle = Turtle()\n",
    "timmy_the_turtle.shape('turtle')\n",
    "timmy_the_turtle.color('red')\n",
    "\n",
    "for i in range(0,50):\n",
    "    timmy_the_turtle.forward(5)\n",
    "    timmy_the_turtle.penup()\n",
    "    timmy_the_turtle.forward(5)\n",
    "    timmy_the_turtle.pendown()\n",
    "\n",
    "screen = Screen()\n",
    "screen.exitonclick()    "
   ]
  },
  {
   "cell_type": "code",
   "execution_count": null,
   "id": "47d9a517",
   "metadata": {
    "ExecuteTime": {
     "end_time": "2023-02-07T00:51:21.888347Z",
     "start_time": "2023-02-07T00:51:06.015425Z"
    }
   },
   "outputs": [],
   "source": [
    "##### Draw Different Shapes challenge\n",
    "\n",
    "from turtle import Turtle,Screen\n",
    "import random\n",
    "\n",
    "timmy_the_turtle = Turtle()\n",
    "timmy_the_turtle.shape('turtle')\n",
    "timmy_the_turtle.color('red')\n",
    "\n",
    "colours = [\"RoyalBlue\", \"DarkGreen\", \"OliveDrab\", \"Wheat\", \"Violet\", \"Indigo\", \"OrangeRed\", \"SkyBlue\"]\n",
    "for sides in range(3,11):\n",
    "    timmy_the_turtle.color(random.choice(colours))\n",
    "    angle = 360/sides\n",
    "    for _ in range(sides):\n",
    "        timmy_the_turtle.forward(100)\n",
    "        timmy_the_turtle.right(angle)\n",
    "\n",
    "\n",
    "screen = Screen()\n",
    "screen.exitonclick()    "
   ]
  },
  {
   "cell_type": "code",
   "execution_count": null,
   "id": "be181794",
   "metadata": {
    "ExecuteTime": {
     "start_time": "2023-02-07T01:03:43.711Z"
    }
   },
   "outputs": [],
   "source": [
    "##### Draw Random Walk challenge\n",
    "\n",
    "from turtle import Turtle,Screen\n",
    "import random\n",
    "\n",
    "timmy_the_turtle = Turtle()\n",
    "timmy_the_turtle.shape('turtle')\n",
    "timmy_the_turtle.color('red')\n",
    "timmy_the_turtle.pensize(15)\n",
    "timmy_the_turtle.speed('fast')\n",
    "\n",
    "colours = [\"RoyalBlue\", \"DarkGreen\", \"OliveDrab\", \"Wheat\", \"Violet\", \"Indigo\", \"OrangeRed\", \"SkyBlue\"]\n",
    "directions_angle = [90, 180, 270, 360]\n",
    "\n",
    "for i in range(200):\n",
    "    timmy_the_turtle.color(random.choice(colours))\n",
    "    timmy_the_turtle.forward(30)\n",
    "    timmy_the_turtle.setheading(random.choice(directions_angle))\n",
    "\n",
    "\n",
    "screen = Screen()\n",
    "screen.exitonclick()    \n"
   ]
  },
  {
   "cell_type": "code",
   "execution_count": null,
   "id": "1d414ec1",
   "metadata": {
    "ExecuteTime": {
     "end_time": "2023-02-07T01:21:33.604377Z",
     "start_time": "2023-02-07T01:21:09.167040Z"
    }
   },
   "outputs": [],
   "source": [
    "##### Generate Random RGB Colors challenge\n",
    "\n",
    "from turtle import Turtle,Screen\n",
    "import random\n",
    "\n",
    "timmy_the_turtle = Turtle()\n",
    "timmy_the_turtle.shape('turtle')\n",
    "timmy_the_turtle.color('red')\n",
    "screen = Screen()\n",
    "screen.colormode(255)\n",
    "screen.colormode()\n",
    "#timmy_the_turtle.colormode(255) --> this doesn't work as shown in the video\n",
    "timmy_the_turtle.speed('fast')\n",
    "\n",
    "def random_color():\n",
    "    r = random.randint(0,255)\n",
    "    g = random.randint(0,255)\n",
    "    b = random.randint(0,255)\n",
    "    color_chosen = (r, g, b)\n",
    "    return color_chosen\n",
    "\n",
    "\n",
    "directions_angle = [90, 180, 270, 360]\n",
    "\n",
    "for i in range(200):\n",
    "    timmy_the_turtle.color(random_color())\n",
    "    timmy_the_turtle.forward(30)\n",
    "    timmy_the_turtle.setheading(random.choice(directions_angle))\n",
    "\n",
    "\n",
    "\n",
    "screen.exitonclick()    \n"
   ]
  },
  {
   "cell_type": "code",
   "execution_count": null,
   "id": "2aefe933",
   "metadata": {
    "ExecuteTime": {
     "end_time": "2023-02-07T01:36:06.367636Z",
     "start_time": "2023-02-07T01:35:59.214673Z"
    }
   },
   "outputs": [],
   "source": [
    "##### Draw a Spirograph challenge\n",
    "\n",
    "from turtle import Turtle,Screen\n",
    "import random\n",
    "\n",
    "timmy_the_turtle = Turtle()\n",
    "timmy_the_turtle.shape('turtle')\n",
    "timmy_the_turtle.color('red')\n",
    "screen = Screen()\n",
    "screen.colormode(255)\n",
    "screen.colormode()\n",
    "timmy_the_turtle.speed('fastest')\n",
    "\n",
    "def random_color():\n",
    "    r = random.randint(0,255)\n",
    "    g = random.randint(0,255)\n",
    "    b = random.randint(0,255)\n",
    "    color_chosen = (r, g, b)\n",
    "    return color_chosen\n",
    "\n",
    "gap_size = 5\n",
    "for i in range(int(360 / gap_size)):\n",
    "    timmy_the_turtle.color(random_color())\n",
    "    timmy_the_turtle.circle(100)\n",
    "    timmy_the_turtle.setheading(timmy_the_turtle.heading() + gap_size )\n",
    "\n",
    "\n",
    "\n",
    "screen.exitonclick()    \n"
   ]
  },
  {
   "cell_type": "code",
   "execution_count": null,
   "id": "c6c79f13",
   "metadata": {
    "ExecuteTime": {
     "end_time": "2023-02-07T01:57:21.910461Z",
     "start_time": "2023-02-07T01:57:21.833235Z"
    }
   },
   "outputs": [],
   "source": [
    "##### Extract RGB Values from Image challenge\n",
    "\n",
    "import colorgram\n",
    "\n",
    "# Extract 30 colors from an image.\n",
    "colors_list = []\n",
    "colors = colorgram.extract('/Users/achitturu/Downloads/colors.jpeg', 30)\n",
    "for color in colors:\n",
    "    #colors_list.append(color.rgb)\n",
    "    r = color.rgb.r\n",
    "    g = color.rgb.g\n",
    "    b = color.rgb.b\n",
    "    colors_list.append((r,g,b))\n",
    "print (colors_list)    "
   ]
  },
  {
   "cell_type": "code",
   "execution_count": null,
   "id": "c5a27cfe",
   "metadata": {
    "ExecuteTime": {
     "end_time": "2023-02-07T02:11:57.649436Z",
     "start_time": "2023-02-07T02:11:48.183406Z"
    }
   },
   "outputs": [],
   "source": [
    "##### Drawing the DOTS Project\n",
    "from turtle import Turtle,Screen\n",
    "import random\n",
    "\n",
    "timmy_the_turtle = Turtle()\n",
    "timmy_the_turtle.shape('turtle')\n",
    "timmy_the_turtle.color('red')\n",
    "screen = Screen()\n",
    "screen.colormode(255)\n",
    "screen.colormode()\n",
    "timmy_the_turtle.speed('fastest')\n",
    "timmy_the_turtle.penup()\n",
    "timmy_the_turtle.hideturtle()\n",
    "\n",
    "colors_list = [(247, 242, 233), (236, 242, 248), (249, 240, 244), (238, 248, 243), (138, 168, 196), (208, 154, 119), (195, 139, 150), (24, 36, 57), (56, 105, 141), (144, 179, 162), (151, 69, 56), (140, 67, 76), (230, 213, 104), (48, 36, 42), (150, 27, 36), (27, 53, 47), (53, 109, 89), (229, 166, 173), (192, 97, 106), (48, 40, 36), (198, 88, 76), (144, 31, 25), (230, 171, 163), (19, 93, 69), (176, 188, 214), (110, 123, 158), (27, 62, 110), (170, 203, 190), (45, 152, 197), (165, 201, 212)]\n",
    "timmy_the_turtle.setheading(225)\n",
    "timmy_the_turtle.forward(300)\n",
    "timmy_the_turtle.setheading(0)\n",
    "\n",
    "num_dots = 100\n",
    "for dot_count in range(1,num_dots+1):\n",
    "    timmy_the_turtle.dot(20, random.choice(colors_list))\n",
    "    timmy_the_turtle.forward(50)\n",
    "\n",
    "    if dot_count % 10 == 0:\n",
    "        timmy_the_turtle.setheading(90)\n",
    "        timmy_the_turtle.forward(50)\n",
    "        timmy_the_turtle.setheading(180)\n",
    "        timmy_the_turtle.forward(500)\n",
    "        timmy_the_turtle.setheading(0)\n",
    "\n",
    "\n",
    "\n"
   ]
  },
  {
   "cell_type": "code",
   "execution_count": null,
   "id": "05de5191",
   "metadata": {},
   "outputs": [],
   "source": []
  }
 ],
 "metadata": {
  "hide_input": false,
  "kernelspec": {
   "display_name": "Python 3 (ipykernel)",
   "language": "python",
   "name": "python3"
  },
  "language_info": {
   "codemirror_mode": {
    "name": "ipython",
    "version": 3
   },
   "file_extension": ".py",
   "mimetype": "text/x-python",
   "name": "python",
   "nbconvert_exporter": "python",
   "pygments_lexer": "ipython3",
   "version": "3.9.7"
  },
  "toc": {
   "base_numbering": 1,
   "nav_menu": {},
   "number_sections": false,
   "sideBar": true,
   "skip_h1_title": false,
   "title_cell": "Table of Contents",
   "title_sidebar": "Contents",
   "toc_cell": false,
   "toc_position": {},
   "toc_section_display": true,
   "toc_window_display": false
  },
  "varInspector": {
   "cols": {
    "lenName": 16,
    "lenType": 16,
    "lenVar": 40
   },
   "kernels_config": {
    "python": {
     "delete_cmd_postfix": "",
     "delete_cmd_prefix": "del ",
     "library": "var_list.py",
     "varRefreshCmd": "print(var_dic_list())"
    },
    "r": {
     "delete_cmd_postfix": ") ",
     "delete_cmd_prefix": "rm(",
     "library": "var_list.r",
     "varRefreshCmd": "cat(var_dic_list()) "
    }
   },
   "types_to_exclude": [
    "module",
    "function",
    "builtin_function_or_method",
    "instance",
    "_Feature"
   ],
   "window_display": false
  }
 },
 "nbformat": 4,
 "nbformat_minor": 5
}
