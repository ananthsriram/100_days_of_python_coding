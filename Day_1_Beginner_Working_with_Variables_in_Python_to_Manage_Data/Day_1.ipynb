{
 "cells": [
  {
   "cell_type": "code",
   "execution_count": 1,
   "id": "36a246ea",
   "metadata": {},
   "outputs": [
    {
     "name": "stdout",
     "output_type": "stream",
     "text": [
      "Hello Ananth\n"
     ]
    }
   ],
   "source": [
    "print(\"Hello Ananth\")"
   ]
  },
  {
   "cell_type": "code",
   "execution_count": 2,
   "id": "e6a1c51e",
   "metadata": {},
   "outputs": [
    {
     "name": "stdout",
     "output_type": "stream",
     "text": [
      "Hello Ananth\n"
     ]
    }
   ],
   "source": [
    "print ('Hello'+' Ananth')"
   ]
  },
  {
   "cell_type": "code",
   "execution_count": 3,
   "id": "065bacaf",
   "metadata": {},
   "outputs": [
    {
     "name": "stdout",
     "output_type": "stream",
     "text": [
      "Hello Ananth\n"
     ]
    }
   ],
   "source": [
    "print ('Hello'+' '+'Ananth')"
   ]
  },
  {
   "cell_type": "code",
   "execution_count": 4,
   "id": "1dd8ecdb",
   "metadata": {},
   "outputs": [
    {
     "name": "stdout",
     "output_type": "stream",
     "text": [
      "Hello Ananth\n"
     ]
    }
   ],
   "source": [
    "print ('Hello '+'Ananth')"
   ]
  },
  {
   "cell_type": "code",
   "execution_count": 5,
   "id": "5d16eada",
   "metadata": {},
   "outputs": [
    {
     "name": "stdout",
     "output_type": "stream",
     "text": [
      "What is your name? Ananth\n",
      "Hello Ananth\n"
     ]
    }
   ],
   "source": [
    "print ('Hello '+input('What is your name? '))"
   ]
  },
  {
   "cell_type": "code",
   "execution_count": 6,
   "id": "71caedb5",
   "metadata": {},
   "outputs": [
    {
     "name": "stdout",
     "output_type": "stream",
     "text": [
      "What is your name?Ananth\n",
      "6\n"
     ]
    }
   ],
   "source": [
    "name = input('What is your name?')\n",
    "print (len(name))"
   ]
  },
  {
   "cell_type": "code",
   "execution_count": 9,
   "id": "0f7416b8",
   "metadata": {},
   "outputs": [
    {
     "name": "stdout",
     "output_type": "stream",
     "text": [
      "a : 1\n",
      "b : 2\n",
      "a = 2\n",
      "b = 1\n"
     ]
    }
   ],
   "source": [
    "# Swap values \n",
    "a = input('a : ')\n",
    "b = input('b : ')\n",
    "\n",
    "\n",
    "temp = a\n",
    "a=b\n",
    "b=temp\n",
    "\n",
    "print ('a = ' + a)\n",
    "print ('b = ' + b)"
   ]
  },
  {
   "cell_type": "code",
   "execution_count": 10,
   "id": "33ab20a9",
   "metadata": {},
   "outputs": [
    {
     "name": "stdout",
     "output_type": "stream",
     "text": [
      "Welcome to the Band Name Generator.\n",
      "What's name of the city you grew up in? Tanuku\n",
      "What's your pet's name? Hachiko\n",
      "Your band name could be Tanuku Hachiko\n"
     ]
    }
   ],
   "source": [
    "##### Band Name Generator #######\n",
    "print ('Welcome to the Band Name Generator.')\n",
    "city = input(\"What's name of the city you grew up in? \")\n",
    "pet = input(\"What's your pet's name? \")\n",
    "print ('Your band name could be '+city+' '+pet)"
   ]
  },
  {
   "cell_type": "code",
   "execution_count": null,
   "id": "56b13c5a",
   "metadata": {},
   "outputs": [],
   "source": []
  }
 ],
 "metadata": {
  "kernelspec": {
   "display_name": "Python 3 (ipykernel)",
   "language": "python",
   "name": "python3"
  },
  "language_info": {
   "codemirror_mode": {
    "name": "ipython",
    "version": 3
   },
   "file_extension": ".py",
   "mimetype": "text/x-python",
   "name": "python",
   "nbconvert_exporter": "python",
   "pygments_lexer": "ipython3",
   "version": "3.9.13"
  }
 },
 "nbformat": 4,
 "nbformat_minor": 5
}
