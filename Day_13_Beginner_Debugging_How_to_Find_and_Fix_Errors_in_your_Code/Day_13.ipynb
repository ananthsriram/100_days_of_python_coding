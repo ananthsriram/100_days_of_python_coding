{
 "cells": [
  {
   "cell_type": "code",
   "execution_count": 56,
   "id": "209e9a9e",
   "metadata": {
    "ExecuteTime": {
     "end_time": "2023-01-27T15:55:09.592015Z",
     "start_time": "2023-01-27T15:55:09.588542Z"
    }
   },
   "outputs": [
    {
     "data": {
      "text/html": [
       "<style>.container { width:100% !important; }</style>"
      ],
      "text/plain": [
       "<IPython.core.display.HTML object>"
      ]
     },
     "metadata": {},
     "output_type": "display_data"
    }
   ],
   "source": [
    "from IPython.display import HTML\n",
    "display(HTML(\"<style>.container { width:100% !important; }</style>\"))"
   ]
  },
  {
   "cell_type": "markdown",
   "id": "deaa52a9",
   "metadata": {},
   "source": [
    "# DEBUGGING"
   ]
  },
  {
   "cell_type": "code",
   "execution_count": 11,
   "id": "be92ff7d",
   "metadata": {
    "ExecuteTime": {
     "end_time": "2023-01-27T15:34:53.788973Z",
     "start_time": "2023-01-27T15:34:53.786223Z"
    }
   },
   "outputs": [
    {
     "name": "stdout",
     "output_type": "stream",
     "text": [
      "You got it\n"
     ]
    }
   ],
   "source": [
    "# # Describe Problem\n",
    "def my_function():\n",
    "    for i in range(1, 21):\n",
    "        if i == 20:\n",
    "            print(\"You got it\")\n",
    "my_function()\n",
    "\n"
   ]
  },
  {
   "cell_type": "code",
   "execution_count": 42,
   "id": "ccc4c3c5",
   "metadata": {
    "ExecuteTime": {
     "end_time": "2023-01-27T15:39:26.460610Z",
     "start_time": "2023-01-27T15:39:26.457739Z"
    }
   },
   "outputs": [
    {
     "name": "stdout",
     "output_type": "stream",
     "text": [
      "❷\n"
     ]
    }
   ],
   "source": [
    "# # Reproduce the Bug\n",
    "from random import randint\n",
    "dice_imgs = [\"❶\", \"❷\", \"❸\", \"❹\", \"❺\", \"❻\"]\n",
    "#dice_num = randint(1, 6)\n",
    "#dice_num = 6\n",
    "dice_num = randint(0, 5)\n",
    "print(dice_imgs[dice_num])\n",
    "\n"
   ]
  },
  {
   "cell_type": "code",
   "execution_count": 43,
   "id": "846b4490",
   "metadata": {
    "ExecuteTime": {
     "end_time": "2023-01-27T15:40:57.928027Z",
     "start_time": "2023-01-27T15:40:56.126893Z"
    }
   },
   "outputs": [
    {
     "name": "stdout",
     "output_type": "stream",
     "text": [
      "What's your year of birth?1994\n",
      "You are a millenial.\n"
     ]
    }
   ],
   "source": [
    "# # Play Computer\n",
    "year = int(input(\"What's your year of birth?\"))\n",
    "if year > 1980 and year <= 1994:\n",
    "    print(\"You are a millenial.\")\n",
    "elif year > 1994:\n",
    "    print(\"You are a Gen Z.\")\n",
    "\n"
   ]
  },
  {
   "cell_type": "code",
   "execution_count": 49,
   "id": "f0518829",
   "metadata": {
    "ExecuteTime": {
     "end_time": "2023-01-27T15:43:01.265911Z",
     "start_time": "2023-01-27T15:42:59.826277Z"
    }
   },
   "outputs": [
    {
     "name": "stdout",
     "output_type": "stream",
     "text": [
      "How old are you? 19\n",
      "You can drive at age 19.\n"
     ]
    }
   ],
   "source": [
    "# # Fix the Errors\n",
    "age = int(input(\"How old are you? \"))\n",
    "if age > 18:\n",
    "    print(f\"You can drive at age {age}.\")\n",
    "\n"
   ]
  },
  {
   "cell_type": "code",
   "execution_count": 52,
   "id": "b2e969d1",
   "metadata": {
    "ExecuteTime": {
     "end_time": "2023-01-27T15:45:18.116543Z",
     "start_time": "2023-01-27T15:45:15.674721Z"
    }
   },
   "outputs": [
    {
     "name": "stdout",
     "output_type": "stream",
     "text": [
      "Number of pages: 3\n",
      "3\n",
      "Number of words per page: 20\n",
      "20\n",
      "60\n"
     ]
    }
   ],
   "source": [
    "# #Print is Your Friend\n",
    "pages = 0\n",
    "word_per_page = 0\n",
    "pages = int(input(\"Number of pages: \"))\n",
    "print (pages)\n",
    "word_per_page = int(input(\"Number of words per page: \"))\n",
    "print (word_per_page)\n",
    "total_words = pages * word_per_page\n",
    "print(total_words)\n",
    "\n"
   ]
  },
  {
   "cell_type": "code",
   "execution_count": 53,
   "id": "dbfdeefa",
   "metadata": {
    "ExecuteTime": {
     "end_time": "2023-01-27T15:48:07.524925Z",
     "start_time": "2023-01-27T15:48:07.521595Z"
    }
   },
   "outputs": [
    {
     "name": "stdout",
     "output_type": "stream",
     "text": [
      "[2, 4, 6, 10, 16, 26]\n"
     ]
    }
   ],
   "source": [
    "# #Use a Debugger\n",
    "def mutate(a_list):\n",
    "    b_list = []\n",
    "    for item in a_list:\n",
    "        new_item = item * 2\n",
    "        b_list.append(new_item)\n",
    "    print(b_list)\n",
    "\n",
    "mutate([1,2,3,5,8,13])"
   ]
  },
  {
   "cell_type": "code",
   "execution_count": 55,
   "id": "b1082c3f",
   "metadata": {
    "ExecuteTime": {
     "end_time": "2023-01-27T15:51:40.992368Z",
     "start_time": "2023-01-27T15:51:40.507197Z"
    }
   },
   "outputs": [
    {
     "name": "stdout",
     "output_type": "stream",
     "text": [
      "Enter a number : 24\n",
      "Even\n"
     ]
    }
   ],
   "source": [
    "## Debugging odd or even\n",
    "\n",
    "number = int(input(\"Enter a number : \"))\n",
    "\n",
    "if number % 2 == 0:\n",
    "    print ('Even')\n",
    "else:\n",
    "    print ('Odd')"
   ]
  },
  {
   "cell_type": "code",
   "execution_count": null,
   "id": "94504095",
   "metadata": {},
   "outputs": [],
   "source": []
  }
 ],
 "metadata": {
  "hide_input": false,
  "kernelspec": {
   "display_name": "Python 3 (ipykernel)",
   "language": "python",
   "name": "python3"
  },
  "language_info": {
   "codemirror_mode": {
    "name": "ipython",
    "version": 3
   },
   "file_extension": ".py",
   "mimetype": "text/x-python",
   "name": "python",
   "nbconvert_exporter": "python",
   "pygments_lexer": "ipython3",
   "version": "3.9.7"
  },
  "toc": {
   "base_numbering": 1,
   "nav_menu": {},
   "number_sections": false,
   "sideBar": true,
   "skip_h1_title": false,
   "title_cell": "Table of Contents",
   "title_sidebar": "Contents",
   "toc_cell": false,
   "toc_position": {},
   "toc_section_display": true,
   "toc_window_display": false
  },
  "varInspector": {
   "cols": {
    "lenName": 16,
    "lenType": 16,
    "lenVar": 40
   },
   "kernels_config": {
    "python": {
     "delete_cmd_postfix": "",
     "delete_cmd_prefix": "del ",
     "library": "var_list.py",
     "varRefreshCmd": "print(var_dic_list())"
    },
    "r": {
     "delete_cmd_postfix": ") ",
     "delete_cmd_prefix": "rm(",
     "library": "var_list.r",
     "varRefreshCmd": "cat(var_dic_list()) "
    }
   },
   "types_to_exclude": [
    "module",
    "function",
    "builtin_function_or_method",
    "instance",
    "_Feature"
   ],
   "window_display": false
  }
 },
 "nbformat": 4,
 "nbformat_minor": 5
}
