{
 "cells": [
  {
   "cell_type": "code",
   "execution_count": 1,
   "id": "8bdc0f61",
   "metadata": {
    "ExecuteTime": {
     "end_time": "2023-02-14T01:26:42.219646Z",
     "start_time": "2023-02-14T01:26:42.212712Z"
    }
   },
   "outputs": [
    {
     "data": {
      "text/html": [
       "<style>.container { width:100% !important; }</style>"
      ],
      "text/plain": [
       "<IPython.core.display.HTML object>"
      ]
     },
     "metadata": {},
     "output_type": "display_data"
    }
   ],
   "source": [
    "from IPython.display import HTML\n",
    "display(HTML(\"<style>.container { width:100% !important; }</style>\"))"
   ]
  },
  {
   "cell_type": "code",
   "execution_count": null,
   "id": "d45d1ed0",
   "metadata": {},
   "outputs": [],
   "source": [
    "#import requests\n",
    "#\n",
    "#pixela_endpoint = \"https://pixe.la/v1/users\"\n",
    "#user_params = {\n",
    "#    \"token\": 'hedfg12ghn56kluirt56',\n",
    "#    \"username\": 'ananth',\n",
    "#    \"agreeTermsOfService\": \"yes\",\n",
    "#    \"notMinor\": \"yes\",\n",
    "#}\n",
    "#\n",
    "#response = requests.post(url=pixela_endpoint,json=user_params)\n",
    "#print(response.text)\n",
    "\n",
    "\n",
    "#{\"message\":\"Success. Let's visit https://pixe.la/@ananth , it is your profile page!\",\"isSuccess\":true}"
   ]
  },
  {
   "cell_type": "code",
   "execution_count": 7,
   "id": "2e1cd5f8",
   "metadata": {
    "ExecuteTime": {
     "end_time": "2023-02-14T01:42:29.412240Z",
     "start_time": "2023-02-14T01:42:29.135807Z"
    }
   },
   "outputs": [
    {
     "name": "stdout",
     "output_type": "stream",
     "text": [
      "{\"message\":\"Success.\",\"isSuccess\":true}\n"
     ]
    }
   ],
   "source": [
    "#import requests\n",
    "#\n",
    "#USERNAME = \"ananth\"\n",
    "#TOKEN = \"hedfg12ghn56kluirt56\"\n",
    "#\n",
    "#pixela_endpoint = \"https://pixe.la/v1/users\"\n",
    "#graph_endpoint = f\"{pixela_endpoint}/{USERNAME}/graphs\"\n",
    "#\n",
    "#graph_config = {\n",
    "#    \"id\":\"graph2804\",\n",
    "#    \"name\":\"Walking\",\n",
    "#    \"Unit\":\"Kms\",\n",
    "#    \"type\":\"float\",\n",
    "#    \"color\":\"ajisai\",\n",
    "#}\n",
    "#\n",
    "#headers = {\n",
    "#    \"X-USER-TOKEN\":TOKEN\n",
    "#}\n",
    "#\n",
    "#response = requests.post(url=graph_endpoint,json=graph_config,headers=headers)\n",
    "#print(response.text)\n",
    "#\n",
    "#\n",
    "#{\"message\":\"Success.\",\"isSuccess\":true}\n",
    "#https://pixe.la/v1/users/ananth/graphs/graph2804.html"
   ]
  },
  {
   "cell_type": "code",
   "execution_count": 9,
   "id": "04ec32f6",
   "metadata": {
    "ExecuteTime": {
     "end_time": "2023-02-14T01:52:33.102295Z",
     "start_time": "2023-02-14T01:52:30.577795Z"
    }
   },
   "outputs": [
    {
     "name": "stdout",
     "output_type": "stream",
     "text": [
      "How many kilometers did you walk today? 3.1\n",
      "{\"message\":\"Success.\",\"isSuccess\":true}\n"
     ]
    }
   ],
   "source": [
    "import requests\n",
    "from datetime import datetime\n",
    "\n",
    "USERNAME = \"ananth\"\n",
    "TOKEN = \"hedfg12ghn56kluirt56\"\n",
    "GRAPH_ID = \"graph2804\"\n",
    "\n",
    "pixela_endpoint = \"https://pixe.la/v1/users\"\n",
    "\n",
    "user_params = {\n",
    "    \"token\": TOKEN,\n",
    "    \"username\": USERNAME,\n",
    "    \"agreeTermsOfService\": \"yes\",\n",
    "    \"notMinor\": \"yes\",\n",
    "}\n",
    "\n",
    "## POST\n",
    "# response = requests.post(url=pixela_endpoint, json=user_params)\n",
    "# print(response.text)\n",
    "\n",
    "graph_endpoint = f\"{pixela_endpoint}/{USERNAME}/graphs\"\n",
    "\n",
    "graph_config = {\n",
    "    \"id\": GRAPH_ID,\n",
    "    \"name\": \"Walking\",\n",
    "    \"unit\": \"Kms\",\n",
    "    \"type\": \"float\",\n",
    "    \"color\": \"ajisai\"\n",
    "}\n",
    "\n",
    "headers = {\n",
    "    \"X-USER-TOKEN\": TOKEN\n",
    "}\n",
    "\n",
    "# response = requests.post(url=graph_endpoint, json=graph_config, headers=headers)\n",
    "# print(response.text)\n",
    "\n",
    "pixel_creation_endpoint = f\"{pixela_endpoint}/{USERNAME}/graphs/{GRAPH_ID}\"\n",
    "\n",
    "today = datetime.now()\n",
    "# print(today.strftime(\"%Y%m%d\"))\n",
    "\n",
    "pixel_data = {\n",
    "    \"date\": today.strftime(\"%Y%m%d\"),\n",
    "    \"quantity\": input(\"How many kilometers did you walk today? \"),\n",
    "}\n",
    "\n",
    "response = requests.post(url=pixel_creation_endpoint, json=pixel_data, headers=headers)\n",
    "print(response.text)\n",
    "\n",
    "update_endpoint = f\"{pixela_endpoint}/{USERNAME}/graphs/{GRAPH_ID}/{today.strftime('%Y%m%d')}\"\n",
    "\n",
    "new_pixel_data = {\n",
    "    \"quantity\": \"3.14\"\n",
    "}\n",
    "\n",
    "## PUT\n",
    "# response = requests.put(url=update_endpoint, json=new_pixel_data, headers=headers)\n",
    "# print(response.text)\n",
    "\n",
    "\n",
    "#delete_endpoint = f\"{pixela_endpoint}/{USERNAME}/graphs/{GRAPH_ID}/{today.strftime('%Y%m%d')}\"\n",
    "\n",
    "\n",
    "## DELETE\n",
    "# response = requests.delete(url=delete_endpoint, headers=headers)\n",
    "# print(response.text)"
   ]
  },
  {
   "cell_type": "code",
   "execution_count": null,
   "id": "d12d430e",
   "metadata": {
    "ExecuteTime": {
     "end_time": "2023-02-14T01:33:52.942293Z",
     "start_time": "2023-02-14T01:33:52.685358Z"
    }
   },
   "outputs": [],
   "source": []
  },
  {
   "cell_type": "code",
   "execution_count": null,
   "id": "92ace263",
   "metadata": {},
   "outputs": [],
   "source": []
  }
 ],
 "metadata": {
  "hide_input": false,
  "kernelspec": {
   "display_name": "Python 3 (ipykernel)",
   "language": "python",
   "name": "python3"
  },
  "language_info": {
   "codemirror_mode": {
    "name": "ipython",
    "version": 3
   },
   "file_extension": ".py",
   "mimetype": "text/x-python",
   "name": "python",
   "nbconvert_exporter": "python",
   "pygments_lexer": "ipython3",
   "version": "3.9.7"
  },
  "toc": {
   "base_numbering": 1,
   "nav_menu": {},
   "number_sections": false,
   "sideBar": true,
   "skip_h1_title": false,
   "title_cell": "Table of Contents",
   "title_sidebar": "Contents",
   "toc_cell": false,
   "toc_position": {},
   "toc_section_display": true,
   "toc_window_display": false
  },
  "varInspector": {
   "cols": {
    "lenName": 16,
    "lenType": 16,
    "lenVar": 40
   },
   "kernels_config": {
    "python": {
     "delete_cmd_postfix": "",
     "delete_cmd_prefix": "del ",
     "library": "var_list.py",
     "varRefreshCmd": "print(var_dic_list())"
    },
    "r": {
     "delete_cmd_postfix": ") ",
     "delete_cmd_prefix": "rm(",
     "library": "var_list.r",
     "varRefreshCmd": "cat(var_dic_list()) "
    }
   },
   "types_to_exclude": [
    "module",
    "function",
    "builtin_function_or_method",
    "instance",
    "_Feature"
   ],
   "window_display": false
  }
 },
 "nbformat": 4,
 "nbformat_minor": 5
}
