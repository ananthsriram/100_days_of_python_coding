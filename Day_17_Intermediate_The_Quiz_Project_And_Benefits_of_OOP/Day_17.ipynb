{
 "cells": [
  {
   "cell_type": "code",
   "execution_count": 1,
   "id": "f552ab6f",
   "metadata": {
    "ExecuteTime": {
     "end_time": "2023-02-06T01:32:50.358595Z",
     "start_time": "2023-02-06T01:32:50.351585Z"
    }
   },
   "outputs": [
    {
     "data": {
      "text/html": [
       "<style>.container { width:100% !important; }</style>"
      ],
      "text/plain": [
       "<IPython.core.display.HTML object>"
      ]
     },
     "metadata": {},
     "output_type": "display_data"
    }
   ],
   "source": [
    "from IPython.display import HTML\n",
    "display(HTML(\"<style>.container { width:100% !important; }</style>\"))"
   ]
  },
  {
   "cell_type": "code",
   "execution_count": 2,
   "id": "edbfb68b",
   "metadata": {
    "ExecuteTime": {
     "end_time": "2023-02-06T01:32:50.364747Z",
     "start_time": "2023-02-06T01:32:50.360616Z"
    }
   },
   "outputs": [
    {
     "name": "stdout",
     "output_type": "stream",
     "text": [
      "001\n",
      "Srivalli\n",
      "0\n",
      "1\n",
      "1\n",
      "0\n"
     ]
    }
   ],
   "source": [
    "class User():\n",
    "    def __init__(self,user_id,user_name):\n",
    "        self.id = user_id\n",
    "        self.name = user_name\n",
    "        self.followers = 0\n",
    "        self.following = 0\n",
    "        \n",
    "    def follow(self,user):\n",
    "        user.followers += 1\n",
    "        self.following += 1\n",
    "        \n",
    "        \n",
    "user_1 = User('001','Ananth')        \n",
    "user_2 = User('002','Srivalli')\n",
    "print (user_1.id)\n",
    "print (user_2.name)\n",
    "\n",
    "user_1.follow(user_2)\n",
    "print(user_1.followers)\n",
    "print(user_1.following)\n",
    "\n",
    "print(user_2.followers)\n",
    "print(user_2.following)"
   ]
  },
  {
   "cell_type": "code",
   "execution_count": 3,
   "id": "a0dadfe3",
   "metadata": {
    "ExecuteTime": {
     "end_time": "2023-02-06T01:32:50.369519Z",
     "start_time": "2023-02-06T01:32:50.366582Z"
    }
   },
   "outputs": [
    {
     "name": "stdout",
     "output_type": "stream",
     "text": [
      "2+3=5\n"
     ]
    }
   ],
   "source": [
    "#### Quiz Project - Part 1\n",
    "\n",
    "class Question():\n",
    "    def __init__(self,q,a):\n",
    "        self.question = q\n",
    "        self.answer = a\n",
    "        \n",
    "new_q = Question(\"2+3=5\",\"True\")        \n",
    "print(new_q.question)"
   ]
  },
  {
   "cell_type": "code",
   "execution_count": 4,
   "id": "8f3b4bc0",
   "metadata": {
    "ExecuteTime": {
     "end_time": "2023-02-06T01:32:50.378434Z",
     "start_time": "2023-02-06T01:32:50.372256Z"
    }
   },
   "outputs": [],
   "source": [
    "###### Quiz Project - Part 2\n",
    "\n",
    "question_data = [\n",
    "    {\n",
    "        \"category\": \"Science: Computers\",\n",
    "        \"type\": \"boolean\",\n",
    "        \"difficulty\": \"medium\",\n",
    "        \"question\": \"The HTML5 standard was published in 2014.\",\n",
    "        \"correct_answer\": \"True\",\n",
    "        \"incorrect_answers\": [\n",
    "            \"False\"\n",
    "        ]\n",
    "    },\n",
    "    {\n",
    "        \"category\": \"Science: Computers\",\n",
    "        \"type\": \"boolean\",\n",
    "        \"difficulty\": \"medium\",\n",
    "        \"question\": \"The first computer bug was formed by faulty wires.\",\n",
    "        \"correct_answer\": \"False\",\n",
    "        \"incorrect_answers\": [\n",
    "            \"True\"\n",
    "        ]\n",
    "    },\n",
    "    {\n",
    "        \"category\": \"Science: Computers\",\n",
    "        \"type\": \"boolean\",\n",
    "        \"difficulty\": \"medium\",\n",
    "        \"question\": \"FLAC stands for 'Free Lossless Audio Condenser'.\",\n",
    "        \"correct_answer\": \"False\",\n",
    "        \"incorrect_answers\": [\n",
    "            \"True\"\n",
    "        ]\n",
    "    },\n",
    "    {\n",
    "        \"category\": \"Science: Computers\",\n",
    "        \"type\": \"boolean\",\n",
    "        \"difficulty\": \"medium\",\n",
    "        \"question\": \"All program codes have to be compiled into an executable file in order to be run. This file can then be executed on any machine.\",\n",
    "        \"correct_answer\": \"False\",\n",
    "        \"incorrect_answers\": [\n",
    "            \"True\"\n",
    "        ]\n",
    "    },\n",
    "    {\n",
    "        \"category\": \"Science: Computers\",\n",
    "        \"type\": \"boolean\",\n",
    "        \"difficulty\": \"easy\",\n",
    "        \"question\": \"Linus Torvalds created Linux and Git.\",\n",
    "        \"correct_answer\": \"True\",\n",
    "        \"incorrect_answers\": [\n",
    "            \"False\"\n",
    "        ]\n",
    "    },\n",
    "    {\n",
    "        \"category\": \"Science: Computers\",\n",
    "        \"type\": \"boolean\",\n",
    "        \"difficulty\": \"easy\",\n",
    "        \"question\": \"The programming language 'Python' is based off a modified version of 'JavaScript'\",\n",
    "        \"correct_answer\": \"False\",\n",
    "        \"incorrect_answers\": [\n",
    "            \"True\"\n",
    "        ]\n",
    "    },\n",
    "    {\n",
    "        \"category\": \"Science: Computers\",\n",
    "        \"type\": \"boolean\",\n",
    "        \"difficulty\": \"medium\",\n",
    "        \"question\": \"AMD created the first consumer 64-bit processor.\",\n",
    "        \"correct_answer\": \"True\",\n",
    "        \"incorrect_answers\": [\n",
    "            \"False\"\n",
    "        ]\n",
    "    },\n",
    "    {\n",
    "        \"category\": \"Science: Computers\",\n",
    "        \"type\": \"boolean\",\n",
    "        \"difficulty\": \"easy\",\n",
    "        \"question\": \"'HTML' stands for Hypertext Markup Language.\",\n",
    "        \"correct_answer\": \"True\",\n",
    "        \"incorrect_answers\": [\n",
    "            \"False\"\n",
    "        ]\n",
    "    },\n",
    "    {\n",
    "        \"category\": \"Science: Computers\",\n",
    "        \"type\": \"boolean\",\n",
    "        \"difficulty\": \"easy\",\n",
    "        \"question\": \"In most programming languages, the operator ++ is equivalent to the statement '+= 1'.\",\n",
    "        \"correct_answer\": \"True\",\n",
    "        \"incorrect_answers\": [\n",
    "            \"False\"\n",
    "        ]\n",
    "    },\n",
    "    {\n",
    "        \"category\": \"Science: Computers\",\n",
    "        \"type\": \"boolean\",\n",
    "        \"difficulty\": \"hard\",\n",
    "        \"question\": \"The IBM PC used an Intel 8008 microprocessor clocked at 4.77 MHz and 8 kilobytes of memory.\",\n",
    "        \"correct_answer\": \"False\",\n",
    "        \"incorrect_answers\": [\n",
    "            \"True\"\n",
    "        ]\n",
    "    }\n",
    "]\n",
    "\n",
    "question_bank = []\n",
    "for item in question_data:\n",
    "    question =  item['question']\n",
    "    answer = item['correct_answer']\n",
    "    new_q = Question(question,answer)\n",
    "    question_bank.append(new_q)"
   ]
  },
  {
   "cell_type": "code",
   "execution_count": 5,
   "id": "8d8101d0",
   "metadata": {
    "ExecuteTime": {
     "end_time": "2023-02-06T01:32:57.024881Z",
     "start_time": "2023-02-06T01:32:50.379783Z"
    }
   },
   "outputs": [
    {
     "name": "stdout",
     "output_type": "stream",
     "text": [
      "Q.1: The HTML5 standard was published in 2014. (True/False): True\n"
     ]
    }
   ],
   "source": [
    "###### Quiz Project - Part 3\n",
    "\n",
    "class QuizBrain:\n",
    "\n",
    "    def __init__(self, queries_list):\n",
    "        self.question_number = 0\n",
    "        self.question_list = queries_list\n",
    "        \n",
    "    def next_question(self):\n",
    "        current_question = self.question_list[self.question_number]\n",
    "        self.question_number += 1\n",
    "        input(f\"Q.{self.question_number}: {current_question.question} (True/False): \")\n",
    "\n",
    "quiz = QuizBrain(question_bank)    \n",
    "quiz.next_question()\n",
    "\n"
   ]
  },
  {
   "cell_type": "code",
   "execution_count": 7,
   "id": "a8458cf6",
   "metadata": {
    "ExecuteTime": {
     "end_time": "2023-02-06T01:41:22.238489Z",
     "start_time": "2023-02-06T01:41:13.359106Z"
    }
   },
   "outputs": [
    {
     "name": "stdout",
     "output_type": "stream",
     "text": [
      "Q.1: The HTML5 standard was published in 2014. (True/False): T\n",
      "Q.2: The first computer bug was formed by faulty wires. (True/False): F\n",
      "Q.3: FLAC stands for 'Free Lossless Audio Condenser'. (True/False): F\n",
      "Q.4: All program codes have to be compiled into an executable file in order to be run. This file can then be executed on any machine. (True/False): T\n",
      "Q.5: Linus Torvalds created Linux and Git. (True/False): T\n",
      "Q.6: The programming language 'Python' is based off a modified version of 'JavaScript' (True/False): T\n",
      "Q.7: AMD created the first consumer 64-bit processor. (True/False): F\n",
      "Q.8: 'HTML' stands for Hypertext Markup Language. (True/False): T\n",
      "Q.9: In most programming languages, the operator ++ is equivalent to the statement '+= 1'. (True/False): F\n",
      "Q.10: The IBM PC used an Intel 8008 microprocessor clocked at 4.77 MHz and 8 kilobytes of memory. (True/False): T\n"
     ]
    }
   ],
   "source": [
    "###### Quiz Project - Part 4\n",
    "\n",
    "class QuizBrain:\n",
    "\n",
    "    def __init__(self, queries_list):\n",
    "        self.question_number = 0\n",
    "        self.question_list = queries_list\n",
    "        \n",
    "    def still_has_questions(self):\n",
    "        #if self.question_number < len(self.question_list):\n",
    "        #    return True\n",
    "        #else:\n",
    "        #    return False\n",
    "        return (self.question_number < len(self.question_list) )\n",
    "        \n",
    "    def next_question(self):\n",
    "        current_question = self.question_list[self.question_number]\n",
    "        self.question_number += 1\n",
    "        input(f\"Q.{self.question_number}: {current_question.question} (True/False): \")\n",
    "\n",
    "quiz = QuizBrain(question_bank)    \n",
    "while quiz.still_has_questions():\n",
    "    quiz.next_question()\n"
   ]
  },
  {
   "cell_type": "code",
   "execution_count": 11,
   "id": "db3272df",
   "metadata": {
    "ExecuteTime": {
     "end_time": "2023-02-06T01:56:04.615666Z",
     "start_time": "2023-02-06T01:55:48.639760Z"
    }
   },
   "outputs": [
    {
     "name": "stdout",
     "output_type": "stream",
     "text": [
      "Q.1: The HTML5 standard was published in 2014. (True/False): True\n",
      "You got it right!\n",
      "The correct answer is True\n",
      "Your current score is 1/1\n",
      "=============================================================\n",
      "Q.2: The first computer bug was formed by faulty wires. (True/False): False\n",
      "You got it right!\n",
      "The correct answer is False\n",
      "Your current score is 2/2\n",
      "=============================================================\n",
      "Q.3: FLAC stands for 'Free Lossless Audio Condenser'. (True/False): True\n",
      "That's wrong answer!\n",
      "The correct answer is False\n",
      "Your current score is 2/3\n",
      "=============================================================\n",
      "Q.4: All program codes have to be compiled into an executable file in order to be run. This file can then be executed on any machine. (True/False): False\n",
      "You got it right!\n",
      "The correct answer is False\n",
      "Your current score is 3/4\n",
      "=============================================================\n",
      "Q.5: Linus Torvalds created Linux and Git. (True/False): True\n",
      "You got it right!\n",
      "The correct answer is True\n",
      "Your current score is 4/5\n",
      "=============================================================\n",
      "Q.6: The programming language 'Python' is based off a modified version of 'JavaScript' (True/False): True\n",
      "That's wrong answer!\n",
      "The correct answer is False\n",
      "Your current score is 4/6\n",
      "=============================================================\n",
      "Q.7: AMD created the first consumer 64-bit processor. (True/False): False\n",
      "That's wrong answer!\n",
      "The correct answer is True\n",
      "Your current score is 4/7\n",
      "=============================================================\n",
      "Q.8: 'HTML' stands for Hypertext Markup Language. (True/False): True\n",
      "You got it right!\n",
      "The correct answer is True\n",
      "Your current score is 5/8\n",
      "=============================================================\n",
      "Q.9: In most programming languages, the operator ++ is equivalent to the statement '+= 1'. (True/False): True\n",
      "You got it right!\n",
      "The correct answer is True\n",
      "Your current score is 6/9\n",
      "=============================================================\n",
      "Q.10: The IBM PC used an Intel 8008 microprocessor clocked at 4.77 MHz and 8 kilobytes of memory. (True/False): False\n",
      "You got it right!\n",
      "The correct answer is False\n",
      "Your current score is 7/10\n",
      "=============================================================\n",
      "You have completed the Quiz!\n",
      "Your final score is : 7/10\n"
     ]
    }
   ],
   "source": [
    "###### Quiz Project - Part 5\n",
    "\n",
    "class QuizBrain:\n",
    "\n",
    "    def __init__(self, queries_list):\n",
    "        self.question_number = 0\n",
    "        self.question_list = queries_list\n",
    "        self.score = 0\n",
    "        \n",
    "    def still_has_questions(self):\n",
    "        return (self.question_number < len(self.question_list))\n",
    "        \n",
    "    def next_question(self):\n",
    "        current_question = self.question_list[self.question_number]\n",
    "        self.question_number += 1\n",
    "        user_answer = input(f\"Q.{self.question_number}: {current_question.question} (True/False): \")\n",
    "        self.check_answer(user_answer, current_question.answer)\n",
    "        \n",
    "    def check_answer(self, user_answer, correct_answer):\n",
    "        if user_answer.lower() == correct_answer.lower():\n",
    "            print (\"You got it right!\")\n",
    "            self.score += 1\n",
    "        else:\n",
    "            print (\"That's wrong answer!\")\n",
    "        print (f\"The correct answer is {correct_answer}\")\n",
    "        print (f\"Your current score is {self.score}/{self.question_number}\")\n",
    "        print ('=============================================================')\n",
    "        \n",
    "\n",
    "quiz = QuizBrain(question_bank)    \n",
    "while quiz.still_has_questions():\n",
    "    quiz.next_question()\n",
    "print (\"You have completed the Quiz!\")\n",
    "print (f\"Your final score is : {quiz.score}/{quiz.question_number}\")"
   ]
  },
  {
   "cell_type": "code",
   "execution_count": null,
   "id": "f1ebbd4a",
   "metadata": {},
   "outputs": [],
   "source": []
  }
 ],
 "metadata": {
  "hide_input": false,
  "kernelspec": {
   "display_name": "Python 3 (ipykernel)",
   "language": "python",
   "name": "python3"
  },
  "language_info": {
   "codemirror_mode": {
    "name": "ipython",
    "version": 3
   },
   "file_extension": ".py",
   "mimetype": "text/x-python",
   "name": "python",
   "nbconvert_exporter": "python",
   "pygments_lexer": "ipython3",
   "version": "3.9.7"
  },
  "toc": {
   "base_numbering": 1,
   "nav_menu": {},
   "number_sections": false,
   "sideBar": true,
   "skip_h1_title": false,
   "title_cell": "Table of Contents",
   "title_sidebar": "Contents",
   "toc_cell": false,
   "toc_position": {},
   "toc_section_display": true,
   "toc_window_display": false
  },
  "varInspector": {
   "cols": {
    "lenName": 16,
    "lenType": 16,
    "lenVar": 40
   },
   "kernels_config": {
    "python": {
     "delete_cmd_postfix": "",
     "delete_cmd_prefix": "del ",
     "library": "var_list.py",
     "varRefreshCmd": "print(var_dic_list())"
    },
    "r": {
     "delete_cmd_postfix": ") ",
     "delete_cmd_prefix": "rm(",
     "library": "var_list.r",
     "varRefreshCmd": "cat(var_dic_list()) "
    }
   },
   "types_to_exclude": [
    "module",
    "function",
    "builtin_function_or_method",
    "instance",
    "_Feature"
   ],
   "window_display": false
  }
 },
 "nbformat": 4,
 "nbformat_minor": 5
}
