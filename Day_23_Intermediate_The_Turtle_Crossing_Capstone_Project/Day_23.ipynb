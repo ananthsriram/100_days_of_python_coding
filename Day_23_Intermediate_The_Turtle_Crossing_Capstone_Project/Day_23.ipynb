{
 "cells": [
  {
   "cell_type": "code",
   "execution_count": null,
   "id": "f39b4d92",
   "metadata": {
    "ExecuteTime": {
     "end_time": "2023-02-09T14:23:55.496445Z",
     "start_time": "2023-02-09T14:23:55.489753Z"
    }
   },
   "outputs": [],
   "source": [
    "from IPython.display import HTML\n",
    "display(HTML(\"<style>.container { width:100% !important; }</style>\"))"
   ]
  },
  {
   "cell_type": "code",
   "execution_count": null,
   "id": "85212f2a",
   "metadata": {
    "ExecuteTime": {
     "end_time": "2023-02-09T14:23:31.062354Z",
     "start_time": "2023-02-09T14:23:10.393298Z"
    }
   },
   "outputs": [],
   "source": [
    "import time\n",
    "from turtle import Screen, Turtle\n",
    "import random\n",
    "\n",
    "\n",
    "STARTING_POSITION = (0, -280)\n",
    "MOVE_DISTANCE = 10\n",
    "FINISH_LINE_Y = 280\n",
    "FONT = (\"Courier\", 24, \"normal\")\n",
    "COLORS = [\"red\", \"orange\", \"yellow\", \"green\", \"blue\", \"purple\"]\n",
    "STARTING_MOVE_DISTANCE = 5\n",
    "MOVE_INCREMENT = 10\n",
    "\n",
    "class Player(Turtle):\n",
    "\n",
    "    def __init__(self):\n",
    "        super().__init__()\n",
    "        self.shape(\"turtle\")\n",
    "        self.penup()\n",
    "        self.go_to_start()\n",
    "        self.setheading(90)\n",
    "\n",
    "    def go_up(self):\n",
    "        self.forward(MOVE_DISTANCE)\n",
    "\n",
    "    def go_to_start(self):\n",
    "        self.goto(STARTING_POSITION)\n",
    "\n",
    "    def is_at_finish_line(self):\n",
    "        if self.ycor() > FINISH_LINE_Y:\n",
    "            return True\n",
    "        else:\n",
    "            return False\n",
    "        \n",
    "        \n",
    "class Scoreboard(Turtle):\n",
    "\n",
    "    def __init__(self):\n",
    "        super().__init__()\n",
    "        self.level = 1\n",
    "        self.hideturtle()\n",
    "        self.penup()\n",
    "        self.goto(-280, 250)\n",
    "        self.update_scoreboard()\n",
    "\n",
    "    def update_scoreboard(self):\n",
    "        self.clear()\n",
    "        self.write(f\"Level: {self.level}\", align=\"left\", font=FONT)\n",
    "\n",
    "    def increase_level(self):\n",
    "        self.level += 1\n",
    "        self.update_scoreboard()\n",
    "\n",
    "    def game_over(self):\n",
    "        self.goto(0, 0)\n",
    "        self.write(f\"GAME OVER\", align=\"center\", font=FONT)\n",
    "\n",
    "class CarManager:\n",
    "\n",
    "    def __init__(self):\n",
    "        self.all_cars = []\n",
    "        self.car_speed = STARTING_MOVE_DISTANCE\n",
    "\n",
    "    def create_car(self):\n",
    "        random_chance = random.randint(1, 6)\n",
    "        if random_chance == 1:\n",
    "            new_car = Turtle(\"square\")\n",
    "            new_car.shapesize(stretch_wid=1, stretch_len=2)\n",
    "            new_car.penup()\n",
    "            new_car.color(random.choice(COLORS))\n",
    "            random_y = random.randint(-250, 250)\n",
    "            new_car.goto(300, random_y)\n",
    "            self.all_cars.append(new_car)\n",
    "\n",
    "    def move_cars(self):\n",
    "        for car in self.all_cars:\n",
    "            car.backward(self.car_speed)\n",
    "\n",
    "    def level_up(self):\n",
    "        self.car_speed += MOVE_INCREMENT\n",
    "\n",
    "\n",
    "screen = Screen()\n",
    "screen.setup(width=600, height=600)\n",
    "screen.tracer(0)\n",
    "\n",
    "player = Player()\n",
    "car_manager = CarManager()\n",
    "scoreboard = Scoreboard()\n",
    "\n",
    "screen.listen()\n",
    "screen.onkey(player.go_up, \"Up\")\n",
    "\n",
    "game_is_on = True\n",
    "while game_is_on:\n",
    "    time.sleep(0.1)\n",
    "    screen.update()\n",
    "\n",
    "    car_manager.create_car()\n",
    "    car_manager.move_cars()\n",
    "\n",
    "    #Detect collision with car\n",
    "    for car in car_manager.all_cars:\n",
    "        if car.distance(player) < 20:\n",
    "            game_is_on = False\n",
    "            scoreboard.game_over()\n",
    "\n",
    "    #Detect successful crossing\n",
    "    if player.is_at_finish_line():\n",
    "        player.go_to_start()\n",
    "        car_manager.level_up()\n",
    "        scoreboard.increase_level()\n",
    "\n",
    "\n",
    "#screen.exitonclick()\n",
    "\n"
   ]
  },
  {
   "cell_type": "code",
   "execution_count": null,
   "id": "3e23565b",
   "metadata": {},
   "outputs": [],
   "source": []
  }
 ],
 "metadata": {
  "hide_input": false,
  "kernelspec": {
   "display_name": "Python 3 (ipykernel)",
   "language": "python",
   "name": "python3"
  },
  "language_info": {
   "codemirror_mode": {
    "name": "ipython",
    "version": 3
   },
   "file_extension": ".py",
   "mimetype": "text/x-python",
   "name": "python",
   "nbconvert_exporter": "python",
   "pygments_lexer": "ipython3",
   "version": "3.9.7"
  },
  "toc": {
   "base_numbering": 1,
   "nav_menu": {},
   "number_sections": false,
   "sideBar": true,
   "skip_h1_title": false,
   "title_cell": "Table of Contents",
   "title_sidebar": "Contents",
   "toc_cell": false,
   "toc_position": {},
   "toc_section_display": true,
   "toc_window_display": false
  },
  "varInspector": {
   "cols": {
    "lenName": 16,
    "lenType": 16,
    "lenVar": 40
   },
   "kernels_config": {
    "python": {
     "delete_cmd_postfix": "",
     "delete_cmd_prefix": "del ",
     "library": "var_list.py",
     "varRefreshCmd": "print(var_dic_list())"
    },
    "r": {
     "delete_cmd_postfix": ") ",
     "delete_cmd_prefix": "rm(",
     "library": "var_list.r",
     "varRefreshCmd": "cat(var_dic_list()) "
    }
   },
   "types_to_exclude": [
    "module",
    "function",
    "builtin_function_or_method",
    "instance",
    "_Feature"
   ],
   "window_display": false
  }
 },
 "nbformat": 4,
 "nbformat_minor": 5
}
