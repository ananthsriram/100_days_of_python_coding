{
 "cells": [
  {
   "cell_type": "code",
   "execution_count": 1,
   "id": "d1c7c231",
   "metadata": {
    "ExecuteTime": {
     "end_time": "2023-02-13T00:25:51.610614Z",
     "start_time": "2023-02-13T00:25:51.603305Z"
    }
   },
   "outputs": [
    {
     "data": {
      "text/html": [
       "<style>.container { width:100% !important; }</style>"
      ],
      "text/plain": [
       "<IPython.core.display.HTML object>"
      ]
     },
     "metadata": {},
     "output_type": "display_data"
    }
   ],
   "source": [
    "from IPython.display import HTML\n",
    "display(HTML(\"<style>.container { width:100% !important; }</style>\"))"
   ]
  },
  {
   "cell_type": "code",
   "execution_count": null,
   "id": "418ce767",
   "metadata": {},
   "outputs": [],
   "source": [
    "## Send emails with Python using SMTP\n",
    "\n",
    "import smtplib\n",
    "\n",
    "my_email = \"ananth@gmail.com\"\n",
    "my_password = \"abcd1234\"\n",
    "#connection = smtplib.SMTP(\"smtp.gmail.com\")\n",
    "#connection.starttls()\n",
    "#connection.login(user=my_email,password=my_password)\n",
    "#connection.sendmail(from_addr=my_email,to_addrs=\"sriram@gmail.com\",msg=\"Subject:Hello\\n\\n This is the body of my email\")\n",
    "\n",
    "with smtplib.SMTP(\"smtp.gmail.com\") as connection:\n",
    "    connection.starttls()\n",
    "    connection.login(user=my_email,password=my_password)\n",
    "    connection.sendmail(\n",
    "        from_addr=my_email,\n",
    "        to_addrs=\"sriram@gmail.com\",\n",
    "        msg=\"Subject:Hello\\n\\n This is the body of my email\"\n",
    "    )\n",
    "\n"
   ]
  },
  {
   "cell_type": "code",
   "execution_count": 10,
   "id": "b18f4008",
   "metadata": {
    "ExecuteTime": {
     "end_time": "2023-02-13T00:46:09.213686Z",
     "start_time": "2023-02-13T00:46:09.210350Z"
    }
   },
   "outputs": [
    {
     "name": "stdout",
     "output_type": "stream",
     "text": [
      "1985-04-28 05:00:00\n"
     ]
    }
   ],
   "source": [
    "## Working with datetime module\n",
    "\n",
    "import datetime as dt\n",
    "\n",
    "now = dt.datetime.now()\n",
    "year = now.year\n",
    "monrh = now.month\n",
    "day_of_week = now.weekday()\n",
    "if year == 2020:\n",
    "    print (\"Put on your mask!\")\n",
    "\n",
    "date_of_birth = dt.datetime(year=1985,month=4,day=28, hour=5)\n",
    "print (date_of_birth)"
   ]
  },
  {
   "cell_type": "code",
   "execution_count": null,
   "id": "cc7fc21a",
   "metadata": {},
   "outputs": [],
   "source": [
    "## Send Motivational Quotes on Mondays in Email\n",
    "\n",
    "import smtplib\n",
    "import datetime as dt\n",
    "import random\n",
    "\n",
    "MY_EMAIL = \"ananth@gmail.com\"\n",
    "MY_PASSWORD = \"abcd1234()\"\n",
    "\n",
    "now = dt.datetime.now()\n",
    "weekday = now.weekday()\n",
    "if weekday == 0:\n",
    "    with open(\"quotes.txt\") as quote_file:\n",
    "        all_quotes = quote_file.readlines()\n",
    "        quote = random.choice(all_quotes)\n",
    "\n",
    "    print(quote)\n",
    "    with smtplib.SMTP(\"smtp.gmail.com\") as connection:\n",
    "        connection.starttls()\n",
    "        connection.login(MY_EMAIL, MY_PASSWORD)\n",
    "        connection.sendmail(\n",
    "            from_addr=MY_EMAIL,\n",
    "            to_addrs=MY_EMAIL,\n",
    "            msg=f\"Subject:Monday Motivation\\n\\n{quote}\"\n",
    "        )\n"
   ]
  },
  {
   "cell_type": "code",
   "execution_count": 20,
   "id": "c72cd4c5",
   "metadata": {
    "ExecuteTime": {
     "end_time": "2023-02-13T01:01:35.999947Z",
     "start_time": "2023-02-13T01:01:35.993509Z"
    }
   },
   "outputs": [],
   "source": [
    "## Automated Birthday Wisher Project\n",
    "\n",
    "from datetime import datetime\n",
    "import pandas\n",
    "import random\n",
    "import smtplib\n",
    "\n",
    "MY_EMAIL = \"YOUR EMAIL\"\n",
    "MY_PASSWORD = \"YOUR PASSWORD\"\n",
    "\n",
    "today = datetime.now()\n",
    "today_tuple = (today.month, today.day)\n",
    "\n",
    "data = pandas.read_csv(\"birthdays.csv\")\n",
    "birthdays_dict = {(data_row[\"month\"], data_row[\"day\"]): data_row for (index, data_row) in data.iterrows()}\n",
    "if today_tuple in birthdays_dict:\n",
    "    birthday_person = birthdays_dict[today_tuple]\n",
    "    file_path = f\"letter_templates/letter_{random.randint(1,3)}.txt\"\n",
    "    with open(file_path) as letter_file:\n",
    "        contents = letter_file.read()\n",
    "        contents = contents.replace(\"[NAME]\", birthday_person[\"name\"])\n",
    "\n",
    "    with smtplib.SMTP(\"YOUR EMAIL PROVIDER SMTP SERVER ADDRESS\") as connection:\n",
    "        connection.starttls()\n",
    "        connection.login(MY_EMAIL, MY_PASSWORD)\n",
    "        connection.sendmail(\n",
    "            from_addr=MY_EMAIL,\n",
    "            to_addrs=birthday_person[\"email\"],\n",
    "            msg=f\"Subject:Happy Birthday!\\n\\n{contents}\"\n",
    "        )\n"
   ]
  },
  {
   "cell_type": "code",
   "execution_count": null,
   "id": "5c7b2875",
   "metadata": {
    "ExecuteTime": {
     "end_time": "2023-02-13T01:01:42.612957Z",
     "start_time": "2023-02-13T01:01:42.608291Z"
    }
   },
   "outputs": [],
   "source": []
  },
  {
   "cell_type": "code",
   "execution_count": null,
   "id": "1c882958",
   "metadata": {},
   "outputs": [],
   "source": []
  }
 ],
 "metadata": {
  "hide_input": false,
  "kernelspec": {
   "display_name": "Python 3 (ipykernel)",
   "language": "python",
   "name": "python3"
  },
  "language_info": {
   "codemirror_mode": {
    "name": "ipython",
    "version": 3
   },
   "file_extension": ".py",
   "mimetype": "text/x-python",
   "name": "python",
   "nbconvert_exporter": "python",
   "pygments_lexer": "ipython3",
   "version": "3.9.7"
  },
  "toc": {
   "base_numbering": 1,
   "nav_menu": {},
   "number_sections": false,
   "sideBar": true,
   "skip_h1_title": false,
   "title_cell": "Table of Contents",
   "title_sidebar": "Contents",
   "toc_cell": false,
   "toc_position": {},
   "toc_section_display": true,
   "toc_window_display": false
  },
  "varInspector": {
   "cols": {
    "lenName": 16,
    "lenType": 16,
    "lenVar": 40
   },
   "kernels_config": {
    "python": {
     "delete_cmd_postfix": "",
     "delete_cmd_prefix": "del ",
     "library": "var_list.py",
     "varRefreshCmd": "print(var_dic_list())"
    },
    "r": {
     "delete_cmd_postfix": ") ",
     "delete_cmd_prefix": "rm(",
     "library": "var_list.r",
     "varRefreshCmd": "cat(var_dic_list()) "
    }
   },
   "types_to_exclude": [
    "module",
    "function",
    "builtin_function_or_method",
    "instance",
    "_Feature"
   ],
   "window_display": false
  }
 },
 "nbformat": 4,
 "nbformat_minor": 5
}
