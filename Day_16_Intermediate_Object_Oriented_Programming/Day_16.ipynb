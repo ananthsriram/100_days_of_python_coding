{
 "cells": [
  {
   "cell_type": "code",
   "execution_count": 1,
   "id": "043d3e1d",
   "metadata": {
    "ExecuteTime": {
     "end_time": "2023-01-29T14:54:32.730539Z",
     "start_time": "2023-01-29T14:54:32.722418Z"
    }
   },
   "outputs": [
    {
     "data": {
      "text/html": [
       "<style>.container { width:100% !important; }</style>"
      ],
      "text/plain": [
       "<IPython.core.display.HTML object>"
      ]
     },
     "metadata": {},
     "output_type": "display_data"
    }
   ],
   "source": [
    "from IPython.display import HTML\n",
    "display(HTML(\"<style>.container { width:100% !important; }</style>\"))"
   ]
  },
  {
   "cell_type": "code",
   "execution_count": 8,
   "id": "d3af69f5",
   "metadata": {
    "ExecuteTime": {
     "end_time": "2023-01-29T14:58:47.287918Z",
     "start_time": "2023-01-29T14:58:47.284554Z"
    }
   },
   "outputs": [
    {
     "name": "stdout",
     "output_type": "stream",
     "text": [
      "+--------------+----------+\n",
      "| Pokemon Name | Type     |\n",
      "+--------------+----------+\n",
      "| Pikachu      | Electric |\n",
      "| Squirtle     | Water    |\n",
      "| Charmander   | Fire     |\n",
      "+--------------+----------+\n"
     ]
    }
   ],
   "source": [
    "from prettytable import PrettyTable\n",
    "\n",
    "table = PrettyTable()\n",
    "\n",
    "table.add_column(\"Pokemon Name\",[\"Pikachu\",\"Squirtle\",\"Charmander\"])\n",
    "table.add_column(\"Type\",[\"Electric\",\"Water\",\"Fire\"])\n",
    "table.align = 'l'\n",
    "print (table)"
   ]
  },
  {
   "cell_type": "code",
   "execution_count": 9,
   "id": "0dc608c4",
   "metadata": {
    "ExecuteTime": {
     "end_time": "2023-01-29T15:00:54.339545Z",
     "start_time": "2023-01-29T15:00:54.335356Z"
    }
   },
   "outputs": [],
   "source": [
    "class CoffeeMaker:\n",
    "    \"\"\"Models the machine that makes the coffee\"\"\"\n",
    "    def __init__(self):\n",
    "        self.resources = {\n",
    "            \"water\": 300,\n",
    "            \"milk\": 200,\n",
    "            \"coffee\": 100,\n",
    "        }\n",
    "\n",
    "    def report(self):\n",
    "        \"\"\"Prints a report of all resources.\"\"\"\n",
    "        print(f\"Water: {self.resources['water']}ml\")\n",
    "        print(f\"Milk: {self.resources['milk']}ml\")\n",
    "        print(f\"Coffee: {self.resources['coffee']}g\")\n",
    "\n",
    "    def is_resource_sufficient(self, drink):\n",
    "        \"\"\"Returns True when order can be made, False if ingredients are insufficient.\"\"\"\n",
    "        can_make = True\n",
    "        for item in drink.ingredients:\n",
    "            if drink.ingredients[item] > self.resources[item]:\n",
    "                print(f\"Sorry there is not enough {item}.\")\n",
    "                can_make = False\n",
    "        return can_make\n",
    "\n",
    "    def make_coffee(self, order):\n",
    "        \"\"\"Deducts the required ingredients from the resources.\"\"\"\n",
    "        for item in order.ingredients:\n",
    "            self.resources[item] -= order.ingredients[item]\n",
    "        print(f\"Here is your {order.name} ☕️. Enjoy!\")\n"
   ]
  },
  {
   "cell_type": "code",
   "execution_count": 10,
   "id": "747de274",
   "metadata": {
    "ExecuteTime": {
     "end_time": "2023-01-29T15:01:06.017255Z",
     "start_time": "2023-01-29T15:01:06.012824Z"
    }
   },
   "outputs": [],
   "source": [
    "class MenuItem:\n",
    "    \"\"\"Models each Menu Item.\"\"\"\n",
    "    def __init__(self, name, water, milk, coffee, cost):\n",
    "        self.name = name\n",
    "        self.cost = cost\n",
    "        self.ingredients = {\n",
    "            \"water\": water,\n",
    "            \"milk\": milk,\n",
    "            \"coffee\": coffee\n",
    "        }\n",
    "\n",
    "\n",
    "class Menu:\n",
    "    \"\"\"Models the Menu with drinks.\"\"\"\n",
    "    def __init__(self):\n",
    "        self.menu = [\n",
    "            MenuItem(name=\"latte\", water=200, milk=150, coffee=24, cost=2.5),\n",
    "            MenuItem(name=\"espresso\", water=50, milk=0, coffee=18, cost=1.5),\n",
    "            MenuItem(name=\"cappuccino\", water=250, milk=50, coffee=24, cost=3),\n",
    "        ]\n",
    "\n",
    "    def get_items(self):\n",
    "        \"\"\"Returns all the names of the available menu items\"\"\"\n",
    "        options = \"\"\n",
    "        for item in self.menu:\n",
    "            options += f\"{item.name}/\"\n",
    "        return options\n",
    "\n",
    "    def find_drink(self, order_name):\n",
    "        \"\"\"Searches the menu for a particular drink by name. Returns that item if it exists, otherwise returns None\"\"\"\n",
    "        for item in self.menu:\n",
    "            if item.name == order_name:\n",
    "                return item\n",
    "        print(\"Sorry that item is not available.\")\n"
   ]
  },
  {
   "cell_type": "code",
   "execution_count": 11,
   "id": "736fd9f5",
   "metadata": {
    "ExecuteTime": {
     "end_time": "2023-01-29T15:01:14.160816Z",
     "start_time": "2023-01-29T15:01:14.156557Z"
    }
   },
   "outputs": [],
   "source": [
    "class MoneyMachine:\n",
    "\n",
    "    CURRENCY = \"$\"\n",
    "\n",
    "    COIN_VALUES = {\n",
    "        \"quarters\": 0.25,\n",
    "        \"dimes\": 0.10,\n",
    "        \"nickles\": 0.05,\n",
    "        \"pennies\": 0.01\n",
    "    }\n",
    "\n",
    "    def __init__(self):\n",
    "        self.profit = 0\n",
    "        self.money_received = 0\n",
    "\n",
    "    def report(self):\n",
    "        \"\"\"Prints the current profit\"\"\"\n",
    "        print(f\"Money: {self.CURRENCY}{self.profit}\")\n",
    "\n",
    "    def process_coins(self):\n",
    "        \"\"\"Returns the total calculated from coins inserted.\"\"\"\n",
    "        print(\"Please insert coins.\")\n",
    "        for coin in self.COIN_VALUES:\n",
    "            self.money_received += int(input(f\"How many {coin}?: \")) * self.COIN_VALUES[coin]\n",
    "        return self.money_received\n",
    "\n",
    "    def make_payment(self, cost):\n",
    "        \"\"\"Returns True when payment is accepted, or False if insufficient.\"\"\"\n",
    "        self.process_coins()\n",
    "        if self.money_received >= cost:\n",
    "            change = round(self.money_received - cost, 2)\n",
    "            print(f\"Here is {self.CURRENCY}{change} in change.\")\n",
    "            self.profit += cost\n",
    "            self.money_received = 0\n",
    "            return True\n",
    "        else:\n",
    "            print(\"Sorry that's not enough money. Money refunded.\")\n",
    "            self.money_received = 0\n",
    "            return False\n",
    "        \n"
   ]
  },
  {
   "cell_type": "code",
   "execution_count": 13,
   "id": "d40cdad9",
   "metadata": {
    "ExecuteTime": {
     "end_time": "2023-01-29T15:06:40.751675Z",
     "start_time": "2023-01-29T15:06:38.613270Z"
    }
   },
   "outputs": [
    {
     "name": "stdout",
     "output_type": "stream",
     "text": [
      "What would you like? (latte/espresso/cappuccino/): off\n"
     ]
    }
   ],
   "source": [
    "money_machine = MoneyMachine()\n",
    "coffee_maker = CoffeeMaker()\n",
    "menu = Menu()\n",
    "\n",
    "is_on = True\n",
    "\n",
    "while is_on:\n",
    "    options = menu.get_items()\n",
    "    choice = input(f\"What would you like? ({options}): \")\n",
    "    if choice == \"off\":\n",
    "        is_on = False\n",
    "    elif choice == \"report\":\n",
    "        coffee_maker.report()\n",
    "        money_machine.report()\n",
    "    else:\n",
    "        drink = menu.find_drink(choice)\n",
    "        \n",
    "        if coffee_maker.is_resource_sufficient(drink) and money_machine.make_payment(drink.cost):\n",
    "            coffee_maker.make_coffee(drink)\n",
    "\n",
    "\n"
   ]
  },
  {
   "cell_type": "code",
   "execution_count": null,
   "id": "bc7e7fae",
   "metadata": {},
   "outputs": [],
   "source": []
  }
 ],
 "metadata": {
  "hide_input": false,
  "kernelspec": {
   "display_name": "Python 3 (ipykernel)",
   "language": "python",
   "name": "python3"
  },
  "language_info": {
   "codemirror_mode": {
    "name": "ipython",
    "version": 3
   },
   "file_extension": ".py",
   "mimetype": "text/x-python",
   "name": "python",
   "nbconvert_exporter": "python",
   "pygments_lexer": "ipython3",
   "version": "3.9.7"
  },
  "toc": {
   "base_numbering": 1,
   "nav_menu": {},
   "number_sections": false,
   "sideBar": true,
   "skip_h1_title": false,
   "title_cell": "Table of Contents",
   "title_sidebar": "Contents",
   "toc_cell": false,
   "toc_position": {},
   "toc_section_display": true,
   "toc_window_display": false
  },
  "varInspector": {
   "cols": {
    "lenName": 16,
    "lenType": 16,
    "lenVar": 40
   },
   "kernels_config": {
    "python": {
     "delete_cmd_postfix": "",
     "delete_cmd_prefix": "del ",
     "library": "var_list.py",
     "varRefreshCmd": "print(var_dic_list())"
    },
    "r": {
     "delete_cmd_postfix": ") ",
     "delete_cmd_prefix": "rm(",
     "library": "var_list.r",
     "varRefreshCmd": "cat(var_dic_list()) "
    }
   },
   "types_to_exclude": [
    "module",
    "function",
    "builtin_function_or_method",
    "instance",
    "_Feature"
   ],
   "window_display": false
  }
 },
 "nbformat": 4,
 "nbformat_minor": 5
}
