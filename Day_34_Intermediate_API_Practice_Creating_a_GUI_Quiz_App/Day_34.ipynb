{
 "cells": [
  {
   "cell_type": "code",
   "execution_count": 1,
   "id": "8d7d3a26",
   "metadata": {
    "ExecuteTime": {
     "end_time": "2023-02-14T00:03:12.299225Z",
     "start_time": "2023-02-14T00:03:12.293015Z"
    }
   },
   "outputs": [
    {
     "data": {
      "text/html": [
       "<style>.container { width:100% !important; }</style>"
      ],
      "text/plain": [
       "<IPython.core.display.HTML object>"
      ]
     },
     "metadata": {},
     "output_type": "display_data"
    }
   ],
   "source": [
    "from IPython.display import HTML\n",
    "display(HTML(\"<style>.container { width:100% !important; }</style>\"))"
   ]
  },
  {
   "cell_type": "code",
   "execution_count": null,
   "id": "922d641e",
   "metadata": {},
   "outputs": [],
   "source": [
    "import requests\n",
    "\n",
    "parameters = {\n",
    "    \"amount\": 10,\n",
    "    \"type\": \"boolean\",\n",
    "}\n",
    "\n",
    "response = requests.get(\"https://opentdb.com/api.php\", params=parameters)\n",
    "response.raise_for_status()\n",
    "data = response.json()\n",
    "question_data = data[\"results\"]\n"
   ]
  },
  {
   "cell_type": "code",
   "execution_count": null,
   "id": "38c54449",
   "metadata": {},
   "outputs": [],
   "source": [
    "class Question:\n",
    "\n",
    "    def __init__(self, q_text, q_answer):\n",
    "        self.text = q_text\n",
    "        self.answer = q_answer\n"
   ]
  },
  {
   "cell_type": "code",
   "execution_count": 9,
   "id": "b3d98990",
   "metadata": {
    "ExecuteTime": {
     "end_time": "2023-02-14T00:05:16.503168Z",
     "start_time": "2023-02-14T00:05:16.499568Z"
    }
   },
   "outputs": [],
   "source": [
    "import html\n",
    "\n",
    "\n",
    "class QuizBrain:\n",
    "\n",
    "    def __init__(self, q_list):\n",
    "        self.question_number = 0\n",
    "        self.score = 0\n",
    "        self.question_list = q_list\n",
    "        self.current_question = None\n",
    "\n",
    "    def still_has_questions(self):\n",
    "        return self.question_number < len(self.question_list)\n",
    "\n",
    "    def next_question(self):\n",
    "        self.current_question = self.question_list[self.question_number]\n",
    "        self.question_number += 1\n",
    "        q_text = html.unescape(self.current_question.text)\n",
    "        return f\"Q.{self.question_number}: {q_text}\"\n",
    "\n",
    "    def check_answer(self, user_answer):\n",
    "        correct_answer = self.current_question.answer\n",
    "        if user_answer.lower() == correct_answer.lower():\n",
    "            self.score += 1\n",
    "            return True\n",
    "        else:\n",
    "            return False\n",
    "\n"
   ]
  },
  {
   "cell_type": "code",
   "execution_count": 10,
   "id": "95e675e7",
   "metadata": {
    "ExecuteTime": {
     "end_time": "2023-02-14T00:05:17.273256Z",
     "start_time": "2023-02-14T00:05:17.265190Z"
    }
   },
   "outputs": [],
   "source": [
    "from tkinter import *\n",
    "\n",
    "THEME_COLOR = \"#375362\"\n",
    "\n",
    "\n",
    "class QuizInterface:\n",
    "\n",
    "    def __init__(self, quiz_brain: QuizBrain):\n",
    "        self.quiz = quiz_brain\n",
    "\n",
    "        self.window = Tk()\n",
    "        self.window.title(\"Quizzler\")\n",
    "        self.window.config(padx=20, pady=20, bg=THEME_COLOR)\n",
    "\n",
    "        self.score_label = Label(text=\"Score: 0\", fg=\"white\", bg=THEME_COLOR)\n",
    "        self.score_label.grid(row=0, column=1)\n",
    "\n",
    "        self.canvas = Canvas(width=300, height=250, bg=\"white\")\n",
    "        self.question_text = self.canvas.create_text(\n",
    "            150,\n",
    "            125,\n",
    "            width=280,\n",
    "            text=\"Some Question Text\",\n",
    "            fill=THEME_COLOR,\n",
    "            font=(\"Arial\", 20, \"italic\")\n",
    "        )\n",
    "        self.canvas.grid(row=1, column=0, columnspan=2, pady=50)\n",
    "\n",
    "        true_image = PhotoImage(file=\"images/true.png\")\n",
    "        self.true_button = Button(image=true_image, highlightthickness=0, command=self.true_pressed)\n",
    "        self.true_button.grid(row=2, column=0)\n",
    "\n",
    "        false_image = PhotoImage(file=\"images/false.png\")\n",
    "        self.false_button = Button(image=false_image, highlightthickness=0, command=self.false_pressed)\n",
    "        self.false_button.grid(row=2, column=1)\n",
    "\n",
    "        self.get_next_question()\n",
    "\n",
    "        self.window.mainloop()\n",
    "\n",
    "    def get_next_question(self):\n",
    "        self.canvas.config(bg=\"white\")\n",
    "        if self.quiz.still_has_questions():\n",
    "            self.score_label.config(text=f\"Score: {self.quiz.score}\")\n",
    "            q_text = self.quiz.next_question()\n",
    "            self.canvas.itemconfig(self.question_text, text=q_text)\n",
    "        else:\n",
    "            self.canvas.itemconfig(self.question_text, text=\"You've reached the end of the quiz.\")\n",
    "            self.true_button.config(state=\"disabled\")\n",
    "            self.false_button.config(state=\"disabled\")\n",
    "\n",
    "    def true_pressed(self):\n",
    "        self.give_feedback(self.quiz.check_answer(\"True\"))\n",
    "\n",
    "    def false_pressed(self):\n",
    "        is_right = self.quiz.check_answer(\"False\")\n",
    "        self.give_feedback(is_right)\n",
    "\n",
    "    def give_feedback(self, is_right):\n",
    "        if is_right:\n",
    "            self.canvas.config(bg=\"green\")\n",
    "        else:\n",
    "            self.canvas.config(bg=\"red\")\n",
    "        self.window.after(1000, self.get_next_question)"
   ]
  },
  {
   "cell_type": "code",
   "execution_count": 13,
   "id": "4fb28918",
   "metadata": {
    "ExecuteTime": {
     "end_time": "2023-02-14T00:05:46.591111Z",
     "start_time": "2023-02-14T00:05:19.806748Z"
    }
   },
   "outputs": [],
   "source": [
    "\n",
    "question_bank = []\n",
    "for question in question_data:\n",
    "    question_text = question[\"question\"]\n",
    "    question_answer = question[\"correct_answer\"]\n",
    "    new_question = Question(question_text, question_answer)\n",
    "    question_bank.append(new_question)\n",
    "\n",
    "\n",
    "quiz = QuizBrain(question_bank)\n",
    "quiz_ui = QuizInterface(quiz)\n"
   ]
  },
  {
   "cell_type": "code",
   "execution_count": null,
   "id": "2ff11114",
   "metadata": {},
   "outputs": [],
   "source": []
  }
 ],
 "metadata": {
  "hide_input": false,
  "kernelspec": {
   "display_name": "Python 3 (ipykernel)",
   "language": "python",
   "name": "python3"
  },
  "language_info": {
   "codemirror_mode": {
    "name": "ipython",
    "version": 3
   },
   "file_extension": ".py",
   "mimetype": "text/x-python",
   "name": "python",
   "nbconvert_exporter": "python",
   "pygments_lexer": "ipython3",
   "version": "3.9.7"
  },
  "toc": {
   "base_numbering": 1,
   "nav_menu": {},
   "number_sections": false,
   "sideBar": true,
   "skip_h1_title": false,
   "title_cell": "Table of Contents",
   "title_sidebar": "Contents",
   "toc_cell": false,
   "toc_position": {},
   "toc_section_display": true,
   "toc_window_display": false
  },
  "varInspector": {
   "cols": {
    "lenName": 16,
    "lenType": 16,
    "lenVar": 40
   },
   "kernels_config": {
    "python": {
     "delete_cmd_postfix": "",
     "delete_cmd_prefix": "del ",
     "library": "var_list.py",
     "varRefreshCmd": "print(var_dic_list())"
    },
    "r": {
     "delete_cmd_postfix": ") ",
     "delete_cmd_prefix": "rm(",
     "library": "var_list.r",
     "varRefreshCmd": "cat(var_dic_list()) "
    }
   },
   "types_to_exclude": [
    "module",
    "function",
    "builtin_function_or_method",
    "instance",
    "_Feature"
   ],
   "window_display": false
  }
 },
 "nbformat": 4,
 "nbformat_minor": 5
}
