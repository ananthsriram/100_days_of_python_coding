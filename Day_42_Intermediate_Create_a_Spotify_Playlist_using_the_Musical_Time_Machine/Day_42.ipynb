{
 "cells": [
  {
   "cell_type": "code",
   "execution_count": 1,
   "id": "5190affa",
   "metadata": {
    "ExecuteTime": {
     "end_time": "2023-02-15T05:13:11.755557Z",
     "start_time": "2023-02-15T05:13:11.748845Z"
    }
   },
   "outputs": [
    {
     "data": {
      "text/html": [
       "<style>.container { width:100% !important; }</style>"
      ],
      "text/plain": [
       "<IPython.core.display.HTML object>"
      ]
     },
     "metadata": {},
     "output_type": "display_data"
    }
   ],
   "source": [
    "from IPython.display import HTML\n",
    "display(HTML(\"<style>.container { width:100% !important; }</style>\"))"
   ]
  },
  {
   "cell_type": "code",
   "execution_count": null,
   "id": "5f9f152a",
   "metadata": {},
   "outputs": [],
   "source": [
    "from bs4 import BeautifulSoup\n",
    "import requests\n",
    "import spotipy\n",
    "from spotipy.oauth2 import SpotifyOAuth\n",
    "\n",
    "SPOTIFY_CLIENT_ID = \"YOUR CLIENT ID\"\n",
    "SPOTIFY_CLIENT_SECRET = \"YOUR CLIENT SECRET\"\n",
    "\n",
    "# Scraping Billboard 100\n",
    "date = input(\"Which year do you want to travel to? Type the date in this format YYYY-MM-DD: \")\n",
    "response = requests.get(\"https://www.billboard.com/charts/hot-100/\" + date)\n",
    "soup = BeautifulSoup(response.text, 'html.parser')\n",
    "song_names_spans = soup.find_all(\"span\", class_=\"chart-element__information__song\")\n",
    "song_names = [song.getText() for song in song_names_spans]\n",
    "\n",
    "#Spotify Authentication\n",
    "sp = spotipy.Spotify(\n",
    "    auth_manager=SpotifyOAuth(\n",
    "        scope=\"playlist-modify-private\",\n",
    "        redirect_uri=\"http://example.com\",\n",
    "        client_id=SPOTIFY_CLIENT_ID,\n",
    "        client_secret=SPOTIFY_CLIENT_SECRET,\n",
    "        show_dialog=True,\n",
    "        cache_path=\"token.txt\"\n",
    "    )\n",
    ")\n",
    "user_id = sp.current_user()[\"id\"]\n",
    "print(user_id)\n",
    "\n",
    "#Searching Spotify for songs by title\n",
    "song_uris = []\n",
    "year = date.split(\"-\")[0]\n",
    "for song in song_names:\n",
    "    result = sp.search(q=f\"track:{song} year:{year}\", type=\"track\")\n",
    "    print(result)\n",
    "    try:\n",
    "        uri = result[\"tracks\"][\"items\"][0][\"uri\"]\n",
    "        song_uris.append(uri)\n",
    "    except IndexError:\n",
    "        print(f\"{song} doesn't exist in Spotify. Skipped.\")\n",
    "\n",
    "#Creating a new private playlist in Spotify\n",
    "playlist = sp.user_playlist_create(user=user_id, name=f\"{date} Billboard 100\", public=False)\n",
    "print(playlist)\n",
    "\n",
    "#Adding songs found into the new playlist\n",
    "sp.playlist_add_items(playlist_id=playlist[\"id\"], items=song_uris)\n"
   ]
  }
 ],
 "metadata": {
  "hide_input": false,
  "kernelspec": {
   "display_name": "Python 3 (ipykernel)",
   "language": "python",
   "name": "python3"
  },
  "language_info": {
   "codemirror_mode": {
    "name": "ipython",
    "version": 3
   },
   "file_extension": ".py",
   "mimetype": "text/x-python",
   "name": "python",
   "nbconvert_exporter": "python",
   "pygments_lexer": "ipython3",
   "version": "3.9.7"
  },
  "toc": {
   "base_numbering": 1,
   "nav_menu": {},
   "number_sections": false,
   "sideBar": true,
   "skip_h1_title": false,
   "title_cell": "Table of Contents",
   "title_sidebar": "Contents",
   "toc_cell": false,
   "toc_position": {},
   "toc_section_display": true,
   "toc_window_display": false
  },
  "varInspector": {
   "cols": {
    "lenName": 16,
    "lenType": 16,
    "lenVar": 40
   },
   "kernels_config": {
    "python": {
     "delete_cmd_postfix": "",
     "delete_cmd_prefix": "del ",
     "library": "var_list.py",
     "varRefreshCmd": "print(var_dic_list())"
    },
    "r": {
     "delete_cmd_postfix": ") ",
     "delete_cmd_prefix": "rm(",
     "library": "var_list.r",
     "varRefreshCmd": "cat(var_dic_list()) "
    }
   },
   "types_to_exclude": [
    "module",
    "function",
    "builtin_function_or_method",
    "instance",
    "_Feature"
   ],
   "window_display": false
  }
 },
 "nbformat": 4,
 "nbformat_minor": 5
}
