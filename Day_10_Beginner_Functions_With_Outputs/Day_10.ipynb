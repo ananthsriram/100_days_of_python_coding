{
 "cells": [
  {
   "cell_type": "code",
   "execution_count": 31,
   "id": "8f67de42",
   "metadata": {
    "ExecuteTime": {
     "end_time": "2023-01-26T07:09:57.522766Z",
     "start_time": "2023-01-26T07:09:57.519578Z"
    }
   },
   "outputs": [
    {
     "data": {
      "text/html": [
       "<style>.container { width:100% !important; }</style>"
      ],
      "text/plain": [
       "<IPython.core.display.HTML object>"
      ]
     },
     "metadata": {},
     "output_type": "display_data"
    }
   ],
   "source": [
    "from IPython.display import HTML\n",
    "display(HTML(\"<style>.container { width:100% !important; }</style>\"))"
   ]
  },
  {
   "cell_type": "code",
   "execution_count": 32,
   "id": "c4089547",
   "metadata": {
    "ExecuteTime": {
     "end_time": "2023-01-26T07:09:57.526598Z",
     "start_time": "2023-01-26T07:09:57.524119Z"
    }
   },
   "outputs": [
    {
     "name": "stdout",
     "output_type": "stream",
     "text": [
      "Ananth Sriram\n"
     ]
    }
   ],
   "source": [
    "## Functions with outputs\n",
    "\n",
    "def format_name(f_name,l_name):\n",
    "    f_name = f_name.title()\n",
    "    l_name = l_name.title()\n",
    "    return f\"{f_name} {l_name}\"\n",
    "    \n",
    "formatted_name = format_name('ANANTH','sriram')    \n",
    "print (formatted_name)"
   ]
  },
  {
   "cell_type": "code",
   "execution_count": 33,
   "id": "b829de11",
   "metadata": {
    "ExecuteTime": {
     "end_time": "2023-01-26T07:10:09.351178Z",
     "start_time": "2023-01-26T07:09:57.528044Z"
    }
   },
   "outputs": [
    {
     "name": "stdout",
     "output_type": "stream",
     "text": [
      "Please enter your first name : ananth\n",
      "Please enter your last name : SriRAM\n",
      "Result : Ananth Sriram\n"
     ]
    }
   ],
   "source": [
    "## Functions with outputs\n",
    "\n",
    "def format_name(f_name,l_name):\n",
    "    if f_name == '' or l_name == '':\n",
    "        return ('Please provide valid inputs!')\n",
    "    f_name = f_name.title()\n",
    "    l_name = l_name.title()\n",
    "    #print (f_name,l_name)\n",
    "    return f\"Result : {f_name} {l_name}\"\n",
    "    \n",
    "formatted_name = format_name(input(\"Please enter your first name : \"),input(\"Please enter your last name : \")) \n",
    "print (formatted_name)"
   ]
  },
  {
   "cell_type": "code",
   "execution_count": 34,
   "id": "2db0c3e1",
   "metadata": {
    "ExecuteTime": {
     "end_time": "2023-01-26T07:10:15.605684Z",
     "start_time": "2023-01-26T07:10:09.353370Z"
    }
   },
   "outputs": [
    {
     "name": "stdout",
     "output_type": "stream",
     "text": [
      "Enter a year : 2023\n",
      "Enter a month : 1\n",
      "Number of days : 31\n"
     ]
    }
   ],
   "source": [
    "## Days in month exercise\n",
    "\n",
    "def is_leap(year):\n",
    "    if year % 4 == 0:\n",
    "        if year % 100 == 0:\n",
    "            if year % 400 == 0:\n",
    "                return True\n",
    "            else:\n",
    "                return False\n",
    "        else:\n",
    "            return True\n",
    "    else:\n",
    "        return False\n",
    "        \n",
    "def days_in_month(year,month):\n",
    "    \"\"\"\n",
    "    Takes Year and Month numbers as input in int format and returns number of days in that month.\n",
    "    \"\"\"\n",
    "    month_days = [31,28,31,30,31,30,31,31,30,31,30,31]\n",
    "    if is_leap(year) and month == 2:\n",
    "        num_days = month_days[month-1] + 1\n",
    "    else:\n",
    "            num_days = month_days[month-1]\n",
    "    return (num_days)\n",
    "    \n",
    "    \n",
    "year = int(input(\"Enter a year : \"))    \n",
    "month = int(input(\"Enter a month : \"))  \n",
    "if month > 12 or month < 1:\n",
    "    print ('Please enter valid month!')\n",
    "else:\n",
    "    days = days_in_month(year,month)\n",
    "    print (f\"Number of days : {days}\")\n",
    "\n"
   ]
  },
  {
   "cell_type": "code",
   "execution_count": 35,
   "id": "1c30e928",
   "metadata": {
    "ExecuteTime": {
     "end_time": "2023-01-26T07:10:15.609640Z",
     "start_time": "2023-01-26T07:10:15.606957Z"
    }
   },
   "outputs": [],
   "source": [
    "logo = \"\"\"\n",
    " _____________________\n",
    "|  _________________  |\n",
    "| | Pythonista   0. | |  .----------------.  .----------------.  .----------------.  .----------------. \n",
    "| |_________________| | | .--------------. || .--------------. || .--------------. || .--------------. |\n",
    "|  ___ ___ ___   ___  | | |     ______   | || |      __      | || |   _____      | || |     ______   | |\n",
    "| | 7 | 8 | 9 | | + | | | |   .' ___  |  | || |     /  \\     | || |  |_   _|     | || |   .' ___  |  | |\n",
    "| |___|___|___| |___| | | |  / .'   \\_|  | || |    / /\\ \\    | || |    | |       | || |  / .'   \\_|  | |\n",
    "| | 4 | 5 | 6 | | - | | | |  | |         | || |   / ____ \\   | || |    | |   _   | || |  | |         | |\n",
    "| |___|___|___| |___| | | |  \\ `.___.'\\  | || | _/ /    \\ \\_ | || |   _| |__/ |  | || |  \\ `.___.'\\  | |\n",
    "| | 1 | 2 | 3 | | x | | | |   `._____.'  | || ||____|  |____|| || |  |________|  | || |   `._____.'  | |\n",
    "| |___|___|___| |___| | | |              | || |              | || |              | || |              | |\n",
    "| | . | 0 | = | | / | | | '--------------' || '--------------' || '--------------' || '--------------' |\n",
    "| |___|___|___| |___| |  '----------------'  '----------------'  '----------------'  '----------------' \n",
    "|_____________________|\n",
    "\"\"\"\n"
   ]
  },
  {
   "cell_type": "code",
   "execution_count": 36,
   "id": "26c21d0c",
   "metadata": {
    "ExecuteTime": {
     "end_time": "2023-01-26T07:10:23.279040Z",
     "start_time": "2023-01-26T07:10:15.611870Z"
    }
   },
   "outputs": [
    {
     "name": "stdout",
     "output_type": "stream",
     "text": [
      "Enter first number : 1\n",
      "Enter second number : 2\n",
      "+\n",
      "-\n",
      "*\n",
      "/\n",
      "Pick an operation from above : +\n",
      "1 + 2 = 3\n"
     ]
    }
   ],
   "source": [
    "#### Calculator - Part 1\n",
    "\n",
    "def add(n1,n2):\n",
    "    return n1 + n2\n",
    "\n",
    "def subtract(n1,n2):\n",
    "    return n1 - n2\n",
    "\n",
    "def multiply(n1,n2):\n",
    "    return n1 * n2\n",
    "\n",
    "def divide(n1,n2):\n",
    "    return n1 / n2\n",
    "\n",
    "operation_dict = {\"+\":add, \"-\":subtract, \"*\":multiply, \"/\":divide}\n",
    "\n",
    "num1 = int(input(\"Enter first number : \"))\n",
    "num2 = int(input(\"Enter second number : \"))\n",
    "for symbol in operation_dict:\n",
    "    print (symbol)\n",
    "operation_symbol = input('Pick an operation from above : ')    \n",
    "\n",
    "answer = operation_dict[operation_symbol](num1,num2)\n",
    "print (f\"{num1} {operation_symbol} {num2} = {answer}\")\n"
   ]
  },
  {
   "cell_type": "code",
   "execution_count": 38,
   "id": "1329278a",
   "metadata": {
    "ExecuteTime": {
     "end_time": "2023-01-26T07:10:37.048851Z",
     "start_time": "2023-01-26T07:10:31.962971Z"
    }
   },
   "outputs": [
    {
     "name": "stdout",
     "output_type": "stream",
     "text": [
      "Enter first number : 1\n",
      "+\n",
      "-\n",
      "*\n",
      "/\n",
      "Pick an operation from above : +\n",
      "Enter second number : 2\n",
      "1 + 2 = 3\n",
      "Type 'y' to continue calculating with 3, or type 'n' to exit : n\n"
     ]
    }
   ],
   "source": [
    "#### Calculator - Part 2\n",
    "\n",
    "continue_operation = True\n",
    "num1 = int(input(\"Enter first number : \"))\n",
    "for symbol in operation_dict:\n",
    "    print (symbol)    \n",
    "while continue_operation:\n",
    "    operation_symbol = input('Pick an operation from above : ')       \n",
    "    num2 = int(input(\"Enter second number : \"))   \n",
    "    answer = operation_dict[operation_symbol](num1,num2)\n",
    "    print (f\"{num1} {operation_symbol} {num2} = {answer}\")\n",
    "    user_choice = input(f\"Type 'y' to continue calculating with {answer}, or type 'n' to exit : \")\n",
    "    if user_choice == 'y':\n",
    "        num1 = answer\n",
    "    else:\n",
    "        continue_operation = False\n",
    "    "
   ]
  },
  {
   "cell_type": "code",
   "execution_count": null,
   "id": "9378afe1",
   "metadata": {
    "ExecuteTime": {
     "end_time": "2023-01-26T07:11:02.292574Z",
     "start_time": "2023-01-26T07:10:43.528588Z"
    }
   },
   "outputs": [],
   "source": [
    "#### Calculator - Part 3\n",
    "\n",
    "def calculator():\n",
    "    continue_operation = True\n",
    "    num1 = int(input(\"Enter first number : \"))\n",
    "    for symbol in operation_dict:\n",
    "        print (symbol)    \n",
    "    while continue_operation:\n",
    "        operation_symbol = input('Pick an operation from above : ')       \n",
    "        num2 = int(input(\"Enter second number : \"))   \n",
    "        answer = operation_dict[operation_symbol](num1,num2)\n",
    "        print (f\"{num1} {operation_symbol} {num2} = {answer}\")\n",
    "        user_choice = input(f\"Type 'y' to continue calculating with {answer}, or type 'n' to start a new calculation : \")\n",
    "        if user_choice == 'y':\n",
    "            num1 = answer\n",
    "        else:\n",
    "            #continue_operation = False\n",
    "            calculator()\n",
    "\n",
    "calculator()            "
   ]
  },
  {
   "cell_type": "code",
   "execution_count": 45,
   "id": "296e9105",
   "metadata": {
    "ExecuteTime": {
     "end_time": "2023-01-26T07:16:38.241721Z",
     "start_time": "2023-01-26T07:15:16.871699Z"
    }
   },
   "outputs": [
    {
     "name": "stdout",
     "output_type": "stream",
     "text": [
      "\n",
      " _____________________\n",
      "|  _________________  |\n",
      "| | Pythonista   0. | |  .----------------.  .----------------.  .----------------.  .----------------. \n",
      "| |_________________| | | .--------------. || .--------------. || .--------------. || .--------------. |\n",
      "|  ___ ___ ___   ___  | | |     ______   | || |      __      | || |   _____      | || |     ______   | |\n",
      "| | 7 | 8 | 9 | | + | | | |   .' ___  |  | || |     /  \\     | || |  |_   _|     | || |   .' ___  |  | |\n",
      "| |___|___|___| |___| | | |  / .'   \\_|  | || |    / /\\ \\    | || |    | |       | || |  / .'   \\_|  | |\n",
      "| | 4 | 5 | 6 | | - | | | |  | |         | || |   / ____ \\   | || |    | |   _   | || |  | |         | |\n",
      "| |___|___|___| |___| | | |  \\ `.___.'\\  | || | _/ /    \\ \\_ | || |   _| |__/ |  | || |  \\ `.___.'\\  | |\n",
      "| | 1 | 2 | 3 | | x | | | |   `._____.'  | || ||____|  |____|| || |  |________|  | || |   `._____.'  | |\n",
      "| |___|___|___| |___| | | |              | || |              | || |              | || |              | |\n",
      "| | . | 0 | = | | / | | | '--------------' || '--------------' || '--------------' || '--------------' |\n",
      "| |___|___|___| |___| |  '----------------'  '----------------'  '----------------'  '----------------' \n",
      "|_____________________|\n",
      "\n",
      "Enter first number : 1\n",
      "+\n",
      "-\n",
      "*\n",
      "/\n",
      "Pick an operation from above : +\n",
      "Enter second number : 2\n",
      "1.0 + 2.0 = 3.0\n",
      "Type 'y' to continue calculating with 3.0, or type 'n' to start a new calculation or type 'e' to exit : y\n",
      "Pick an operation from above : +\n",
      "Enter second number : 3\n",
      "3.0 + 3.0 = 6.0\n",
      "Type 'y' to continue calculating with 6.0, or type 'n' to start a new calculation or type 'e' to exit : n\n",
      "\n",
      " _____________________\n",
      "|  _________________  |\n",
      "| | Pythonista   0. | |  .----------------.  .----------------.  .----------------.  .----------------. \n",
      "| |_________________| | | .--------------. || .--------------. || .--------------. || .--------------. |\n",
      "|  ___ ___ ___   ___  | | |     ______   | || |      __      | || |   _____      | || |     ______   | |\n",
      "| | 7 | 8 | 9 | | + | | | |   .' ___  |  | || |     /  \\     | || |  |_   _|     | || |   .' ___  |  | |\n",
      "| |___|___|___| |___| | | |  / .'   \\_|  | || |    / /\\ \\    | || |    | |       | || |  / .'   \\_|  | |\n",
      "| | 4 | 5 | 6 | | - | | | |  | |         | || |   / ____ \\   | || |    | |   _   | || |  | |         | |\n",
      "| |___|___|___| |___| | | |  \\ `.___.'\\  | || | _/ /    \\ \\_ | || |   _| |__/ |  | || |  \\ `.___.'\\  | |\n",
      "| | 1 | 2 | 3 | | x | | | |   `._____.'  | || ||____|  |____|| || |  |________|  | || |   `._____.'  | |\n",
      "| |___|___|___| |___| | | |              | || |              | || |              | || |              | |\n",
      "| | . | 0 | = | | / | | | '--------------' || '--------------' || '--------------' || '--------------' |\n",
      "| |___|___|___| |___| |  '----------------'  '----------------'  '----------------'  '----------------' \n",
      "|_____________________|\n",
      "\n",
      "Enter first number : 1\n",
      "+\n",
      "-\n",
      "*\n",
      "/\n",
      "Pick an operation from above : +\n",
      "Enter second number : 2\n",
      "1.0 + 2.0 = 3.0\n",
      "Type 'y' to continue calculating with 3.0, or type 'n' to start a new calculation or type 'e' to exit : e\n",
      "Bye!!\n",
      "Pick an operation from above : +\n",
      "Enter second number : 2\n",
      "3.0 + 2.0 = 5.0\n",
      "Type 'y' to continue calculating with 5.0, or type 'n' to start a new calculation or type 'e' to exit : e\n",
      "Bye!!\n"
     ]
    },
    {
     "data": {
      "text/plain": [
       "'Exit'"
      ]
     },
     "execution_count": 45,
     "metadata": {},
     "output_type": "execute_result"
    }
   ],
   "source": [
    "#### Calculator - Final\n",
    "\n",
    "def add(n1,n2):\n",
    "    return n1 + n2\n",
    "\n",
    "def subtract(n1,n2):\n",
    "    return n1 - n2\n",
    "\n",
    "def multiply(n1,n2):\n",
    "    return n1 * n2\n",
    "\n",
    "def divide(n1,n2):\n",
    "    return n1 / n2\n",
    "\n",
    "operation_dict = {\"+\":add, \"-\":subtract, \"*\":multiply, \"/\":divide}\n",
    "\n",
    "def calculator():\n",
    "    print (logo)\n",
    "    continue_operation = True\n",
    "    num1 = float(input(\"Enter first number : \"))\n",
    "    for symbol in operation_dict:\n",
    "        print (symbol)    \n",
    "    while continue_operation:\n",
    "        operation_symbol = input('Pick an operation from above : ')       \n",
    "        num2 = float(input(\"Enter second number : \"))   \n",
    "        answer = operation_dict[operation_symbol](num1,num2)\n",
    "        print (f\"{num1} {operation_symbol} {num2} = {answer}\")\n",
    "        user_choice = input(f\"Type 'y' to continue calculating with {answer}, or type 'n' to start a new calculation or type 'e' to exit : \")\n",
    "        if user_choice == 'y':\n",
    "            num1 = answer\n",
    "        elif user_choice == 'n':\n",
    "            #continue_operation = False\n",
    "            calculator()\n",
    "        elif user_choice == 'e':\n",
    "            continue_operation = False\n",
    "            print ('Bye!!')\n",
    "            return 'Exit'\n",
    "\n",
    "calculator()     "
   ]
  },
  {
   "cell_type": "code",
   "execution_count": null,
   "id": "6105234a",
   "metadata": {},
   "outputs": [],
   "source": []
  }
 ],
 "metadata": {
  "hide_input": false,
  "kernelspec": {
   "display_name": "Python 3 (ipykernel)",
   "language": "python",
   "name": "python3"
  },
  "language_info": {
   "codemirror_mode": {
    "name": "ipython",
    "version": 3
   },
   "file_extension": ".py",
   "mimetype": "text/x-python",
   "name": "python",
   "nbconvert_exporter": "python",
   "pygments_lexer": "ipython3",
   "version": "3.9.7"
  },
  "toc": {
   "base_numbering": 1,
   "nav_menu": {},
   "number_sections": false,
   "sideBar": true,
   "skip_h1_title": false,
   "title_cell": "Table of Contents",
   "title_sidebar": "Contents",
   "toc_cell": false,
   "toc_position": {},
   "toc_section_display": true,
   "toc_window_display": false
  },
  "varInspector": {
   "cols": {
    "lenName": 16,
    "lenType": 16,
    "lenVar": 40
   },
   "kernels_config": {
    "python": {
     "delete_cmd_postfix": "",
     "delete_cmd_prefix": "del ",
     "library": "var_list.py",
     "varRefreshCmd": "print(var_dic_list())"
    },
    "r": {
     "delete_cmd_postfix": ") ",
     "delete_cmd_prefix": "rm(",
     "library": "var_list.r",
     "varRefreshCmd": "cat(var_dic_list()) "
    }
   },
   "types_to_exclude": [
    "module",
    "function",
    "builtin_function_or_method",
    "instance",
    "_Feature"
   ],
   "window_display": false
  }
 },
 "nbformat": 4,
 "nbformat_minor": 5
}
