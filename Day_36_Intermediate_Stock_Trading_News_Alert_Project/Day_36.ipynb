{
 "cells": [
  {
   "cell_type": "code",
   "execution_count": 1,
   "id": "62218d9a",
   "metadata": {
    "ExecuteTime": {
     "end_time": "2023-02-14T00:49:31.021505Z",
     "start_time": "2023-02-14T00:49:31.015037Z"
    }
   },
   "outputs": [
    {
     "data": {
      "text/html": [
       "<style>.container { width:100% !important; }</style>"
      ],
      "text/plain": [
       "<IPython.core.display.HTML object>"
      ]
     },
     "metadata": {},
     "output_type": "display_data"
    }
   ],
   "source": [
    "from IPython.display import HTML\n",
    "display(HTML(\"<style>.container { width:100% !important; }</style>\"))"
   ]
  },
  {
   "cell_type": "code",
   "execution_count": 30,
   "id": "baf4e768",
   "metadata": {
    "ExecuteTime": {
     "end_time": "2023-02-14T01:25:15.257301Z",
     "start_time": "2023-02-14T01:25:12.712643Z"
    }
   },
   "outputs": [
    {
     "name": "stdout",
     "output_type": "stream",
     "text": [
      "TSLA: 🔻-1%\n",
      "Headline: Tesla, Inc. (NASDAQ:TSLA) Q4 2022 Earnings Call Transcript. \n",
      "Brief: Tesla, Inc. (NASDAQ:TSLA) Q4 2022 Earnings Call Transcript January 25, 2023 Martin Viecha: Good afternoon everyone and welcome to Tesla’s Fourth Quarter 2022...\n",
      "\n",
      "TSLA: 🔻-1%\n",
      "Headline: TESLA INC - MUSK SAYS TESLA COST OF PRODUCTION IN BERLIN, AUSTIN…. \n",
      "Brief: (marketscreener.com) \n",
      " TESLA INC - MUSK SAYS TESLA COST OF PRODUCTION IN BERLIN, AUSTIN FACTORIES FALLING AS OUTPUT INCREASES\n",
      " https://www.marketscreener.com/quote/stock/TESLA-INC-6344549/news/TESLA-INC-MUSK-SAYS-TESLA-COST-OF-PRODUCTION-IN-BERLIN-AUSTIN-8230…\n",
      "\n",
      "TSLA: 🔻-1%\n",
      "Headline: TESLA INC - 'UNWINDING' COSTS THAT BUILT UP DURING COVID, INCLU…. \n",
      "Brief: (marketscreener.com) \n",
      " TESLA INC - 'UNWINDING' COSTS THAT BUILT UP DURING COVID, INCLUDING ON LOGISTICS AND PARTS INVENTORY\n",
      " https://www.marketscreener.com/quote/stock/TESLA-INC-6344549/news/TESLA-INC-UNWINDING-COSTS-THAT-BUILT-UP-DURING-COVID-INCLU-8230-4281…\n",
      "\n"
     ]
    }
   ],
   "source": [
    "import requests\n",
    "#from twilio.rest import Client\n",
    "\n",
    "VIRTUAL_TWILIO_NUMBER = \"your virtual twilio number\"\n",
    "VERIFIED_NUMBER = \"your own phone number verified with Twilio\"\n",
    "\n",
    "STOCK_NAME = \"TSLA\"\n",
    "COMPANY_NAME = \"Tesla Inc\"\n",
    "\n",
    "STOCK_ENDPOINT = \"https://www.alphavantage.co/query\"\n",
    "NEWS_ENDPOINT = \"https://newsapi.org/v2/everything\"\n",
    "\n",
    "STOCK_API_KEY = \"4TZZVLS8JTY9P82U\"\n",
    "NEWS_API_KEY = \"476529bf3a5a4bf7a2623aad1d59c37d\"\n",
    "TWILIO_SID = \"YOUR TWILIO ACCOUNT SID\"\n",
    "TWILIO_AUTH_TOKEN = \"YOUR TWILIO AUTH TOKEN\"\n",
    "\n",
    "## STEP 1: Use https://www.alphavantage.co/documentation/#daily\n",
    "# When stock price increase/decreases by 5% between yesterday and the day before yesterday then print(\"Get News\").\n",
    "\n",
    "#Get yesterday's closing stock price\n",
    "stock_params = {\n",
    "    \"function\": \"TIME_SERIES_DAILY_ADJUSTED\",\n",
    "    \"symbol\": STOCK_NAME,\n",
    "    \"apikey\": STOCK_API_KEY,\n",
    "}\n",
    "\n",
    "response = requests.get(STOCK_ENDPOINT, params=stock_params)\n",
    "data = response.json()[\"Time Series (Daily)\"]\n",
    "data_list = [value for (key, value) in data.items()]\n",
    "yesterday_data = data_list[0]\n",
    "yesterday_closing_price = yesterday_data[\"4. close\"]\n",
    "#print(f\"Yesterday Closing Price --> {yesterday_closing_price}\")\n",
    "\n",
    "#Get the day before yesterday's closing stock price\n",
    "day_before_yesterday_data = data_list[1]\n",
    "day_before_yesterday_closing_price = day_before_yesterday_data[\"4. close\"]\n",
    "#print(f\"Day Before Yesterday Closing Price --> {day_before_yesterday_closing_price}\")\n",
    "\n",
    "#Find the positive difference between 1 and 2. e.g. 40 - 20 = -20, but the positive difference is 20. Hint: https://www.w3schools.com/python/ref_func_abs.asp\n",
    "difference = float(yesterday_closing_price) - float(day_before_yesterday_closing_price)\n",
    "up_down = None\n",
    "if difference > 0:\n",
    "    up_down = \"🔺\"\n",
    "else:\n",
    "    up_down = \"🔻\"\n",
    "\n",
    "#Work out the percentage difference in price between closing price yesterday and closing price the day before yesterday.\n",
    "diff_percent = round((difference / float(yesterday_closing_price)) * 100)\n",
    "#print(f\"Diff Percent --> {diff_percent}%\")\n",
    "\n",
    "\n",
    "## STEP 2: Instead of printing (\"Get News\"), actually get the first 3 news pieces for the COMPANY_NAME.\n",
    "\n",
    "#Instead of printing (\"Get News\"), use the News API to get articles related to the COMPANY_NAME.\n",
    "#If difference percentage is greater than 5 then print(\"Get News\").\n",
    "if True:\n",
    "#if abs(diff_percent) > 1:\n",
    "    news_params = {\n",
    "        \"apiKey\": NEWS_API_KEY,\n",
    "        \"qInTitle\": COMPANY_NAME,\n",
    "    }\n",
    "\n",
    "    news_response = requests.get(NEWS_ENDPOINT, params=news_params)\n",
    "    articles = news_response.json()[\"articles\"]\n",
    "\n",
    "    #Use Python slice operator to create a list that contains the first 3 articles. Hint: https://stackoverflow.com/questions/509211/understanding-slice-notation\n",
    "    three_articles = articles[:3]\n",
    "    #print(three_articles)\n",
    "\n",
    "    ## STEP 3: Use Twilio to send a seperate message with each article's title and description to your phone number.\n",
    "\n",
    "    #Create a new list of the first 3 article's headline and description using list comprehension.\n",
    "    cols = ['STOCK_NAME', 'HEADLINE', 'BRIEF']\n",
    "    #lst = []\n",
    "    formatted_articles = [f\"{STOCK_NAME}: {up_down}{diff_percent}%\\nHeadline: {article['title']}. \\nBrief: {article['description']}\" for article in three_articles]\n",
    "    \n",
    "    for article in formatted_articles:\n",
    "        print (article)\n",
    "        print ('')\n",
    "    #print(formatted_articles)\n",
    "    ##Send each article as a separate message via Twilio.\n",
    "    #client = Client(TWILIO_SID, TWILIO_AUTH_TOKEN)\n",
    "    ##TODO 8. - Send each article as a separate message via Twilio.\n",
    "    #for article in formatted_articles:\n",
    "    #    message = client.messages.create(\n",
    "    #        body=article,\n",
    "    #        from_=VIRTUAL_TWILIO_NUMBER,\n",
    "    #        to=VERIFIED_NUMBER\n",
    "    #    )\n"
   ]
  },
  {
   "cell_type": "code",
   "execution_count": 29,
   "id": "abe67599",
   "metadata": {
    "ExecuteTime": {
     "end_time": "2023-02-14T01:24:57.617330Z",
     "start_time": "2023-02-14T01:24:57.615263Z"
    }
   },
   "outputs": [],
   "source": [
    "#import pandas as pd\n",
    "#pd.options.display.max_columns = None\n",
    "#pd.options.display.width=None\n",
    "#pd.options.display.max_colwidth=None\n",
    "#pd.options.display.max_rows = 250\n",
    "#from IPython.display import HTML\n",
    "#import html\n",
    "#\n",
    "#cols = ['STOCK', 'HEADLINE', 'BRIEF']\n",
    "#lst = []\n",
    "#for article in three_articles:\n",
    "#    stock_up_down = f\"{STOCK_NAME}: {up_down}{diff_percent}%\"\n",
    "#    lst.append([stock_up_down, article['title'], html.unescape(article['description'])])\n",
    "#    \n",
    "#df = pd.DataFrame(lst, columns=cols)\n",
    "#display(HTML(df.to_html(index=False,escape=False)))"
   ]
  },
  {
   "cell_type": "code",
   "execution_count": null,
   "id": "28cc3c88",
   "metadata": {
    "ExecuteTime": {
     "end_time": "2023-02-14T01:24:26.705617Z",
     "start_time": "2023-02-14T01:24:26.701975Z"
    }
   },
   "outputs": [],
   "source": []
  },
  {
   "cell_type": "code",
   "execution_count": null,
   "id": "989fc06a",
   "metadata": {},
   "outputs": [],
   "source": []
  }
 ],
 "metadata": {
  "hide_input": false,
  "kernelspec": {
   "display_name": "Python 3 (ipykernel)",
   "language": "python",
   "name": "python3"
  },
  "language_info": {
   "codemirror_mode": {
    "name": "ipython",
    "version": 3
   },
   "file_extension": ".py",
   "mimetype": "text/x-python",
   "name": "python",
   "nbconvert_exporter": "python",
   "pygments_lexer": "ipython3",
   "version": "3.9.7"
  },
  "toc": {
   "base_numbering": 1,
   "nav_menu": {},
   "number_sections": false,
   "sideBar": true,
   "skip_h1_title": false,
   "title_cell": "Table of Contents",
   "title_sidebar": "Contents",
   "toc_cell": false,
   "toc_position": {},
   "toc_section_display": true,
   "toc_window_display": false
  },
  "varInspector": {
   "cols": {
    "lenName": 16,
    "lenType": 16,
    "lenVar": 40
   },
   "kernels_config": {
    "python": {
     "delete_cmd_postfix": "",
     "delete_cmd_prefix": "del ",
     "library": "var_list.py",
     "varRefreshCmd": "print(var_dic_list())"
    },
    "r": {
     "delete_cmd_postfix": ") ",
     "delete_cmd_prefix": "rm(",
     "library": "var_list.r",
     "varRefreshCmd": "cat(var_dic_list()) "
    }
   },
   "types_to_exclude": [
    "module",
    "function",
    "builtin_function_or_method",
    "instance",
    "_Feature"
   ],
   "window_display": false
  }
 },
 "nbformat": 4,
 "nbformat_minor": 5
}
