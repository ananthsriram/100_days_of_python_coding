{
 "cells": [
  {
   "cell_type": "code",
   "execution_count": 1,
   "id": "a6388ce1",
   "metadata": {
    "ExecuteTime": {
     "end_time": "2023-02-14T00:18:04.475608Z",
     "start_time": "2023-02-14T00:18:04.469440Z"
    }
   },
   "outputs": [
    {
     "data": {
      "text/html": [
       "<style>.container { width:100% !important; }</style>"
      ],
      "text/plain": [
       "<IPython.core.display.HTML object>"
      ]
     },
     "metadata": {},
     "output_type": "display_data"
    }
   ],
   "source": [
    "from IPython.display import HTML\n",
    "display(HTML(\"<style>.container { width:100% !important; }</style>\"))"
   ]
  },
  {
   "cell_type": "code",
   "execution_count": null,
   "id": "122096ea",
   "metadata": {},
   "outputs": [],
   "source": [
    "\n",
    "import requests\n",
    "import os\n",
    "from twilio.rest import Client\n",
    "from twilio.http.http_client import TwilioHttpClient\n",
    "\n",
    "OWM_Endpoint = \"https://api.openweathermap.org/data/2.5/onecall\"\n",
    "api_key = os.environ.get(\"OWM_API_KEY\")\n",
    "account_sid = \"YOUR ACCOUNT SID\"\n",
    "auth_token = os.environ.get(\"AUTH_TOKEN\")\n",
    "\n",
    "weather_params = {\n",
    "    \"lat\": 17.385044,\n",
    "    \"lon\": 78.486671,\n",
    "    \"appid\": api_key,\n",
    "    \"exclude\": \"current,minutely,daily\"\n",
    "}\n",
    "\n",
    "response = requests.get(OWM_Endpoint, params=weather_params)\n",
    "response.raise_for_status()\n",
    "weather_data = response.json()\n",
    "weather_slice = weather_data[\"hourly\"][:12]\n",
    "\n",
    "will_rain = False\n",
    "\n",
    "for hour_data in weather_slice:\n",
    "    condition_code = hour_data[\"weather\"][0][\"id\"]\n",
    "    if int(condition_code) < 700:\n",
    "        will_rain = True\n",
    "\n",
    "if will_rain:\n",
    "    proxy_client = TwilioHttpClient()\n",
    "    proxy_client.session.proxies = {'https': os.environ['https_proxy']}\n",
    "\n",
    "    client = Client(account_sid, auth_token, http_client=proxy_client)\n",
    "    message = client.messages \\\n",
    "        .create(\n",
    "        body=\"It's going to rain today. Remember to bring an ☔️\",\n",
    "        from_=\"YOUR TWILIO VIRTUAL NUMBER\",\n",
    "        to=\"YOUR TWILIO VERIFIED REAL NUMBER\"\n",
    "    )\n",
    "    print(message.status)\n"
   ]
  }
 ],
 "metadata": {
  "hide_input": false,
  "kernelspec": {
   "display_name": "Python 3 (ipykernel)",
   "language": "python",
   "name": "python3"
  },
  "language_info": {
   "codemirror_mode": {
    "name": "ipython",
    "version": 3
   },
   "file_extension": ".py",
   "mimetype": "text/x-python",
   "name": "python",
   "nbconvert_exporter": "python",
   "pygments_lexer": "ipython3",
   "version": "3.9.7"
  },
  "toc": {
   "base_numbering": 1,
   "nav_menu": {},
   "number_sections": false,
   "sideBar": true,
   "skip_h1_title": false,
   "title_cell": "Table of Contents",
   "title_sidebar": "Contents",
   "toc_cell": false,
   "toc_position": {},
   "toc_section_display": true,
   "toc_window_display": false
  },
  "varInspector": {
   "cols": {
    "lenName": 16,
    "lenType": 16,
    "lenVar": 40
   },
   "kernels_config": {
    "python": {
     "delete_cmd_postfix": "",
     "delete_cmd_prefix": "del ",
     "library": "var_list.py",
     "varRefreshCmd": "print(var_dic_list())"
    },
    "r": {
     "delete_cmd_postfix": ") ",
     "delete_cmd_prefix": "rm(",
     "library": "var_list.r",
     "varRefreshCmd": "cat(var_dic_list()) "
    }
   },
   "types_to_exclude": [
    "module",
    "function",
    "builtin_function_or_method",
    "instance",
    "_Feature"
   ],
   "window_display": false
  }
 },
 "nbformat": 4,
 "nbformat_minor": 5
}
