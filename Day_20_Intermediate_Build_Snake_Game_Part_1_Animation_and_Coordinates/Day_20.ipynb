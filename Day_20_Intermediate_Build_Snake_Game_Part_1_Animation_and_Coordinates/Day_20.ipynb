{
 "cells": [
  {
   "cell_type": "code",
   "execution_count": 1,
   "id": "3d4ad16a",
   "metadata": {
    "ExecuteTime": {
     "end_time": "2023-02-08T00:58:43.958888Z",
     "start_time": "2023-02-08T00:58:43.951903Z"
    }
   },
   "outputs": [
    {
     "data": {
      "text/html": [
       "<style>.container { width:100% !important; }</style>"
      ],
      "text/plain": [
       "<IPython.core.display.HTML object>"
      ]
     },
     "metadata": {},
     "output_type": "display_data"
    }
   ],
   "source": [
    "from IPython.display import HTML\n",
    "display(HTML(\"<style>.container { width:100% !important; }</style>\"))"
   ]
  },
  {
   "cell_type": "code",
   "execution_count": null,
   "id": "8bb56075",
   "metadata": {
    "ExecuteTime": {
     "end_time": "2023-02-08T00:16:55.767624Z",
     "start_time": "2023-02-08T00:16:52.764907Z"
    }
   },
   "outputs": [],
   "source": [
    "### Day 1 - Snake Game : Creating a Snake Body\n",
    "\n",
    "from turtle import Turtle,Screen\n",
    "\n",
    "screen = Screen()\n",
    "screen.setup(width=600, height = 600)\n",
    "screen.bgcolor(\"black\")\n",
    "screen.title(\"Snake Game\")\n",
    "\n",
    "starting_positions = [(0,0),(-20,0),(-40,0)]\n",
    "\n",
    "for position in starting_positions:\n",
    "    new_segment = Turtle(shape=\"square\")\n",
    "    new_segment.color(\"white\")\n",
    "    new_segment.goto(position)\n",
    "    \n",
    "\n",
    "screen.exitonclick()"
   ]
  },
  {
   "cell_type": "code",
   "execution_count": null,
   "id": "67efadd1",
   "metadata": {},
   "outputs": [],
   "source": [
    "### Day 1 - Snake Game : Animating Snake Segments\n",
    "\n",
    "from turtle import Turtle,Screen\n",
    "import time\n",
    "screen = Screen()\n",
    "screen.setup(width=600, height = 600)\n",
    "screen.bgcolor(\"black\")\n",
    "screen.title(\"Snake Game\")\n",
    "screen.tracer(0)\n",
    "\n",
    "starting_positions = [(0,0),(-20,0),(-40,0)]\n",
    "segments = []\n",
    "\n",
    "for position in starting_positions:\n",
    "    new_segment = Turtle(shape=\"square\")\n",
    "    new_segment.color(\"white\")\n",
    "    new_segment.penup()\n",
    "    new_segment.goto(position)\n",
    "    segments.append(new_segment)\n",
    "\n",
    "game_is_on = True\n",
    "\n",
    "while game_is_on:\n",
    "    screen.update()\n",
    "    time.sleep(0.1)\n",
    "    \n",
    "    for seg_num in range(len(segments)-1, 0, -1):\n",
    "        new_x = segments[seg_num - 1].xcor()\n",
    "        new_y = segments[seg_num - 1].ycor()\n",
    "        segments[seg_num].goto(new_x, new_y)\n",
    "    segments[0].forward(20)\n",
    "    \n",
    "\n",
    "screen.exitonclick()"
   ]
  },
  {
   "cell_type": "code",
   "execution_count": null,
   "id": "bf0525f1",
   "metadata": {
    "ExecuteTime": {
     "start_time": "2023-02-08T00:42:24.401Z"
    }
   },
   "outputs": [],
   "source": [
    "### Day 1 - Snake Game : Create Snake Class\n",
    "\n",
    "STARTING_POSITIONS = [(0,0),(-20,0),(-40,0)]\n",
    "MOVE_DISTANCE = 20\n",
    "\n",
    "class Snake:\n",
    "    \n",
    "    def __init__(self):\n",
    "        self.segments = []\n",
    "        self.create_snake()\n",
    "        \n",
    "    def create_snake(self):\n",
    "        for position in STARTING_POSITIONS:\n",
    "            new_segment = Turtle(shape=\"square\")\n",
    "            new_segment.color(\"white\")\n",
    "            new_segment.penup()\n",
    "            new_segment.goto(position)\n",
    "            self.segments.append(new_segment)   \n",
    "            \n",
    "    def move(self):\n",
    "        for seg_num in range(len(self.segments)-1, 0, -1):\n",
    "            new_x = self.segments[seg_num - 1].xcor()\n",
    "            new_y = self.segments[seg_num - 1].ycor()\n",
    "            self.segments[seg_num].goto(new_x, new_y)\n",
    "        self.segments[0].forward(MOVE_DISTANCE)        \n",
    "        \n",
    "        \n",
    "from turtle import Turtle,Screen\n",
    "import time\n",
    "screen = Screen()\n",
    "screen.setup(width=600, height = 600)\n",
    "screen.bgcolor(\"black\")\n",
    "screen.title(\"Snake Game\")\n",
    "screen.tracer(0)\n",
    "\n",
    "snake = Snake()\n",
    "\n",
    "game_is_on = True\n",
    "\n",
    "while game_is_on:\n",
    "    screen.update()\n",
    "    time.sleep(0.1)\n",
    "    \n",
    "    snake.move()\n",
    "    \n",
    "\n",
    "screen.exitonclick()\n"
   ]
  },
  {
   "cell_type": "code",
   "execution_count": null,
   "id": "76261e27",
   "metadata": {
    "ExecuteTime": {
     "start_time": "2023-02-08T00:56:11.138Z"
    }
   },
   "outputs": [],
   "source": [
    "### Day 1 - Snake Game : Control the Snake with a Key Press\n",
    "\n",
    "\n",
    "STARTING_POSITIONS = [(0,0),(-20,0),(-40,0)]\n",
    "MOVE_DISTANCE = 20\n",
    "UP = 90\n",
    "DOWN = 270\n",
    "LEFT = 180\n",
    "RIGHT = 0\n",
    "class Snake:\n",
    "    \n",
    "    def __init__(self):\n",
    "        self.segments = []\n",
    "        self.create_snake()\n",
    "        self.head = self.segments[0]\n",
    "        \n",
    "    def create_snake(self):\n",
    "        for position in STARTING_POSITIONS:\n",
    "            new_segment = Turtle(shape=\"square\")\n",
    "            new_segment.color(\"white\")\n",
    "            new_segment.penup()\n",
    "            new_segment.goto(position)\n",
    "            self.segments.append(new_segment)   \n",
    "            \n",
    "    def move(self):\n",
    "        for seg_num in range(len(self.segments)-1, 0, -1):\n",
    "            new_x = self.segments[seg_num - 1].xcor()\n",
    "            new_y = self.segments[seg_num - 1].ycor()\n",
    "            self.segments[seg_num].goto(new_x, new_y)\n",
    "        self.head.forward(MOVE_DISTANCE)        \n",
    "        \n",
    "    def up(self):\n",
    "        if self.head.heading() != DOWN:\n",
    "            self.head.setheading(UP)\n",
    "        \n",
    "    def down(self):\n",
    "        if self.head.heading() != UP:\n",
    "            self.head.setheading(DOWN)\n",
    "        \n",
    "    def left(self):\n",
    "        if self.head.heading() != RIGHT:\n",
    "            self.head.setheading(LEFT)\n",
    "        \n",
    "    def right(self):\n",
    "        if self.head.heading() != LEFT:\n",
    "            self.head.setheading(RIGHT)\n",
    "        \n",
    "        \n",
    "from turtle import Turtle,Screen\n",
    "import time\n",
    "screen = Screen()\n",
    "screen.setup(width=600, height = 600)\n",
    "screen.bgcolor(\"black\")\n",
    "screen.title(\"Snake Game\")\n",
    "screen.tracer(0)\n",
    "\n",
    "snake = Snake()\n",
    "\n",
    "screen.listen()\n",
    "screen.onkey(snake.up,\"Up\")\n",
    "screen.onkey(snake.down,\"Down\")\n",
    "screen.onkey(snake.left,\"Left\")\n",
    "screen.onkey(snake.right,\"Right\")\n",
    "\n",
    "\n",
    "game_is_on = True\n",
    "\n",
    "while game_is_on:\n",
    "    screen.update()\n",
    "    time.sleep(0.1)\n",
    "    \n",
    "    snake.move()\n",
    "    \n",
    "\n",
    "screen.exitonclick()\n"
   ]
  },
  {
   "cell_type": "code",
   "execution_count": null,
   "id": "101f5ad8",
   "metadata": {},
   "outputs": [],
   "source": []
  }
 ],
 "metadata": {
  "hide_input": false,
  "kernelspec": {
   "display_name": "Python 3 (ipykernel)",
   "language": "python",
   "name": "python3"
  },
  "language_info": {
   "codemirror_mode": {
    "name": "ipython",
    "version": 3
   },
   "file_extension": ".py",
   "mimetype": "text/x-python",
   "name": "python",
   "nbconvert_exporter": "python",
   "pygments_lexer": "ipython3",
   "version": "3.9.7"
  },
  "toc": {
   "base_numbering": 1,
   "nav_menu": {},
   "number_sections": false,
   "sideBar": true,
   "skip_h1_title": false,
   "title_cell": "Table of Contents",
   "title_sidebar": "Contents",
   "toc_cell": false,
   "toc_position": {},
   "toc_section_display": true,
   "toc_window_display": false
  },
  "varInspector": {
   "cols": {
    "lenName": 16,
    "lenType": 16,
    "lenVar": 40
   },
   "kernels_config": {
    "python": {
     "delete_cmd_postfix": "",
     "delete_cmd_prefix": "del ",
     "library": "var_list.py",
     "varRefreshCmd": "print(var_dic_list())"
    },
    "r": {
     "delete_cmd_postfix": ") ",
     "delete_cmd_prefix": "rm(",
     "library": "var_list.r",
     "varRefreshCmd": "cat(var_dic_list()) "
    }
   },
   "types_to_exclude": [
    "module",
    "function",
    "builtin_function_or_method",
    "instance",
    "_Feature"
   ],
   "window_display": false
  }
 },
 "nbformat": 4,
 "nbformat_minor": 5
}
