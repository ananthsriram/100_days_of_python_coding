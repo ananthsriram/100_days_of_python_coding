{
 "cells": [
  {
   "cell_type": "code",
   "execution_count": 55,
   "id": "381d4ed5",
   "metadata": {
    "ExecuteTime": {
     "end_time": "2023-01-22T15:46:26.007657Z",
     "start_time": "2023-01-22T15:46:26.003787Z"
    }
   },
   "outputs": [
    {
     "data": {
      "text/html": [
       "<style>.container { width:100% !important; }</style>"
      ],
      "text/plain": [
       "<IPython.core.display.HTML object>"
      ]
     },
     "metadata": {},
     "output_type": "display_data"
    }
   ],
   "source": [
    "from IPython.display import HTML\n",
    "display(HTML(\"<style>.container { width:100% !important; }</style>\"))"
   ]
  },
  {
   "cell_type": "code",
   "execution_count": 3,
   "id": "09fb9a75",
   "metadata": {
    "ExecuteTime": {
     "end_time": "2023-01-22T13:42:49.953939Z",
     "start_time": "2023-01-22T13:42:49.951104Z"
    }
   },
   "outputs": [
    {
     "name": "stdout",
     "output_type": "stream",
     "text": [
      "Hello World!\n",
      "I am Chitti, The Robot.\n",
      "Speed 1 Terra Hetzh, Memory 1 Zetta Byte\n"
     ]
    }
   ],
   "source": [
    "def greet():\n",
    "    print (\"Hello World!\")\n",
    "    print (\"I am Chitti, The Robot.\") \n",
    "    print (\"Speed 1 Terra Hetzh, Memory 1 Zetta Byte\")\n",
    "    \n",
    "greet()"
   ]
  },
  {
   "cell_type": "code",
   "execution_count": 4,
   "id": "57ca3161",
   "metadata": {
    "ExecuteTime": {
     "end_time": "2023-01-22T13:43:56.887004Z",
     "start_time": "2023-01-22T13:43:56.883735Z"
    }
   },
   "outputs": [
    {
     "name": "stdout",
     "output_type": "stream",
     "text": [
      "Hello Ananth.\n",
      "How are you doing Ananth?\n"
     ]
    }
   ],
   "source": [
    "def greet_with_name(username):\n",
    "    print(f\"Hello {username}.\")\n",
    "    print(f\"How are you doing {username}?\")    \n",
    "    \n",
    "greet_with_name('Ananth')    "
   ]
  },
  {
   "cell_type": "code",
   "execution_count": 5,
   "id": "e54b1530",
   "metadata": {
    "ExecuteTime": {
     "end_time": "2023-01-22T13:52:28.466040Z",
     "start_time": "2023-01-22T13:52:28.463581Z"
    }
   },
   "outputs": [
    {
     "name": "stdout",
     "output_type": "stream",
     "text": [
      "Hello Ananth.\n",
      "How is the weather at Hyderabad?\n"
     ]
    }
   ],
   "source": [
    "def greet(username,location):\n",
    "    print(f\"Hello {username}.\")\n",
    "    print(f\"How is the weather at {location}?\")    \n",
    "    \n",
    "greet('Ananth','Hyderabad')    "
   ]
  },
  {
   "cell_type": "code",
   "execution_count": 8,
   "id": "aca0120c",
   "metadata": {
    "ExecuteTime": {
     "end_time": "2023-01-22T13:54:13.430940Z",
     "start_time": "2023-01-22T13:54:13.428397Z"
    }
   },
   "outputs": [
    {
     "name": "stdout",
     "output_type": "stream",
     "text": [
      "Hello Ananth.\n",
      "How is the weather at Hyderabad?\n"
     ]
    }
   ],
   "source": [
    "def greet(username,location):\n",
    "    print(f\"Hello {username}.\")\n",
    "    print(f\"How is the weather at {location}?\")    \n",
    "    \n",
    "greet(location='Hyderabad',username='Ananth')   "
   ]
  },
  {
   "cell_type": "code",
   "execution_count": 11,
   "id": "1d82be90",
   "metadata": {
    "ExecuteTime": {
     "end_time": "2023-01-22T14:03:38.082842Z",
     "start_time": "2023-01-22T14:03:37.183557Z"
    }
   },
   "outputs": [
    {
     "name": "stdout",
     "output_type": "stream",
     "text": [
      "What is the height of wall : 6\n",
      "What is the width of wall : 7\n",
      "9 cans needed to paint the wall.\n"
     ]
    }
   ],
   "source": [
    "### Paint Area Calculator\n",
    "import math\n",
    "\n",
    "wall_height = int(input(\"What is the height of wall : \"))\n",
    "wall_width = int(input(\"What is the width of wall : \"))\n",
    "coverage = 5\n",
    "\n",
    "def paint_calc(height,width,cover):\n",
    "    num_cans = int(math.ceil((height * width)/coverage))\n",
    "    print (f\"{num_cans} cans needed to paint the wall.\")\n",
    "\n",
    "num_cans = paint_calc(height=wall_height,width=wall_width,cover=coverage)\n"
   ]
  },
  {
   "cell_type": "code",
   "execution_count": 27,
   "id": "cabf1595",
   "metadata": {
    "ExecuteTime": {
     "end_time": "2023-01-22T14:15:16.814036Z",
     "start_time": "2023-01-22T14:15:16.362252Z"
    }
   },
   "outputs": [
    {
     "name": "stdout",
     "output_type": "stream",
     "text": [
      "Enter a number : 8\n",
      "8 is not a prime number.\n"
     ]
    }
   ],
   "source": [
    "## Prime Number Checker\n",
    "\n",
    "#def prime_checker(number):\n",
    "#    for num in range(2,number):\n",
    "#        if number % num == 0:\n",
    "#            return (f\"{number} is not a prime number.\")\n",
    "#    return (f\"{number} is a prime number.\")\n",
    "    \n",
    "def prime_checker(number):\n",
    "    is_prime = True\n",
    "    for num in range(2,number):\n",
    "        if number % num == 0:\n",
    "            is_prime = False\n",
    "    if is_prime:\n",
    "        print (f\"{number} is a prime number.\")\n",
    "    else:\n",
    "        print (f\"{number} is not a prime number.\")\n",
    "    \n",
    "n = int(input(\"Enter a number : \"))\n",
    "prime_checker(number=n)\n",
    "\n"
   ]
  },
  {
   "cell_type": "code",
   "execution_count": 37,
   "id": "ee22b10a",
   "metadata": {
    "ExecuteTime": {
     "end_time": "2023-01-22T14:36:29.022431Z",
     "start_time": "2023-01-22T14:36:22.611247Z"
    }
   },
   "outputs": [
    {
     "name": "stdout",
     "output_type": "stream",
     "text": [
      "Type 'encode' to encrypt, type 'decode' to decrypt:\n",
      "encode\n",
      "Type your message:\n",
      "helloworld\n",
      "Type the shift number:\n",
      "5\n",
      "The encrypted text is mjqqtbtwqi\n"
     ]
    }
   ],
   "source": [
    "## Caesar Cipher Part-1 : Encryption\n",
    "\n",
    "alphabet = ['a', 'b', 'c', 'd', 'e', 'f', 'g', 'h', 'i', 'j', 'k', 'l', 'm', 'n', 'o', 'p', 'q', 'r', 's', 't', 'u', 'v', 'w', 'x', 'y', 'z']\n",
    "\n",
    "direction = input(\"Type 'encode' to encrypt, type 'decode' to decrypt:\\n\")\n",
    "text = input(\"Type your message:\\n\").lower()\n",
    "shift = int(input(\"Type the shift number:\\n\"))\n",
    "\n",
    "#TODO-1: Create a function called 'encrypt' that takes the 'text' and 'shift' as inputs.\n",
    "def encrypt(plain_text,shift_amount):\n",
    "    #TODO-2: Inside the 'encrypt' function, shift each letter of the 'text' forwards in the alphabet by the shift amount and print the encrypted text.  \n",
    "    #e.g. \n",
    "    #plain_text = \"hello\"\n",
    "    #shift = 5\n",
    "    #cipher_text = \"mjqqt\"\n",
    "    #print output: \"The encoded text is mjqqt\"\n",
    "    \n",
    "    ##HINT: How do you get the index of an item in a list:\n",
    "    #https://stackoverflow.com/questions/176918/finding-the-index-of-an-item-in-a-list\n",
    "\n",
    "    ##🐛Bug alert: What happens if you try to encode the word 'civilization'?🐛\n",
    "    \n",
    "    #encrypt_str = []\n",
    "    encrypt_str = ''\n",
    "    for char in plain_text:\n",
    "        new_char_index = (alphabet.index(char) + shift) % 26\n",
    "        new_char = alphabet[new_char_index]\n",
    "        #encrypt_str.append(new_char)\n",
    "        encrypt_str += new_char\n",
    "    #encrypt_str = ''.join(encrypt_str)\n",
    "    print (f\"The encrypted text is {encrypt_str}\")    \n",
    "    \n",
    "    \n",
    "#TODO-3: Call the encrypt function and pass in the user inputs. You should be able to test the code and encrypt a message. \n",
    "if direction == 'encode':\n",
    "    encrypt(plain_text=text,shift_amount=shift)\n"
   ]
  },
  {
   "cell_type": "code",
   "execution_count": 39,
   "id": "5ee34743",
   "metadata": {
    "ExecuteTime": {
     "end_time": "2023-01-22T14:41:30.853398Z",
     "start_time": "2023-01-22T14:41:23.584512Z"
    }
   },
   "outputs": [
    {
     "name": "stdout",
     "output_type": "stream",
     "text": [
      "Type 'encode' to encrypt, type 'decode' to decrypt:\n",
      "decode\n",
      "Type your message:\n",
      "mjqqtbtwqi\n",
      "Type the shift number:\n",
      "5\n",
      "The decoded text is helloworld\n"
     ]
    }
   ],
   "source": [
    "## Caesar Cipher Part-2 : Decryption\n",
    "\n",
    "alphabet = ['a', 'b', 'c', 'd', 'e', 'f', 'g', 'h', 'i', 'j', 'k', 'l', 'm', 'n', 'o', 'p', 'q', 'r', 's', 't', 'u', 'v', 'w', 'x', 'y', 'z', 'a', 'b', 'c', 'd', 'e', 'f', 'g', 'h', 'i', 'j', 'k', 'l', 'm', 'n', 'o', 'p', 'q', 'r', 's', 't', 'u', 'v', 'w', 'x', 'y', 'z']\n",
    "\n",
    "direction = input(\"Type 'encode' to encrypt, type 'decode' to decrypt:\\n\")\n",
    "text = input(\"Type your message:\\n\").lower()\n",
    "shift = int(input(\"Type the shift number:\\n\"))\n",
    "\n",
    "def encrypt(plain_text, shift_amount):\n",
    "  cipher_text = \"\"\n",
    "  for letter in plain_text:\n",
    "    position = alphabet.index(letter)\n",
    "    new_position = position + shift_amount\n",
    "    cipher_text += alphabet[new_position]\n",
    "  print(f\"The encoded text is {cipher_text}\")\n",
    "\n",
    "#TODO-1: Create a different function called 'decrypt' that takes the 'text' and 'shift' as inputs.\n",
    "def decrypt(cipher_text, shift_amount):\n",
    "  plain_text = \"\"\n",
    "  for letter in cipher_text:\n",
    "    position = alphabet.index(letter)\n",
    "    new_position = position - shift_amount\n",
    "    plain_text += alphabet[new_position]\n",
    "  print(f\"The decoded text is {plain_text}\")    \n",
    "\n",
    "  #TODO-2: Inside the 'decrypt' function, shift each letter of the 'text' *backwards* in the alphabet by the shift amount and print the decrypted text.  \n",
    "  #e.g. \n",
    "  #cipher_text = \"mjqqt\"\n",
    "  #shift = 5\n",
    "  #plain_text = \"hello\"\n",
    "  #print output: \"The decoded text is hello\"\n",
    "\n",
    "\n",
    "#TODO-3: Check if the user wanted to encrypt or decrypt the message by checking the 'direction' variable. Then call the correct function based on that 'drection' variable. You should be able to test the code to encrypt *AND* decrypt a message.\n",
    "if direction == 'encode':\n",
    "    encrypt(plain_text=text, shift_amount=shift)\n",
    "elif:\n",
    "    decrypt(cipher_text=text, shift_amount=shift)\n",
    "else:\n",
    "    print(\"Please provide valid input\")\n",
    "    "
   ]
  },
  {
   "cell_type": "code",
   "execution_count": 43,
   "id": "53b604bd",
   "metadata": {
    "ExecuteTime": {
     "end_time": "2023-01-22T15:03:16.048879Z",
     "start_time": "2023-01-22T15:03:12.561009Z"
    }
   },
   "outputs": [
    {
     "name": "stdout",
     "output_type": "stream",
     "text": [
      "Type 'encode' to encrypt, type 'decode' to decrypt:\n",
      "decode\n",
      "Type your message:\n",
      "mjqqtbtwqi\n",
      "Type the shift number:\n",
      "5\n",
      "decoded text is : helloworld\n"
     ]
    }
   ],
   "source": [
    "## Caesar Cipher Part-3 : Reorganising our code\n",
    "\n",
    "alphabet = ['a', 'b', 'c', 'd', 'e', 'f', 'g', 'h', 'i', 'j', 'k', 'l', 'm', 'n', 'o', 'p', 'q', 'r', 's', 't', 'u', 'v', 'w', 'x', 'y', 'z', 'a', 'b', 'c', 'd', 'e', 'f', 'g', 'h', 'i', 'j', 'k', 'l', 'm', 'n', 'o', 'p', 'q', 'r', 's', 't', 'u', 'v', 'w', 'x', 'y', 'z']\n",
    "\n",
    "direction = input(\"Type 'encode' to encrypt, type 'decode' to decrypt:\\n\")\n",
    "text = input(\"Type your message:\\n\").lower()\n",
    "shift = int(input(\"Type the shift number:\\n\"))\n",
    "\n",
    "#TODO-1: Combine the encrypt() and decrypt() functions into a single function called caesar(). \n",
    "def caesar(input_text,shift_amount,direction):\n",
    "    output_text = \"\"\n",
    "    if direction == 'decode':\n",
    "        shift_amount *= -1\n",
    "    for letter in input_text:\n",
    "        position = alphabet.index(letter)\n",
    "        #if direction == 'encode':\n",
    "        #    new_position = position + shift_amount\n",
    "        #else:\n",
    "        #    new_position = position - shift_amount\n",
    "        new_position = position + shift_amount\n",
    "        output_text += alphabet[new_position]   \n",
    "    print (f\"{direction}d text is : {output_text}\")\n",
    "\n",
    "#TODO-2: Call the caesar() function, passing over the 'text', 'shift' and 'direction' values.\n",
    "\n",
    "caesar(input_text=text,shift_amount=shift,direction=direction)\n",
    "    "
   ]
  },
  {
   "cell_type": "code",
   "execution_count": 54,
   "id": "6470ad59",
   "metadata": {
    "ExecuteTime": {
     "end_time": "2023-01-22T15:44:12.608489Z",
     "start_time": "2023-01-22T15:43:57.377059Z"
    }
   },
   "outputs": [
    {
     "name": "stdout",
     "output_type": "stream",
     "text": [
      "           \n",
      " ,adPPYba, ,adPPYYba,  ,adPPYba, ,adPPYba, ,adPPYYba, 8b,dPPYba,  \n",
      "a8\"     \"\" \"\"     `Y8 a8P_____88 I8[    \"\" \"\"     `Y8 88P'   \"Y8  \n",
      "8b         ,adPPPPP88 8PP\"  `\"Y8ba,  ,adPPPPP88 88          \n",
      "\"8a,   ,aa 88,    ,88 \"8b,   ,aa aa    ]8I 88,    ,88 88          \n",
      " `\"Ybbd8\"' `\"8bbdP\"Y8  `\"Ybbd8\"' `\"YbbdP\"' `\"8bbdP\"Y8 88   \n",
      "            88             88                                 \n",
      "           \"\"             88                                 \n",
      "                          88                                 \n",
      " ,adPPYba, 88 8b,dPPYba,  88,dPPYba,   ,adPPYba, 8b,dPPYba,  \n",
      "a8\"     \"\" 88 88P'    \"8a 88P'    \"8a a8P_____88 88P'   \"Y8  \n",
      "8b         88 88       d8 88       88 8PP\" 88          \n",
      "\"8a,   ,aa 88 88b,   ,a8\" 88       88 \"8b,   ,aa 88          \n",
      " `\"Ybbd8\"' 88 88`YbbdP\"'  88       88  `\"Ybbd8\"' 88          \n",
      "              88                                             \n",
      "              88           \n",
      "\n",
      "Type 'encode' to encrypt, type 'decode' to decrypt:\n",
      "encode\n",
      "Type your message:\n",
      "dog\n",
      "Type the shift number:\n",
      "5\n",
      "Here's the encoded result: itl\n",
      "Type 'yes' if you want to go again. Otherwise type 'no' : yes\n",
      "Type 'encode' to encrypt, type 'decode' to decrypt:\n",
      "decode\n",
      "Type your message:\n",
      "itl\n",
      "Type the shift number:\n",
      "5\n",
      "Here's the decoded result: dog\n",
      "Type 'yes' if you want to go again. Otherwise type 'no' : no\n",
      "Goodbye!\n"
     ]
    }
   ],
   "source": [
    "## Caesar Cipher Part-3 : User Experience Improvements & Final Touches\n",
    "\n",
    "alphabet = ['a', 'b', 'c', 'd', 'e', 'f', 'g', 'h', 'i', 'j', 'k', 'l', 'm', 'n', 'o', 'p', 'q', 'r', 's', 't', 'u', 'v', 'w', 'x', 'y', 'z']\n",
    "\n",
    "def caesar(start_text, shift_amount, cipher_direction):\n",
    "  end_text = \"\"\n",
    "  if cipher_direction == \"decode\":\n",
    "    shift_amount *= -1\n",
    "  for char in start_text:\n",
    "    # TODO-3: What happens if the user enters a number/symbol/space?\n",
    "    # Can you fix the code to keep the number/symbol/space when the text is encoded/decoded?\n",
    "    # e.g. start_text = \"meet me at 3\"\n",
    "    # end_text = \"•••• •• •• 3\"    \n",
    "    if char in alphabet:\n",
    "        position = alphabet.index(char)\n",
    "        new_position = (position + shift_amount) % 26\n",
    "        end_text += alphabet[new_position]\n",
    "    else:\n",
    "        end_text += char\n",
    "  print(f\"Here's the {cipher_direction}d result: {end_text}\")\n",
    "\n",
    "# TODO-1: Import and print the logo from art.py when the program starts.\n",
    "#import art\n",
    "#print (art.logo)\n",
    "\n",
    "from art import logo\n",
    "print(logo)\n",
    "\n",
    "# TODO-4: Can you figure out a way to ask the user if they want to restart the cipher program?\n",
    "# e.g. Type 'yes' if you want to go again. Otherwise type 'no'.\n",
    "# If they type 'yes' then ask them for the direction/text/shift again and call the caesar() function again?\n",
    "# Hint: Try creating a while loop that continues to execute the program if the user types 'yes'. \n",
    "\n",
    "repeat = True\n",
    "while repeat:\n",
    "    direction = input(\"Type 'encode' to encrypt, type 'decode' to decrypt:\\n\")\n",
    "    text = input(\"Type your message:\\n\").lower()\n",
    "    shift = int(input(\"Type the shift number:\\n\"))\n",
    "    # TODO-2: What if the user enters a shift that is greater than the number of letters in the alphabet?\n",
    "    # Try running the program and entering a shift number of 45.\n",
    "    # Add some code so that the program continues to work even if the user enters a shift number greater than 26. \n",
    "    # Hint: Think about how you can use the modulus (%).    \n",
    "    shift = shift % 26\n",
    "    caesar(start_text=text, shift_amount=shift, cipher_direction=direction)\n",
    "    repeat_choice = input(\"Type 'yes' if you want to go again. Otherwise type 'no' : \")\n",
    "    if repeat_choice == 'no':\n",
    "        repeat = False\n",
    "        print ('Goodbye!')\n"
   ]
  },
  {
   "cell_type": "code",
   "execution_count": null,
   "id": "a17f9905",
   "metadata": {
    "ExecuteTime": {
     "end_time": "2023-01-22T15:34:22.943582Z",
     "start_time": "2023-01-22T15:34:22.938112Z"
    }
   },
   "outputs": [],
   "source": []
  },
  {
   "cell_type": "code",
   "execution_count": null,
   "id": "2ee53835",
   "metadata": {},
   "outputs": [],
   "source": []
  }
 ],
 "metadata": {
  "hide_input": false,
  "kernelspec": {
   "display_name": "Python 3 (ipykernel)",
   "language": "python",
   "name": "python3"
  },
  "language_info": {
   "codemirror_mode": {
    "name": "ipython",
    "version": 3
   },
   "file_extension": ".py",
   "mimetype": "text/x-python",
   "name": "python",
   "nbconvert_exporter": "python",
   "pygments_lexer": "ipython3",
   "version": "3.9.7"
  },
  "toc": {
   "base_numbering": 1,
   "nav_menu": {},
   "number_sections": false,
   "sideBar": true,
   "skip_h1_title": false,
   "title_cell": "Table of Contents",
   "title_sidebar": "Contents",
   "toc_cell": false,
   "toc_position": {},
   "toc_section_display": true,
   "toc_window_display": false
  },
  "varInspector": {
   "cols": {
    "lenName": 16,
    "lenType": 16,
    "lenVar": 40
   },
   "kernels_config": {
    "python": {
     "delete_cmd_postfix": "",
     "delete_cmd_prefix": "del ",
     "library": "var_list.py",
     "varRefreshCmd": "print(var_dic_list())"
    },
    "r": {
     "delete_cmd_postfix": ") ",
     "delete_cmd_prefix": "rm(",
     "library": "var_list.r",
     "varRefreshCmd": "cat(var_dic_list()) "
    }
   },
   "types_to_exclude": [
    "module",
    "function",
    "builtin_function_or_method",
    "instance",
    "_Feature"
   ],
   "window_display": false
  }
 },
 "nbformat": 4,
 "nbformat_minor": 5
}
