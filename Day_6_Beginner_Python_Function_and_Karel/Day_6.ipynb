{
 "cells": [
  {
   "cell_type": "code",
   "execution_count": null,
   "id": "d123bcd6",
   "metadata": {
    "ExecuteTime": {
     "end_time": "2023-01-22T01:27:33.289861Z",
     "start_time": "2023-01-22T01:27:33.287663Z"
    }
   },
   "outputs": [],
   "source": [
    "## https://reeborg.ca/reeborg.html?lang=en&mode=python&menu=worlds%2Fmenus%2Freeborg_intro_en.json&name=Alone&url=worlds%2Ftutorial_en%2Falone.json\n",
    "def turn_around():\n",
    "    turn_left()\n",
    "    turn_left()\n",
    "    \n",
    "def turn_right():    \n",
    "    turn_left()\n",
    "    turn_left()\n",
    "    turn_left()\n",
    "    \n",
    "    "
   ]
  },
  {
   "cell_type": "code",
   "execution_count": null,
   "id": "1055b271",
   "metadata": {
    "ExecuteTime": {
     "end_time": "2023-01-22T01:30:08.384920Z",
     "start_time": "2023-01-22T01:30:08.259434Z"
    }
   },
   "outputs": [],
   "source": [
    "## https://reeborg.ca/reeborg.html?lang=en&mode=python&menu=worlds%2Fmenus%2Freeborg_intro_en.json&name=Alone&url=worlds%2Ftutorial_en%2Falone.json\n",
    "\n",
    "### Draw square\n",
    "turn_left()\n",
    "move()\n",
    "turn_right()\n",
    "move()\n",
    "turn_right()\n",
    "move()\n",
    "turn_right()\n",
    "move()"
   ]
  },
  {
   "cell_type": "code",
   "execution_count": null,
   "id": "47b9f19c",
   "metadata": {},
   "outputs": [],
   "source": [
    "## https://reeborg.ca/reeborg.html?lang=en&mode=python&menu=worlds%2Fmenus%2Freeborg_intro_en.json&name=Hurdle%201&url=worlds%2Ftutorial_en%2Fhurdle1.json\n",
    "\n",
    "def turn_right():\n",
    "    turn_left()\n",
    "    turn_left()\n",
    "    turn_left()\n",
    "\n",
    "move()\n",
    "for i in range(1,7):\n",
    "    turn_left()\n",
    "    move()\n",
    "    turn_right()\n",
    "    move()\n",
    "    turn_right()\n",
    "    move()\n",
    "    turn_left()\n",
    "    if i == 6:\n",
    "        break\n",
    "    else:\n",
    "        move()"
   ]
  },
  {
   "cell_type": "code",
   "execution_count": null,
   "id": "31f65266",
   "metadata": {},
   "outputs": [],
   "source": [
    "## https://reeborg.ca/reeborg.html?lang=en&mode=python&menu=worlds%2Fmenus%2Freeborg_intro_en.json&name=Hurdle%201&url=worlds%2Ftutorial_en%2Fhurdle1.json\n",
    "def turn_right():\n",
    "    turn_left()\n",
    "    turn_left()\n",
    "    turn_left()\n",
    "\n",
    "\n",
    "def jump():\n",
    "    move()\n",
    "    turn_left()\n",
    "    move()\n",
    "    turn_right()\n",
    "    move()\n",
    "    turn_right()\n",
    "    move()\n",
    "    turn_left()\n",
    "\n",
    "for i in range(1,7):\n",
    "    jump()"
   ]
  },
  {
   "cell_type": "code",
   "execution_count": null,
   "id": "713b0902",
   "metadata": {},
   "outputs": [],
   "source": [
    "## https://reeborg.ca/reeborg.html?lang=en&mode=python&menu=worlds%2Fmenus%2Freeborg_intro_en.json&name=Hurdle%202&url=worlds%2Ftutorial_en%2Fhurdle2.json\n",
    "def turn_right():\n",
    "    turn_left()\n",
    "    turn_left()\n",
    "    turn_left()\n",
    "\n",
    "\n",
    "def jump():\n",
    "    move()\n",
    "    turn_left()\n",
    "    move()\n",
    "    turn_right()\n",
    "    move()\n",
    "    turn_right()\n",
    "    move()\n",
    "    turn_left()\n",
    "\n",
    "while not at_goal():\n",
    "    jump()"
   ]
  },
  {
   "cell_type": "code",
   "execution_count": null,
   "id": "7c1b30dd",
   "metadata": {},
   "outputs": [],
   "source": [
    "## https://reeborg.ca/reeborg.html?lang=en&mode=python&menu=worlds%2Fmenus%2Freeborg_intro_en.json&name=Hurdle%203&url=worlds%2Ftutorial_en%2Fhurdle3.json\n",
    "\n",
    "def turn_right():\n",
    "    turn_left()\n",
    "    turn_left()\n",
    "    turn_left()\n",
    "\n",
    "\n",
    "def jump_on_wall():\n",
    "    turn_left()\n",
    "    move()\n",
    "    turn_right()\n",
    "    move()\n",
    "    turn_right()\n",
    "    move()\n",
    "    turn_left()\n",
    "    \n",
    "while not at_goal():\n",
    "    if wall_in_front():\n",
    "        jump_on_wall()\n",
    "    else:\n",
    "        move()"
   ]
  },
  {
   "cell_type": "code",
   "execution_count": null,
   "id": "d24e5df4",
   "metadata": {},
   "outputs": [],
   "source": [
    "## https://reeborg.ca/reeborg.html?lang=en&mode=python&menu=worlds%2Fmenus%2Freeborg_intro_en.json&name=Hurdle%204&url=worlds%2Ftutorial_en%2Fhurdle4.json\n",
    "\n",
    "def turn_right():\n",
    "    turn_left()\n",
    "    turn_left()\n",
    "    turn_left()\n",
    "\n",
    "\n",
    "def jump_on_wall():\n",
    "    turn_left()\n",
    "    while wall_on_right():\n",
    "        move()\n",
    "    turn_right()\n",
    "    move()\n",
    "    turn_right()\n",
    "    while front_is_clear():\n",
    "        move()\n",
    "    turn_left()\n",
    "\n",
    "    \n",
    "while not at_goal():\n",
    "    if wall_in_front():\n",
    "        jump_on_wall()\n",
    "    else:\n",
    "        move()\n",
    "    \n"
   ]
  },
  {
   "cell_type": "code",
   "execution_count": null,
   "id": "7b41db74",
   "metadata": {},
   "outputs": [],
   "source": [
    "## https://reeborg.ca/reeborg.html?lang=en&mode=python&menu=worlds%2Fmenus%2Freeborg_intro_en.json&name=Maze&url=worlds%2Ftutorial_en%2Fmaze1.json\n",
    "## Maze problem\n",
    "\n",
    "def turn_right():\n",
    "    turn_left()\n",
    "    turn_left()\n",
    "    turn_left()\n",
    "\n",
    "\n",
    "while not at_goal():\n",
    "    if right_is_clear():\n",
    "        turn_right()\n",
    "        move()\n",
    "    elif front_is_clear():\n",
    "        move()\n",
    "    else:\n",
    "        turn_left()\n",
    "    "
   ]
  },
  {
   "cell_type": "markdown",
   "id": "a652bbd4",
   "metadata": {},
   "source": [
    "# Amazing !!"
   ]
  },
  {
   "cell_type": "code",
   "execution_count": null,
   "id": "a79af8e4",
   "metadata": {},
   "outputs": [],
   "source": [
    "## problem_world.json\n",
    "\n",
    "def turn_right():\n",
    "    turn_left()\n",
    "    turn_left()\n",
    "    turn_left()\n",
    "\n",
    "\n",
    "while front_is_clear():\n",
    "    move()\n",
    "turn_left()\n",
    "\n",
    "while not at_goal():\n",
    "    if right_is_clear():\n",
    "        turn_right()\n",
    "        move()\n",
    "    elif front_is_clear():\n",
    "        move()\n",
    "    else:\n",
    "        turn_left()    "
   ]
  }
 ],
 "metadata": {
  "hide_input": false,
  "kernelspec": {
   "display_name": "Python 3 (ipykernel)",
   "language": "python",
   "name": "python3"
  },
  "language_info": {
   "codemirror_mode": {
    "name": "ipython",
    "version": 3
   },
   "file_extension": ".py",
   "mimetype": "text/x-python",
   "name": "python",
   "nbconvert_exporter": "python",
   "pygments_lexer": "ipython3",
   "version": "3.9.7"
  },
  "toc": {
   "base_numbering": 1,
   "nav_menu": {},
   "number_sections": false,
   "sideBar": true,
   "skip_h1_title": false,
   "title_cell": "Table of Contents",
   "title_sidebar": "Contents",
   "toc_cell": false,
   "toc_position": {},
   "toc_section_display": true,
   "toc_window_display": false
  },
  "varInspector": {
   "cols": {
    "lenName": 16,
    "lenType": 16,
    "lenVar": 40
   },
   "kernels_config": {
    "python": {
     "delete_cmd_postfix": "",
     "delete_cmd_prefix": "del ",
     "library": "var_list.py",
     "varRefreshCmd": "print(var_dic_list())"
    },
    "r": {
     "delete_cmd_postfix": ") ",
     "delete_cmd_prefix": "rm(",
     "library": "var_list.r",
     "varRefreshCmd": "cat(var_dic_list()) "
    }
   },
   "types_to_exclude": [
    "module",
    "function",
    "builtin_function_or_method",
    "instance",
    "_Feature"
   ],
   "window_display": false
  }
 },
 "nbformat": 4,
 "nbformat_minor": 5
}
