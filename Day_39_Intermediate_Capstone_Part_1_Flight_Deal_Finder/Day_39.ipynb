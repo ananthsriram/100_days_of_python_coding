{
 "cells": [
  {
   "cell_type": "code",
   "execution_count": 1,
   "id": "e46e2708",
   "metadata": {
    "ExecuteTime": {
     "end_time": "2023-02-15T00:20:32.887124Z",
     "start_time": "2023-02-15T00:20:32.880143Z"
    }
   },
   "outputs": [
    {
     "data": {
      "text/html": [
       "<style>.container { width:100% !important; }</style>"
      ],
      "text/plain": [
       "<IPython.core.display.HTML object>"
      ]
     },
     "metadata": {},
     "output_type": "display_data"
    }
   ],
   "source": [
    "from IPython.display import HTML\n",
    "display(HTML(\"<style>.container { width:100% !important; }</style>\"))"
   ]
  },
  {
   "cell_type": "code",
   "execution_count": 3,
   "id": "bf971cfd",
   "metadata": {
    "ExecuteTime": {
     "end_time": "2023-02-15T00:25:55.546681Z",
     "start_time": "2023-02-15T00:25:55.446740Z"
    }
   },
   "outputs": [],
   "source": [
    "from pprint import pprint\n",
    "import requests\n",
    "\n",
    "SHEETY_PRICES_ENDPOINT = \"YOUR SHEETY PRICES ENDPOINT\"\n",
    "\n",
    "\n",
    "class DataManager:\n",
    "\n",
    "    def __init__(self):\n",
    "        self.destination_data = {}\n",
    "\n",
    "    def get_destination_data(self):\n",
    "        response = requests.get(url=SHEETY_PRICES_ENDPOINT)\n",
    "        data = response.json()\n",
    "        self.destination_data = data[\"prices\"]\n",
    "        return self.destination_data\n",
    "\n",
    "    def update_destination_codes(self):\n",
    "        for city in self.destination_data:\n",
    "            new_data = {\n",
    "                \"price\": {\n",
    "                    \"iataCode\": city[\"iataCode\"]\n",
    "                }\n",
    "            }\n",
    "            response = requests.put(\n",
    "                url=f\"{SHEETY_PRICES_ENDPOINT}/{city['id']}\",\n",
    "                json=new_data\n",
    "            )\n",
    "            print(response.text)\n"
   ]
  },
  {
   "cell_type": "code",
   "execution_count": 4,
   "id": "5168db3e",
   "metadata": {
    "ExecuteTime": {
     "end_time": "2023-02-15T00:26:03.459312Z",
     "start_time": "2023-02-15T00:26:03.456796Z"
    }
   },
   "outputs": [],
   "source": [
    "class FlightData:\n",
    "\n",
    "    def __init__(self, price, origin_city, origin_airport, destination_city, destination_airport, out_date, return_date):\n",
    "        self.price = price\n",
    "        self.origin_city = origin_city\n",
    "        self.origin_airport = origin_airport\n",
    "        self.destination_city = destination_city\n",
    "        self.destination_airport = destination_airport\n",
    "        self.out_date = out_date\n",
    "        self.return_date = return_date\n"
   ]
  },
  {
   "cell_type": "code",
   "execution_count": 6,
   "id": "d72fce5c",
   "metadata": {
    "ExecuteTime": {
     "end_time": "2023-02-15T00:26:33.973598Z",
     "start_time": "2023-02-15T00:26:33.965963Z"
    }
   },
   "outputs": [],
   "source": [
    "import requests\n",
    "\n",
    "TEQUILA_ENDPOINT = \"https://tequila-api.kiwi.com\"\n",
    "TEQUILA_API_KEY = \"YOUR FLIGHT SEARCH API KEY\"\n",
    "\n",
    "\n",
    "class FlightSearch:\n",
    "\n",
    "    def get_destination_code(self, city_name):\n",
    "        location_endpoint = f\"{TEQUILA_ENDPOINT}/locations/query\"\n",
    "        headers = {\"apikey\": TEQUILA_API_KEY}\n",
    "        query = {\"term\": city_name, \"location_types\": \"city\"}\n",
    "        response = requests.get(url=location_endpoint, headers=headers, params=query)\n",
    "        results = response.json()[\"locations\"]\n",
    "        code = results[0][\"code\"]\n",
    "        return code\n",
    "\n",
    "    def check_flights(self, origin_city_code, destination_city_code, from_time, to_time):\n",
    "        headers = {\"apikey\": TEQUILA_API_KEY}\n",
    "        query = {\n",
    "            \"fly_from\": origin_city_code,\n",
    "            \"fly_to\": destination_city_code,\n",
    "            \"date_from\": from_time.strftime(\"%d/%m/%Y\"),\n",
    "            \"date_to\": to_time.strftime(\"%d/%m/%Y\"),\n",
    "            \"nights_in_dst_from\": 7,\n",
    "            \"nights_in_dst_to\": 28,\n",
    "            \"flight_type\": \"round\",\n",
    "            \"one_for_city\": 1,\n",
    "            \"max_stopovers\": 0,\n",
    "            \"curr\": \"GBP\"\n",
    "        }\n",
    "\n",
    "        response = requests.get(\n",
    "            url=f\"{TEQUILA_ENDPOINT}/v2/search\",\n",
    "            headers=headers,\n",
    "            params=query,\n",
    "        )\n",
    "\n",
    "        try:\n",
    "            data = response.json()[\"data\"][0]\n",
    "        except IndexError:\n",
    "            print(f\"No flights found for {destination_city_code}.\")\n",
    "            return None\n",
    "\n",
    "        flight_data = FlightData(\n",
    "            price=data[\"price\"],\n",
    "            origin_city=data[\"route\"][0][\"cityFrom\"],\n",
    "            origin_airport=data[\"route\"][0][\"flyFrom\"],\n",
    "            destination_city=data[\"route\"][0][\"cityTo\"],\n",
    "            destination_airport=data[\"route\"][0][\"flyTo\"],\n",
    "            out_date=data[\"route\"][0][\"local_departure\"].split(\"T\")[0],\n",
    "            return_date=data[\"route\"][1][\"local_departure\"].split(\"T\")[0]\n",
    "        )\n",
    "        print(f\"{flight_data.destination_city}: £{flight_data.price}\")\n",
    "        return flight_data\n"
   ]
  },
  {
   "cell_type": "code",
   "execution_count": 8,
   "id": "30e60020",
   "metadata": {
    "ExecuteTime": {
     "end_time": "2023-02-15T00:31:46.823511Z",
     "start_time": "2023-02-15T00:31:46.814649Z"
    }
   },
   "outputs": [],
   "source": [
    "from twilio.rest import Client\n",
    "\n",
    "TWILIO_SID = \"YOUR TWILIO ACCOUNT SID\"\n",
    "TWILIO_AUTH_TOKEN = \"YOUR TWILIO AUTH TOKEN\"\n",
    "TWILIO_VIRTUAL_NUMBER = \"YOUR TWILIO VIRTUAL NUMBER\"\n",
    "TWILIO_VERIFIED_NUMBER = \"YOUR TWILIO VERIFIED NUMBER\"\n",
    "\n",
    "\n",
    "class NotificationManager:\n",
    "\n",
    "    def __init__(self):\n",
    "        self.client = Client(TWILIO_SID, TWILIO_AUTH_TOKEN)\n",
    "\n",
    "    def send_sms(self, message):\n",
    "        message = self.client.messages.create(\n",
    "            body=message,\n",
    "            from_=TWILIO_VIRTUAL_NUMBER,\n",
    "            to=TWILIO_VERIFIED_NUMBER,\n",
    "        )\n",
    "        # Prints if successfully sent.\n",
    "        print(message.sid)"
   ]
  },
  {
   "cell_type": "code",
   "execution_count": null,
   "id": "9a432f9d",
   "metadata": {},
   "outputs": [],
   "source": [
    "from datetime import datetime, timedelta\n",
    "\n",
    "data_manager = DataManager()\n",
    "sheet_data = data_manager.get_destination_data()\n",
    "flight_search = FlightSearch()\n",
    "notification_manager = NotificationManager()\n",
    "\n",
    "ORIGIN_CITY_IATA = \"LON\"\n",
    "\n",
    "if sheet_data[0][\"iataCode\"] == \"\":\n",
    "    for row in sheet_data:\n",
    "        row[\"iataCode\"] = flight_search.get_destination_code(row[\"city\"])\n",
    "    data_manager.destination_data = sheet_data\n",
    "    data_manager.update_destination_codes()\n",
    "\n",
    "tomorrow = datetime.now() + timedelta(days=1)\n",
    "six_month_from_today = datetime.now() + timedelta(days=(6 * 30))\n",
    "\n",
    "for destination in sheet_data:\n",
    "    flight = flight_search.check_flights(\n",
    "        ORIGIN_CITY_IATA,\n",
    "        destination[\"iataCode\"],\n",
    "        from_time=tomorrow,\n",
    "        to_time=six_month_from_today\n",
    "    )\n",
    "    \n",
    "    if flight.price < sheet_data[destination][\"price\"]:\n",
    "        message = f\"Low price alert! Only £{flight.price} to fly from {flight.origin_city}-{flight.origin_airport} to {flight.destination_city}-{flight.destination_airport}, from {flight.out_date} to {flight.return_date}.\"\n",
    "        notification_manager.send_sms(message)\n",
    "        \n",
    "        "
   ]
  },
  {
   "cell_type": "code",
   "execution_count": null,
   "id": "40d0df6b",
   "metadata": {},
   "outputs": [],
   "source": []
  },
  {
   "cell_type": "code",
   "execution_count": null,
   "id": "82b227d4",
   "metadata": {},
   "outputs": [],
   "source": []
  }
 ],
 "metadata": {
  "hide_input": false,
  "kernelspec": {
   "display_name": "Python 3 (ipykernel)",
   "language": "python",
   "name": "python3"
  },
  "language_info": {
   "codemirror_mode": {
    "name": "ipython",
    "version": 3
   },
   "file_extension": ".py",
   "mimetype": "text/x-python",
   "name": "python",
   "nbconvert_exporter": "python",
   "pygments_lexer": "ipython3",
   "version": "3.9.7"
  },
  "toc": {
   "base_numbering": 1,
   "nav_menu": {},
   "number_sections": false,
   "sideBar": true,
   "skip_h1_title": false,
   "title_cell": "Table of Contents",
   "title_sidebar": "Contents",
   "toc_cell": false,
   "toc_position": {},
   "toc_section_display": true,
   "toc_window_display": false
  },
  "varInspector": {
   "cols": {
    "lenName": 16,
    "lenType": 16,
    "lenVar": 40
   },
   "kernels_config": {
    "python": {
     "delete_cmd_postfix": "",
     "delete_cmd_prefix": "del ",
     "library": "var_list.py",
     "varRefreshCmd": "print(var_dic_list())"
    },
    "r": {
     "delete_cmd_postfix": ") ",
     "delete_cmd_prefix": "rm(",
     "library": "var_list.r",
     "varRefreshCmd": "cat(var_dic_list()) "
    }
   },
   "types_to_exclude": [
    "module",
    "function",
    "builtin_function_or_method",
    "instance",
    "_Feature"
   ],
   "window_display": false
  }
 },
 "nbformat": 4,
 "nbformat_minor": 5
}
