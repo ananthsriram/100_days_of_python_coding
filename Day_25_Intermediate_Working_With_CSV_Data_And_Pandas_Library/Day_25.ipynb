{
 "cells": [
  {
   "cell_type": "code",
   "execution_count": 1,
   "id": "c11d2257",
   "metadata": {
    "ExecuteTime": {
     "end_time": "2023-02-10T01:30:06.352211Z",
     "start_time": "2023-02-10T01:30:06.345587Z"
    }
   },
   "outputs": [
    {
     "data": {
      "text/html": [
       "<style>.container { width:100% !important; }</style>"
      ],
      "text/plain": [
       "<IPython.core.display.HTML object>"
      ]
     },
     "metadata": {},
     "output_type": "display_data"
    }
   ],
   "source": [
    "from IPython.display import HTML\n",
    "display(HTML(\"<style>.container { width:100% !important; }</style>\"))"
   ]
  },
  {
   "cell_type": "code",
   "execution_count": null,
   "id": "c5a424b2",
   "metadata": {
    "ExecuteTime": {
     "end_time": "2023-02-10T01:29:40.880746Z",
     "start_time": "2023-02-10T01:29:40.877911Z"
    }
   },
   "outputs": [],
   "source": [
    "#### Reading CSV data in Python\n",
    "\n",
    "with open(\"Day_25_weather_data.csv\") as data_file:\n",
    "    data = data_file.readlines()\n",
    "    print (data)\n",
    "    "
   ]
  },
  {
   "cell_type": "code",
   "execution_count": null,
   "id": "ca575541",
   "metadata": {
    "ExecuteTime": {
     "end_time": "2023-02-10T01:29:40.887838Z",
     "start_time": "2023-02-10T01:29:40.882036Z"
    }
   },
   "outputs": [],
   "source": [
    "import csv\n",
    "\n",
    "with open(\"Day_25_weather_data.csv\") as data_file:\n",
    "    data = csv.reader(data_file)\n",
    "    temperatures = []\n",
    "    for row in data:\n",
    "        print (row)\n",
    "        if row[1] != 'temp':\n",
    "            temperatures.append(row[1])\n",
    "        \n",
    "print (temperatures)        "
   ]
  },
  {
   "cell_type": "code",
   "execution_count": null,
   "id": "1fdb6e92",
   "metadata": {
    "ExecuteTime": {
     "end_time": "2023-02-10T01:29:41.322161Z",
     "start_time": "2023-02-10T01:29:40.890325Z"
    }
   },
   "outputs": [],
   "source": [
    "import pandas as pd\n",
    "\n",
    "df = pd.read_csv(\"Day_25_weather_data.csv\")\n",
    "df['temp']\n"
   ]
  },
  {
   "cell_type": "code",
   "execution_count": null,
   "id": "16453843",
   "metadata": {
    "ExecuteTime": {
     "end_time": "2023-02-10T01:29:41.325727Z",
     "start_time": "2023-02-10T01:29:41.323440Z"
    }
   },
   "outputs": [],
   "source": [
    "### Convert data to dictionary format\n",
    "data_dict = df.to_dict()\n",
    "print (data_dict)"
   ]
  },
  {
   "cell_type": "code",
   "execution_count": null,
   "id": "e96d56b8",
   "metadata": {
    "ExecuteTime": {
     "end_time": "2023-02-10T01:29:41.329859Z",
     "start_time": "2023-02-10T01:29:41.327544Z"
    }
   },
   "outputs": [],
   "source": [
    "## Convert column values to list\n",
    "temp_list = df['temp'].to_list()\n",
    "print (temp_list)"
   ]
  },
  {
   "cell_type": "code",
   "execution_count": null,
   "id": "edf602e3",
   "metadata": {
    "ExecuteTime": {
     "end_time": "2023-02-10T01:29:41.333360Z",
     "start_time": "2023-02-10T01:29:41.331231Z"
    }
   },
   "outputs": [],
   "source": [
    "average = sum(temp_list) / len(temp_list)\n",
    "print (average)"
   ]
  },
  {
   "cell_type": "code",
   "execution_count": null,
   "id": "64523ead",
   "metadata": {
    "ExecuteTime": {
     "end_time": "2023-02-10T01:29:41.338088Z",
     "start_time": "2023-02-10T01:29:41.335078Z"
    }
   },
   "outputs": [],
   "source": [
    "### Find average value of a column\n",
    "df['temp'].mean()"
   ]
  },
  {
   "cell_type": "code",
   "execution_count": null,
   "id": "570d1450",
   "metadata": {
    "ExecuteTime": {
     "end_time": "2023-02-10T01:29:41.341865Z",
     "start_time": "2023-02-10T01:29:41.339053Z"
    }
   },
   "outputs": [],
   "source": [
    "### Find maximum value in a column\n",
    "df['temp'].max()"
   ]
  },
  {
   "cell_type": "code",
   "execution_count": null,
   "id": "292df235",
   "metadata": {
    "ExecuteTime": {
     "end_time": "2023-02-10T01:29:41.348062Z",
     "start_time": "2023-02-10T01:29:41.345016Z"
    }
   },
   "outputs": [],
   "source": [
    "## Get data in Columns\n",
    "print (df['condition'])\n",
    "print (df.condition)"
   ]
  },
  {
   "cell_type": "code",
   "execution_count": null,
   "id": "87283db3",
   "metadata": {
    "ExecuteTime": {
     "end_time": "2023-02-10T01:29:41.357733Z",
     "start_time": "2023-02-10T01:29:41.349328Z"
    }
   },
   "outputs": [],
   "source": [
    "### Get data in Rows\n",
    "\n",
    "df[df['day'] == 'Monday']"
   ]
  },
  {
   "cell_type": "code",
   "execution_count": null,
   "id": "abe09cb9",
   "metadata": {
    "ExecuteTime": {
     "end_time": "2023-02-10T01:29:41.364780Z",
     "start_time": "2023-02-10T01:29:41.359256Z"
    }
   },
   "outputs": [],
   "source": [
    "### Get row data where temperature is maximum\n",
    "\n",
    "df[df['temp'] == df['temp'].max()]"
   ]
  },
  {
   "cell_type": "code",
   "execution_count": null,
   "id": "6c8fd723",
   "metadata": {
    "ExecuteTime": {
     "end_time": "2023-02-10T01:29:41.368898Z",
     "start_time": "2023-02-10T01:29:41.365980Z"
    }
   },
   "outputs": [],
   "source": [
    "monday = df[df.day == 'Monday']\n",
    "print(monday.condition)"
   ]
  },
  {
   "cell_type": "code",
   "execution_count": null,
   "id": "93b412a2",
   "metadata": {
    "ExecuteTime": {
     "end_time": "2023-02-10T01:29:41.373361Z",
     "start_time": "2023-02-10T01:29:41.370319Z"
    }
   },
   "outputs": [],
   "source": [
    "monday = df[df.day == 'Monday']\n",
    "monday_temp = int(monday.temp)\n",
    "monday_temp_F = monday_temp * 9/5 + 32\n",
    "print (monday_temp_F)"
   ]
  },
  {
   "cell_type": "code",
   "execution_count": null,
   "id": "e5889678",
   "metadata": {
    "ExecuteTime": {
     "end_time": "2023-02-10T01:29:41.380325Z",
     "start_time": "2023-02-10T01:29:41.374607Z"
    }
   },
   "outputs": [],
   "source": [
    "### Create dataframe from scratch\n",
    "\n",
    "data_dict = {\n",
    "    \"students\":['Amy','James','Angela'],\n",
    "    \"scores\":[76,56,65]\n",
    "}\n",
    "df = pd.DataFrame(data_dict)\n",
    "df"
   ]
  },
  {
   "cell_type": "code",
   "execution_count": null,
   "id": "0a20cc00",
   "metadata": {
    "ExecuteTime": {
     "end_time": "2023-02-10T01:29:41.383231Z",
     "start_time": "2023-02-10T01:29:41.381519Z"
    }
   },
   "outputs": [],
   "source": [
    "#df.to_csv('new_data.csv')"
   ]
  },
  {
   "cell_type": "code",
   "execution_count": null,
   "id": "e6ff0a69",
   "metadata": {
    "ExecuteTime": {
     "end_time": "2023-02-10T01:29:41.404742Z",
     "start_time": "2023-02-10T01:29:41.384412Z"
    }
   },
   "outputs": [],
   "source": [
    "### Great Squirrel Census Data Analysis\n",
    "\n",
    "df = pd.read_csv('Day_25_2018_Central_Park_Squirrel_Census_-_Squirrel_Data.csv')\n",
    "grey_squirrels_count = len(df[df['Primary Fur Color'] == 'Gray'])\n",
    "red_squirrels_count = len(df[df['Primary Fur Color'] == 'Cinnamon'])\n",
    "black_squirrels_count = len(df[df['Primary Fur Color'] == 'Black'])\n",
    "\n",
    "data_dict = {\n",
    "    \"Fur Color\" : [\"Gray\", \"Cinnamon\", \"Black\"],\n",
    "    \"Count\" : [grey_squirrels_count, red_squirrels_count, black_squirrels_count]\n",
    "}\n",
    "\n",
    "fdf = pd.DataFrame(data_dict)\n",
    "fdf\n",
    "#fdf.to_csv('fur_color.csv')"
   ]
  },
  {
   "cell_type": "code",
   "execution_count": null,
   "id": "df6cd30b",
   "metadata": {
    "ExecuteTime": {
     "start_time": "2023-02-10T01:29:40.881Z"
    }
   },
   "outputs": [],
   "source": [
    "### US States Game - Part 1\n",
    "\n",
    "import turtle\n",
    "\n",
    "screen = turtle.Screen()\n",
    "screen.title(\"U.S. States Game\")\n",
    "image = \"Day_25_blank_states_img.gif\"\n",
    "screen.addshape(image)\n",
    "turtle.shape(image)\n",
    "\n",
    "#def get_mouse_click_coor(x, y):\n",
    "#    print (x, y)\n",
    "#    \n",
    "#turtle.onscreenclick(get_mouse_click_coor)    \n",
    "#turtle.mainloop()\n",
    "\n",
    "answer_state = screen.textinput(title = \"Guess the state : \", prompt = \"What's another state's name? \")\n",
    "\n",
    "\n",
    "\n",
    "#screen.exitonclick()\n"
   ]
  },
  {
   "cell_type": "code",
   "execution_count": null,
   "id": "072d8924",
   "metadata": {
    "ExecuteTime": {
     "start_time": "2023-02-10T01:29:40.882Z"
    }
   },
   "outputs": [],
   "source": [
    "### US States Game - Part 2\n",
    "\n",
    "import turtle\n",
    "import pandas as pd\n",
    "\n",
    "\n",
    "screen = turtle.Screen()\n",
    "screen.title(\"U.S States Game\")\n",
    "image = \"Day_25_blank_states_img\"\n",
    "screen.addshape(image)\n",
    "turtle.shape(image)\n",
    "\n",
    "df = pd.read_csv('Day_25_50_states.csv')\n",
    "all_states = df.state.to_list()\n",
    "\n",
    "\n",
    "# Check if answer_state is one of the states in Day_25_50_states.csv\n",
    "##### If they got it right:\n",
    "########### Create a turtle to write the name of the state at the state's xcor() and ycor()\n",
    "\n",
    "guessed_states = []\n",
    "while len(guessed_states) < 50:\n",
    "    answer_state = screen.textinput(title = f\"{len(guessed_states)}/50 States Correct}\", \n",
    "                                    prompt = \"Enter a state name to locate :  \").title()\n",
    "\n",
    "    if answer_state in all_states:\n",
    "        guessed_states.append(answer_state)\n",
    "        t = turtle.Turtle()\n",
    "        t.hideturtle()\n",
    "        t.penup()\n",
    "        state_data = df[df.state == answer_state]\n",
    "        t.goto(int(state_data.x), int(state_data.y))\n",
    "        t.write(answer_state)\n",
    "        #t.write(state_data.state.item())\n",
    "\n",
    "#screen.exitonclick()\n"
   ]
  },
  {
   "cell_type": "code",
   "execution_count": null,
   "id": "52ad88af",
   "metadata": {},
   "outputs": [],
   "source": [
    "### US States Game - Part 3\n",
    "\n",
    "import turtle\n",
    "import pandas as pd\n",
    "\n",
    "\n",
    "screen = turtle.Screen()\n",
    "screen.title(\"U.S States Game\")\n",
    "image = \"Day_25_blank_states_img\"\n",
    "screen.addshape(image)\n",
    "turtle.shape(image)\n",
    "\n",
    "df = pd.read_csv('Day_25_50_states.csv')\n",
    "all_states = df.state.to_list()\n",
    "\n",
    "guessed_states = []\n",
    "while len(guessed_states) < 50:\n",
    "    answer_state = screen.textinput(title = f\"{len(guessed_states)}/50 States Correct}\", \n",
    "                                    prompt = \"Enter a state name to locate :  \").title()\n",
    "\n",
    "    if answer_state == 'Exit':\n",
    "        missing_states = []\n",
    "        for state in all_states:\n",
    "            if state not in guessed_states:\n",
    "                missing_states.append(state)\n",
    "        sdf = pd.DataFrame(missing_states)\n",
    "        #sdf.to_csv('states_to_learn.csv')\n",
    "        break\n",
    "    if answer_state in all_states:\n",
    "        guessed_states.append(answer_state)\n",
    "        t = turtle.Turtle()\n",
    "        t.hideturtle()\n",
    "        t.penup()\n",
    "        state_data = df[df.state == answer_state]\n",
    "        t.goto(int(state_data.x), int(state_data.y))\n",
    "        t.write(answer_state)\n",
    "\n",
    "\n",
    "#screen.exitonclick()\n"
   ]
  }
 ],
 "metadata": {
  "hide_input": false,
  "kernelspec": {
   "display_name": "Python 3 (ipykernel)",
   "language": "python",
   "name": "python3"
  },
  "language_info": {
   "codemirror_mode": {
    "name": "ipython",
    "version": 3
   },
   "file_extension": ".py",
   "mimetype": "text/x-python",
   "name": "python",
   "nbconvert_exporter": "python",
   "pygments_lexer": "ipython3",
   "version": "3.9.7"
  },
  "toc": {
   "base_numbering": 1,
   "nav_menu": {},
   "number_sections": false,
   "sideBar": true,
   "skip_h1_title": false,
   "title_cell": "Table of Contents",
   "title_sidebar": "Contents",
   "toc_cell": false,
   "toc_position": {},
   "toc_section_display": true,
   "toc_window_display": false
  },
  "varInspector": {
   "cols": {
    "lenName": 16,
    "lenType": 16,
    "lenVar": 40
   },
   "kernels_config": {
    "python": {
     "delete_cmd_postfix": "",
     "delete_cmd_prefix": "del ",
     "library": "var_list.py",
     "varRefreshCmd": "print(var_dic_list())"
    },
    "r": {
     "delete_cmd_postfix": ") ",
     "delete_cmd_prefix": "rm(",
     "library": "var_list.r",
     "varRefreshCmd": "cat(var_dic_list()) "
    }
   },
   "types_to_exclude": [
    "module",
    "function",
    "builtin_function_or_method",
    "instance",
    "_Feature"
   ],
   "window_display": false
  }
 },
 "nbformat": 4,
 "nbformat_minor": 5
}
